{
 "cells": [
  {
   "cell_type": "code",
   "execution_count": 2,
   "id": "ef6876c6-7dc6-4e5c-87fb-2063e016b094",
   "metadata": {},
   "outputs": [],
   "source": [
    "from pathlib import Path \n",
    "import os\n",
    "import torch\n",
    "from transformers import MarianMTModel, MarianTokenizer\n",
    "import logging\n",
    "from datetime import datetime\n",
    "from torch.profiler import profile, record_function, ProfilerActivity, schedule"
   ]
  },
  {
   "cell_type": "code",
   "execution_count": 2,
   "id": "10ac922e-ff7b-4168-96a8-557d3793e79a",
   "metadata": {},
   "outputs": [
    {
     "name": "stdout",
     "output_type": "stream",
     "text": [
      "@@Configuration START@@\n"
     ]
    }
   ],
   "source": [
    "print(f'@@Configuration START@@')"
   ]
  },
  {
   "cell_type": "code",
   "execution_count": 3,
   "id": "0051fe2c-9f2f-4617-8e35-08206d015eb9",
   "metadata": {
    "editable": true,
    "slideshow": {
     "slide_type": ""
    },
    "tags": []
   },
   "outputs": [
    {
     "name": "stdout",
     "output_type": "stream",
     "text": [
      "batch_size: 64\n",
      "d_model: 400\n",
      "n_head: 8\n",
      "max_len: 128\n",
      "ffn_hidden: 1200\n",
      "n_layers: 4\n",
      "drop_prob: 0.1\n",
      "epochs: 50\n",
      "init_lr: 0.0\n",
      "weight_decay: 0.0005\n",
      "clip: 1\n"
     ]
    }
   ],
   "source": [
    "# Define configuration \n",
    "batch_size = 128\n",
    "d_model = 256\n",
    "n_head = 8\n",
    "max_len = 80\n",
    "ffn_hidden = 512\n",
    "n_layers=4\n",
    "drop_prob=0.1\n",
    "epochs=30\n",
    "init_lr = 0.00 # having warmup step\n",
    "eps = 5e-9\n",
    "weight_decay = 5e-4\n",
    "warmup_steps=1500\n",
    "clip = 1\n",
    "\n",
    "print(f'batch_size: {batch_size}')\n",
    "print(f'd_model: {d_model}')\n",
    "print(f'n_head: {n_head}') \n",
    "print(f'max_len: {max_len}') \n",
    "print(f'ffn_hidden: {ffn_hidden}')\n",
    "print(f'n_layers: {n_layers}')\n",
    "print(f'drop_prob: {drop_prob}')\n",
    "print(f'epochs: {epochs}')\n",
    "print(f'init_lr: {init_lr}')\n",
    "print(f'weight_decay: {weight_decay}')\n",
    "print(f'clip: {clip}')"
   ]
  },
  {
   "cell_type": "code",
   "execution_count": 4,
   "id": "bbce37c2-0fc8-4d80-8c2d-bc5c6caf560a",
   "metadata": {},
   "outputs": [
    {
     "name": "stdout",
     "output_type": "stream",
     "text": [
      "Using MPS as device\n"
     ]
    }
   ],
   "source": [
    "# Configure Device \n",
    "\n",
    "\n",
    "if torch.cuda.is_available():\n",
    "    device = torch.device(\"cuda\")\n",
    "    print(\"Using CUDA as device\")\n",
    "else:\n",
    "    # Check that MPS is available\n",
    "    if not torch.backends.mps.is_available():\n",
    "        if not torch.backends.mps.is_built():\n",
    "            print(\"MPS not available because the current PyTorch install was not \"\n",
    "                  \"built with MPS enabled.\")\n",
    "        else:\n",
    "            print(\"MPS not available because the current MacOS version is not 12.3+ \"\n",
    "                  \"and/or you do not have an MPS-enabled device on this machine.\")\n",
    "        device = torch.device(\"cpu\")\n",
    "        print(\"Using CPU as device\")\n",
    "    else:\n",
    "        device = torch.device(\"mps\")\n",
    "        print(\"Using MPS as device\")\n",
    "    \n",
    "torch.set_default_device(device)"
   ]
  },
  {
   "cell_type": "code",
   "execution_count": 5,
   "id": "b559a9a2-6d1c-4fd7-ac94-5404c4ebb0be",
   "metadata": {},
   "outputs": [
    {
     "name": "stderr",
     "output_type": "stream",
     "text": [
      "/Users/ball/Documents/workspace/transformer-tutorial/.venv/lib/python3.11/site-packages/transformers/models/marian/tokenization_marian.py:175: UserWarning: Recommended: pip install sacremoses.\n",
      "  warnings.warn(\"Recommended: pip install sacremoses.\")\n"
     ]
    },
    {
     "name": "stdout",
     "output_type": "stream",
     "text": [
      "Using kr_tokenizer: Helsinki-NLP/opus-mt-ko-en\n",
      "kr_tokenizer_voc_size(enc_voc_size): 65001\n",
      "Using en_tokenizer: Helsinki-NLP/opus-mt-ko-en\n",
      "en_tokenizer_voc_size(dec_voc_size): 65001\n",
      "src_pad_token: 65000\n",
      "src_eos_token: 0\n",
      "trg_pad_token: 65000\n",
      "trg_sos_token: None\n",
      "trg_eos_token: 0\n"
     ]
    }
   ],
   "source": [
    "# Define tokenizers\n",
    "TOKENIZERS_PARALLELISM = True\n",
    "\n",
    "kr_tokenizer = MarianTokenizer.from_pretrained('Helsinki-NLP/opus-mt-ko-en')\n",
    "en_tokenizer = MarianTokenizer.from_pretrained('Helsinki-NLP/opus-mt-ko-en')\n",
    "\n",
    "enc_voc_size = kr_tokenizer.vocab_size\n",
    "dec_voc_size = en_tokenizer.vocab_size\n",
    "\n",
    "print(f'Using kr_tokenizer: Helsinki-NLP/opus-mt-ko-en')\n",
    "print(f'kr_tokenizer_voc_size(enc_voc_size): {enc_voc_size}')\n",
    "\n",
    "print(f'Using en_tokenizer: Helsinki-NLP/opus-mt-ko-en')\n",
    "print(f'en_tokenizer_voc_size(dec_voc_size): {dec_voc_size}')\n",
    "\n",
    "# Define some variables that are going to be used in future\n",
    "src_pad_token = kr_tokenizer.pad_token_id\n",
    "src_eos_token = kr_tokenizer.eos_token_id\n",
    "\n",
    "trg_pad_token = en_tokenizer.pad_token_id\n",
    "trg_sos_token = en_tokenizer.bos_token_id\n",
    "trg_eos_token = en_tokenizer.eos_token_id\n",
    "\n",
    "print(f'src_pad_token: {src_pad_token}')\n",
    "print(f'src_eos_token: {src_eos_token}')\n",
    "print(f'trg_pad_token: {trg_pad_token}')\n",
    "print(f'trg_sos_token: {trg_sos_token}')\n",
    "print(f'trg_eos_token: {trg_eos_token}')"
   ]
  },
  {
   "cell_type": "code",
   "execution_count": 7,
   "id": "ea0691c4-13f2-4889-a6c1-bcb734016602",
   "metadata": {},
   "outputs": [
    {
     "name": "stdout",
     "output_type": "stream",
     "text": [
      "project_dir: /Users/ball/Documents/workspace/transformer-tutorial\n",
      "rawdata_dir: /Users/ball/Documents/workspace/transformer-tutorial/data\n",
      "data_dir: /Users/ball/Documents/workspace/transformer-tutorial/preprocessed\n"
     ]
    }
   ],
   "source": [
    "# Define path configuration for the project \n",
    "project_dir = Path(os.getcwd()).parent\n",
    "rawdata_dir = project_dir / \"data\"\n",
    "data_dir = project_dir / \"preprocessed\"\n",
    "model_dir = project_dir / \"models\"\n",
    "\n",
    "rawdata_dir.mkdir(parents=True, exist_ok=True)\n",
    "data_dir.mkdir(parents=True, exist_ok=True)\n",
    "model_dir.mkdir(parents=True, exist_ok=True)\n",
    "\n",
    "print(f'project_dir: {project_dir}')\n",
    "print(f'rawdata_dir: {rawdata_dir}')\n",
    "print(f'data_dir: {data_dir}')"
   ]
  },
  {
   "cell_type": "code",
   "execution_count": 8,
   "id": "f897540d-030a-4454-8118-8b6ea567c689",
   "metadata": {},
   "outputs": [],
   "source": [
    "# Define learning rate scheduler. \n",
    "# If you want to modify the logic of Scheduler, please modify this class \n",
    "\n",
    "class LRScheduler:\n",
    "    def __init__(self, optimizer, d_model, warmup_steps, LR_scale=1): \n",
    "        self.optimizer = optimizer\n",
    "        self.step_count = 0 \n",
    "        self.d_model = d_model\n",
    "        self.warmup_steps = warmup_steps\n",
    "        self.LR_scale = LR_scale\n",
    "        self._d_model_factor = self.LR_scale * (self.d_model ** -0.5)\n",
    "    def step(self): \n",
    "        self.step_count += 1 \n",
    "        lr = self.calculate_learning_rate()\n",
    "        self.optimizer.param_groups[0]['lr'] = lr \n",
    "    def calculate_learning_rate(self): \n",
    "        minimum_factor = min(self.step_count ** -0.5, self.step_count * self.warmup_steps ** -1.5)\n",
    "        return self._d_model_factor * minimum_factor"
   ]
  },
  {
   "cell_type": "code",
   "execution_count": 9,
   "id": "c250b5cb-983b-4847-8567-3bc3632d2e76",
   "metadata": {},
   "outputs": [],
   "source": [
    "# Configure Logger \n",
    "timestamp = datetime.now().strftime('%Y%m%d_%H%M%S')\n",
    "\n",
    "logging_dir = project_dir / \"logs\" \n",
    "\n",
    "logging_dir.mkdir(parents=True, exist_ok=True)\n",
    "\n",
    "log_file = logging_dir / f'log_{timestamp}.log'\n",
    "\n",
    "logger = logging.getLogger('transformer_log')\n",
    "logger.setLevel(logging.INFO)\n",
    "\n",
    "file_handler = logging.FileHandler(log_file)\n",
    "file_handler.setLevel(logging.INFO)\n",
    "\n",
    "formatter = logging.Formatter('%(asctime)s - %(name)s - %(levelname)s - %(message)s')\n",
    "file_handler.setFormatter(formatter)\n",
    "\n",
    "logger.addHandler(file_handler)"
   ]
  },
  {
   "cell_type": "code",
   "execution_count": null,
   "id": "43632550-b47a-4b02-af15-ad2520bb6293",
   "metadata": {},
   "outputs": [],
   "source": [
    "# For profiling \n",
    "profiler_schedule = schedule(wait=1, warmup=1, active=1, repeat=1)\n",
    "profiler_activities = [ProfilerActivity.CPU, ProfilerActivity.CUDA]\n",
    "profiler_record_shapes=True\n",
    "profiler_profile_memory=True\n"
   ]
  },
  {
   "cell_type": "code",
   "execution_count": 10,
   "id": "49d4d284-8af6-4759-af29-afb86f7754a6",
   "metadata": {},
   "outputs": [
    {
     "name": "stdout",
     "output_type": "stream",
     "text": [
      "@@Configuration END@@\n"
     ]
    }
   ],
   "source": [
    "print(f'@@Configuration END@@')"
   ]
  }
 ],
 "metadata": {
  "kernelspec": {
   "display_name": "Python 3 (ipykernel)",
   "language": "python",
   "name": "python3"
  },
  "language_info": {
   "codemirror_mode": {
    "name": "ipython",
    "version": 3
   },
   "file_extension": ".py",
   "mimetype": "text/x-python",
   "name": "python",
   "nbconvert_exporter": "python",
   "pygments_lexer": "ipython3",
   "version": "3.11.10"
  }
 },
 "nbformat": 4,
 "nbformat_minor": 5
}
