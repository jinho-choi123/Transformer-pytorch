{
 "cells": [
  {
   "cell_type": "code",
   "execution_count": 1,
   "id": "dbf80fd2-9022-4595-8ca3-9ef8c1d4f2b3",
   "metadata": {},
   "outputs": [],
   "source": [
    "import torch \n",
    "import matplotlib.pyplot as plt \n",
    "import seaborn as sns\n",
    "plt.rcParams['font.family'] = 'AppleGothic'"
   ]
  },
  {
   "cell_type": "code",
   "execution_count": 4,
   "id": "adfb13eb-0dd5-477e-9a3c-523b31889af3",
   "metadata": {},
   "outputs": [],
   "source": [
    "def draw_one_attention_map(idx, attn_weights, query, key):\n",
    "    # attn_weight shape: (batch_size * query_len * key_len)\n",
    "    # query shape: list size of query_len\n",
    "    # key shape: list size of key_len\n",
    "    # query and key are already decoded!!\n",
    "    attn_weights = attn_weights.cpu()\n",
    "\n",
    "    # crop only first 10s of query and key\n",
    "    query = query[:20]\n",
    "    key = key[:20]\n",
    "    \n",
    "    # draw one attention map given attn_weight, query, key\n",
    "    # picking idx th data from the batch \n",
    "    batch_size, query_len, key_len = attn_weights.shape \n",
    "    \n",
    "    if idx < 0 or idx >= batch_size:\n",
    "        print(f'Invalid idx given. batch_size: {batch_size}, given index: {idx}')\n",
    "\n",
    "    # pick from the batch \n",
    "    attn_weight = attn_weights[idx, :20, :20]\n",
    "\n",
    "    attn_weight = attn_weight.squeeze(0)\n",
    "\n",
    "\n",
    "    fig, ax = plt.subplots(figsize=[attn_weight.shape[1] * 1.5, attn_weight.shape[0]])\n",
    "    sns.heatmap(attn_weight, annot=True, fmt=\".2f\", cbar=False, ax=ax, yticklabels=query, xticklabels=key)\n",
    "\n",
    "    ax.set_yticklabels(query, rotation=45, fontsize=15)\n",
    "    ax.set_xticklabels(key, rotation=60, fontsize=15)\n",
    "    ax.xaxis.tick_top()\n",
    "    ax.set_title(f'Average Attention Map', fontsize=12)\n",
    "\n",
    "    for _, spine in ax.spines.items():\n",
    "        spine.set_visible(True)\n",
    "        spine.set_linewidth(2)\n",
    "        spine.set_color('black')\n",
    "\n",
    "    plt.tight_layout()\n",
    "    plt.show()"
   ]
  }
 ],
 "metadata": {
  "kernelspec": {
   "display_name": "Python 3 (ipykernel)",
   "language": "python",
   "name": "python3"
  },
  "language_info": {
   "codemirror_mode": {
    "name": "ipython",
    "version": 3
   },
   "file_extension": ".py",
   "mimetype": "text/x-python",
   "name": "python",
   "nbconvert_exporter": "python",
   "pygments_lexer": "ipython3",
   "version": "3.11.10"
  }
 },
 "nbformat": 4,
 "nbformat_minor": 5
}
