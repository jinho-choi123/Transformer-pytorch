{
 "cells": [
  {
   "cell_type": "code",
   "execution_count": 2,
   "id": "9c8636cd-969c-42bd-87dd-e85dcc83178d",
   "metadata": {},
   "outputs": [],
   "source": [
    "# Create translator module \n",
    "import torch "
   ]
  },
  {
   "cell_type": "code",
   "execution_count": 3,
   "id": "e61a76a9-6aa1-41ed-bb36-80bdc686c2bd",
   "metadata": {},
   "outputs": [],
   "source": [
    "%run Transformer.ipynb"
   ]
  },
  {
   "cell_type": "code",
   "execution_count": null,
   "id": "7bd964d2-e6e2-490d-8ae0-f0e71f192f69",
   "metadata": {},
   "outputs": [],
   "source": []
  },
  {
   "cell_type": "code",
   "execution_count": 4,
   "id": "84ee2d7d-aced-436a-970b-78752d646def",
   "metadata": {},
   "outputs": [
    {
     "ename": "TypeError",
     "evalue": "Transformer.__init__() missing 12 required positional arguments: 'src_pad_token', 'trg_pad_token', 'trg_sos_token', 'enc_voc_size', 'dec_voc_size', 'n_head', 'max_len', 'd_model', 'ffn_hidden', 'n_layers', 'drop_prob', and 'device'",
     "output_type": "error",
     "traceback": [
      "\u001b[0;31m---------------------------------------------------------------------------\u001b[0m",
      "\u001b[0;31mTypeError\u001b[0m                                 Traceback (most recent call last)",
      "Cell \u001b[0;32mIn[4], line 2\u001b[0m\n\u001b[1;32m      1\u001b[0m \u001b[38;5;66;03m# Load the trained model \u001b[39;00m\n\u001b[0;32m----> 2\u001b[0m model \u001b[38;5;241m=\u001b[39m \u001b[43mTransformer\u001b[49m\u001b[43m(\u001b[49m\u001b[43m)\u001b[49m\n\u001b[1;32m      3\u001b[0m model\u001b[38;5;241m.\u001b[39mload_state_dict(torch\u001b[38;5;241m.\u001b[39mload(\u001b[38;5;124m\"\u001b[39m\u001b[38;5;124m/models/model_2024_11_19_epoch23\u001b[39m\u001b[38;5;124m\"\u001b[39m, weights_only\u001b[38;5;241m=\u001b[39m\u001b[38;5;28;01mTrue\u001b[39;00m))\n\u001b[1;32m      4\u001b[0m model\u001b[38;5;241m.\u001b[39meval()\n",
      "\u001b[0;31mTypeError\u001b[0m: Transformer.__init__() missing 12 required positional arguments: 'src_pad_token', 'trg_pad_token', 'trg_sos_token', 'enc_voc_size', 'dec_voc_size', 'n_head', 'max_len', 'd_model', 'ffn_hidden', 'n_layers', 'drop_prob', and 'device'"
     ]
    }
   ],
   "source": [
    "# Load the trained model \n",
    "model = Transformer()\n",
    "model.load_state_dict(torch.load(\"/models/model_2024_11_19_epoch23\", weights_only=True))\n",
    "model.eval()"
   ]
  },
  {
   "cell_type": "code",
   "execution_count": null,
   "id": "c00fa1ad-9077-425c-a360-9f0cad7d6969",
   "metadata": {},
   "outputs": [],
   "source": []
  }
 ],
 "metadata": {
  "kernelspec": {
   "display_name": "Python 3 (ipykernel)",
   "language": "python",
   "name": "python3"
  },
  "language_info": {
   "codemirror_mode": {
    "name": "ipython",
    "version": 3
   },
   "file_extension": ".py",
   "mimetype": "text/x-python",
   "name": "python",
   "nbconvert_exporter": "python",
   "pygments_lexer": "ipython3",
   "version": "3.11.10"
  }
 },
 "nbformat": 4,
 "nbformat_minor": 5
}
