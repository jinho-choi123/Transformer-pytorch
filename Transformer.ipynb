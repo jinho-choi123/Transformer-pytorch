{
 "cells": [
  {
   "cell_type": "markdown",
   "id": "4c95f00f-c1f3-422b-a701-56b8c8329eac",
   "metadata": {},
   "source": [
    "# Transformer Model Implementation \n"
   ]
  }
 ],
 "metadata": {
  "kernelspec": {
   "display_name": "Python 3 (ipykernel)",
   "language": "python",
   "name": "python3"
  },
  "language_info": {
   "codemirror_mode": {
    "name": "ipython",
    "version": 3
   },
   "file_extension": ".py",
   "mimetype": "text/x-python",
   "name": "python",
   "nbconvert_exporter": "python",
   "pygments_lexer": "ipython3",
   "version": "3.11.10"
  }
 },
 "nbformat": 4,
 "nbformat_minor": 5
}
