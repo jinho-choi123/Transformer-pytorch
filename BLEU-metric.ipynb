{
 "cells": [
  {
   "cell_type": "code",
   "execution_count": 1,
   "id": "49b0bf0e-3048-4adf-b3a2-6f63d15e481c",
   "metadata": {},
   "outputs": [],
   "source": [
    "import math \n",
    "from collections import Counter \n",
    "import numpy \n",
    "\n",
    "# compute the statistics for BLEU \n",
    "def bleu_stats(hypothesis, reference): \n",
    "    stats = [] \n",
    "    stats.append(len(hypothesis))\n",
    "    stats.append(len(reference))\n",
    "\n",
    "    for n in range(1, 5): \n",
    "        s_ngrams = Counter(\n",
    "            [tuple(hypothesis[i:i+n]) for i in range(len(hypothesis) + 1 - n)]\n",
    "        )\n",
    "\n",
    "        r_ngrams = Counter(\n",
    "            [tuple(reference[i:i+n]) for i in range(len(reference) + 1 - n)]\n",
    "        )\n",
    "\n",
    "        stats.append(max([sum((s_ngrams & r_ngrams).values()), 0]))\n",
    "        stats.append(max([len(hypothesis) + 1 - n, 0]))\n",
    "\n",
    "    return stats \n",
    "\n",
    "def bleu(stats): \n",
    "    for i in stats:\n",
    "        if i == 0:\n",
    "            return 0 \n",
    "\n",
    "    (h_len, r_len) = stats[:2]\n",
    "    log_bleu_prec = sum(\n",
    "        [math.log(float(x)/y) for x, y in zip(stats[2::2], stats[3::2])]\n",
    "    ) / 4.\n",
    "\n",
    "    return math.exp(min([0, 1 - float(r_len) / h_len]) + log_bleu_prec)\n",
    "\n",
    "def get_bleu(hypotheses, reference):\n",
    "    \"\"\"Get validation BLEU score for dev set.\"\"\"\n",
    "    stats = np.array([0., 0., 0., 0., 0., 0., 0., 0., 0., 0.])\n",
    "    for hyp, ref in zip(hypotheses, reference):\n",
    "        stats += np.array(bleu_stats(hyp, ref))\n",
    "    return 100 * bleu(stats)\n",
    "    "
   ]
  }
 ],
 "metadata": {
  "kernelspec": {
   "display_name": "Python 3 (ipykernel)",
   "language": "python",
   "name": "python3"
  },
  "language_info": {
   "codemirror_mode": {
    "name": "ipython",
    "version": 3
   },
   "file_extension": ".py",
   "mimetype": "text/x-python",
   "name": "python",
   "nbconvert_exporter": "python",
   "pygments_lexer": "ipython3",
   "version": "3.11.10"
  }
 },
 "nbformat": 4,
 "nbformat_minor": 5
}
