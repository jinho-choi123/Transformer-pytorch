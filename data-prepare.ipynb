{
 "cells": [
  {
   "cell_type": "code",
   "execution_count": 13,
   "id": "b9e2fd05-bbd7-4c10-a763-ce7e53b02200",
   "metadata": {},
   "outputs": [],
   "source": [
    "import pandas as pd \n",
    "import numpy as np \n",
    "import os \n",
    "from sklearn.model_selection import train_test_split"
   ]
  },
  {
   "cell_type": "code",
   "execution_count": 10,
   "id": "7755997e-1d7b-4d3f-bd67-8010b15c7d44",
   "metadata": {},
   "outputs": [
    {
     "name": "stdout",
     "output_type": "stream",
     "text": [
      "['9.xlsx', '5.xlsx', '4.xlsx', '8.xlsx', '3.xlsx', '2.xlsx', '1.xlsx', '10.xlsx', '7.xlsx', '6.xlsx']\n"
     ]
    }
   ],
   "source": [
    "current_path = os.getcwd()\n",
    "data_directory = os.path.join(current_path, \"data\") \n",
    "\n",
    "data_files = os.listdir(data_directory)\n",
    "data_files = [f for f in data_files if f[-4:] == 'xlsx']\n",
    "print(data_files)"
   ]
  },
  {
   "cell_type": "code",
   "execution_count": 11,
   "id": "b522cbbe-c028-4f3c-b348-58e89158b128",
   "metadata": {},
   "outputs": [
    {
     "name": "stderr",
     "output_type": "stream",
     "text": [
      "/Users/ball/Documents/workspace/transformer-tutorial/.venv/lib/python3.11/site-packages/openpyxl/styles/stylesheet.py:237: UserWarning: Workbook contains no default style, apply openpyxl's default\n",
      "  warn(\"Workbook contains no default style, apply openpyxl's default\")\n",
      "/Users/ball/Documents/workspace/transformer-tutorial/.venv/lib/python3.11/site-packages/openpyxl/styles/stylesheet.py:237: UserWarning: Workbook contains no default style, apply openpyxl's default\n",
      "  warn(\"Workbook contains no default style, apply openpyxl's default\")\n",
      "/Users/ball/Documents/workspace/transformer-tutorial/.venv/lib/python3.11/site-packages/openpyxl/styles/stylesheet.py:237: UserWarning: Workbook contains no default style, apply openpyxl's default\n",
      "  warn(\"Workbook contains no default style, apply openpyxl's default\")\n",
      "/Users/ball/Documents/workspace/transformer-tutorial/.venv/lib/python3.11/site-packages/openpyxl/styles/stylesheet.py:237: UserWarning: Workbook contains no default style, apply openpyxl's default\n",
      "  warn(\"Workbook contains no default style, apply openpyxl's default\")\n"
     ]
    },
    {
     "name": "stdout",
     "output_type": "stream",
     "text": [
      "                                                    korean  \\\n",
      "0                                         의원의 회의규칙 제47조제1항   \n",
      "1                                      ⓛ비공개회의록은 원고로서 보관한다.   \n",
      "2                                           o 보고지연 훈계 3일이상   \n",
      "3                             건물면적은 33제곱미터(전용면적) 이상이어야 한다.   \n",
      "4                                     이 경우 「행정대집행법」을 준용한다.   \n",
      "...                                                    ...   \n",
      "1602413  건국대 최수봉 명예교수와 건국대충주병원 내분비내과 노연희·홍은실 교수 연구팀은 최근...   \n",
      "1602414  가톨릭대 서울성모병원 가정의학과 김경수 교수·여의도성모병원 김민희 임상강사 연구팀은...   \n",
      "1602415  고고학계의 의견에 따르면 구암동 고분군을 축조한 집단은 팔거평야와 팔거천을 기반으로...   \n",
      "1602416  28일 전남지방경찰청 고속도로순찰대에 따르면 이날 오후 5시쯤 전남 장성군 북이면 ...   \n",
      "1602417  ‘대한민국 성장 동력 인천’ 분야는 일자리 창출 968억 원, 청년·창업 165억 ...   \n",
      "\n",
      "                                                   english  \n",
      "0              Article 47(1) of the Members' Meeting Rules  \n",
      "1        (1) The non-public meeting minutes shall be ke...  \n",
      "2        – Delay in reporting results in discipline at ...  \n",
      "3        The building area shall be at least 33 m² (exc...  \n",
      "4        In such cases, the Vicarious Administrative Ex...  \n",
      "...                                                    ...  \n",
      "1602413  The research team led by Choi Soo-bong, honora...  \n",
      "1602414  The research team led by Kim Kyung-soo, a prof...  \n",
      "1602415  According to the opinion of the archaeological...  \n",
      "1602416  According to the highway patrol team of the Je...  \n",
      "1602417  In the field of Korea's Growth Engine Incheon,...  \n",
      "\n",
      "[1602418 rows x 2 columns]\n"
     ]
    }
   ],
   "source": [
    "datas = []\n",
    "\n",
    "# iter all xlsx files in data/ directory, and append korean sentence and english sentence to df_data \n",
    "for f in data_files: \n",
    "    data = pd.read_excel(os.path.join(data_directory, f))\n",
    "    data.rename(columns={'원문': \"korean\", '번역문': \"english\"}, inplace=True)\n",
    "    extracted_data = data[[\"korean\", \"english\"]]\n",
    "    datas.append(extracted_data)\n",
    "\n",
    "df_data = pd.concat(datas, ignore_index=True)\n",
    "    \n",
    "print(df_data.info)"
   ]
  },
  {
   "cell_type": "code",
   "execution_count": 16,
   "id": "bef89d7d-9631-4ff6-8252-1ed284bd922d",
   "metadata": {},
   "outputs": [
    {
     "name": "stdout",
     "output_type": "stream",
     "text": [
      "train data size: 1121692\n",
      "test data size: 288436\n",
      "validation data size: 192290\n"
     ]
    }
   ],
   "source": [
    "# split df_data into train test dataframe \n",
    "train_df_data, test_df_data = train_test_split(df_data, test_size=0.3, shuffle=True, random_state=123)\n",
    "valid_df_data, test_df_data = train_test_split(test_df_data, test_size=0.6, shuffle=True, random_state=123)\n",
    "print(f'train data size: {len(train_df_data)}')\n",
    "print(f'test data size: {len(test_df_data)}')\n",
    "print(f'validation data size: {len(valid_df_data)}')"
   ]
  },
  {
   "cell_type": "code",
   "execution_count": 17,
   "id": "2aa99a86-9c09-4c63-8316-2e7617a98ac0",
   "metadata": {},
   "outputs": [],
   "source": [
    "# Store it into a file \n",
    "preprocessed_directory = os.path.join(current_path, \"preprocessed\")\n",
    "\n",
    "train_df_data.to_parquet(path=os.path.join(preprocessed_directory, \"train.parquet\"))\n",
    "test_df_data.to_parquet(path=os.path.join(preprocessed_directory, \"test.parquet\"))\n",
    "valid_df_data.to_parquet(path=os.path.join(preprocessed_directory, \"validation.parquet\"))"
   ]
  }
 ],
 "metadata": {
  "kernelspec": {
   "display_name": "Python 3 (ipykernel)",
   "language": "python",
   "name": "python3"
  },
  "language_info": {
   "codemirror_mode": {
    "name": "ipython",
    "version": 3
   },
   "file_extension": ".py",
   "mimetype": "text/x-python",
   "name": "python",
   "nbconvert_exporter": "python",
   "pygments_lexer": "ipython3",
   "version": "3.11.10"
  }
 },
 "nbformat": 4,
 "nbformat_minor": 5
}
