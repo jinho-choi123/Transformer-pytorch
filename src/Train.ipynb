{
 "cells": [
  {
   "cell_type": "markdown",
   "id": "948a6958-d332-4c2a-abc5-ff66dd794695",
   "metadata": {},
   "source": [
    "# Train the Model using datas"
   ]
  },
  {
   "cell_type": "code",
   "execution_count": 1,
   "id": "54a6a241-df71-4a97-bb02-1bc70f2fa2cf",
   "metadata": {},
   "outputs": [],
   "source": [
    "%%capture\n",
    "%run ../config/config.ipynb\n",
    "%run ./data-loader.ipynb\n",
    "%run ./Transformer.ipynb"
   ]
  },
  {
   "cell_type": "code",
   "execution_count": 2,
   "id": "5e61d776-cdbb-431d-a749-6198daf58c7d",
   "metadata": {},
   "outputs": [],
   "source": [
    "from torch.optim import Adam\n",
    "from datetime import datetime\n",
    "import torch \n",
    "from tqdm import tqdm"
   ]
  },
  {
   "cell_type": "code",
   "execution_count": 3,
   "id": "7a282067-acba-4324-8155-61e67650d5e6",
   "metadata": {
    "editable": true,
    "slideshow": {
     "slide_type": ""
    },
    "tags": []
   },
   "outputs": [
    {
     "name": "stdout",
     "output_type": "stream",
     "text": [
      "model parameter #: 6356745\n"
     ]
    }
   ],
   "source": [
    "# Prepare the model \n",
    "model = Transformer(\n",
    "    src_pad_token=src_pad_token, \n",
    "    trg_pad_token=trg_pad_token, \n",
    "    enc_voc_size=enc_voc_size, \n",
    "    dec_voc_size=dec_voc_size, \n",
    "    n_head=n_head, \n",
    "    max_len=max_len, \n",
    "    d_model=d_model, \n",
    "    ffn_hidden=ffn_hidden, \n",
    "    n_layers=n_layers, \n",
    "    drop_prob=drop_prob, \n",
    "    device=device).to(device)\n",
    "\n",
    "model.train()\n",
    "\n",
    "def count_parameters(model):\n",
    "    return sum(p.numel() for p in model.parameters() if p.requires_grad)\n",
    "\n",
    "print(f'model parameter #: {count_parameters(model)}')\n"
   ]
  },
  {
   "cell_type": "code",
   "execution_count": 8,
   "id": "e078fd4f-33e5-4e6c-b539-6f8f4c8f1c5c",
   "metadata": {},
   "outputs": [],
   "source": [
    "\n",
    "class NoamScheduler:\n",
    "    def __init__(self, optimizer, d_model, warmup_steps, LR_scale=1): \n",
    "        self.optimizer = optimizer\n",
    "        self.step_count = 0 \n",
    "        self.d_model = d_model\n",
    "        self.warmup_steps = warmup_steps\n",
    "        self.LR_scale = LR_scale\n",
    "        self._d_model_factor = self.LR_scale * (self.d_model ** -0.5)\n",
    "    def step(self): \n",
    "        self.step_count += 1 \n",
    "        lr = self.calculate_learning_rate()\n",
    "        self.optimizer.param_groups[0]['lr'] = lr \n",
    "    def calculate_learning_rate(self): \n",
    "        minimum_factor = min(self.step_count ** -0.5, self.step_count * self.warmup_steps ** -1.5)\n",
    "        return self._d_model_factor * minimum_factor\n",
    "\n",
    "# Setup optimizer \n",
    "optimizer = Adam(params=model.parameters(), lr=init_lr, weight_decay=weight_decay, eps=eps)\n",
    "\n",
    "# Set Noam Scheduler\n",
    "scheduler = NoamScheduler(optimizer, d_model, warmup_steps)\n",
    "# Setup loss function for training\n",
    "loss_func = nn.CrossEntropyLoss(ignore_index=src_pad_token)\n"
   ]
  },
  {
   "cell_type": "code",
   "execution_count": 9,
   "id": "42d092cb-c592-4a28-8316-92e291ea493a",
   "metadata": {},
   "outputs": [],
   "source": [
    "def train_epoch(epoch_num): \n",
    "    train_epoch_loss = 0 \n",
    "\n",
    "    for step, (kr_sentences, en_sentences) in tqdm(enumerate(train_dataloader)): \n",
    "\n",
    "        # tokenize kr_sentence \n",
    "        kr_tokenized = kr_tokenizer(kr_sentences, padding=True, truncation=True, max_length=max_len, return_tensors=\"pt\").input_ids\n",
    "        \n",
    "        # tokenize en_sentence \n",
    "        # make en_sentence start with eos token(this is because current tokenizer don't have an sos token.)\n",
    "        en_sentences = ['</s> ' + s for s in en_sentences]\n",
    "        en_tokenized = en_tokenizer(en_sentences, padding=True, truncation=True, max_length=max_len, return_tensors=\"pt\").input_ids\n",
    "\n",
    "        \n",
    "        optimizer.zero_grad()\n",
    "\n",
    "        kr_tokenized = kr_tokenized.to(device)\n",
    "        en_tokenized = en_tokenized.to(device)\n",
    "\n",
    "        # out is the dec_voc_size vector \n",
    "        # during training, we exclude sep token \n",
    "\n",
    "        # remove eos token if the sentence is too long, and gets truncated.\n",
    "        # so we can prevent early-stopping(early-eos) \n",
    "        # out: batch_size * max_len * dec_voc_size\n",
    "        out = model(kr_tokenized, en_tokenized[:, :-1])\n",
    "\n",
    "        # remove sos token from en_tokenized when calculating loss because out will not include eos token in front of the sentence. \n",
    "        # en_tokenized: batch_size * (max_len-1)\n",
    "        en_tokenized = en_tokenized[:, 1:].to(device)\n",
    "\n",
    "        # out: batch_size * (max_len - 1) * dec_voc_size\n",
    "        out = out.permute(0, 2, 1).to(device)\n",
    "\n",
    "        loss = loss_func(out, en_tokenized)\n",
    "        loss.backward()\n",
    "        torch.nn.utils.clip_grad_norm_(model.parameters(), clip)\n",
    "\n",
    "        optimizer.step()\n",
    "        scheduler.step()\n",
    "\n",
    "        train_epoch_loss += loss.item()\n",
    "        \n",
    "        if step % 50 == 0:\n",
    "            print(f'EPOCH #{epoch_num} STEP #{step} | loss: {loss.item()}, avg_loss: {train_epoch_loss / (step + 1)}')\n",
    "\n",
    "    train_step_loss = train_epoch_loss / (step+1)\n",
    "    # After training epoch, do evaluation \n",
    "\n",
    "    return train_step_loss\n",
    "    \n",
    "\n"
   ]
  },
  {
   "cell_type": "code",
   "execution_count": 10,
   "id": "b4858b14-e7f6-40af-b412-01eb7653c611",
   "metadata": {},
   "outputs": [],
   "source": [
    "# evaluate the model \n",
    "def evaluate(): \n",
    "    model.eval()\n",
    "    test_epoch_loss = 0 \n",
    "    test_bleu_loss = 0\n",
    "    \n",
    "    with torch.no_grad(): \n",
    "        for step, (kr_sentences, en_sentences) in tqdm(enumerate(test_dataloader)): \n",
    "            # tokenize kr_sentence \n",
    "            kr_tokenized = kr_tokenizer(kr_sentences, padding=True, truncation=True, max_length=max_len, return_tensors=\"pt\").input_ids\n",
    "            \n",
    "            # tokenize en_sentence \n",
    "            # make en_sentence start with eos token(this is because current tokenizer don't have an sos token.)\n",
    "            en_sentences = ['</s> ' + s for s in en_sentences]\n",
    "            en_tokenized = en_tokenizer(en_sentences, padding=True, truncation=True, max_length=max_len, return_tensors=\"pt\").input_ids\n",
    "\n",
    "            kr_tokenized = kr_tokenized.to(device)\n",
    "            en_tokenized = en_tokenized.to(device)\n",
    "\n",
    "\n",
    "            # this does not remove the eos token \n",
    "            # FIXME \n",
    "            out = model(kr_tokenized, en_tokenized[:, :-1])\n",
    "            \n",
    "\n",
    "            # remove sos token from en_tokenized when calculating loss because out will not include sos token. \n",
    "            en_tokenized = en_tokenized[:, 1:].to(device)\n",
    "    \n",
    "            out = out.permute(0, 2, 1).to(device)\n",
    "            \n",
    "            loss = loss_func(out, en_tokenized)\n",
    "            test_epoch_loss += loss.item()\n",
    "\n",
    "            # calcuate the bleu \n",
    "            # TODO\n",
    "        test_step_loss = test_epoch_loss / (step + 1)\n",
    "    return test_step_loss"
   ]
  },
  {
   "cell_type": "code",
   "execution_count": null,
   "id": "c7080d85-a150-4e03-bb81-191a1bd882d4",
   "metadata": {},
   "outputs": [
    {
     "name": "stderr",
     "output_type": "stream",
     "text": [
      "1it [00:00,  1.34it/s]"
     ]
    },
    {
     "name": "stdout",
     "output_type": "stream",
     "text": [
      "EPOCH #0 STEP #0 | loss: 11.167913436889648, avg_loss: 11.167913436889648\n"
     ]
    },
    {
     "name": "stderr",
     "output_type": "stream",
     "text": [
      "51it [00:29,  1.64it/s]"
     ]
    },
    {
     "name": "stdout",
     "output_type": "stream",
     "text": [
      "EPOCH #0 STEP #50 | loss: 11.144428253173828, avg_loss: 11.170808137631884\n"
     ]
    },
    {
     "name": "stderr",
     "output_type": "stream",
     "text": [
      "101it [00:57,  2.01it/s]"
     ]
    },
    {
     "name": "stdout",
     "output_type": "stream",
     "text": [
      "EPOCH #0 STEP #100 | loss: 11.07529354095459, avg_loss: 11.145308201855952\n"
     ]
    },
    {
     "name": "stderr",
     "output_type": "stream",
     "text": [
      "151it [01:24,  1.69it/s]"
     ]
    },
    {
     "name": "stdout",
     "output_type": "stream",
     "text": [
      "EPOCH #0 STEP #150 | loss: 10.903339385986328, avg_loss: 11.100729613904132\n"
     ]
    },
    {
     "name": "stderr",
     "output_type": "stream",
     "text": [
      "201it [01:48,  1.95it/s]"
     ]
    },
    {
     "name": "stdout",
     "output_type": "stream",
     "text": [
      "EPOCH #0 STEP #200 | loss: 10.793999671936035, avg_loss: 11.041111689894947\n"
     ]
    },
    {
     "name": "stderr",
     "output_type": "stream",
     "text": [
      "217it [01:56,  2.19it/s]"
     ]
    }
   ],
   "source": [
    "timestamp = datetime.now().strftime('%Y%m%d_%H%M%S')\n",
    "best_vloss = 100_000_000\n",
    "\n",
    "for epoch in range(epochs):\n",
    "    train_loss = train_epoch(epoch)\n",
    "    test_loss = evaluate()\n",
    "\n",
    "    print(f'Epoch {epoch}: Train Loss {train_loss}, Test Loss {test_loss}')\n",
    "\n",
    "    if test_loss < best_vloss:\n",
    "        best_vloss = test_loss \n",
    "        model_path = model_dir / f'model_{timestamp}_{epoch}' \n",
    "        torch.save(model.state_dict(), model_path)  "
   ]
  },
  {
   "cell_type": "code",
   "execution_count": null,
   "id": "6e20070a-81b3-4e09-a47d-7b553093587b",
   "metadata": {},
   "outputs": [],
   "source": []
  }
 ],
 "metadata": {
  "kernelspec": {
   "display_name": "Python 3 (ipykernel)",
   "language": "python",
   "name": "python3"
  },
  "language_info": {
   "codemirror_mode": {
    "name": "ipython",
    "version": 3
   },
   "file_extension": ".py",
   "mimetype": "text/x-python",
   "name": "python",
   "nbconvert_exporter": "python",
   "pygments_lexer": "ipython3",
   "version": "3.11.10"
  }
 },
 "nbformat": 4,
 "nbformat_minor": 5
}
