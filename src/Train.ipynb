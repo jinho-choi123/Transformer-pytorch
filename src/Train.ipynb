{
 "cells": [
  {
   "cell_type": "markdown",
   "id": "948a6958-d332-4c2a-abc5-ff66dd794695",
   "metadata": {},
   "source": [
    "# Train the Model using datas"
   ]
  },
  {
   "cell_type": "code",
   "execution_count": 1,
   "id": "54a6a241-df71-4a97-bb02-1bc70f2fa2cf",
   "metadata": {},
   "outputs": [],
   "source": [
    "%%capture\n",
    "%run ../config/config.ipynb\n",
    "%run ./data-loader.ipynb\n",
    "%run ./Transformer.ipynb"
   ]
  },
  {
   "cell_type": "code",
   "execution_count": 2,
   "id": "5e61d776-cdbb-431d-a749-6198daf58c7d",
   "metadata": {},
   "outputs": [],
   "source": [
    "from torch.optim import Adam\n",
    "from datetime import datetime\n",
    "import torch \n",
    "from tqdm import tqdm"
   ]
  },
  {
   "cell_type": "code",
   "execution_count": 3,
   "id": "7a282067-acba-4324-8155-61e67650d5e6",
   "metadata": {
    "editable": true,
    "slideshow": {
     "slide_type": ""
    },
    "tags": []
   },
   "outputs": [
    {
     "name": "stdout",
     "output_type": "stream",
     "text": [
      "model parameter #: 53940457\n"
     ]
    }
   ],
   "source": [
    "# Prepare the model \n",
    "model = Transformer(\n",
    "    src_pad_token=src_pad_token, \n",
    "    trg_pad_token=trg_pad_token, \n",
    "    enc_voc_size=enc_voc_size, \n",
    "    dec_voc_size=dec_voc_size, \n",
    "    n_head=n_head, \n",
    "    max_len=max_len, \n",
    "    d_model=d_model, \n",
    "    ffn_hidden=ffn_hidden, \n",
    "    n_layers=n_layers, \n",
    "    drop_prob=drop_prob, \n",
    "    device=device).to(device)\n",
    "\n",
    "model.train()\n",
    "\n",
    "def count_parameters(model):\n",
    "    return sum(p.numel() for p in model.parameters() if p.requires_grad)\n",
    "\n",
    "print(f'model parameter #: {count_parameters(model)}')\n",
    "logger.info(f'model parameter #: {count_parameters(model)}')\n"
   ]
  },
  {
   "cell_type": "code",
   "execution_count": 4,
   "id": "e078fd4f-33e5-4e6c-b539-6f8f4c8f1c5c",
   "metadata": {},
   "outputs": [],
   "source": [
    "# Setup optimizer \n",
    "optimizer = Adam(params=model.parameters(), lr=init_lr, weight_decay=weight_decay, eps=eps, betas=(0.9, 0.98))\n",
    "\n",
    "# Set Noam Scheduler\n",
    "scheduler = LRScheduler(optimizer, d_model, warmup_steps)\n",
    "# Setup loss function for training\n",
    "loss_func = nn.CrossEntropyLoss(ignore_index=src_pad_token)\n",
    "\n",
    "\n"
   ]
  },
  {
   "cell_type": "code",
   "execution_count": null,
   "id": "57a37978-5880-4075-a5ee-ee77404eb1e3",
   "metadata": {},
   "outputs": [],
   "source": [
    "# store lr rate history per steps \n",
    "lr_history = []\n",
    "# store loss history per steps \n",
    "train_loss_history = []"
   ]
  },
  {
   "cell_type": "code",
   "execution_count": 5,
   "id": "42d092cb-c592-4a28-8316-92e291ea493a",
   "metadata": {},
   "outputs": [],
   "source": [
    "def train_epoch(epoch_num): \n",
    "    model.train()\n",
    "    train_epoch_loss = 0 \n",
    "\n",
    "    for step, (kr_sentences, en_sentences) in tqdm(enumerate(train_dataloader)): \n",
    "\n",
    "        # tokenize kr_sentence \n",
    "        kr_tokenized = kr_tokenizer(kr_sentences, padding=True, truncation=True, max_length=max_len, return_tensors=\"pt\").input_ids\n",
    "        \n",
    "        # tokenize en_sentence \n",
    "        # make en_sentence start with eos token(this is because current tokenizer don't have an sos token.)\n",
    "        en_sentences = ['</s> ' + s for s in en_sentences]\n",
    "        en_tokenized = en_tokenizer(en_sentences, padding=True, truncation=True, max_length=max_len, return_tensors=\"pt\").input_ids\n",
    "        \n",
    "\n",
    "        kr_tokenized = kr_tokenized.to(device)\n",
    "        en_tokenized = en_tokenized.to(device)\n",
    "\n",
    "        # out is the dec_voc_size vector \n",
    "        # during training, we exclude sep token \n",
    "\n",
    "        # remove eos token if the sentence is too long, and gets truncated.\n",
    "        # so we can prevent early-stopping(early-eos) \n",
    "        # out: batch_size * max_len * dec_voc_size\n",
    "        out = model(kr_tokenized, en_tokenized[:, :-1])\n",
    "\n",
    "        # remove sos token from en_tokenized when calculating loss because out will not include eos token in front of the sentence. \n",
    "        # en_tokenized: batch_size * (max_len-1)\n",
    "        en_tokenized = en_tokenized[:, 1:].to(device)\n",
    "\n",
    "        # out: batch_size * (max_len - 1) * dec_voc_size\n",
    "        out = out.permute(0, 2, 1).to(device)\n",
    "\n",
    "        loss = loss_func(out, en_tokenized)\n",
    "        optimizer.zero_grad()\n",
    "        loss.backward()\n",
    "        # torch.nn.utils.clip_grad_norm_(model.parameters(), clip)\n",
    "\n",
    "        optimizer.step()\n",
    "        scheduler.step()\n",
    "\n",
    "        train_epoch_loss += loss.item()\n",
    "\n",
    "\n",
    "        \n",
    "        if step % 200 == 0:\n",
    "            print(f'    EPOCH #{epoch_num} STEP #{step} | loss: {loss.item()}, avg_loss: {train_epoch_loss / (step + 1)}')\n",
    "            logger.info(f'    EPOCH #{epoch_num} STEP #{step} | loss: {loss.item()}, avg_loss: {train_epoch_loss / (step + 1)}')\n",
    "        \n",
    "        \n",
    "\n",
    "    train_step_loss = train_epoch_loss / (step+1)\n",
    "    # After training epoch, do evaluation \n",
    "\n",
    "    return train_step_loss"
   ]
  },
  {
   "cell_type": "code",
   "execution_count": 6,
   "id": "b4858b14-e7f6-40af-b412-01eb7653c611",
   "metadata": {},
   "outputs": [],
   "source": [
    "# evaluate the model \n",
    "def evaluate(): \n",
    "    model.eval()\n",
    "    test_epoch_loss = 0 \n",
    "    test_bleu_loss = 0\n",
    "    \n",
    "    with torch.no_grad(): \n",
    "        for step, (kr_sentences, en_sentences) in tqdm(enumerate(test_dataloader)): \n",
    "            # tokenize kr_sentence \n",
    "            kr_tokenized = kr_tokenizer(kr_sentences, padding=True, truncation=True, max_length=max_len, return_tensors=\"pt\").input_ids\n",
    "            \n",
    "            # tokenize en_sentence \n",
    "            # make en_sentence start with eos token(this is because current tokenizer don't have an sos token.)\n",
    "            en_sentences = ['</s> ' + s for s in en_sentences]\n",
    "            en_tokenized = en_tokenizer(en_sentences, padding=True, truncation=True, max_length=max_len, return_tensors=\"pt\").input_ids\n",
    "\n",
    "            kr_tokenized = kr_tokenized.to(device)\n",
    "            en_tokenized = en_tokenized.to(device)\n",
    "\n",
    "\n",
    "            # this does not remove the eos token \n",
    "            # FIXME \n",
    "            out = model(kr_tokenized, en_tokenized[:, :-1])\n",
    "            \n",
    "\n",
    "            # remove sos token from en_tokenized when calculating loss because out will not include sos token. \n",
    "            en_tokenized = en_tokenized[:, 1:].to(device)\n",
    "    \n",
    "            out = out.permute(0, 2, 1).to(device)\n",
    "            \n",
    "            loss = loss_func(out, en_tokenized)\n",
    "            test_epoch_loss += loss.item()\n",
    "\n",
    "            # calcuate the bleu \n",
    "            # TODO\n",
    "        test_step_loss = test_epoch_loss / (step + 1)\n",
    "    return test_step_loss"
   ]
  },
  {
   "cell_type": "code",
   "execution_count": 7,
   "id": "c7080d85-a150-4e03-bb81-191a1bd882d4",
   "metadata": {},
   "outputs": [
    {
     "name": "stdout",
     "output_type": "stream",
     "text": [
      "Epoch #0 Start: current LR 0.0\n"
     ]
    },
    {
     "name": "stderr",
     "output_type": "stream",
     "text": [
      "1it [00:04,  4.01s/it]"
     ]
    },
    {
     "name": "stdout",
     "output_type": "stream",
     "text": [
      "    EPOCH #0 STEP #0 | loss: 11.198524475097656, avg_loss: 11.198524475097656\n"
     ]
    },
    {
     "name": "stderr",
     "output_type": "stream",
     "text": [
      "201it [10:51,  3.17s/it]"
     ]
    },
    {
     "name": "stdout",
     "output_type": "stream",
     "text": [
      "    EPOCH #0 STEP #200 | loss: 6.86619234085083, avg_loss: 9.200099686485025\n"
     ]
    },
    {
     "name": "stderr",
     "output_type": "stream",
     "text": [
      "202it [10:56,  3.25s/it]\n"
     ]
    },
    {
     "ename": "KeyboardInterrupt",
     "evalue": "",
     "output_type": "error",
     "traceback": [
      "\u001b[0;31m---------------------------------------------------------------------------\u001b[0m",
      "\u001b[0;31mKeyboardInterrupt\u001b[0m                         Traceback (most recent call last)",
      "Cell \u001b[0;32mIn[7], line 8\u001b[0m\n\u001b[1;32m      5\u001b[0m \u001b[38;5;28mprint\u001b[39m(\u001b[38;5;124mf\u001b[39m\u001b[38;5;124m'\u001b[39m\u001b[38;5;124mEpoch #\u001b[39m\u001b[38;5;132;01m{\u001b[39;00mepoch\u001b[38;5;132;01m}\u001b[39;00m\u001b[38;5;124m Start: current LR \u001b[39m\u001b[38;5;132;01m{\u001b[39;00moptimizer\u001b[38;5;241m.\u001b[39mparam_groups[\u001b[38;5;241m0\u001b[39m][\u001b[38;5;124m\"\u001b[39m\u001b[38;5;124mlr\u001b[39m\u001b[38;5;124m\"\u001b[39m]\u001b[38;5;132;01m}\u001b[39;00m\u001b[38;5;124m'\u001b[39m)\n\u001b[1;32m      6\u001b[0m logger\u001b[38;5;241m.\u001b[39minfo(\u001b[38;5;124mf\u001b[39m\u001b[38;5;124m'\u001b[39m\u001b[38;5;124mEpoch #\u001b[39m\u001b[38;5;132;01m{\u001b[39;00mepoch\u001b[38;5;132;01m}\u001b[39;00m\u001b[38;5;124m Start: current LR \u001b[39m\u001b[38;5;132;01m{\u001b[39;00moptimizer\u001b[38;5;241m.\u001b[39mparam_groups[\u001b[38;5;241m0\u001b[39m][\u001b[38;5;124m\"\u001b[39m\u001b[38;5;124mlr\u001b[39m\u001b[38;5;124m\"\u001b[39m]\u001b[38;5;132;01m}\u001b[39;00m\u001b[38;5;124m'\u001b[39m)\n\u001b[0;32m----> 8\u001b[0m train_loss \u001b[38;5;241m=\u001b[39m \u001b[43mtrain_epoch\u001b[49m\u001b[43m(\u001b[49m\u001b[43mepoch\u001b[49m\u001b[43m)\u001b[49m\n\u001b[1;32m      9\u001b[0m test_loss \u001b[38;5;241m=\u001b[39m evaluate()\n\u001b[1;32m     11\u001b[0m \u001b[38;5;28mprint\u001b[39m(\u001b[38;5;124mf\u001b[39m\u001b[38;5;124m'\u001b[39m\u001b[38;5;124mEpoch #\u001b[39m\u001b[38;5;132;01m{\u001b[39;00mepoch\u001b[38;5;132;01m}\u001b[39;00m\u001b[38;5;124m End: Train Loss \u001b[39m\u001b[38;5;132;01m{\u001b[39;00mtrain_loss\u001b[38;5;132;01m}\u001b[39;00m\u001b[38;5;124m, Test Loss \u001b[39m\u001b[38;5;132;01m{\u001b[39;00mtest_loss\u001b[38;5;132;01m}\u001b[39;00m\u001b[38;5;124m'\u001b[39m)\n",
      "Cell \u001b[0;32mIn[5], line 37\u001b[0m, in \u001b[0;36mtrain_epoch\u001b[0;34m(epoch_num)\u001b[0m\n\u001b[1;32m     35\u001b[0m loss \u001b[38;5;241m=\u001b[39m loss_func(out, en_tokenized)\n\u001b[1;32m     36\u001b[0m loss\u001b[38;5;241m.\u001b[39mbackward()\n\u001b[0;32m---> 37\u001b[0m \u001b[43mtorch\u001b[49m\u001b[38;5;241;43m.\u001b[39;49m\u001b[43mnn\u001b[49m\u001b[38;5;241;43m.\u001b[39;49m\u001b[43mutils\u001b[49m\u001b[38;5;241;43m.\u001b[39;49m\u001b[43mclip_grad_norm_\u001b[49m\u001b[43m(\u001b[49m\u001b[43mmodel\u001b[49m\u001b[38;5;241;43m.\u001b[39;49m\u001b[43mparameters\u001b[49m\u001b[43m(\u001b[49m\u001b[43m)\u001b[49m\u001b[43m,\u001b[49m\u001b[43m \u001b[49m\u001b[43mclip\u001b[49m\u001b[43m)\u001b[49m\n\u001b[1;32m     39\u001b[0m optimizer\u001b[38;5;241m.\u001b[39mstep()\n\u001b[1;32m     40\u001b[0m scheduler\u001b[38;5;241m.\u001b[39mstep()\n",
      "File \u001b[0;32m~/Documents/workspace/transformer-tutorial/.venv/lib/python3.11/site-packages/torch/nn/utils/clip_grad.py:30\u001b[0m, in \u001b[0;36m_no_grad.<locals>._no_grad_wrapper\u001b[0;34m(*args, **kwargs)\u001b[0m\n\u001b[1;32m     28\u001b[0m \u001b[38;5;28;01mdef\u001b[39;00m \u001b[38;5;21m_no_grad_wrapper\u001b[39m(\u001b[38;5;241m*\u001b[39margs, \u001b[38;5;241m*\u001b[39m\u001b[38;5;241m*\u001b[39mkwargs):\n\u001b[1;32m     29\u001b[0m     \u001b[38;5;28;01mwith\u001b[39;00m torch\u001b[38;5;241m.\u001b[39mno_grad():\n\u001b[0;32m---> 30\u001b[0m         \u001b[38;5;28;01mreturn\u001b[39;00m \u001b[43mfunc\u001b[49m\u001b[43m(\u001b[49m\u001b[38;5;241;43m*\u001b[39;49m\u001b[43margs\u001b[49m\u001b[43m,\u001b[49m\u001b[43m \u001b[49m\u001b[38;5;241;43m*\u001b[39;49m\u001b[38;5;241;43m*\u001b[39;49m\u001b[43mkwargs\u001b[49m\u001b[43m)\u001b[49m\n",
      "File \u001b[0;32m~/Documents/workspace/transformer-tutorial/.venv/lib/python3.11/site-packages/torch/nn/utils/clip_grad.py:122\u001b[0m, in \u001b[0;36mclip_grad_norm_\u001b[0;34m(parameters, max_norm, norm_type, error_if_nonfinite, foreach)\u001b[0m\n\u001b[1;32m    120\u001b[0m         clip_coef_clamped_device \u001b[38;5;241m=\u001b[39m clip_coef_clamped\u001b[38;5;241m.\u001b[39mto(device)\n\u001b[1;32m    121\u001b[0m         \u001b[38;5;28;01mfor\u001b[39;00m g \u001b[38;5;129;01min\u001b[39;00m device_grads:\n\u001b[0;32m--> 122\u001b[0m             \u001b[43mg\u001b[49m\u001b[38;5;241;43m.\u001b[39;49m\u001b[43mmul_\u001b[49m\u001b[43m(\u001b[49m\u001b[43mclip_coef_clamped_device\u001b[49m\u001b[43m)\u001b[49m\n\u001b[1;32m    124\u001b[0m \u001b[38;5;28;01mreturn\u001b[39;00m total_norm\n",
      "File \u001b[0;32m~/Documents/workspace/transformer-tutorial/.venv/lib/python3.11/site-packages/torch/utils/_device.py:106\u001b[0m, in \u001b[0;36mDeviceContext.__torch_function__\u001b[0;34m(self, func, types, args, kwargs)\u001b[0m\n\u001b[1;32m    104\u001b[0m \u001b[38;5;28;01mif\u001b[39;00m func \u001b[38;5;129;01min\u001b[39;00m _device_constructors() \u001b[38;5;129;01mand\u001b[39;00m kwargs\u001b[38;5;241m.\u001b[39mget(\u001b[38;5;124m'\u001b[39m\u001b[38;5;124mdevice\u001b[39m\u001b[38;5;124m'\u001b[39m) \u001b[38;5;129;01mis\u001b[39;00m \u001b[38;5;28;01mNone\u001b[39;00m:\n\u001b[1;32m    105\u001b[0m     kwargs[\u001b[38;5;124m'\u001b[39m\u001b[38;5;124mdevice\u001b[39m\u001b[38;5;124m'\u001b[39m] \u001b[38;5;241m=\u001b[39m \u001b[38;5;28mself\u001b[39m\u001b[38;5;241m.\u001b[39mdevice\n\u001b[0;32m--> 106\u001b[0m \u001b[38;5;28;01mreturn\u001b[39;00m \u001b[43mfunc\u001b[49m\u001b[43m(\u001b[49m\u001b[38;5;241;43m*\u001b[39;49m\u001b[43margs\u001b[49m\u001b[43m,\u001b[49m\u001b[43m \u001b[49m\u001b[38;5;241;43m*\u001b[39;49m\u001b[38;5;241;43m*\u001b[39;49m\u001b[43mkwargs\u001b[49m\u001b[43m)\u001b[49m\n",
      "\u001b[0;31mKeyboardInterrupt\u001b[0m: "
     ]
    }
   ],
   "source": [
    "timestamp = datetime.now().strftime('%Y%m%d_%H%M%S')\n",
    "\n",
    "for epoch in range(epochs):\n",
    "    print(f'Epoch #{epoch} Start: current LR {optimizer.param_groups[0][\"lr\"]}')\n",
    "    logger.info(f'Epoch #{epoch} Start: current LR {optimizer.param_groups[0][\"lr\"]}')\n",
    "    \n",
    "    train_loss = train_epoch(epoch)\n",
    "    test_loss = evaluate()\n",
    "    lr_history.append(optimizer.param_groups[0][\"lr\"])\n",
    "    train_loss_history.append(train_loss)\n",
    "\n",
    "    logger.info(f'Epoch #{epoch} End: Train Loss {train_loss}, Test Loss {test_loss}')\n",
    "\n",
    "    model_path = model_dir / f'model_{timestamp}_{epoch}' \n",
    "    torch.save(model.state_dict(), model_path) \n"
   ]
  },
  {
   "cell_type": "code",
   "execution_count": null,
   "id": "6e20070a-81b3-4e09-a47d-7b553093587b",
   "metadata": {},
   "outputs": [],
   "source": []
  }
 ],
 "metadata": {
  "kernelspec": {
   "display_name": "Python 3 (ipykernel)",
   "language": "python",
   "name": "python3"
  },
  "language_info": {
   "codemirror_mode": {
    "name": "ipython",
    "version": 3
   },
   "file_extension": ".py",
   "mimetype": "text/x-python",
   "name": "python",
   "nbconvert_exporter": "python",
   "pygments_lexer": "ipython3",
   "version": "3.11.10"
  }
 },
 "nbformat": 4,
 "nbformat_minor": 5
}
