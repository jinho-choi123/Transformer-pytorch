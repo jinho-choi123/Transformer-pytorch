{
 "cells": [
  {
   "cell_type": "code",
   "execution_count": 1,
   "id": "7b3cd074-f605-4727-8f3a-d4955ba4b095",
   "metadata": {},
   "outputs": [
    {
     "name": "stderr",
     "output_type": "stream",
     "text": [
      "/Users/ball/Documents/workspace/transformer-tutorial/.venv/lib/python3.11/site-packages/tqdm/auto.py:21: TqdmWarning: IProgress not found. Please update jupyter and ipywidgets. See https://ipywidgets.readthedocs.io/en/stable/user_install.html\n",
      "  from .autonotebook import tqdm as notebook_tqdm\n"
     ]
    },
    {
     "name": "stdout",
     "output_type": "stream",
     "text": [
      "@@Configuration START@@\n",
      "batch_size: 64\n",
      "d_model: 400\n",
      "n_head: 8\n",
      "max_len: 128\n",
      "ffn_hidden: 1200\n",
      "n_layers: 4\n",
      "drop_prob: 0.1\n",
      "epochs: 50\n",
      "init_lr: 0.0\n",
      "weight_decay: 0.0005\n",
      "clip: 1\n",
      "Using MPS as device\n"
     ]
    },
    {
     "name": "stderr",
     "output_type": "stream",
     "text": [
      "/Users/ball/Documents/workspace/transformer-tutorial/.venv/lib/python3.11/site-packages/transformers/models/marian/tokenization_marian.py:175: UserWarning: Recommended: pip install sacremoses.\n",
      "  warnings.warn(\"Recommended: pip install sacremoses.\")\n"
     ]
    },
    {
     "name": "stdout",
     "output_type": "stream",
     "text": [
      "Using kr_tokenizer: Helsinki-NLP/opus-mt-ko-en\n",
      "kr_tokenizer_voc_size(enc_voc_size): 65001\n",
      "Using en_tokenizer: Helsinki-NLP/opus-mt-ko-en\n",
      "en_tokenizer_voc_size(dec_voc_size): 65001\n",
      "src_pad_token: 65000\n",
      "src_eos_token: 0\n",
      "trg_pad_token: 65000\n",
      "trg_sos_token: None\n",
      "trg_eos_token: 0\n",
      "project_dir: /Users/ball/Documents/workspace/transformer-tutorial\n",
      "rawdata_dir: /Users/ball/Documents/workspace/transformer-tutorial/data\n",
      "data_dir: /Users/ball/Documents/workspace/transformer-tutorial/preprocessed\n",
      "@@Configuration END@@\n"
     ]
    }
   ],
   "source": [
    "%run ../config/config.ipynb"
   ]
  },
  {
   "cell_type": "code",
   "execution_count": 2,
   "id": "fab0035b-83a2-44f1-bb0a-100fc36d0be9",
   "metadata": {},
   "outputs": [],
   "source": [
    "from torch.utils.data import Dataset, DataLoader\n",
    "import pandas as pd \n",
    "import torch"
   ]
  },
  {
   "cell_type": "code",
   "execution_count": 3,
   "id": "e89ae1db-24b1-4c22-a532-a6bf8aa0d310",
   "metadata": {},
   "outputs": [],
   "source": [
    "train_data_path = data_dir / \"train.parquet\"\n",
    "test_data_path = data_dir / \"test.parquet\"\n",
    "# validation_data_path = data_dir / \"validation.parquet\"\n",
    "\n",
    "df_train = pd.read_parquet(path=train_data_path)\n",
    "df_test = pd.read_parquet(path=test_data_path)\n",
    "# df_validation = pd.read_parquet(path=validation_data_path)\n",
    "\n",
    "class en2kr_Train_Dataset(Dataset): \n",
    "    def __init__(self, max_len): \n",
    "        self.data = df_train\n",
    "        \n",
    "    def __len__(self): \n",
    "        return len(self.data) \n",
    "\n",
    "    def __getitem__(self, idx): \n",
    "        row = self.data.iloc[[idx]]\n",
    "        en_sentence = row[\"english\"].item()\n",
    "        kr_sentence = row[\"korean\"].item()\n",
    "        \n",
    "        return kr_sentence, en_sentence\n",
    "        \n",
    "class en2kr_Test_Dataset(Dataset): \n",
    "    def __init__(self, max_len): \n",
    "        self.data = df_test\n",
    "        \n",
    "    def __len__(self): \n",
    "        return len(self.data) \n",
    "\n",
    "    def __getitem__(self, idx): \n",
    "        row = self.data.iloc[[idx]]\n",
    "        en_sentence = row[\"english\"].item()\n",
    "        kr_sentence = row[\"korean\"].item()\n",
    "        \n",
    "        return kr_sentence, en_sentence\n",
    "\n",
    "# class en2kr_Validation_Dataset(Dataset): \n",
    "#     def __init__(self, max_len): \n",
    "#         self.data = df_validation\n",
    "        \n",
    "#     def __len__(self): \n",
    "#         return len(self.data) \n",
    "\n",
    "#     def __getitem__(self, idx): \n",
    "#         row = self.data.iloc[[idx]]\n",
    "#         en_sentence = row[\"english\"].item()\n",
    "#         kr_sentence = row[\"korean\"].item()\n",
    "        \n",
    "#         return kr_sentence, en_sentence"
   ]
  },
  {
   "cell_type": "code",
   "execution_count": 4,
   "id": "f144d57d-2cbc-4528-bd8a-3daf4cec4717",
   "metadata": {},
   "outputs": [
    {
     "data": {
      "text/html": [
       "<div>\n",
       "<style scoped>\n",
       "    .dataframe tbody tr th:only-of-type {\n",
       "        vertical-align: middle;\n",
       "    }\n",
       "\n",
       "    .dataframe tbody tr th {\n",
       "        vertical-align: top;\n",
       "    }\n",
       "\n",
       "    .dataframe thead th {\n",
       "        text-align: right;\n",
       "    }\n",
       "</style>\n",
       "<table border=\"1\" class=\"dataframe\">\n",
       "  <thead>\n",
       "    <tr style=\"text-align: right;\">\n",
       "      <th></th>\n",
       "      <th>korean</th>\n",
       "      <th>english</th>\n",
       "    </tr>\n",
       "  </thead>\n",
       "  <tbody>\n",
       "    <tr>\n",
       "      <th>1239860</th>\n",
       "      <td>롯데면세점은 LDF페이 오픈기념으로 다채로운 증정혜택을 준비 중이다.</td>\n",
       "      <td>LOTTE Duty Free Shop is preparing a variety of...</td>\n",
       "    </tr>\n",
       "    <tr>\n",
       "      <th>865809</th>\n",
       "      <td>너는 그저 위를 보고 스스로를 자랑스러워해.</td>\n",
       "      <td>Just look up and be proud of yourself.</td>\n",
       "    </tr>\n",
       "    <tr>\n",
       "      <th>112285</th>\n",
       "      <td>왜 공개하지 못하겠다는 것인지 이세영 기자가 취재했습니다.</td>\n",
       "      <td>Reporter Lee Se-yeong covered why it insisted ...</td>\n",
       "    </tr>\n",
       "  </tbody>\n",
       "</table>\n",
       "</div>"
      ],
      "text/plain": [
       "                                         korean  \\\n",
       "1239860  롯데면세점은 LDF페이 오픈기념으로 다채로운 증정혜택을 준비 중이다.   \n",
       "865809                 너는 그저 위를 보고 스스로를 자랑스러워해.   \n",
       "112285         왜 공개하지 못하겠다는 것인지 이세영 기자가 취재했습니다.   \n",
       "\n",
       "                                                   english  \n",
       "1239860  LOTTE Duty Free Shop is preparing a variety of...  \n",
       "865809              Just look up and be proud of yourself.  \n",
       "112285   Reporter Lee Se-yeong covered why it insisted ...  "
      ]
     },
     "execution_count": 4,
     "metadata": {},
     "output_type": "execute_result"
    }
   ],
   "source": [
    "df_train[0:3]"
   ]
  },
  {
   "cell_type": "code",
   "execution_count": 5,
   "id": "4cb48b7b-bee2-4824-8984-45cd706d83cd",
   "metadata": {},
   "outputs": [],
   "source": [
    "train_dataset = en2kr_Train_Dataset(max_len=max_len)\n",
    "test_dataset = en2kr_Test_Dataset(max_len=max_len)\n",
    "\n",
    "train_dataloader = DataLoader(train_dataset,pin_memory=True, drop_last=True, batch_size=batch_size, shuffle=True, generator=torch.Generator(device=device))\n",
    "test_dataloader = DataLoader(test_dataset,pin_memory=True, drop_last=True, batch_size=batch_size, generator=torch.Generator(device=device))"
   ]
  }
 ],
 "metadata": {
  "kernelspec": {
   "display_name": "Python 3 (ipykernel)",
   "language": "python",
   "name": "python3"
  },
  "language_info": {
   "codemirror_mode": {
    "name": "ipython",
    "version": 3
   },
   "file_extension": ".py",
   "mimetype": "text/x-python",
   "name": "python",
   "nbconvert_exporter": "python",
   "pygments_lexer": "ipython3",
   "version": "3.11.10"
  }
 },
 "nbformat": 4,
 "nbformat_minor": 5
}
