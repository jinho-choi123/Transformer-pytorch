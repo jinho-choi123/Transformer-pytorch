{
  "cells": [
    {
      "cell_type": "code",
      "execution_count": 1,
      "id": "ef6876c6-7dc6-4e5c-87fb-2063e016b094",
      "metadata": {
        "id": "ef6876c6-7dc6-4e5c-87fb-2063e016b094"
      },
      "outputs": [],
      "source": [
        "from pathlib import Path\n",
        "import os\n",
        "import torch\n",
        "from transformers import MarianMTModel, MarianTokenizer\n",
        "import logging\n",
        "from datetime import datetime"
      ]
    },
    {
      "cell_type": "code",
      "execution_count": 2,
      "id": "d9eeb360-16b2-4a3a-8892-2eb9d68e4a8c",
      "metadata": {
        "colab": {
          "base_uri": "https://localhost:8080/"
        },
        "id": "d9eeb360-16b2-4a3a-8892-2eb9d68e4a8c",
        "outputId": "7f3b4e15-747b-47e9-9ac0-6eb43d44cc9a"
      },
      "outputs": [
        {
          "output_type": "stream",
          "name": "stdout",
          "text": [
            "Mounted at /content/gdrive\n"
          ]
        }
      ],
      "source": [
        "# connect to google colab\n",
        "from google.colab import drive\n",
        "drive.mount(\"/content/gdrive\")\n"
      ]
    },
    {
      "cell_type": "code",
      "execution_count": 3,
      "id": "10ac922e-ff7b-4168-96a8-557d3793e79a",
      "metadata": {
        "colab": {
          "base_uri": "https://localhost:8080/"
        },
        "id": "10ac922e-ff7b-4168-96a8-557d3793e79a",
        "outputId": "90f37434-5a7e-45ab-d43c-333382597064"
      },
      "outputs": [
        {
          "output_type": "stream",
          "name": "stdout",
          "text": [
            "@@Configuration START@@\n"
          ]
        }
      ],
      "source": [
        "print(f'@@Configuration START@@')"
      ]
    },
    {
      "cell_type": "code",
      "execution_count": 4,
      "id": "0051fe2c-9f2f-4617-8e35-08206d015eb9",
      "metadata": {
        "colab": {
          "base_uri": "https://localhost:8080/"
        },
        "editable": true,
        "id": "0051fe2c-9f2f-4617-8e35-08206d015eb9",
        "outputId": "1a2058a3-9bf5-4c88-bbb6-f660646c8a98",
        "tags": []
      },
      "outputs": [
        {
          "output_type": "stream",
          "name": "stdout",
          "text": [
            "batch_size: 128\n",
            "d_model: 256\n",
            "n_head: 8\n",
            "max_len: 80\n",
            "ffn_hidden: 512\n",
            "n_layers: 4\n",
            "drop_prob: 0.1\n",
            "epochs: 30\n",
            "init_lr: 0.0\n",
            "weight_decay: 0.0005\n",
            "clip: 1\n"
          ]
        }
      ],
      "source": [
        "# Define configuration\n",
        "batch_size = 128\n",
        "d_model = 256\n",
        "n_head = 8\n",
        "max_len = 80\n",
        "ffn_hidden = 512\n",
        "n_layers=4\n",
        "drop_prob=0.1\n",
        "epochs=30\n",
        "init_lr = 0.00 # having warmup step\n",
        "eps = 5e-9\n",
        "weight_decay = 5e-4\n",
        "warmup_steps=1500\n",
        "clip = 1\n",
        "\n",
        "print(f'batch_size: {batch_size}')\n",
        "print(f'd_model: {d_model}')\n",
        "print(f'n_head: {n_head}')\n",
        "print(f'max_len: {max_len}')\n",
        "print(f'ffn_hidden: {ffn_hidden}')\n",
        "print(f'n_layers: {n_layers}')\n",
        "print(f'drop_prob: {drop_prob}')\n",
        "print(f'epochs: {epochs}')\n",
        "print(f'init_lr: {init_lr}')\n",
        "print(f'weight_decay: {weight_decay}')\n",
        "print(f'clip: {clip}')"
      ]
    },
    {
      "cell_type": "code",
      "execution_count": 5,
      "id": "bbce37c2-0fc8-4d80-8c2d-bc5c6caf560a",
      "metadata": {
        "colab": {
          "base_uri": "https://localhost:8080/"
        },
        "id": "bbce37c2-0fc8-4d80-8c2d-bc5c6caf560a",
        "outputId": "cccd836c-0643-4218-d6a1-f037215e59ea"
      },
      "outputs": [
        {
          "output_type": "stream",
          "name": "stdout",
          "text": [
            "Using CUDA as device\n"
          ]
        }
      ],
      "source": [
        "# Configure Device\n",
        "if torch.cuda.is_available():\n",
        "    device = torch.device(\"cuda\")\n",
        "    print(\"Using CUDA as device\")\n",
        "else:\n",
        "    # Check that MPS is available\n",
        "    if not torch.backends.mps.is_available():\n",
        "        if not torch.backends.mps.is_built():\n",
        "            print(\"MPS not available because the current PyTorch install was not \"\n",
        "                  \"built with MPS enabled.\")\n",
        "        else:\n",
        "            print(\"MPS not available because the current MacOS version is not 12.3+ \"\n",
        "                  \"and/or you do not have an MPS-enabled device on this machine.\")\n",
        "        device = torch.device(\"cpu\")\n",
        "        print(\"Using CPU as device\")\n",
        "    else:\n",
        "        device = torch.device(\"mps\")\n",
        "        print(\"Using MPS as device\")\n",
        "\n",
        "torch.set_default_device(device)"
      ]
    },
    {
      "cell_type": "code",
      "execution_count": 6,
      "id": "b559a9a2-6d1c-4fd7-ac94-5404c4ebb0be",
      "metadata": {
        "colab": {
          "base_uri": "https://localhost:8080/",
          "height": 492,
          "referenced_widgets": [
            "3368cd26e20749e1989c9fd84606b9f3",
            "75aacf7a9e7e4aad93559608b224931a",
            "9185212e3bab40b19e82e317950f85aa",
            "55980db067ea42f0b8963edf0b7389d0",
            "0cf394813252426281e0f3b65c57c161",
            "cc6826890ad740f8a60f8f6258b681a9",
            "e9875af24515414395d9b9ded49a8864",
            "fa8297da36e64c1aa962c23f6a8a8957",
            "b28e62a59fc544aabe01aa338bd232ff",
            "739d00504d894d78b2ca6cc227b42116",
            "3cbf79eae3da425286353e1f9c2cdec1",
            "94804110da96423baa3683e1e5b9cd2a",
            "4e378689fd8b479b8292b1a5683a7126",
            "eef802c5cb22421aa0225b85ab07be24",
            "22eaede150ad46d8818e5619f34e6274",
            "d46e2baa340e40f0b59e43f9b1f30c63",
            "0c9f6ae0a5a5483087e20f79d91184e2",
            "8d941175f49244018d7d37c0d53fddfe",
            "cf327f839b244d18badf11794002bd27",
            "d42dd181b5c0481aae32bd833aead862",
            "0673b31dfd134173a611f7c29fdf85c3",
            "6a17575a08d8470fa39538d798ab5b28",
            "35eae2ef56444f7db381d03248aecec0",
            "8b79151cc70245efaf1eccfe5b28831b",
            "86966b78bbf646dc822effd3c5e5ed8a",
            "999b9bef9356465688662897c0517e28",
            "9d218d57696848378167407a96ae66b0",
            "b62e901fbf3e4e46bbc43c94bfd35f04",
            "5d210fa134ec42ec950783cf25dffb42",
            "751566e2ae4d490886c084626913d4af",
            "e2e95de02b3249398666ef33ee6f1b14",
            "610667b13b5840a6878a4b32cc2f69ba",
            "94eb0aa3b73244da81fe2693b5ec72e9",
            "537206eb09fa4c4e91a735742c2acb3c",
            "b195cadb1b0d4397a2c662e20523d396",
            "6a67dbeb7db94aeea8e908d4b9989d48",
            "47a96daaaae24242b411e8dd7e3d5f79",
            "8df805dacd3645579f8137a8812cd726",
            "a4662095b4e44dbdbea1a69b8b4b1e33",
            "b4e4318fe2754d709f81c783bf6f6e55",
            "3b44ad4ea161432cb954a27be7de5d82",
            "83a3c041b9a94dd990cff80e15fce791",
            "8733ce4228984690bd5fe6c84c4dd304",
            "449e7a86508e4e2493a6b307d82fa562",
            "2bb9719993b7424baf7f3c605f1ff1c3",
            "8986eb06cf6240a4a28c5f884adbd659",
            "ae9796f9b4d94817875d3823caa50fa9",
            "76d33754f1564310b05affb458617a41",
            "5049f1d453964073b2d89cd477f4c393",
            "f11da643302f4695bc8543ac75279b9a",
            "ad2a98bf3795469ab018e65f3b7a05c8",
            "7e26dfc86fd044b790a0b546ac9b9dd8",
            "9d037d037513430183b32c43ba7a295a",
            "a508a805f32940eca97e43a45012cd65",
            "a1c8b59a3a0c493890740c1ae1133448"
          ]
        },
        "id": "b559a9a2-6d1c-4fd7-ac94-5404c4ebb0be",
        "outputId": "f211bdc1-1976-4495-d20a-3a1655f6f402"
      },
      "outputs": [
        {
          "output_type": "stream",
          "name": "stderr",
          "text": [
            "/usr/local/lib/python3.10/dist-packages/huggingface_hub/utils/_auth.py:94: UserWarning: \n",
            "The secret `HF_TOKEN` does not exist in your Colab secrets.\n",
            "To authenticate with the Hugging Face Hub, create a token in your settings tab (https://huggingface.co/settings/tokens), set it as secret in your Google Colab and restart your session.\n",
            "You will be able to reuse this secret in all of your notebooks.\n",
            "Please note that authentication is recommended but still optional to access public models or datasets.\n",
            "  warnings.warn(\n"
          ]
        },
        {
          "output_type": "display_data",
          "data": {
            "text/plain": [
              "tokenizer_config.json:   0%|          | 0.00/44.0 [00:00<?, ?B/s]"
            ],
            "application/vnd.jupyter.widget-view+json": {
              "version_major": 2,
              "version_minor": 0,
              "model_id": "3368cd26e20749e1989c9fd84606b9f3"
            }
          },
          "metadata": {}
        },
        {
          "output_type": "display_data",
          "data": {
            "text/plain": [
              "source.spm:   0%|          | 0.00/842k [00:00<?, ?B/s]"
            ],
            "application/vnd.jupyter.widget-view+json": {
              "version_major": 2,
              "version_minor": 0,
              "model_id": "94804110da96423baa3683e1e5b9cd2a"
            }
          },
          "metadata": {}
        },
        {
          "output_type": "display_data",
          "data": {
            "text/plain": [
              "target.spm:   0%|          | 0.00/813k [00:00<?, ?B/s]"
            ],
            "application/vnd.jupyter.widget-view+json": {
              "version_major": 2,
              "version_minor": 0,
              "model_id": "35eae2ef56444f7db381d03248aecec0"
            }
          },
          "metadata": {}
        },
        {
          "output_type": "display_data",
          "data": {
            "text/plain": [
              "vocab.json:   0%|          | 0.00/1.72M [00:00<?, ?B/s]"
            ],
            "application/vnd.jupyter.widget-view+json": {
              "version_major": 2,
              "version_minor": 0,
              "model_id": "537206eb09fa4c4e91a735742c2acb3c"
            }
          },
          "metadata": {}
        },
        {
          "output_type": "display_data",
          "data": {
            "text/plain": [
              "config.json:   0%|          | 0.00/1.39k [00:00<?, ?B/s]"
            ],
            "application/vnd.jupyter.widget-view+json": {
              "version_major": 2,
              "version_minor": 0,
              "model_id": "2bb9719993b7424baf7f3c605f1ff1c3"
            }
          },
          "metadata": {}
        },
        {
          "output_type": "stream",
          "name": "stderr",
          "text": [
            "/usr/local/lib/python3.10/dist-packages/transformers/models/marian/tokenization_marian.py:175: UserWarning: Recommended: pip install sacremoses.\n",
            "  warnings.warn(\"Recommended: pip install sacremoses.\")\n"
          ]
        },
        {
          "output_type": "stream",
          "name": "stdout",
          "text": [
            "Using kr_tokenizer: Helsinki-NLP/opus-mt-ko-en\n",
            "kr_tokenizer_voc_size(enc_voc_size): 65001\n",
            "Using en_tokenizer: Helsinki-NLP/opus-mt-ko-en\n",
            "en_tokenizer_voc_size(dec_voc_size): 65001\n",
            "src_pad_token: 65000\n",
            "src_eos_token: 0\n",
            "trg_pad_token: 65000\n",
            "trg_sos_token: None\n",
            "trg_eos_token: 0\n"
          ]
        }
      ],
      "source": [
        "# Define tokenizers\n",
        "TOKENIZERS_PARALLELISM = True\n",
        "\n",
        "kr_tokenizer = MarianTokenizer.from_pretrained('Helsinki-NLP/opus-mt-ko-en')\n",
        "en_tokenizer = MarianTokenizer.from_pretrained('Helsinki-NLP/opus-mt-ko-en')\n",
        "\n",
        "enc_voc_size = kr_tokenizer.vocab_size\n",
        "dec_voc_size = en_tokenizer.vocab_size\n",
        "\n",
        "print(f'Using kr_tokenizer: Helsinki-NLP/opus-mt-ko-en')\n",
        "print(f'kr_tokenizer_voc_size(enc_voc_size): {enc_voc_size}')\n",
        "\n",
        "print(f'Using en_tokenizer: Helsinki-NLP/opus-mt-ko-en')\n",
        "print(f'en_tokenizer_voc_size(dec_voc_size): {dec_voc_size}')\n",
        "\n",
        "# Define some variables that are going to be used in future\n",
        "src_pad_token = kr_tokenizer.pad_token_id\n",
        "src_eos_token = kr_tokenizer.eos_token_id\n",
        "\n",
        "trg_pad_token = en_tokenizer.pad_token_id\n",
        "trg_sos_token = en_tokenizer.bos_token_id\n",
        "trg_eos_token = en_tokenizer.eos_token_id\n",
        "\n",
        "print(f'src_pad_token: {src_pad_token}')\n",
        "print(f'src_eos_token: {src_eos_token}')\n",
        "print(f'trg_pad_token: {trg_pad_token}')\n",
        "print(f'trg_sos_token: {trg_sos_token}')\n",
        "print(f'trg_eos_token: {trg_eos_token}')"
      ]
    },
    {
      "cell_type": "code",
      "execution_count": 7,
      "id": "ea0691c4-13f2-4889-a6c1-bcb734016602",
      "metadata": {
        "colab": {
          "base_uri": "https://localhost:8080/"
        },
        "id": "ea0691c4-13f2-4889-a6c1-bcb734016602",
        "outputId": "76cb1372-495c-4cbb-ef02-d5b784a13ce2"
      },
      "outputs": [
        {
          "output_type": "stream",
          "name": "stdout",
          "text": [
            "project_dir: /content/gdrive/MyDrive/Colab Notebooks/en2kr-Translator\n",
            "data_dir: /content/gdrive/MyDrive/Colab Notebooks/en2kr-Translator/data\n",
            "model_dir: /content/gdrive/MyDrive/Colab Notebooks/en2kr-Translator/models\n"
          ]
        }
      ],
      "source": [
        "# Define path configuration for the project\n",
        "project_dir = Path(\"/content/gdrive/MyDrive/Colab Notebooks/en2kr-Translator\")\n",
        "data_dir = project_dir / \"data\"\n",
        "model_dir = project_dir / \"models\"\n",
        "\n",
        "data_dir.mkdir(parents=True, exist_ok=True)\n",
        "model_dir.mkdir(parents=True, exist_ok=True)\n",
        "\n",
        "print(f'project_dir: {project_dir}')\n",
        "print(f'data_dir: {data_dir}')\n",
        "print(f'model_dir: {model_dir}')"
      ]
    },
    {
      "cell_type": "code",
      "execution_count": 8,
      "id": "c250b5cb-983b-4847-8567-3bc3632d2e76",
      "metadata": {
        "id": "c250b5cb-983b-4847-8567-3bc3632d2e76"
      },
      "outputs": [],
      "source": [
        "# Configure Logger\n",
        "timestamp = datetime.now().strftime('%Y%m%d_%H%M%S')\n",
        "\n",
        "logging_dir = project_dir / \"logs\"\n",
        "\n",
        "logging_dir.mkdir(parents=True, exist_ok=True)\n",
        "\n",
        "log_file = logging_dir / f'log_{timestamp}.log'\n",
        "\n",
        "logger = logging.getLogger('transformer_log')\n",
        "logger.setLevel(logging.INFO)\n",
        "\n",
        "file_handler = logging.FileHandler(log_file)\n",
        "file_handler.setLevel(logging.INFO)\n",
        "\n",
        "formatter = logging.Formatter('%(asctime)s - %(name)s - %(levelname)s - %(message)s')\n",
        "file_handler.setFormatter(formatter)\n",
        "\n",
        "logger.addHandler(file_handler)"
      ]
    },
    {
      "cell_type": "code",
      "execution_count": 9,
      "id": "f897540d-030a-4454-8118-8b6ea567c689",
      "metadata": {
        "id": "f897540d-030a-4454-8118-8b6ea567c689"
      },
      "outputs": [],
      "source": [
        "# Define learning rate scheduler.\n",
        "# If you want to modify the logic of Scheduler, please modify this class\n",
        "\n",
        "class LRScheduler:\n",
        "    def __init__(self, optimizer, d_model, warmup_steps, LR_scale=1):\n",
        "        self.optimizer = optimizer\n",
        "        self.step_count = 0\n",
        "        self.d_model = d_model\n",
        "        self.warmup_steps = warmup_steps\n",
        "        self.LR_scale = LR_scale\n",
        "        self._d_model_factor = self.LR_scale * (self.d_model ** -0.5)\n",
        "    def step(self):\n",
        "        self.step_count += 1\n",
        "        lr = self.calculate_learning_rate()\n",
        "        self.optimizer.param_groups[0]['lr'] = lr\n",
        "    def calculate_learning_rate(self):\n",
        "        minimum_factor = min(self.step_count ** -0.5, self.step_count * self.warmup_steps ** -1.5)\n",
        "        return self._d_model_factor * minimum_factor"
      ]
    },
    {
      "cell_type": "code",
      "execution_count": 10,
      "id": "49d4d284-8af6-4759-af29-afb86f7754a6",
      "metadata": {
        "colab": {
          "base_uri": "https://localhost:8080/"
        },
        "id": "49d4d284-8af6-4759-af29-afb86f7754a6",
        "outputId": "fe312540-55ff-453a-edd6-d7157ffd4aa9"
      },
      "outputs": [
        {
          "output_type": "stream",
          "name": "stdout",
          "text": [
            "@@Configuration END@@\n"
          ]
        }
      ],
      "source": [
        "print(f'@@Configuration END@@')"
      ]
    },
    {
      "cell_type": "code",
      "execution_count": 11,
      "id": "fab0035b-83a2-44f1-bb0a-100fc36d0be9",
      "metadata": {
        "id": "fab0035b-83a2-44f1-bb0a-100fc36d0be9"
      },
      "outputs": [],
      "source": [
        "from torch.utils.data import Dataset, DataLoader\n",
        "import pandas as pd\n",
        "import torch"
      ]
    },
    {
      "cell_type": "code",
      "execution_count": 12,
      "id": "e89ae1db-24b1-4c22-a532-a6bf8aa0d310",
      "metadata": {
        "id": "e89ae1db-24b1-4c22-a532-a6bf8aa0d310"
      },
      "outputs": [],
      "source": [
        "train_data_path = data_dir / \"train.parquet\"\n",
        "test_data_path = data_dir / \"test.parquet\"\n",
        "\n",
        "df_train = pd.read_parquet(path=train_data_path)\n",
        "df_test = pd.read_parquet(path=test_data_path)\n",
        "\n",
        "class en2kr_Train_Dataset(Dataset):\n",
        "    def __init__(self, max_len):\n",
        "        self.data = df_train\n",
        "\n",
        "    def __len__(self):\n",
        "        return len(self.data)\n",
        "\n",
        "    def __getitem__(self, idx):\n",
        "        row = self.data.iloc[[idx]]\n",
        "        en_sentence = row[\"english\"].item()\n",
        "        kr_sentence = row[\"korean\"].item()\n",
        "\n",
        "        return kr_sentence, en_sentence\n",
        "\n",
        "class en2kr_Test_Dataset(Dataset):\n",
        "    def __init__(self, max_len):\n",
        "        self.data = df_test\n",
        "\n",
        "    def __len__(self):\n",
        "        return len(self.data)\n",
        "\n",
        "    def __getitem__(self, idx):\n",
        "        row = self.data.iloc[[idx]]\n",
        "        en_sentence = row[\"english\"].item()\n",
        "        kr_sentence = row[\"korean\"].item()\n",
        "\n",
        "        return kr_sentence, en_sentence\n",
        "\n"
      ]
    },
    {
      "cell_type": "code",
      "execution_count": 13,
      "id": "4cb48b7b-bee2-4824-8984-45cd706d83cd",
      "metadata": {
        "id": "4cb48b7b-bee2-4824-8984-45cd706d83cd"
      },
      "outputs": [],
      "source": [
        "train_dataset = en2kr_Train_Dataset(max_len=max_len)\n",
        "test_dataset = en2kr_Test_Dataset(max_len=max_len)\n",
        "\n",
        "train_dataloader = DataLoader(train_dataset,pin_memory=True, drop_last=True, batch_size=batch_size, shuffle=True, generator=torch.Generator(device=device))\n",
        "test_dataloader = DataLoader(test_dataset,pin_memory=True, drop_last=True, batch_size=batch_size, generator=torch.Generator(device=device))"
      ]
    },
    {
      "cell_type": "markdown",
      "id": "4c95f00f-c1f3-422b-a701-56b8c8329eac",
      "metadata": {
        "id": "4c95f00f-c1f3-422b-a701-56b8c8329eac"
      },
      "source": [
        "# Transformer Model Implementation\n"
      ]
    },
    {
      "cell_type": "code",
      "execution_count": 14,
      "id": "05dfc35a-d661-4bc4-a549-d1476c22fc61",
      "metadata": {
        "id": "05dfc35a-d661-4bc4-a549-d1476c22fc61"
      },
      "outputs": [],
      "source": [
        "# import required packages\n",
        "import torch\n",
        "import torch.nn as nn\n",
        "import math"
      ]
    },
    {
      "cell_type": "code",
      "execution_count": 15,
      "id": "69b9255b-2fc1-4eb9-9b97-ab9a2723ae67",
      "metadata": {
        "id": "69b9255b-2fc1-4eb9-9b97-ab9a2723ae67"
      },
      "outputs": [],
      "source": [
        "# Define a Token Embedding\n",
        "class TokenEmbeddings(nn.Embedding):\n",
        "    \"\"\"\n",
        "    Converting token into embedding vector\n",
        "    \"\"\"\n",
        "    def __init__(self, vocab_size, d_model):\n",
        "        \"\"\"\n",
        "        class for token embedding without positional encoding\n",
        "        This layer transforms an seq_len token_ids -> (seq_len, d_model)\n",
        "        Assigning (vector of size d_model) to each tokens\n",
        "\n",
        "        :param vocab_size: number of vocabs that TokenEmbeddings can handle\n",
        "        :param d_model: dimension of embedding vector\n",
        "        \"\"\"\n",
        "        super(TokenEmbeddings, self).__init__(vocab_size, d_model, padding_idx=65000)\n",
        "\n",
        "# Define Positional Encoding\n",
        "class PositionalEncoding(nn.Module):\n",
        "    \"\"\"\n",
        "    compute reusable sinusoid positional encoding\n",
        "    \"\"\"\n",
        "    def __init__(self, d_model, max_len, device):\n",
        "        \"\"\"\n",
        "        construct sinusoid positional encoding that is going to be reused everytime when it is needed\n",
        "\n",
        "        :param d_model: dimension of embedding vector\n",
        "        :param max_len: maximum sequence length of token(a.k.a window size of attention method)\n",
        "        \"\"\"\n",
        "        super(PositionalEncoding, self).__init__()\n",
        "\n",
        "        # define a max_len * d_model size encoding matrix\n",
        "        self.encoding = torch.zeros(max_len, d_model, device=device)\n",
        "\n",
        "        # since positional encoding is not learnable, we turn off the gradient engine\n",
        "        self.encoding.requires_grad = False\n",
        "\n",
        "        # define a position at the sequence\n",
        "        pos = torch.arange(0, max_len, device=device)\n",
        "        # expand the max_len vector to max_len * 1 matrix\n",
        "        pos = pos.float().unsqueeze(dim=1)\n",
        "\n",
        "        _2i = torch.arange(0, d_model, step=2, device=device).float()\n",
        "\n",
        "        # define a sinusoid positional encoding\n",
        "        self.encoding[:, 0::2] = torch.sin(pos / (10000 ** (_2i / d_model)))\n",
        "        self.encoding[:, 1::2] = torch.cos(pos / (10000 ** (_2i / d_model)))\n",
        "\n",
        "    def forward(self, x):\n",
        "        batch_size, seq_len = x.shape\n",
        "\n",
        "        return self.encoding[:seq_len, :]\n",
        "\n",
        "# Define Transformer Embedding\n",
        "class TransformerEmbedding(nn.Module):\n",
        "    \"\"\"\n",
        "    token embedding + positional encoding\n",
        "    \"\"\"\n",
        "    def __init__(self, vocab_size, d_model, max_len, drop_prob, device):\n",
        "        \"\"\"\n",
        "        initialize the embedding class for word+position embedding\n",
        "\n",
        "        :param vocab_size: number of vocabs that TokenEmbeddings can handle\n",
        "        :param d_model: dimension of embedding vector\n",
        "        :param max_len: maximum sequence length of token(a.k.a window size of attention method)\n",
        "        :param drop_prob: dropout probability to reduce overfitting\n",
        "        \"\"\"\n",
        "        super(TransformerEmbedding, self).__init__()\n",
        "        self.token_emb = TokenEmbeddings(vocab_size, d_model)\n",
        "        self.position_emb = PositionalEncoding(d_model, max_len, device)\n",
        "        self.dropout = nn.Dropout(p=drop_prob)\n",
        "        self.scale = torch.sqrt(torch.tensor(d_model, dtype=torch.float32))\n",
        "\n",
        "    def forward(self, x):\n",
        "        tok_emb = self.scale * self.token_emb(x)\n",
        "        pos_emb = self.position_emb(x)\n",
        "\n",
        "        return self.dropout(tok_emb+pos_emb)\n"
      ]
    },
    {
      "cell_type": "code",
      "execution_count": 16,
      "id": "082e2d7c-b5d7-463e-a65e-dbcea5e75acc",
      "metadata": {
        "id": "082e2d7c-b5d7-463e-a65e-dbcea5e75acc"
      },
      "outputs": [],
      "source": [
        "# Define Attention Block\n",
        "class AttentionBlock(nn.Module):\n",
        "    \"\"\"\n",
        "    compute scale dot product attention for Query, Key, Value\n",
        "    \"\"\"\n",
        "    def __init__(self):\n",
        "        super(AttentionBlock, self).__init__()\n",
        "        self.softmax = nn.Softmax(dim=-1)\n",
        "\n",
        "    def forward(self, q, k, v, mask=None, eps=1e-12):\n",
        "        batch_size, head, length, d_tensor = k.shape\n",
        "\n",
        "        # calculate the k_T\n",
        "        k_T = k.transpose(2, 3)\n",
        "\n",
        "        # calculate the attention weight\n",
        "        att_weight = (q @ k_T) / math.sqrt(d_tensor)\n",
        "\n",
        "        # if there are any masks that needs to be applied\n",
        "        if mask is not None:\n",
        "            att_weight = att_weight.masked_fill(mask == 0, -1e10)\n",
        "\n",
        "        # calculate the softmax\n",
        "        # att_weight shape: batch_size, head, seq_len_query, seq_len_key\n",
        "        att_weight = self.softmax(att_weight)\n",
        "\n",
        "        # att_weight @ v shape: batch_size, head, seq_len_query, d_tensor\n",
        "        return att_weight @ v, att_weight\n",
        "\n",
        "# Define MultiHeadAttention Block\n",
        "class MultiHeadAttentionBlock(nn.Module):\n",
        "    \"\"\"\n",
        "    define multi head attention block using AttentionBlock module\n",
        "    \"\"\"\n",
        "    def __init__(self, d_model, n_head):\n",
        "        \"\"\"\n",
        "        Multi-head self-attention utilize the parallelism of GPU\n",
        "\n",
        "        :param d_model: dimension of embedding vector\n",
        "        :param n_head: number of heads\n",
        "        \"\"\"\n",
        "        super(MultiHeadAttentionBlock, self).__init__()\n",
        "        self.n_head = n_head\n",
        "        self.attention = AttentionBlock()\n",
        "        self.Wq = nn.Linear(d_model, d_model)\n",
        "        self.Wk = nn.Linear(d_model, d_model)\n",
        "\n",
        "        # in the paper, d_v = d_k = d_q\n",
        "        self.Wv = nn.Linear(d_model, d_model)\n",
        "\n",
        "        self.Wconcat = nn.Linear(d_model, d_model)\n",
        "\n",
        "    def split(self, tensor):\n",
        "        \"\"\"\n",
        "        split the tensor by number of head\n",
        "\n",
        "        :param tensor: tensor of shape batch_size  * seq_len * d_model\n",
        "        :return: return tensor of shape batch_size * n_head * seq_len * d_tensor\n",
        "        \"\"\"\n",
        "        batch_size, seq_len, d_model = tensor.shape\n",
        "\n",
        "        d_tensor = d_model // self.n_head\n",
        "\n",
        "        tensor = tensor.view(batch_size, seq_len, self.n_head, d_tensor).transpose(1, 2)\n",
        "\n",
        "        return tensor\n",
        "\n",
        "    def concat(self, tensor):\n",
        "        \"\"\"\n",
        "        concat tensor. Inverse operation of split\n",
        "\n",
        "        :param tensor: tensor of shape batch_size * n_head * seq_len * d_tensor\n",
        "        :return: return tensor of shape batch_size * seq_len * d_model\n",
        "        \"\"\"\n",
        "        batch_size, n_head, seq_len, d_tensor = tensor.shape\n",
        "\n",
        "        d_model = n_head * d_tensor\n",
        "        tensor = tensor.transpose(1, 2).contiguous().view(batch_size, seq_len, d_model)\n",
        "        return tensor\n",
        "\n",
        "\n",
        "    def forward(self, q, k, v, mask=None):\n",
        "        # apply linear transformation to derive q, k, v\n",
        "        q, k, v = self.Wq(q), self.Wk(k), self.Wv(v)\n",
        "\n",
        "        # split the tensor by number of heads\n",
        "        q, k, v = self.split(q), self.split(k), self.split(v)\n",
        "\n",
        "        # apply attention to q, k, v\n",
        "        out, attn_weights = self.attention(q, k, v, mask=mask)\n",
        "\n",
        "        # current attn_weights shape is batch_size * n_head * q_len * k_len\n",
        "        # mean it by dim 1\n",
        "        # eventually changing shape into batch_size * q_len * k_len\n",
        "        attn_weight = attn_weights.mean(dim=1)\n",
        "\n",
        "        # concat\n",
        "        out = self.concat(out)\n",
        "\n",
        "        # apply concat weight\n",
        "        out = self.Wconcat(out)\n",
        "        return out, attn_weight\n"
      ]
    },
    {
      "cell_type": "code",
      "execution_count": 17,
      "id": "4cc7b94a-5680-4860-87df-a2665d85fe65",
      "metadata": {
        "id": "4cc7b94a-5680-4860-87df-a2665d85fe65"
      },
      "outputs": [],
      "source": [
        "# define FeedForward Network\n",
        "class FeedForwardBlock(nn.Module):\n",
        "    def __init__(self, d_model, hidden, drop_prob=0.1):\n",
        "        super(FeedForwardBlock, self).__init__()\n",
        "        self.linear1 = nn.Linear(d_model, hidden)\n",
        "        self.linear2 = nn.Linear(hidden, d_model)\n",
        "        self.relu = nn.ReLU()\n",
        "        self.dropout = nn.Dropout(p=drop_prob)\n",
        "\n",
        "    def forward(self, x):\n",
        "        x = self.linear1(x)\n",
        "        x = self.relu(x)\n",
        "        x = self.dropout(x)\n",
        "        x = self.linear2(x)\n",
        "        return x"
      ]
    },
    {
      "cell_type": "code",
      "execution_count": 18,
      "id": "3e1718d3-90ee-4c13-8363-76fd56515a64",
      "metadata": {
        "id": "3e1718d3-90ee-4c13-8363-76fd56515a64"
      },
      "outputs": [],
      "source": [
        "# Define Encoder Layer\n",
        "class EncoderLayer(nn.Module):\n",
        "    def __init__(self, d_model, ffn_hidden, n_head, drop_prob):\n",
        "        super(EncoderLayer, self).__init__()\n",
        "        self.attention = MultiHeadAttentionBlock(d_model, n_head)\n",
        "        self.norm = nn.LayerNorm(d_model)\n",
        "        self.dropout1 = nn.Dropout(drop_prob)\n",
        "\n",
        "        self.ffn = FeedForwardBlock(d_model, ffn_hidden, drop_prob)\n",
        "        self.dropout2 = nn.Dropout(drop_prob)\n",
        "\n",
        "    def forward(self, x, src_mask):\n",
        "        residual = x\n",
        "        x = self.norm(x)\n",
        "        x, attn_weight = self.attention(q=x, k=x, v=x, mask=src_mask)\n",
        "\n",
        "        x = self.dropout1(x)\n",
        "        x = self.norm(x + residual)\n",
        "\n",
        "        residual = x\n",
        "        x = self.ffn(x)\n",
        "\n",
        "        x =  self.dropout2(x)\n",
        "        x = x + residual\n",
        "\n",
        "        return x, attn_weight\n",
        "\n",
        "# Define Decoder Layer\n",
        "class DecoderLayer(nn.Module):\n",
        "    def __init__(self, d_model, ffn_hidden, n_head, drop_prob):\n",
        "        super(DecoderLayer, self).__init__()\n",
        "        self.self_attention = MultiHeadAttentionBlock(d_model, n_head)\n",
        "        self.norm1 = nn.LayerNorm(d_model)\n",
        "        self.dropout1 = nn.Dropout(p=drop_prob)\n",
        "\n",
        "        self.enc_dec_attention = MultiHeadAttentionBlock(d_model, n_head)\n",
        "        self.norm2 = nn.LayerNorm(d_model)\n",
        "        self.dropout2 = nn.Dropout(p=drop_prob)\n",
        "\n",
        "        self.ffn = FeedForwardBlock(d_model=d_model, hidden=ffn_hidden, drop_prob=drop_prob)\n",
        "        self.norm3 = nn.LayerNorm(d_model)\n",
        "        self.dropout3 = nn.Dropout(p=drop_prob)\n",
        "\n",
        "    def forward(self, dec, enc, trg_mask, src_mask):\n",
        "        residual = dec\n",
        "        dec = self.norm1(dec)\n",
        "\n",
        "        x, attn_weight1 = self.self_attention(q=dec, k=dec, v=dec, mask=trg_mask)\n",
        "\n",
        "        x = self.dropout1(x)\n",
        "        x = self.norm2(x + residual)\n",
        "\n",
        "        residual = x\n",
        "        x, attn_weight2 = self.enc_dec_attention(q=x, k=enc, v=enc, mask=src_mask)\n",
        "        x = self.dropout2(x)\n",
        "        x = self.norm3(x + residual)\n",
        "\n",
        "        residual = x\n",
        "        x = self.ffn(x)\n",
        "        x = self.dropout3(x)\n",
        "        x = x + residual\n",
        "\n",
        "        return x, attn_weight1, attn_weight2"
      ]
    },
    {
      "cell_type": "code",
      "execution_count": 19,
      "id": "3ca21171-0527-4604-ae4b-38d4174ff317",
      "metadata": {
        "editable": true,
        "id": "3ca21171-0527-4604-ae4b-38d4174ff317",
        "tags": []
      },
      "outputs": [],
      "source": [
        "# Define Encoder Model\n",
        "class Encoder(nn.Module):\n",
        "    \"\"\"\n",
        "    Encoder for Transformer\n",
        "    \"\"\"\n",
        "    def __init__(self, embedding, enc_voc_size, max_len, d_model, ffn_hidden, n_head, n_layers, drop_prob, device):\n",
        "        super(Encoder, self).__init__()\n",
        "        self.emb = embedding\n",
        "        self.layers = nn.ModuleList([EncoderLayer(d_model=d_model, ffn_hidden=ffn_hidden, n_head=n_head, drop_prob=drop_prob) for _ in range(n_layers)])\n",
        "        self.norm = nn.LayerNorm(d_model)\n",
        "\n",
        "    def forward(self, x, src_mask):\n",
        "        x = self.emb(x)\n",
        "        attn_weights = []\n",
        "        # get the mean of attention map batch_size * seq_len_src * seq_len_src\n",
        "        for layer in self.layers:\n",
        "            x, attn_weight = layer(x, src_mask)\n",
        "            attn_weights.append(attn_weight)\n",
        "\n",
        "        x = self.norm(x)\n",
        "\n",
        "        return x, torch.mean(torch.stack(attn_weights), dim=0)\n",
        "\n",
        "\n",
        "class Decoder(nn.Module):\n",
        "    \"\"\"\n",
        "    Decoder for Transformer\n",
        "    \"\"\"\n",
        "    def __init__(self, embedding, dec_voc_size, max_len, d_model, ffn_hidden, n_head, n_layers, drop_prob, device):\n",
        "        super(Decoder, self).__init__()\n",
        "        self.emb = embedding\n",
        "\n",
        "        self.layers = nn.ModuleList([DecoderLayer(d_model=d_model, ffn_hidden=ffn_hidden, n_head=n_head, drop_prob=drop_prob) for _ in range(n_layers)])\n",
        "\n",
        "        self.linear = nn.Linear(d_model, dec_voc_size)\n",
        "        self.norm = nn.LayerNorm(d_model)\n",
        "\n",
        "    def forward(self, trg, enc_src, trg_mask, src_mask):\n",
        "        trg = self.emb(trg)\n",
        "        attn_weights_1 = []\n",
        "        attn_weights_2 = []\n",
        "        for layer in self.layers:\n",
        "            trg, attn_weight_1, attn_weight_2 = layer(trg, enc_src, trg_mask, src_mask)\n",
        "            attn_weights_1.append(attn_weight_1)\n",
        "            attn_weights_2.append(attn_weight_2)\n",
        "\n",
        "        trg = self.norm(trg)\n",
        "        output = self.linear(trg)\n",
        "        return output, torch.mean(torch.stack(attn_weights_1), dim=0), torch.mean(torch.stack(attn_weights_2), dim=0)\n",
        "\n",
        "\n",
        "# Define Transformer Model\n",
        "class Transformer(nn.Module):\n",
        "    \"\"\"\n",
        "    Transformer Model\n",
        "    \"\"\"\n",
        "    def __init__(self, src_pad_token, trg_pad_token, enc_voc_size, dec_voc_size, n_head, max_len, d_model, ffn_hidden, n_layers, drop_prob, device):\n",
        "        \"\"\"\n",
        "        Constructing Transformer Model\n",
        "\n",
        "        :param src_pad_token: embedding vector that represents <pad> in source\n",
        "        :param trg_pad_token: embedding vector that represents <pad> in target\n",
        "        :params enc_voc_size: number of vocabs that encoderEmbedder can handle\n",
        "        :params dec_voc_size: number of vocabs that decoderEmbedder can handle\n",
        "        :params ffn_hidden: hidden vector dimension for fastfeedforward layer\n",
        "        :params n_layers: number of EncoderLayer/DecoderLayer used\n",
        "        :params drop_prob: dropout probability\n",
        "        \"\"\"\n",
        "        super(Transformer, self).__init__()\n",
        "\n",
        "        self.emb = TransformerEmbedding(d_model=d_model, max_len=max_len, vocab_size=dec_voc_size, drop_prob=drop_prob, device=device)\n",
        "        self.src_pad_token = src_pad_token\n",
        "        self.trg_pad_token = trg_pad_token\n",
        "        self.device = device\n",
        "        self.encoder = Encoder(embedding=self.emb, d_model=d_model, n_head=n_head, max_len=max_len, ffn_hidden=ffn_hidden, enc_voc_size=enc_voc_size, drop_prob=drop_prob, n_layers=n_layers, device=device)\n",
        "        self.decoder = Decoder(embedding=self.emb, d_model=d_model, n_head=n_head, max_len=max_len, ffn_hidden=ffn_hidden, dec_voc_size=dec_voc_size, drop_prob=drop_prob, n_layers=n_layers, device=device)\n",
        "\n",
        "    def make_src_mask(self, src):\n",
        "        # print(f'src: {src}')\n",
        "        # print(f'src_pad_token: {self.src_pad_token}')\n",
        "        # print(f'src != self.src_pad_token: {src != self.src_pad_token}')\n",
        "        src_mask = (src != self.src_pad_token).unsqueeze(1).unsqueeze(2)\n",
        "        return src_mask\n",
        "\n",
        "    def make_trg_mask(self, trg):\n",
        "        trg_pad_mask = (trg != self.trg_pad_token).unsqueeze(1).unsqueeze(3)\n",
        "        trg_len = trg.shape[1]\n",
        "\n",
        "        # make a look-ahead mask using torch.tril\n",
        "        # [[1 0 0]\n",
        "        #  [1 1 0]\n",
        "        #  [1 1 1]]\n",
        "        trg_sub_mask = torch.tril(torch.ones(trg_len, trg_len)).type(torch.ByteTensor).to(self.device)\n",
        "\n",
        "        trg_mask = trg_pad_mask & trg_sub_mask\n",
        "        return trg_mask\n",
        "\n",
        "\n",
        "    def forward(self, src, trg):\n",
        "        src_mask = self.make_src_mask(src)\n",
        "        trg_mask = self.make_trg_mask(trg)\n",
        "        enc_src, enc_self_attn_weight = self.encoder(src, src_mask)\n",
        "        output, dec_self_attn_weight, enc_dec_attn_weight = self.decoder(trg, enc_src, trg_mask, src_mask)\n",
        "\n",
        "        # current output shape is batch_size * dec_voc_size, which is desirable.\n",
        "        # We don't need to apply softmax because we are going to use CrossEntropyLoss as loss function\n",
        "        # which automatically applies log-softmax during calculation\n",
        "\n",
        "        return output"
      ]
    },
    {
      "cell_type": "markdown",
      "id": "948a6958-d332-4c2a-abc5-ff66dd794695",
      "metadata": {
        "id": "948a6958-d332-4c2a-abc5-ff66dd794695"
      },
      "source": [
        "# Train the Model using datas"
      ]
    },
    {
      "cell_type": "code",
      "execution_count": 20,
      "id": "5e61d776-cdbb-431d-a749-6198daf58c7d",
      "metadata": {
        "id": "5e61d776-cdbb-431d-a749-6198daf58c7d"
      },
      "outputs": [],
      "source": [
        "from torch.optim import Adam\n",
        "from datetime import datetime\n",
        "import torch\n",
        "from tqdm import tqdm"
      ]
    },
    {
      "cell_type": "code",
      "execution_count": 21,
      "id": "7a282067-acba-4324-8155-61e67650d5e6",
      "metadata": {
        "colab": {
          "base_uri": "https://localhost:8080/"
        },
        "editable": true,
        "id": "7a282067-acba-4324-8155-61e67650d5e6",
        "outputId": "a91d5146-0cfd-40d2-fa9d-9bf67edccc0f",
        "tags": []
      },
      "outputs": [
        {
          "output_type": "stream",
          "name": "stderr",
          "text": [
            "INFO:transformer_log:model parameter #: 38616041\n"
          ]
        }
      ],
      "source": [
        "# Prepare the model\n",
        "model = Transformer(\n",
        "    src_pad_token=src_pad_token,\n",
        "    trg_pad_token=trg_pad_token,\n",
        "    enc_voc_size=enc_voc_size,\n",
        "    dec_voc_size=dec_voc_size,\n",
        "    n_head=n_head,\n",
        "    max_len=max_len,\n",
        "    d_model=d_model,\n",
        "    ffn_hidden=ffn_hidden,\n",
        "    n_layers=n_layers,\n",
        "    drop_prob=drop_prob,\n",
        "    device=device).to(device)\n",
        "\n",
        "model.train()\n",
        "\n",
        "def count_parameters(model):\n",
        "    return sum(p.numel() for p in model.parameters() if p.requires_grad)\n",
        "\n",
        "logger.info(f'model parameter #: {count_parameters(model)}')\n"
      ]
    },
    {
      "cell_type": "code",
      "execution_count": 22,
      "id": "e078fd4f-33e5-4e6c-b539-6f8f4c8f1c5c",
      "metadata": {
        "id": "e078fd4f-33e5-4e6c-b539-6f8f4c8f1c5c"
      },
      "outputs": [],
      "source": [
        "# Setup optimizer\n",
        "optimizer = Adam(params=model.parameters(), lr=init_lr, weight_decay=weight_decay, eps=eps, betas=(0.9, 0.98))\n",
        "\n",
        "# Set Noam Scheduler\n",
        "scheduler = LRScheduler(optimizer, d_model, warmup_steps)\n",
        "# Setup loss function for training\n",
        "loss_func = nn.CrossEntropyLoss(ignore_index=src_pad_token)\n",
        "\n",
        "\n"
      ]
    },
    {
      "cell_type": "code",
      "execution_count": 23,
      "id": "57a37978-5880-4075-a5ee-ee77404eb1e3",
      "metadata": {
        "id": "57a37978-5880-4075-a5ee-ee77404eb1e3"
      },
      "outputs": [],
      "source": [
        "# store lr rate history per steps\n",
        "lr_history = []\n",
        "# store loss history per steps\n",
        "train_loss_history = []"
      ]
    },
    {
      "cell_type": "code",
      "execution_count": 24,
      "id": "42d092cb-c592-4a28-8316-92e291ea493a",
      "metadata": {
        "id": "42d092cb-c592-4a28-8316-92e291ea493a"
      },
      "outputs": [],
      "source": [
        "def train_epoch(epoch_num):\n",
        "    model.train()\n",
        "    train_epoch_loss = 0\n",
        "\n",
        "    for step, (kr_sentences, en_sentences) in tqdm(enumerate(train_dataloader)):\n",
        "\n",
        "        # tokenize kr_sentence\n",
        "        kr_tokenized = kr_tokenizer(kr_sentences, padding=True, truncation=True, max_length=max_len, return_tensors=\"pt\").input_ids\n",
        "\n",
        "        # tokenize en_sentence\n",
        "        # make en_sentence start with eos token(this is because current tokenizer don't have an sos token.)\n",
        "        en_sentences = ['</s> ' + s for s in en_sentences]\n",
        "        en_tokenized = en_tokenizer(en_sentences, padding=True, truncation=True, max_length=max_len, return_tensors=\"pt\").input_ids\n",
        "\n",
        "\n",
        "        kr_tokenized = kr_tokenized.to(device)\n",
        "        en_tokenized = en_tokenized.to(device)\n",
        "\n",
        "        # out is the dec_voc_size vector\n",
        "        # during training, we exclude sep token\n",
        "\n",
        "        # remove eos token if the sentence is too long, and gets truncated.\n",
        "        # so we can prevent early-stopping(early-eos)\n",
        "        # out: batch_size * max_len * dec_voc_size\n",
        "        out = model(kr_tokenized, en_tokenized[:, :-1])\n",
        "\n",
        "        # remove sos token from en_tokenized when calculating loss because out will not include eos token in front of the sentence.\n",
        "        # en_tokenized: batch_size * (max_len-1)\n",
        "        en_tokenized = en_tokenized[:, 1:].to(device)\n",
        "\n",
        "        # out: batch_size * (max_len - 1) * dec_voc_size\n",
        "        out = out.permute(0, 2, 1).to(device)\n",
        "\n",
        "        loss = loss_func(out, en_tokenized)\n",
        "        optimizer.zero_grad()\n",
        "        loss.backward()\n",
        "        # torch.nn.utils.clip_grad_norm_(model.parameters(), clip)\n",
        "\n",
        "        optimizer.step()\n",
        "        scheduler.step()\n",
        "\n",
        "        train_epoch_loss += loss.item()\n",
        "\n",
        "        if step % 200 == 0:\n",
        "            print(f'    EPOCH #{epoch_num} STEP #{step} | loss: {loss.item()}, avg_loss: {train_epoch_loss / (step + 1)}')\n",
        "            logger.info(f'    EPOCH #{epoch_num} STEP #{step} | loss: {loss.item()}, avg_loss: {train_epoch_loss / (step + 1)}')\n",
        "\n",
        "\n",
        "\n",
        "    train_step_loss = train_epoch_loss / (step+1)\n",
        "    # After training epoch, do evaluation\n",
        "\n",
        "    return train_step_loss"
      ]
    },
    {
      "cell_type": "code",
      "execution_count": 25,
      "id": "b4858b14-e7f6-40af-b412-01eb7653c611",
      "metadata": {
        "id": "b4858b14-e7f6-40af-b412-01eb7653c611"
      },
      "outputs": [],
      "source": [
        "# evaluate the model\n",
        "def evaluate():\n",
        "    model.eval()\n",
        "    test_epoch_loss = 0\n",
        "    test_bleu_loss = 0\n",
        "\n",
        "    with torch.no_grad():\n",
        "        for step, (kr_sentences, en_sentences) in tqdm(enumerate(test_dataloader)):\n",
        "            # tokenize kr_sentence\n",
        "            kr_tokenized = kr_tokenizer(kr_sentences, padding=True, truncation=True, max_length=max_len, return_tensors=\"pt\").input_ids\n",
        "\n",
        "            # tokenize en_sentence\n",
        "            # make en_sentence start with eos token(this is because current tokenizer don't have an sos token.)\n",
        "            en_sentences = ['</s> ' + s for s in en_sentences]\n",
        "            en_tokenized = en_tokenizer(en_sentences, padding=True, truncation=True, max_length=max_len, return_tensors=\"pt\").input_ids\n",
        "\n",
        "            kr_tokenized = kr_tokenized.to(device)\n",
        "            en_tokenized = en_tokenized.to(device)\n",
        "\n",
        "\n",
        "            # this does not remove the eos token\n",
        "            # FIXME\n",
        "            out = model(kr_tokenized, en_tokenized[:, :-1])\n",
        "\n",
        "\n",
        "            # remove sos token from en_tokenized when calculating loss because out will not include sos token.\n",
        "            en_tokenized = en_tokenized[:, 1:].to(device)\n",
        "\n",
        "            out = out.permute(0, 2, 1).to(device)\n",
        "\n",
        "            loss = loss_func(out, en_tokenized)\n",
        "            test_epoch_loss += loss.item()\n",
        "\n",
        "            # calcuate the bleu\n",
        "            # TODO\n",
        "        test_step_loss = test_epoch_loss / (step + 1)\n",
        "    return test_step_loss"
      ]
    },
    {
      "cell_type": "code",
      "execution_count": 26,
      "id": "c7080d85-a150-4e03-bb81-191a1bd882d4",
      "metadata": {
        "colab": {
          "base_uri": "https://localhost:8080/"
        },
        "id": "c7080d85-a150-4e03-bb81-191a1bd882d4",
        "outputId": "761a5af9-58f8-49ad-80ff-74d2fc7144aa"
      },
      "outputs": [
        {
          "output_type": "stream",
          "name": "stderr",
          "text": [
            "INFO:transformer_log:Epoch #0 Start: current LR 0.0\n"
          ]
        },
        {
          "output_type": "stream",
          "name": "stdout",
          "text": [
            "Epoch #0 Start: current LR 0.0\n"
          ]
        },
        {
          "output_type": "stream",
          "name": "stderr",
          "text": [
            "0it [00:00, ?it/s]INFO:transformer_log:    EPOCH #0 STEP #0 | loss: 11.192879676818848, avg_loss: 11.192879676818848\n",
            "1it [00:02,  2.64s/it]"
          ]
        },
        {
          "output_type": "stream",
          "name": "stdout",
          "text": [
            "    EPOCH #0 STEP #0 | loss: 11.192879676818848, avg_loss: 11.192879676818848\n"
          ]
        },
        {
          "output_type": "stream",
          "name": "stderr",
          "text": [
            "200it [03:31,  1.08s/it]INFO:transformer_log:    EPOCH #0 STEP #200 | loss: 5.794293403625488, avg_loss: 8.4648562545207\n",
            "201it [03:32,  1.08s/it]"
          ]
        },
        {
          "output_type": "stream",
          "name": "stdout",
          "text": [
            "    EPOCH #0 STEP #200 | loss: 5.794293403625488, avg_loss: 8.4648562545207\n"
          ]
        },
        {
          "output_type": "stream",
          "name": "stderr",
          "text": [
            "400it [07:10,  1.09s/it]INFO:transformer_log:    EPOCH #0 STEP #400 | loss: 4.258087635040283, avg_loss: 6.6905902175237415\n",
            "401it [07:11,  1.09s/it]"
          ]
        },
        {
          "output_type": "stream",
          "name": "stdout",
          "text": [
            "    EPOCH #0 STEP #400 | loss: 4.258087635040283, avg_loss: 6.6905902175237415\n"
          ]
        },
        {
          "output_type": "stream",
          "name": "stderr",
          "text": [
            "600it [10:48,  1.10s/it]INFO:transformer_log:    EPOCH #0 STEP #600 | loss: 3.7373459339141846, avg_loss: 5.779763215393473\n",
            "601it [10:49,  1.09s/it]"
          ]
        },
        {
          "output_type": "stream",
          "name": "stdout",
          "text": [
            "    EPOCH #0 STEP #600 | loss: 3.7373459339141846, avg_loss: 5.779763215393473\n"
          ]
        },
        {
          "output_type": "stream",
          "name": "stderr",
          "text": [
            "751it [13:32,  1.08s/it]\n",
            "117it [00:46,  2.52it/s]\n",
            "INFO:transformer_log:Epoch #0 End: Train Loss 5.3613887623686605, Test Loss 3.517535721134936\n",
            "INFO:transformer_log:Epoch #1 Start: current LR 0.0008079473591671584\n"
          ]
        },
        {
          "output_type": "stream",
          "name": "stdout",
          "text": [
            "Epoch #1 Start: current LR 0.0008079473591671584\n"
          ]
        },
        {
          "output_type": "stream",
          "name": "stderr",
          "text": [
            "0it [00:00, ?it/s]INFO:transformer_log:    EPOCH #1 STEP #0 | loss: 3.6640496253967285, avg_loss: 3.6640496253967285\n",
            "1it [00:01,  1.10s/it]"
          ]
        },
        {
          "output_type": "stream",
          "name": "stdout",
          "text": [
            "    EPOCH #1 STEP #0 | loss: 3.6640496253967285, avg_loss: 3.6640496253967285\n"
          ]
        },
        {
          "output_type": "stream",
          "name": "stderr",
          "text": [
            "200it [03:37,  1.10s/it]INFO:transformer_log:    EPOCH #1 STEP #200 | loss: 3.357304096221924, avg_loss: 3.4735156979726916\n",
            "201it [03:39,  1.09s/it]"
          ]
        },
        {
          "output_type": "stream",
          "name": "stdout",
          "text": [
            "    EPOCH #1 STEP #200 | loss: 3.357304096221924, avg_loss: 3.4735156979726916\n"
          ]
        },
        {
          "output_type": "stream",
          "name": "stderr",
          "text": [
            "400it [07:15,  1.11s/it]INFO:transformer_log:    EPOCH #1 STEP #400 | loss: 3.248926877975464, avg_loss: 3.3852961687673058\n",
            "401it [07:16,  1.10s/it]"
          ]
        },
        {
          "output_type": "stream",
          "name": "stdout",
          "text": [
            "    EPOCH #1 STEP #400 | loss: 3.248926877975464, avg_loss: 3.3852961687673058\n"
          ]
        },
        {
          "output_type": "stream",
          "name": "stderr",
          "text": [
            "600it [10:53,  1.07s/it]INFO:transformer_log:    EPOCH #1 STEP #600 | loss: 3.164234161376953, avg_loss: 3.3193627098039067\n",
            "601it [10:54,  1.08s/it]"
          ]
        },
        {
          "output_type": "stream",
          "name": "stdout",
          "text": [
            "    EPOCH #1 STEP #600 | loss: 3.164234161376953, avg_loss: 3.3193627098039067\n"
          ]
        },
        {
          "output_type": "stream",
          "name": "stderr",
          "text": [
            "751it [13:37,  1.09s/it]\n",
            "117it [00:46,  2.49it/s]\n",
            "INFO:transformer_log:Epoch #1 End: Train Loss 3.2787253085211336, Test Loss 3.007636869055593\n",
            "INFO:transformer_log:Epoch #2 Start: current LR 0.0016126683068472122\n"
          ]
        },
        {
          "output_type": "stream",
          "name": "stdout",
          "text": [
            "Epoch #2 Start: current LR 0.0016126683068472122\n"
          ]
        },
        {
          "output_type": "stream",
          "name": "stderr",
          "text": [
            "0it [00:00, ?it/s]INFO:transformer_log:    EPOCH #2 STEP #0 | loss: 3.0943310260772705, avg_loss: 3.0943310260772705\n",
            "1it [00:01,  1.06s/it]"
          ]
        },
        {
          "output_type": "stream",
          "name": "stdout",
          "text": [
            "    EPOCH #2 STEP #0 | loss: 3.0943310260772705, avg_loss: 3.0943310260772705\n"
          ]
        },
        {
          "output_type": "stream",
          "name": "stderr",
          "text": [
            "200it [03:36,  1.09s/it]INFO:transformer_log:    EPOCH #2 STEP #200 | loss: 3.0065340995788574, avg_loss: 3.0544604353643767\n",
            "201it [03:38,  1.09s/it]"
          ]
        },
        {
          "output_type": "stream",
          "name": "stdout",
          "text": [
            "    EPOCH #2 STEP #200 | loss: 3.0065340995788574, avg_loss: 3.0544604353643767\n"
          ]
        },
        {
          "output_type": "stream",
          "name": "stderr",
          "text": [
            "400it [07:14,  1.10s/it]INFO:transformer_log:    EPOCH #2 STEP #400 | loss: 2.9626917839050293, avg_loss: 3.0245151852729015\n",
            "401it [07:15,  1.08s/it]"
          ]
        },
        {
          "output_type": "stream",
          "name": "stdout",
          "text": [
            "    EPOCH #2 STEP #400 | loss: 2.9626917839050293, avg_loss: 3.0245151852729015\n"
          ]
        },
        {
          "output_type": "stream",
          "name": "stderr",
          "text": [
            "600it [10:51,  1.09s/it]INFO:transformer_log:    EPOCH #2 STEP #600 | loss: 2.8922317028045654, avg_loss: 2.993729266073065\n",
            "601it [10:52,  1.10s/it]"
          ]
        },
        {
          "output_type": "stream",
          "name": "stdout",
          "text": [
            "    EPOCH #2 STEP #600 | loss: 2.8922317028045654, avg_loss: 2.993729266073065\n"
          ]
        },
        {
          "output_type": "stream",
          "name": "stderr",
          "text": [
            "751it [13:35,  1.09s/it]\n",
            "117it [00:46,  2.52it/s]\n",
            "INFO:transformer_log:Epoch #2 End: Train Loss 2.9739354075826756, Test Loss 2.7817565681587935\n",
            "INFO:transformer_log:Epoch #3 Start: current LR 0.0013167381587112536\n"
          ]
        },
        {
          "output_type": "stream",
          "name": "stdout",
          "text": [
            "Epoch #3 Start: current LR 0.0013167381587112536\n"
          ]
        },
        {
          "output_type": "stream",
          "name": "stderr",
          "text": [
            "0it [00:00, ?it/s]INFO:transformer_log:    EPOCH #3 STEP #0 | loss: 2.93554949760437, avg_loss: 2.93554949760437\n",
            "1it [00:01,  1.08s/it]"
          ]
        },
        {
          "output_type": "stream",
          "name": "stdout",
          "text": [
            "    EPOCH #3 STEP #0 | loss: 2.93554949760437, avg_loss: 2.93554949760437\n"
          ]
        },
        {
          "output_type": "stream",
          "name": "stderr",
          "text": [
            "200it [03:37,  1.09s/it]INFO:transformer_log:    EPOCH #3 STEP #200 | loss: 2.802155017852783, avg_loss: 2.8477361273409714\n",
            "201it [03:38,  1.10s/it]"
          ]
        },
        {
          "output_type": "stream",
          "name": "stdout",
          "text": [
            "    EPOCH #3 STEP #200 | loss: 2.802155017852783, avg_loss: 2.8477361273409714\n"
          ]
        },
        {
          "output_type": "stream",
          "name": "stderr",
          "text": [
            "400it [07:14,  1.08s/it]INFO:transformer_log:    EPOCH #3 STEP #400 | loss: 2.8594045639038086, avg_loss: 2.82850431444639\n",
            "401it [07:15,  1.08s/it]"
          ]
        },
        {
          "output_type": "stream",
          "name": "stdout",
          "text": [
            "    EPOCH #3 STEP #400 | loss: 2.8594045639038086, avg_loss: 2.82850431444639\n"
          ]
        },
        {
          "output_type": "stream",
          "name": "stderr",
          "text": [
            "600it [10:51,  1.09s/it]INFO:transformer_log:    EPOCH #3 STEP #600 | loss: 2.8233559131622314, avg_loss: 2.8138847402645624\n",
            "601it [10:52,  1.09s/it]"
          ]
        },
        {
          "output_type": "stream",
          "name": "stdout",
          "text": [
            "    EPOCH #3 STEP #600 | loss: 2.8233559131622314, avg_loss: 2.8138847402645624\n"
          ]
        },
        {
          "output_type": "stream",
          "name": "stderr",
          "text": [
            "751it [13:35,  1.09s/it]\n",
            "117it [00:46,  2.52it/s]\n",
            "INFO:transformer_log:Epoch #3 End: Train Loss 2.800794782397274, Test Loss 2.6188059933165198\n",
            "INFO:transformer_log:Epoch #4 Start: current LR 0.0011403286955762918\n"
          ]
        },
        {
          "output_type": "stream",
          "name": "stdout",
          "text": [
            "Epoch #4 Start: current LR 0.0011403286955762918\n"
          ]
        },
        {
          "output_type": "stream",
          "name": "stderr",
          "text": [
            "0it [00:00, ?it/s]INFO:transformer_log:    EPOCH #4 STEP #0 | loss: 2.7193191051483154, avg_loss: 2.7193191051483154\n",
            "1it [00:01,  1.07s/it]"
          ]
        },
        {
          "output_type": "stream",
          "name": "stdout",
          "text": [
            "    EPOCH #4 STEP #0 | loss: 2.7193191051483154, avg_loss: 2.7193191051483154\n"
          ]
        },
        {
          "output_type": "stream",
          "name": "stderr",
          "text": [
            "200it [03:36,  1.09s/it]INFO:transformer_log:    EPOCH #4 STEP #200 | loss: 2.750437021255493, avg_loss: 2.708526180751288\n",
            "201it [03:37,  1.09s/it]"
          ]
        },
        {
          "output_type": "stream",
          "name": "stdout",
          "text": [
            "    EPOCH #4 STEP #200 | loss: 2.750437021255493, avg_loss: 2.708526180751288\n"
          ]
        },
        {
          "output_type": "stream",
          "name": "stderr",
          "text": [
            "400it [07:13,  1.08s/it]INFO:transformer_log:    EPOCH #4 STEP #400 | loss: 2.6326487064361572, avg_loss: 2.692179409345784\n",
            "401it [07:14,  1.08s/it]"
          ]
        },
        {
          "output_type": "stream",
          "name": "stdout",
          "text": [
            "    EPOCH #4 STEP #400 | loss: 2.6326487064361572, avg_loss: 2.692179409345784\n"
          ]
        },
        {
          "output_type": "stream",
          "name": "stderr",
          "text": [
            "600it [10:49,  1.08s/it]INFO:transformer_log:    EPOCH #4 STEP #600 | loss: 2.6497390270233154, avg_loss: 2.676328188567709\n",
            "601it [10:51,  1.08s/it]"
          ]
        },
        {
          "output_type": "stream",
          "name": "stdout",
          "text": [
            "    EPOCH #4 STEP #600 | loss: 2.6497390270233154, avg_loss: 2.676328188567709\n"
          ]
        },
        {
          "output_type": "stream",
          "name": "stderr",
          "text": [
            "751it [13:33,  1.08s/it]\n",
            "117it [00:46,  2.54it/s]\n",
            "INFO:transformer_log:Epoch #4 End: Train Loss 2.6663938238522342, Test Loss 2.476601083054502\n",
            "INFO:transformer_log:Epoch #5 Start: current LR 0.001019940992000901\n"
          ]
        },
        {
          "output_type": "stream",
          "name": "stdout",
          "text": [
            "Epoch #5 Start: current LR 0.001019940992000901\n"
          ]
        },
        {
          "output_type": "stream",
          "name": "stderr",
          "text": [
            "0it [00:00, ?it/s]INFO:transformer_log:    EPOCH #5 STEP #0 | loss: 2.598076105117798, avg_loss: 2.598076105117798\n",
            "1it [00:01,  1.15s/it]"
          ]
        },
        {
          "output_type": "stream",
          "name": "stdout",
          "text": [
            "    EPOCH #5 STEP #0 | loss: 2.598076105117798, avg_loss: 2.598076105117798\n"
          ]
        },
        {
          "output_type": "stream",
          "name": "stderr",
          "text": [
            "200it [03:36,  1.08s/it]INFO:transformer_log:    EPOCH #5 STEP #200 | loss: 2.614712953567505, avg_loss: 2.5888289254696213\n",
            "201it [03:37,  1.08s/it]"
          ]
        },
        {
          "output_type": "stream",
          "name": "stdout",
          "text": [
            "    EPOCH #5 STEP #200 | loss: 2.614712953567505, avg_loss: 2.5888289254696213\n"
          ]
        },
        {
          "output_type": "stream",
          "name": "stderr",
          "text": [
            "400it [07:12,  1.08s/it]INFO:transformer_log:    EPOCH #5 STEP #400 | loss: 2.604459762573242, avg_loss: 2.5794092193803286\n",
            "401it [07:14,  1.07s/it]"
          ]
        },
        {
          "output_type": "stream",
          "name": "stdout",
          "text": [
            "    EPOCH #5 STEP #400 | loss: 2.604459762573242, avg_loss: 2.5794092193803286\n"
          ]
        },
        {
          "output_type": "stream",
          "name": "stderr",
          "text": [
            "600it [10:49,  1.08s/it]INFO:transformer_log:    EPOCH #5 STEP #600 | loss: 2.529207468032837, avg_loss: 2.5710525917332503\n",
            "601it [10:50,  1.10s/it]"
          ]
        },
        {
          "output_type": "stream",
          "name": "stdout",
          "text": [
            "    EPOCH #5 STEP #600 | loss: 2.529207468032837, avg_loss: 2.5710525917332503\n"
          ]
        },
        {
          "output_type": "stream",
          "name": "stderr",
          "text": [
            "751it [13:32,  1.08s/it]\n",
            "117it [00:46,  2.52it/s]\n",
            "INFO:transformer_log:Epoch #5 End: Train Loss 2.566030092467957, Test Loss 2.3918925289414887\n",
            "INFO:transformer_log:Epoch #6 Start: current LR 0.0009310744810718159\n"
          ]
        },
        {
          "output_type": "stream",
          "name": "stdout",
          "text": [
            "Epoch #6 Start: current LR 0.0009310744810718159\n"
          ]
        },
        {
          "output_type": "stream",
          "name": "stderr",
          "text": [
            "0it [00:00, ?it/s]INFO:transformer_log:    EPOCH #6 STEP #0 | loss: 2.546046495437622, avg_loss: 2.546046495437622\n",
            "1it [00:01,  1.08s/it]"
          ]
        },
        {
          "output_type": "stream",
          "name": "stdout",
          "text": [
            "    EPOCH #6 STEP #0 | loss: 2.546046495437622, avg_loss: 2.546046495437622\n"
          ]
        },
        {
          "output_type": "stream",
          "name": "stderr",
          "text": [
            "200it [03:36,  1.10s/it]INFO:transformer_log:    EPOCH #6 STEP #200 | loss: 2.5118184089660645, avg_loss: 2.5106667440329025\n",
            "201it [03:37,  1.08s/it]"
          ]
        },
        {
          "output_type": "stream",
          "name": "stdout",
          "text": [
            "    EPOCH #6 STEP #200 | loss: 2.5118184089660645, avg_loss: 2.5106667440329025\n"
          ]
        },
        {
          "output_type": "stream",
          "name": "stderr",
          "text": [
            "400it [07:12,  1.11s/it]INFO:transformer_log:    EPOCH #6 STEP #400 | loss: 2.5679330825805664, avg_loss: 2.509803544850718\n",
            "401it [07:13,  1.11s/it]"
          ]
        },
        {
          "output_type": "stream",
          "name": "stdout",
          "text": [
            "    EPOCH #6 STEP #400 | loss: 2.5679330825805664, avg_loss: 2.509803544850718\n"
          ]
        },
        {
          "output_type": "stream",
          "name": "stderr",
          "text": [
            "600it [10:48,  1.07s/it]INFO:transformer_log:    EPOCH #6 STEP #600 | loss: 2.5690512657165527, avg_loss: 2.504730463424657\n",
            "601it [10:49,  1.07s/it]"
          ]
        },
        {
          "output_type": "stream",
          "name": "stdout",
          "text": [
            "    EPOCH #6 STEP #600 | loss: 2.5690512657165527, avg_loss: 2.504730463424657\n"
          ]
        },
        {
          "output_type": "stream",
          "name": "stderr",
          "text": [
            "751it [13:31,  1.08s/it]\n",
            "117it [00:46,  2.53it/s]\n",
            "INFO:transformer_log:Epoch #6 End: Train Loss 2.5004557928296127, Test Loss 2.326510859350873\n",
            "INFO:transformer_log:Epoch #7 Start: current LR 0.0008620074689615852\n"
          ]
        },
        {
          "output_type": "stream",
          "name": "stdout",
          "text": [
            "Epoch #7 Start: current LR 0.0008620074689615852\n"
          ]
        },
        {
          "output_type": "stream",
          "name": "stderr",
          "text": [
            "0it [00:00, ?it/s]INFO:transformer_log:    EPOCH #7 STEP #0 | loss: 2.513542652130127, avg_loss: 2.513542652130127\n",
            "1it [00:01,  1.07s/it]"
          ]
        },
        {
          "output_type": "stream",
          "name": "stdout",
          "text": [
            "    EPOCH #7 STEP #0 | loss: 2.513542652130127, avg_loss: 2.513542652130127\n"
          ]
        },
        {
          "output_type": "stream",
          "name": "stderr",
          "text": [
            "200it [03:36,  1.07s/it]INFO:transformer_log:    EPOCH #7 STEP #200 | loss: 2.527355194091797, avg_loss: 2.4584266961510504\n",
            "201it [03:37,  1.08s/it]"
          ]
        },
        {
          "output_type": "stream",
          "name": "stdout",
          "text": [
            "    EPOCH #7 STEP #200 | loss: 2.527355194091797, avg_loss: 2.4584266961510504\n"
          ]
        },
        {
          "output_type": "stream",
          "name": "stderr",
          "text": [
            "400it [07:12,  1.08s/it]INFO:transformer_log:    EPOCH #7 STEP #400 | loss: 2.546833038330078, avg_loss: 2.459385071609383\n",
            "401it [07:13,  1.08s/it]"
          ]
        },
        {
          "output_type": "stream",
          "name": "stdout",
          "text": [
            "    EPOCH #7 STEP #400 | loss: 2.546833038330078, avg_loss: 2.459385071609383\n"
          ]
        },
        {
          "output_type": "stream",
          "name": "stderr",
          "text": [
            "600it [10:48,  1.08s/it]INFO:transformer_log:    EPOCH #7 STEP #600 | loss: 2.459254503250122, avg_loss: 2.456580246546106\n",
            "601it [10:49,  1.08s/it]"
          ]
        },
        {
          "output_type": "stream",
          "name": "stdout",
          "text": [
            "    EPOCH #7 STEP #600 | loss: 2.459254503250122, avg_loss: 2.456580246546106\n"
          ]
        },
        {
          "output_type": "stream",
          "name": "stderr",
          "text": [
            "751it [13:31,  1.08s/it]\n",
            "117it [00:46,  2.54it/s]\n",
            "INFO:transformer_log:Epoch #7 End: Train Loss 2.454974147514719, Test Loss 2.286653400486351\n",
            "INFO:transformer_log:Epoch #8 Start: current LR 0.0008063341534236061\n"
          ]
        },
        {
          "output_type": "stream",
          "name": "stdout",
          "text": [
            "Epoch #8 Start: current LR 0.0008063341534236061\n"
          ]
        },
        {
          "output_type": "stream",
          "name": "stderr",
          "text": [
            "0it [00:00, ?it/s]INFO:transformer_log:    EPOCH #8 STEP #0 | loss: 2.3810677528381348, avg_loss: 2.3810677528381348\n",
            "1it [00:01,  1.08s/it]"
          ]
        },
        {
          "output_type": "stream",
          "name": "stdout",
          "text": [
            "    EPOCH #8 STEP #0 | loss: 2.3810677528381348, avg_loss: 2.3810677528381348\n"
          ]
        },
        {
          "output_type": "stream",
          "name": "stderr",
          "text": [
            "200it [03:36,  1.06s/it]INFO:transformer_log:    EPOCH #8 STEP #200 | loss: 2.3813986778259277, avg_loss: 2.4223272373427207\n",
            "201it [03:37,  1.06s/it]"
          ]
        },
        {
          "output_type": "stream",
          "name": "stdout",
          "text": [
            "    EPOCH #8 STEP #200 | loss: 2.3813986778259277, avg_loss: 2.4223272373427207\n"
          ]
        },
        {
          "output_type": "stream",
          "name": "stderr",
          "text": [
            "400it [07:12,  1.08s/it]INFO:transformer_log:    EPOCH #8 STEP #400 | loss: 2.3053183555603027, avg_loss: 2.421563883374754\n",
            "401it [07:13,  1.09s/it]"
          ]
        },
        {
          "output_type": "stream",
          "name": "stdout",
          "text": [
            "    EPOCH #8 STEP #400 | loss: 2.3053183555603027, avg_loss: 2.421563883374754\n"
          ]
        },
        {
          "output_type": "stream",
          "name": "stderr",
          "text": [
            "600it [10:48,  1.09s/it]INFO:transformer_log:    EPOCH #8 STEP #600 | loss: 2.3699846267700195, avg_loss: 2.4220751525955073\n",
            "601it [10:49,  1.10s/it]"
          ]
        },
        {
          "output_type": "stream",
          "name": "stdout",
          "text": [
            "    EPOCH #8 STEP #600 | loss: 2.3699846267700195, avg_loss: 2.4220751525955073\n"
          ]
        },
        {
          "output_type": "stream",
          "name": "stderr",
          "text": [
            "751it [13:31,  1.08s/it]\n",
            "117it [00:46,  2.53it/s]\n",
            "INFO:transformer_log:Epoch #8 End: Train Loss 2.42227483367158, Test Loss 2.25637934758113\n",
            "INFO:transformer_log:Epoch #9 Start: current LR 0.0007602191303841945\n"
          ]
        },
        {
          "output_type": "stream",
          "name": "stdout",
          "text": [
            "Epoch #9 Start: current LR 0.0007602191303841945\n"
          ]
        },
        {
          "output_type": "stream",
          "name": "stderr",
          "text": [
            "0it [00:00, ?it/s]INFO:transformer_log:    EPOCH #9 STEP #0 | loss: 2.3033785820007324, avg_loss: 2.3033785820007324\n",
            "1it [00:01,  1.07s/it]"
          ]
        },
        {
          "output_type": "stream",
          "name": "stdout",
          "text": [
            "    EPOCH #9 STEP #0 | loss: 2.3033785820007324, avg_loss: 2.3033785820007324\n"
          ]
        },
        {
          "output_type": "stream",
          "name": "stderr",
          "text": [
            "200it [03:36,  1.09s/it]INFO:transformer_log:    EPOCH #9 STEP #200 | loss: 2.3482370376586914, avg_loss: 2.39664029956457\n",
            "201it [03:37,  1.08s/it]"
          ]
        },
        {
          "output_type": "stream",
          "name": "stdout",
          "text": [
            "    EPOCH #9 STEP #200 | loss: 2.3482370376586914, avg_loss: 2.39664029956457\n"
          ]
        },
        {
          "output_type": "stream",
          "name": "stderr",
          "text": [
            "400it [07:11,  1.07s/it]INFO:transformer_log:    EPOCH #9 STEP #400 | loss: 2.407325029373169, avg_loss: 2.400298870709769\n",
            "401it [07:13,  1.09s/it]"
          ]
        },
        {
          "output_type": "stream",
          "name": "stdout",
          "text": [
            "    EPOCH #9 STEP #400 | loss: 2.407325029373169, avg_loss: 2.400298870709769\n"
          ]
        },
        {
          "output_type": "stream",
          "name": "stderr",
          "text": [
            "600it [10:47,  1.08s/it]INFO:transformer_log:    EPOCH #9 STEP #600 | loss: 2.367227077484131, avg_loss: 2.397463801299871\n",
            "601it [10:48,  1.08s/it]"
          ]
        },
        {
          "output_type": "stream",
          "name": "stdout",
          "text": [
            "    EPOCH #9 STEP #600 | loss: 2.367227077484131, avg_loss: 2.397463801299871\n"
          ]
        },
        {
          "output_type": "stream",
          "name": "stderr",
          "text": [
            "751it [13:30,  1.08s/it]\n",
            "117it [00:46,  2.53it/s]\n",
            "INFO:transformer_log:Epoch #9 End: Train Loss 2.3973726851644908, Test Loss 2.22817685869005\n",
            "INFO:transformer_log:Epoch #10 Start: current LR 0.0007212071918539712\n"
          ]
        },
        {
          "output_type": "stream",
          "name": "stdout",
          "text": [
            "Epoch #10 Start: current LR 0.0007212071918539712\n"
          ]
        },
        {
          "output_type": "stream",
          "name": "stderr",
          "text": [
            "0it [00:00, ?it/s]INFO:transformer_log:    EPOCH #10 STEP #0 | loss: 2.3131399154663086, avg_loss: 2.3131399154663086\n",
            "1it [00:01,  1.05s/it]"
          ]
        },
        {
          "output_type": "stream",
          "name": "stdout",
          "text": [
            "    EPOCH #10 STEP #0 | loss: 2.3131399154663086, avg_loss: 2.3131399154663086\n"
          ]
        },
        {
          "output_type": "stream",
          "name": "stderr",
          "text": [
            "200it [03:36,  1.07s/it]INFO:transformer_log:    EPOCH #10 STEP #200 | loss: 2.4162118434906006, avg_loss: 2.369162501387335\n",
            "201it [03:37,  1.07s/it]"
          ]
        },
        {
          "output_type": "stream",
          "name": "stdout",
          "text": [
            "    EPOCH #10 STEP #200 | loss: 2.4162118434906006, avg_loss: 2.369162501387335\n"
          ]
        },
        {
          "output_type": "stream",
          "name": "stderr",
          "text": [
            "400it [07:11,  1.09s/it]INFO:transformer_log:    EPOCH #10 STEP #400 | loss: 2.2996764183044434, avg_loss: 2.3725855427787192\n",
            "401it [07:12,  1.08s/it]"
          ]
        },
        {
          "output_type": "stream",
          "name": "stdout",
          "text": [
            "    EPOCH #10 STEP #400 | loss: 2.2996764183044434, avg_loss: 2.3725855427787192\n"
          ]
        },
        {
          "output_type": "stream",
          "name": "stderr",
          "text": [
            "600it [10:47,  1.09s/it]INFO:transformer_log:    EPOCH #10 STEP #600 | loss: 2.3802244663238525, avg_loss: 2.375287556211881\n",
            "601it [10:48,  1.10s/it]"
          ]
        },
        {
          "output_type": "stream",
          "name": "stdout",
          "text": [
            "    EPOCH #10 STEP #600 | loss: 2.3802244663238525, avg_loss: 2.375287556211881\n"
          ]
        },
        {
          "output_type": "stream",
          "name": "stderr",
          "text": [
            "751it [13:30,  1.08s/it]\n",
            "117it [00:46,  2.51it/s]\n",
            "INFO:transformer_log:Epoch #10 End: Train Loss 2.376867717814033, Test Loss 2.2078211470546885\n",
            "INFO:transformer_log:Epoch #11 Start: current LR 0.00068764407652763\n"
          ]
        },
        {
          "output_type": "stream",
          "name": "stdout",
          "text": [
            "Epoch #11 Start: current LR 0.00068764407652763\n"
          ]
        },
        {
          "output_type": "stream",
          "name": "stderr",
          "text": [
            "0it [00:00, ?it/s]INFO:transformer_log:    EPOCH #11 STEP #0 | loss: 2.3187649250030518, avg_loss: 2.3187649250030518\n",
            "1it [00:01,  1.07s/it]"
          ]
        },
        {
          "output_type": "stream",
          "name": "stdout",
          "text": [
            "    EPOCH #11 STEP #0 | loss: 2.3187649250030518, avg_loss: 2.3187649250030518\n"
          ]
        },
        {
          "output_type": "stream",
          "name": "stderr",
          "text": [
            "200it [03:36,  1.07s/it]INFO:transformer_log:    EPOCH #11 STEP #200 | loss: 2.3160223960876465, avg_loss: 2.350449442270383\n",
            "201it [03:37,  1.07s/it]"
          ]
        },
        {
          "output_type": "stream",
          "name": "stdout",
          "text": [
            "    EPOCH #11 STEP #200 | loss: 2.3160223960876465, avg_loss: 2.350449442270383\n"
          ]
        },
        {
          "output_type": "stream",
          "name": "stderr",
          "text": [
            "400it [07:11,  1.09s/it]INFO:transformer_log:    EPOCH #11 STEP #400 | loss: 2.3689560890197754, avg_loss: 2.356463586303064\n",
            "401it [07:12,  1.09s/it]"
          ]
        },
        {
          "output_type": "stream",
          "name": "stdout",
          "text": [
            "    EPOCH #11 STEP #400 | loss: 2.3689560890197754, avg_loss: 2.356463586303064\n"
          ]
        },
        {
          "output_type": "stream",
          "name": "stderr",
          "text": [
            "600it [10:47,  1.08s/it]INFO:transformer_log:    EPOCH #11 STEP #600 | loss: 2.434105157852173, avg_loss: 2.359317590710327\n",
            "601it [10:48,  1.09s/it]"
          ]
        },
        {
          "output_type": "stream",
          "name": "stdout",
          "text": [
            "    EPOCH #11 STEP #600 | loss: 2.434105157852173, avg_loss: 2.359317590710327\n"
          ]
        },
        {
          "output_type": "stream",
          "name": "stderr",
          "text": [
            "751it [13:29,  1.08s/it]\n",
            "117it [00:46,  2.52it/s]\n",
            "INFO:transformer_log:Epoch #11 End: Train Loss 2.360064449069027, Test Loss 2.1942401462131076\n",
            "INFO:transformer_log:Epoch #12 Start: current LR 0.0006583690793556268\n"
          ]
        },
        {
          "output_type": "stream",
          "name": "stdout",
          "text": [
            "Epoch #12 Start: current LR 0.0006583690793556268\n"
          ]
        },
        {
          "output_type": "stream",
          "name": "stderr",
          "text": [
            "0it [00:00, ?it/s]INFO:transformer_log:    EPOCH #12 STEP #0 | loss: 2.339672565460205, avg_loss: 2.339672565460205\n",
            "1it [00:01,  1.08s/it]"
          ]
        },
        {
          "output_type": "stream",
          "name": "stdout",
          "text": [
            "    EPOCH #12 STEP #0 | loss: 2.339672565460205, avg_loss: 2.339672565460205\n"
          ]
        },
        {
          "output_type": "stream",
          "name": "stderr",
          "text": [
            "200it [03:35,  1.07s/it]INFO:transformer_log:    EPOCH #12 STEP #200 | loss: 2.3094494342803955, avg_loss: 2.3340278229310143\n",
            "201it [03:36,  1.07s/it]"
          ]
        },
        {
          "output_type": "stream",
          "name": "stdout",
          "text": [
            "    EPOCH #12 STEP #200 | loss: 2.3094494342803955, avg_loss: 2.3340278229310143\n"
          ]
        },
        {
          "output_type": "stream",
          "name": "stderr",
          "text": [
            "400it [07:10,  1.08s/it]INFO:transformer_log:    EPOCH #12 STEP #400 | loss: 2.3554375171661377, avg_loss: 2.3430111955228887\n",
            "401it [07:11,  1.08s/it]"
          ]
        },
        {
          "output_type": "stream",
          "name": "stdout",
          "text": [
            "    EPOCH #12 STEP #400 | loss: 2.3554375171661377, avg_loss: 2.3430111955228887\n"
          ]
        },
        {
          "output_type": "stream",
          "name": "stderr",
          "text": [
            "600it [10:46,  1.09s/it]INFO:transformer_log:    EPOCH #12 STEP #600 | loss: 2.2718756198883057, avg_loss: 2.344238138040171\n",
            "601it [10:47,  1.09s/it]"
          ]
        },
        {
          "output_type": "stream",
          "name": "stdout",
          "text": [
            "    EPOCH #12 STEP #600 | loss: 2.2718756198883057, avg_loss: 2.344238138040171\n"
          ]
        },
        {
          "output_type": "stream",
          "name": "stderr",
          "text": [
            "751it [13:28,  1.08s/it]\n",
            "117it [00:46,  2.52it/s]\n",
            "INFO:transformer_log:Epoch #12 End: Train Loss 2.3460400914066484, Test Loss 2.1765591812948895\n",
            "INFO:transformer_log:Epoch #13 Start: current LR 0.0006325405511974286\n"
          ]
        },
        {
          "output_type": "stream",
          "name": "stdout",
          "text": [
            "Epoch #13 Start: current LR 0.0006325405511974286\n"
          ]
        },
        {
          "output_type": "stream",
          "name": "stderr",
          "text": [
            "0it [00:00, ?it/s]INFO:transformer_log:    EPOCH #13 STEP #0 | loss: 2.290393829345703, avg_loss: 2.290393829345703\n",
            "1it [00:01,  1.09s/it]"
          ]
        },
        {
          "output_type": "stream",
          "name": "stdout",
          "text": [
            "    EPOCH #13 STEP #0 | loss: 2.290393829345703, avg_loss: 2.290393829345703\n"
          ]
        },
        {
          "output_type": "stream",
          "name": "stderr",
          "text": [
            "200it [03:35,  1.07s/it]INFO:transformer_log:    EPOCH #13 STEP #200 | loss: 2.3801331520080566, avg_loss: 2.323786180410812\n",
            "201it [03:36,  1.07s/it]"
          ]
        },
        {
          "output_type": "stream",
          "name": "stdout",
          "text": [
            "    EPOCH #13 STEP #200 | loss: 2.3801331520080566, avg_loss: 2.323786180410812\n"
          ]
        },
        {
          "output_type": "stream",
          "name": "stderr",
          "text": [
            "400it [07:10,  1.08s/it]INFO:transformer_log:    EPOCH #13 STEP #400 | loss: 2.3452816009521484, avg_loss: 2.331804698244889\n",
            "401it [07:11,  1.07s/it]"
          ]
        },
        {
          "output_type": "stream",
          "name": "stdout",
          "text": [
            "    EPOCH #13 STEP #400 | loss: 2.3452816009521484, avg_loss: 2.331804698244889\n"
          ]
        },
        {
          "output_type": "stream",
          "name": "stderr",
          "text": [
            "600it [10:46,  1.08s/it]INFO:transformer_log:    EPOCH #13 STEP #600 | loss: 2.2771265506744385, avg_loss: 2.3314522820185504\n",
            "601it [10:47,  1.10s/it]"
          ]
        },
        {
          "output_type": "stream",
          "name": "stdout",
          "text": [
            "    EPOCH #13 STEP #600 | loss: 2.2771265506744385, avg_loss: 2.3314522820185504\n"
          ]
        },
        {
          "output_type": "stream",
          "name": "stderr",
          "text": [
            "751it [13:29,  1.08s/it]\n",
            "117it [00:46,  2.51it/s]\n",
            "INFO:transformer_log:Epoch #13 End: Train Loss 2.333092386649547, Test Loss 2.1646342725835295\n",
            "INFO:transformer_log:Epoch #14 Start: current LR 0.0006095313267361893\n"
          ]
        },
        {
          "output_type": "stream",
          "name": "stdout",
          "text": [
            "Epoch #14 Start: current LR 0.0006095313267361893\n"
          ]
        },
        {
          "output_type": "stream",
          "name": "stderr",
          "text": [
            "0it [00:00, ?it/s]INFO:transformer_log:    EPOCH #14 STEP #0 | loss: 2.303311824798584, avg_loss: 2.303311824798584\n",
            "1it [00:01,  1.08s/it]"
          ]
        },
        {
          "output_type": "stream",
          "name": "stdout",
          "text": [
            "    EPOCH #14 STEP #0 | loss: 2.303311824798584, avg_loss: 2.303311824798584\n"
          ]
        },
        {
          "output_type": "stream",
          "name": "stderr",
          "text": [
            "200it [03:35,  1.07s/it]INFO:transformer_log:    EPOCH #14 STEP #200 | loss: 2.2706010341644287, avg_loss: 2.3190982899262536\n",
            "201it [03:36,  1.07s/it]"
          ]
        },
        {
          "output_type": "stream",
          "name": "stdout",
          "text": [
            "    EPOCH #14 STEP #200 | loss: 2.2706010341644287, avg_loss: 2.3190982899262536\n"
          ]
        },
        {
          "output_type": "stream",
          "name": "stderr",
          "text": [
            "400it [07:10,  1.08s/it]INFO:transformer_log:    EPOCH #14 STEP #400 | loss: 2.325218439102173, avg_loss: 2.321465338257483\n",
            "401it [07:11,  1.08s/it]"
          ]
        },
        {
          "output_type": "stream",
          "name": "stdout",
          "text": [
            "    EPOCH #14 STEP #400 | loss: 2.325218439102173, avg_loss: 2.321465338257483\n"
          ]
        },
        {
          "output_type": "stream",
          "name": "stderr",
          "text": [
            "600it [10:46,  1.08s/it]INFO:transformer_log:    EPOCH #14 STEP #600 | loss: 2.3415634632110596, avg_loss: 2.322407292050252\n",
            "601it [10:47,  1.08s/it]"
          ]
        },
        {
          "output_type": "stream",
          "name": "stdout",
          "text": [
            "    EPOCH #14 STEP #600 | loss: 2.3415634632110596, avg_loss: 2.322407292050252\n"
          ]
        },
        {
          "output_type": "stream",
          "name": "stderr",
          "text": [
            "751it [13:28,  1.08s/it]\n",
            "117it [00:46,  2.50it/s]\n",
            "INFO:transformer_log:Epoch #14 End: Train Loss 2.3228148394989745, Test Loss 2.1538144258352427\n",
            "INFO:transformer_log:Epoch #15 Start: current LR 0.000588863206289254\n"
          ]
        },
        {
          "output_type": "stream",
          "name": "stdout",
          "text": [
            "Epoch #15 Start: current LR 0.000588863206289254\n"
          ]
        },
        {
          "output_type": "stream",
          "name": "stderr",
          "text": [
            "0it [00:00, ?it/s]INFO:transformer_log:    EPOCH #15 STEP #0 | loss: 2.2336416244506836, avg_loss: 2.2336416244506836\n",
            "1it [00:01,  1.09s/it]"
          ]
        },
        {
          "output_type": "stream",
          "name": "stdout",
          "text": [
            "    EPOCH #15 STEP #0 | loss: 2.2336416244506836, avg_loss: 2.2336416244506836\n"
          ]
        },
        {
          "output_type": "stream",
          "name": "stderr",
          "text": [
            "200it [03:35,  1.06s/it]INFO:transformer_log:    EPOCH #15 STEP #200 | loss: 2.31746768951416, avg_loss: 2.3029082865264283\n",
            "201it [03:36,  1.07s/it]"
          ]
        },
        {
          "output_type": "stream",
          "name": "stdout",
          "text": [
            "    EPOCH #15 STEP #200 | loss: 2.31746768951416, avg_loss: 2.3029082865264283\n"
          ]
        },
        {
          "output_type": "stream",
          "name": "stderr",
          "text": [
            "400it [07:11,  1.08s/it]INFO:transformer_log:    EPOCH #15 STEP #400 | loss: 2.3472044467926025, avg_loss: 2.307257553585747\n",
            "401it [07:12,  1.09s/it]"
          ]
        },
        {
          "output_type": "stream",
          "name": "stdout",
          "text": [
            "    EPOCH #15 STEP #400 | loss: 2.3472044467926025, avg_loss: 2.307257553585747\n"
          ]
        },
        {
          "output_type": "stream",
          "name": "stderr",
          "text": [
            "600it [10:47,  1.08s/it]INFO:transformer_log:    EPOCH #15 STEP #600 | loss: 2.290898323059082, avg_loss: 2.3102143532821224\n",
            "601it [10:48,  1.08s/it]"
          ]
        },
        {
          "output_type": "stream",
          "name": "stdout",
          "text": [
            "    EPOCH #15 STEP #600 | loss: 2.290898323059082, avg_loss: 2.3102143532821224\n"
          ]
        },
        {
          "output_type": "stream",
          "name": "stderr",
          "text": [
            "751it [13:30,  1.08s/it]\n",
            "117it [00:46,  2.53it/s]\n",
            "INFO:transformer_log:Epoch #15 End: Train Loss 2.3127788205280124, Test Loss 2.1454758766369944\n",
            "INFO:transformer_log:Epoch #16 Start: current LR 0.0005701643477881459\n"
          ]
        },
        {
          "output_type": "stream",
          "name": "stdout",
          "text": [
            "Epoch #16 Start: current LR 0.0005701643477881459\n"
          ]
        },
        {
          "output_type": "stream",
          "name": "stderr",
          "text": [
            "0it [00:00, ?it/s]INFO:transformer_log:    EPOCH #16 STEP #0 | loss: 2.250819444656372, avg_loss: 2.250819444656372\n",
            "1it [00:01,  1.08s/it]"
          ]
        },
        {
          "output_type": "stream",
          "name": "stdout",
          "text": [
            "    EPOCH #16 STEP #0 | loss: 2.250819444656372, avg_loss: 2.250819444656372\n"
          ]
        },
        {
          "output_type": "stream",
          "name": "stderr",
          "text": [
            "200it [03:35,  1.08s/it]INFO:transformer_log:    EPOCH #16 STEP #200 | loss: 2.3250396251678467, avg_loss: 2.2978903108568334\n",
            "201it [03:37,  1.09s/it]"
          ]
        },
        {
          "output_type": "stream",
          "name": "stdout",
          "text": [
            "    EPOCH #16 STEP #200 | loss: 2.3250396251678467, avg_loss: 2.2978903108568334\n"
          ]
        },
        {
          "output_type": "stream",
          "name": "stderr",
          "text": [
            "400it [07:11,  1.07s/it]INFO:transformer_log:    EPOCH #16 STEP #400 | loss: 2.2670650482177734, avg_loss: 2.3015007895424477\n",
            "401it [07:12,  1.06s/it]"
          ]
        },
        {
          "output_type": "stream",
          "name": "stdout",
          "text": [
            "    EPOCH #16 STEP #400 | loss: 2.2670650482177734, avg_loss: 2.3015007895424477\n"
          ]
        },
        {
          "output_type": "stream",
          "name": "stderr",
          "text": [
            "600it [10:47,  1.09s/it]INFO:transformer_log:    EPOCH #16 STEP #600 | loss: 2.3461990356445312, avg_loss: 2.302342875031584\n",
            "601it [10:48,  1.11s/it]"
          ]
        },
        {
          "output_type": "stream",
          "name": "stdout",
          "text": [
            "    EPOCH #16 STEP #600 | loss: 2.3461990356445312, avg_loss: 2.302342875031584\n"
          ]
        },
        {
          "output_type": "stream",
          "name": "stderr",
          "text": [
            "751it [13:31,  1.08s/it]\n",
            "117it [00:46,  2.53it/s]\n",
            "INFO:transformer_log:Epoch #16 End: Train Loss 2.303367731256904, Test Loss 2.1331202566114245\n",
            "INFO:transformer_log:Epoch #17 Start: current LR 0.0005531406658569243\n"
          ]
        },
        {
          "output_type": "stream",
          "name": "stdout",
          "text": [
            "Epoch #17 Start: current LR 0.0005531406658569243\n"
          ]
        },
        {
          "output_type": "stream",
          "name": "stderr",
          "text": [
            "0it [00:00, ?it/s]INFO:transformer_log:    EPOCH #17 STEP #0 | loss: 2.280168056488037, avg_loss: 2.280168056488037\n",
            "1it [00:01,  1.11s/it]"
          ]
        },
        {
          "output_type": "stream",
          "name": "stdout",
          "text": [
            "    EPOCH #17 STEP #0 | loss: 2.280168056488037, avg_loss: 2.280168056488037\n"
          ]
        },
        {
          "output_type": "stream",
          "name": "stderr",
          "text": [
            "200it [03:35,  1.08s/it]INFO:transformer_log:    EPOCH #17 STEP #200 | loss: 2.271796703338623, avg_loss: 2.286269983842005\n",
            "201it [03:37,  1.08s/it]"
          ]
        },
        {
          "output_type": "stream",
          "name": "stdout",
          "text": [
            "    EPOCH #17 STEP #200 | loss: 2.271796703338623, avg_loss: 2.286269983842005\n"
          ]
        },
        {
          "output_type": "stream",
          "name": "stderr",
          "text": [
            "400it [07:11,  1.07s/it]INFO:transformer_log:    EPOCH #17 STEP #400 | loss: 2.274602174758911, avg_loss: 2.2908872202447523\n",
            "401it [07:12,  1.07s/it]"
          ]
        },
        {
          "output_type": "stream",
          "name": "stdout",
          "text": [
            "    EPOCH #17 STEP #400 | loss: 2.274602174758911, avg_loss: 2.2908872202447523\n"
          ]
        },
        {
          "output_type": "stream",
          "name": "stderr",
          "text": [
            "600it [10:47,  1.10s/it]INFO:transformer_log:    EPOCH #17 STEP #600 | loss: 2.319093704223633, avg_loss: 2.2933179526876493\n",
            "601it [10:48,  1.11s/it]"
          ]
        },
        {
          "output_type": "stream",
          "name": "stdout",
          "text": [
            "    EPOCH #17 STEP #600 | loss: 2.319093704223633, avg_loss: 2.2933179526876493\n"
          ]
        },
        {
          "output_type": "stream",
          "name": "stderr",
          "text": [
            "751it [13:30,  1.08s/it]\n",
            "117it [00:46,  2.52it/s]\n",
            "INFO:transformer_log:Epoch #17 End: Train Loss 2.294818141647725, Test Loss 2.1259492421761537\n",
            "INFO:transformer_log:Epoch #18 Start: current LR 0.000537556102282404\n"
          ]
        },
        {
          "output_type": "stream",
          "name": "stdout",
          "text": [
            "Epoch #18 Start: current LR 0.000537556102282404\n"
          ]
        },
        {
          "output_type": "stream",
          "name": "stderr",
          "text": [
            "0it [00:00, ?it/s]INFO:transformer_log:    EPOCH #18 STEP #0 | loss: 2.2741899490356445, avg_loss: 2.2741899490356445\n",
            "1it [00:01,  1.05s/it]"
          ]
        },
        {
          "output_type": "stream",
          "name": "stdout",
          "text": [
            "    EPOCH #18 STEP #0 | loss: 2.2741899490356445, avg_loss: 2.2741899490356445\n"
          ]
        },
        {
          "output_type": "stream",
          "name": "stderr",
          "text": [
            "200it [03:35,  1.07s/it]INFO:transformer_log:    EPOCH #18 STEP #200 | loss: 2.287102460861206, avg_loss: 2.275792684128035\n",
            "201it [03:36,  1.09s/it]"
          ]
        },
        {
          "output_type": "stream",
          "name": "stdout",
          "text": [
            "    EPOCH #18 STEP #200 | loss: 2.287102460861206, avg_loss: 2.275792684128035\n"
          ]
        },
        {
          "output_type": "stream",
          "name": "stderr",
          "text": [
            "400it [07:10,  1.06s/it]INFO:transformer_log:    EPOCH #18 STEP #400 | loss: 2.3129820823669434, avg_loss: 2.282081961929055\n",
            "401it [07:12,  1.06s/it]"
          ]
        },
        {
          "output_type": "stream",
          "name": "stdout",
          "text": [
            "    EPOCH #18 STEP #400 | loss: 2.3129820823669434, avg_loss: 2.282081961929055\n"
          ]
        },
        {
          "output_type": "stream",
          "name": "stderr",
          "text": [
            "600it [10:46,  1.08s/it]INFO:transformer_log:    EPOCH #18 STEP #600 | loss: 2.3266544342041016, avg_loss: 2.285452700692683\n",
            "601it [10:47,  1.09s/it]"
          ]
        },
        {
          "output_type": "stream",
          "name": "stdout",
          "text": [
            "    EPOCH #18 STEP #600 | loss: 2.3266544342041016, avg_loss: 2.285452700692683\n"
          ]
        },
        {
          "output_type": "stream",
          "name": "stderr",
          "text": [
            "751it [13:28,  1.08s/it]\n",
            "117it [00:46,  2.50it/s]\n",
            "INFO:transformer_log:Epoch #18 End: Train Loss 2.2873931318402447, Test Loss 2.1174146181497817\n",
            "INFO:transformer_log:Epoch #19 Start: current LR 0.0005232186890985908\n"
          ]
        },
        {
          "output_type": "stream",
          "name": "stdout",
          "text": [
            "Epoch #19 Start: current LR 0.0005232186890985908\n"
          ]
        },
        {
          "output_type": "stream",
          "name": "stderr",
          "text": [
            "0it [00:00, ?it/s]INFO:transformer_log:    EPOCH #19 STEP #0 | loss: 2.1636691093444824, avg_loss: 2.1636691093444824\n",
            "1it [00:01,  1.07s/it]"
          ]
        },
        {
          "output_type": "stream",
          "name": "stdout",
          "text": [
            "    EPOCH #19 STEP #0 | loss: 2.1636691093444824, avg_loss: 2.1636691093444824\n"
          ]
        },
        {
          "output_type": "stream",
          "name": "stderr",
          "text": [
            "200it [03:35,  1.07s/it]INFO:transformer_log:    EPOCH #19 STEP #200 | loss: 2.2613890171051025, avg_loss: 2.274138622616061\n",
            "201it [03:36,  1.08s/it]"
          ]
        },
        {
          "output_type": "stream",
          "name": "stdout",
          "text": [
            "    EPOCH #19 STEP #200 | loss: 2.2613890171051025, avg_loss: 2.274138622616061\n"
          ]
        },
        {
          "output_type": "stream",
          "name": "stderr",
          "text": [
            "400it [07:10,  1.07s/it]INFO:transformer_log:    EPOCH #19 STEP #400 | loss: 2.1894822120666504, avg_loss: 2.2825956522972506\n",
            "401it [07:11,  1.07s/it]"
          ]
        },
        {
          "output_type": "stream",
          "name": "stdout",
          "text": [
            "    EPOCH #19 STEP #400 | loss: 2.1894822120666504, avg_loss: 2.2825956522972506\n"
          ]
        },
        {
          "output_type": "stream",
          "name": "stderr",
          "text": [
            "600it [10:45,  1.07s/it]INFO:transformer_log:    EPOCH #19 STEP #600 | loss: 2.230677604675293, avg_loss: 2.2796501173155876\n",
            "601it [10:46,  1.07s/it]"
          ]
        },
        {
          "output_type": "stream",
          "name": "stdout",
          "text": [
            "    EPOCH #19 STEP #600 | loss: 2.230677604675293, avg_loss: 2.2796501173155876\n"
          ]
        },
        {
          "output_type": "stream",
          "name": "stderr",
          "text": [
            "751it [13:28,  1.08s/it]\n",
            "117it [00:46,  2.52it/s]\n",
            "INFO:transformer_log:Epoch #19 End: Train Loss 2.280840906417481, Test Loss 2.1093885969911885\n",
            "INFO:transformer_log:Epoch #20 Start: current LR 0.0005099704960004505\n"
          ]
        },
        {
          "output_type": "stream",
          "name": "stdout",
          "text": [
            "Epoch #20 Start: current LR 0.0005099704960004505\n"
          ]
        },
        {
          "output_type": "stream",
          "name": "stderr",
          "text": [
            "0it [00:00, ?it/s]INFO:transformer_log:    EPOCH #20 STEP #0 | loss: 2.3570659160614014, avg_loss: 2.3570659160614014\n",
            "1it [00:01,  1.06s/it]"
          ]
        },
        {
          "output_type": "stream",
          "name": "stdout",
          "text": [
            "    EPOCH #20 STEP #0 | loss: 2.3570659160614014, avg_loss: 2.3570659160614014\n"
          ]
        },
        {
          "output_type": "stream",
          "name": "stderr",
          "text": [
            "200it [03:35,  1.07s/it]INFO:transformer_log:    EPOCH #20 STEP #200 | loss: 2.2301692962646484, avg_loss: 2.263437144198821\n",
            "201it [03:36,  1.07s/it]"
          ]
        },
        {
          "output_type": "stream",
          "name": "stdout",
          "text": [
            "    EPOCH #20 STEP #200 | loss: 2.2301692962646484, avg_loss: 2.263437144198821\n"
          ]
        },
        {
          "output_type": "stream",
          "name": "stderr",
          "text": [
            "400it [07:11,  1.08s/it]INFO:transformer_log:    EPOCH #20 STEP #400 | loss: 2.213413715362549, avg_loss: 2.268369811431428\n",
            "401it [07:12,  1.09s/it]"
          ]
        },
        {
          "output_type": "stream",
          "name": "stdout",
          "text": [
            "    EPOCH #20 STEP #400 | loss: 2.213413715362549, avg_loss: 2.268369811431428\n"
          ]
        },
        {
          "output_type": "stream",
          "name": "stderr",
          "text": [
            "600it [10:47,  1.08s/it]INFO:transformer_log:    EPOCH #20 STEP #600 | loss: 2.3123791217803955, avg_loss: 2.2720053977458528\n",
            "601it [10:48,  1.07s/it]"
          ]
        },
        {
          "output_type": "stream",
          "name": "stdout",
          "text": [
            "    EPOCH #20 STEP #600 | loss: 2.3123791217803955, avg_loss: 2.2720053977458528\n"
          ]
        },
        {
          "output_type": "stream",
          "name": "stderr",
          "text": [
            "751it [13:31,  1.08s/it]\n",
            "117it [00:46,  2.53it/s]\n",
            "INFO:transformer_log:Epoch #20 End: Train Loss 2.273905244870446, Test Loss 2.1068759473979983\n",
            "INFO:transformer_log:Epoch #21 Start: current LR 0.0004976802442484392\n"
          ]
        },
        {
          "output_type": "stream",
          "name": "stdout",
          "text": [
            "Epoch #21 Start: current LR 0.0004976802442484392\n"
          ]
        },
        {
          "output_type": "stream",
          "name": "stderr",
          "text": [
            "0it [00:00, ?it/s]INFO:transformer_log:    EPOCH #21 STEP #0 | loss: 2.1625354290008545, avg_loss: 2.1625354290008545\n",
            "1it [00:01,  1.06s/it]"
          ]
        },
        {
          "output_type": "stream",
          "name": "stdout",
          "text": [
            "    EPOCH #21 STEP #0 | loss: 2.1625354290008545, avg_loss: 2.1625354290008545\n"
          ]
        },
        {
          "output_type": "stream",
          "name": "stderr",
          "text": [
            "200it [03:35,  1.09s/it]INFO:transformer_log:    EPOCH #21 STEP #200 | loss: 2.1870782375335693, avg_loss: 2.2585325347843455\n",
            "201it [03:36,  1.10s/it]"
          ]
        },
        {
          "output_type": "stream",
          "name": "stdout",
          "text": [
            "    EPOCH #21 STEP #200 | loss: 2.1870782375335693, avg_loss: 2.2585325347843455\n"
          ]
        },
        {
          "output_type": "stream",
          "name": "stderr",
          "text": [
            "400it [07:11,  1.07s/it]INFO:transformer_log:    EPOCH #21 STEP #400 | loss: 2.274221658706665, avg_loss: 2.2618035342627927\n",
            "401it [07:12,  1.08s/it]"
          ]
        },
        {
          "output_type": "stream",
          "name": "stdout",
          "text": [
            "    EPOCH #21 STEP #400 | loss: 2.274221658706665, avg_loss: 2.2618035342627927\n"
          ]
        },
        {
          "output_type": "stream",
          "name": "stderr",
          "text": [
            "600it [10:46,  1.09s/it]INFO:transformer_log:    EPOCH #21 STEP #600 | loss: 2.1730995178222656, avg_loss: 2.2662681390759154\n",
            "601it [10:47,  1.09s/it]"
          ]
        },
        {
          "output_type": "stream",
          "name": "stdout",
          "text": [
            "    EPOCH #21 STEP #600 | loss: 2.1730995178222656, avg_loss: 2.2662681390759154\n"
          ]
        },
        {
          "output_type": "stream",
          "name": "stderr",
          "text": [
            "751it [13:29,  1.08s/it]\n",
            "117it [00:46,  2.52it/s]\n",
            "INFO:transformer_log:Epoch #21 End: Train Loss 2.268457015884542, Test Loss 2.0971909190854454\n",
            "INFO:transformer_log:Epoch #22 Start: current LR 0.0004862377895554484\n"
          ]
        },
        {
          "output_type": "stream",
          "name": "stdout",
          "text": [
            "Epoch #22 Start: current LR 0.0004862377895554484\n"
          ]
        },
        {
          "output_type": "stream",
          "name": "stderr",
          "text": [
            "0it [00:00, ?it/s]INFO:transformer_log:    EPOCH #22 STEP #0 | loss: 2.259512424468994, avg_loss: 2.259512424468994\n",
            "1it [00:01,  1.08s/it]"
          ]
        },
        {
          "output_type": "stream",
          "name": "stdout",
          "text": [
            "    EPOCH #22 STEP #0 | loss: 2.259512424468994, avg_loss: 2.259512424468994\n"
          ]
        },
        {
          "output_type": "stream",
          "name": "stderr",
          "text": [
            "200it [03:35,  1.06s/it]INFO:transformer_log:    EPOCH #22 STEP #200 | loss: 2.2242183685302734, avg_loss: 2.2510370745587704\n",
            "201it [03:36,  1.06s/it]"
          ]
        },
        {
          "output_type": "stream",
          "name": "stdout",
          "text": [
            "    EPOCH #22 STEP #200 | loss: 2.2242183685302734, avg_loss: 2.2510370745587704\n"
          ]
        },
        {
          "output_type": "stream",
          "name": "stderr",
          "text": [
            "400it [07:11,  1.07s/it]INFO:transformer_log:    EPOCH #22 STEP #400 | loss: 2.24467134475708, avg_loss: 2.257526742549906\n",
            "401it [07:12,  1.06s/it]"
          ]
        },
        {
          "output_type": "stream",
          "name": "stdout",
          "text": [
            "    EPOCH #22 STEP #400 | loss: 2.24467134475708, avg_loss: 2.257526742549906\n"
          ]
        },
        {
          "output_type": "stream",
          "name": "stderr",
          "text": [
            "600it [10:46,  1.09s/it]INFO:transformer_log:    EPOCH #22 STEP #600 | loss: 2.3237271308898926, avg_loss: 2.2612639449400436\n",
            "601it [10:48,  1.10s/it]"
          ]
        },
        {
          "output_type": "stream",
          "name": "stdout",
          "text": [
            "    EPOCH #22 STEP #600 | loss: 2.3237271308898926, avg_loss: 2.2612639449400436\n"
          ]
        },
        {
          "output_type": "stream",
          "name": "stderr",
          "text": [
            "751it [13:29,  1.08s/it]\n",
            "117it [00:46,  2.52it/s]\n",
            "INFO:transformer_log:Epoch #22 End: Train Loss 2.262025714079327, Test Loss 2.091952710070162\n",
            "INFO:transformer_log:Epoch #23 Start: current LR 0.0004755499395811177\n"
          ]
        },
        {
          "output_type": "stream",
          "name": "stdout",
          "text": [
            "Epoch #23 Start: current LR 0.0004755499395811177\n"
          ]
        },
        {
          "output_type": "stream",
          "name": "stderr",
          "text": [
            "0it [00:00, ?it/s]INFO:transformer_log:    EPOCH #23 STEP #0 | loss: 2.216994047164917, avg_loss: 2.216994047164917\n",
            "1it [00:01,  1.09s/it]"
          ]
        },
        {
          "output_type": "stream",
          "name": "stdout",
          "text": [
            "    EPOCH #23 STEP #0 | loss: 2.216994047164917, avg_loss: 2.216994047164917\n"
          ]
        },
        {
          "output_type": "stream",
          "name": "stderr",
          "text": [
            "200it [03:35,  1.08s/it]INFO:transformer_log:    EPOCH #23 STEP #200 | loss: 2.2484428882598877, avg_loss: 2.2473377446037026\n",
            "201it [03:36,  1.09s/it]"
          ]
        },
        {
          "output_type": "stream",
          "name": "stdout",
          "text": [
            "    EPOCH #23 STEP #200 | loss: 2.2484428882598877, avg_loss: 2.2473377446037026\n"
          ]
        },
        {
          "output_type": "stream",
          "name": "stderr",
          "text": [
            "400it [07:10,  1.07s/it]INFO:transformer_log:    EPOCH #23 STEP #400 | loss: 2.2096409797668457, avg_loss: 2.250634179745529\n",
            "401it [07:11,  1.07s/it]"
          ]
        },
        {
          "output_type": "stream",
          "name": "stdout",
          "text": [
            "    EPOCH #23 STEP #400 | loss: 2.2096409797668457, avg_loss: 2.250634179745529\n"
          ]
        },
        {
          "output_type": "stream",
          "name": "stderr",
          "text": [
            "600it [10:45,  1.08s/it]INFO:transformer_log:    EPOCH #23 STEP #600 | loss: 2.3178629875183105, avg_loss: 2.2544830964131286\n",
            "601it [10:47,  1.08s/it]"
          ]
        },
        {
          "output_type": "stream",
          "name": "stdout",
          "text": [
            "    EPOCH #23 STEP #600 | loss: 2.3178629875183105, avg_loss: 2.2544830964131286\n"
          ]
        },
        {
          "output_type": "stream",
          "name": "stderr",
          "text": [
            "751it [13:28,  1.08s/it]\n",
            "117it [00:46,  2.54it/s]\n",
            "INFO:transformer_log:Epoch #23 End: Train Loss 2.256232444836836, Test Loss 2.0866300927268133\n",
            "INFO:transformer_log:Epoch #24 Start: current LR 0.00046553724053590795\n"
          ]
        },
        {
          "output_type": "stream",
          "name": "stdout",
          "text": [
            "Epoch #24 Start: current LR 0.00046553724053590795\n"
          ]
        },
        {
          "output_type": "stream",
          "name": "stderr",
          "text": [
            "0it [00:00, ?it/s]INFO:transformer_log:    EPOCH #24 STEP #0 | loss: 2.281357526779175, avg_loss: 2.281357526779175\n",
            "1it [00:01,  1.07s/it]"
          ]
        },
        {
          "output_type": "stream",
          "name": "stdout",
          "text": [
            "    EPOCH #24 STEP #0 | loss: 2.281357526779175, avg_loss: 2.281357526779175\n"
          ]
        },
        {
          "output_type": "stream",
          "name": "stderr",
          "text": [
            "200it [03:35,  1.07s/it]INFO:transformer_log:    EPOCH #24 STEP #200 | loss: 2.2679409980773926, avg_loss: 2.245059328885814\n",
            "201it [03:36,  1.07s/it]"
          ]
        },
        {
          "output_type": "stream",
          "name": "stdout",
          "text": [
            "    EPOCH #24 STEP #200 | loss: 2.2679409980773926, avg_loss: 2.245059328885814\n"
          ]
        },
        {
          "output_type": "stream",
          "name": "stderr",
          "text": [
            "400it [07:10,  1.08s/it]INFO:transformer_log:    EPOCH #24 STEP #400 | loss: 2.252469301223755, avg_loss: 2.246543173778087\n",
            "401it [07:11,  1.08s/it]"
          ]
        },
        {
          "output_type": "stream",
          "name": "stdout",
          "text": [
            "    EPOCH #24 STEP #400 | loss: 2.252469301223755, avg_loss: 2.246543173778087\n"
          ]
        },
        {
          "output_type": "stream",
          "name": "stderr",
          "text": [
            "600it [10:45,  1.07s/it]INFO:transformer_log:    EPOCH #24 STEP #600 | loss: 2.2326927185058594, avg_loss: 2.250105325076822\n",
            "601it [10:46,  1.06s/it]"
          ]
        },
        {
          "output_type": "stream",
          "name": "stdout",
          "text": [
            "    EPOCH #24 STEP #600 | loss: 2.2326927185058594, avg_loss: 2.250105325076822\n"
          ]
        },
        {
          "output_type": "stream",
          "name": "stderr",
          "text": [
            "751it [13:27,  1.08s/it]\n",
            "117it [00:46,  2.50it/s]\n",
            "INFO:transformer_log:Epoch #24 End: Train Loss 2.2509631796302236, Test Loss 2.0784980792265673\n",
            "INFO:transformer_log:Epoch #25 Start: current LR 0.0004561314782305167\n"
          ]
        },
        {
          "output_type": "stream",
          "name": "stdout",
          "text": [
            "Epoch #25 Start: current LR 0.0004561314782305167\n"
          ]
        },
        {
          "output_type": "stream",
          "name": "stderr",
          "text": [
            "0it [00:00, ?it/s]INFO:transformer_log:    EPOCH #25 STEP #0 | loss: 2.2045509815216064, avg_loss: 2.2045509815216064\n",
            "1it [00:01,  1.06s/it]"
          ]
        },
        {
          "output_type": "stream",
          "name": "stdout",
          "text": [
            "    EPOCH #25 STEP #0 | loss: 2.2045509815216064, avg_loss: 2.2045509815216064\n"
          ]
        },
        {
          "output_type": "stream",
          "name": "stderr",
          "text": [
            "200it [03:35,  1.07s/it]INFO:transformer_log:    EPOCH #25 STEP #200 | loss: 2.294724464416504, avg_loss: 2.235782070539484\n",
            "201it [03:36,  1.08s/it]"
          ]
        },
        {
          "output_type": "stream",
          "name": "stdout",
          "text": [
            "    EPOCH #25 STEP #200 | loss: 2.294724464416504, avg_loss: 2.235782070539484\n"
          ]
        },
        {
          "output_type": "stream",
          "name": "stderr",
          "text": [
            "400it [07:10,  1.07s/it]INFO:transformer_log:    EPOCH #25 STEP #400 | loss: 2.239886999130249, avg_loss: 2.2409254285760056\n",
            "401it [07:11,  1.06s/it]"
          ]
        },
        {
          "output_type": "stream",
          "name": "stdout",
          "text": [
            "    EPOCH #25 STEP #400 | loss: 2.239886999130249, avg_loss: 2.2409254285760056\n"
          ]
        },
        {
          "output_type": "stream",
          "name": "stderr",
          "text": [
            "600it [10:45,  1.10s/it]INFO:transformer_log:    EPOCH #25 STEP #600 | loss: 2.2222914695739746, avg_loss: 2.24394391935796\n",
            "601it [10:46,  1.08s/it]"
          ]
        },
        {
          "output_type": "stream",
          "name": "stdout",
          "text": [
            "    EPOCH #25 STEP #600 | loss: 2.2222914695739746, avg_loss: 2.24394391935796\n"
          ]
        },
        {
          "output_type": "stream",
          "name": "stderr",
          "text": [
            "751it [13:27,  1.08s/it]\n",
            "117it [00:46,  2.52it/s]\n",
            "INFO:transformer_log:Epoch #25 End: Train Loss 2.2462209525025796, Test Loss 2.078074803719154\n",
            "INFO:transformer_log:Epoch #26 Start: current LR 0.0004472737131271783\n"
          ]
        },
        {
          "output_type": "stream",
          "name": "stdout",
          "text": [
            "Epoch #26 Start: current LR 0.0004472737131271783\n"
          ]
        },
        {
          "output_type": "stream",
          "name": "stderr",
          "text": [
            "0it [00:00, ?it/s]INFO:transformer_log:    EPOCH #26 STEP #0 | loss: 2.223590612411499, avg_loss: 2.223590612411499\n",
            "1it [00:01,  1.08s/it]"
          ]
        },
        {
          "output_type": "stream",
          "name": "stdout",
          "text": [
            "    EPOCH #26 STEP #0 | loss: 2.223590612411499, avg_loss: 2.223590612411499\n"
          ]
        },
        {
          "output_type": "stream",
          "name": "stderr",
          "text": [
            "200it [03:35,  1.06s/it]INFO:transformer_log:    EPOCH #26 STEP #200 | loss: 2.275543212890625, avg_loss: 2.229415746470589\n",
            "201it [03:36,  1.07s/it]"
          ]
        },
        {
          "output_type": "stream",
          "name": "stdout",
          "text": [
            "    EPOCH #26 STEP #200 | loss: 2.275543212890625, avg_loss: 2.229415746470589\n"
          ]
        },
        {
          "output_type": "stream",
          "name": "stderr",
          "text": [
            "400it [07:10,  1.06s/it]INFO:transformer_log:    EPOCH #26 STEP #400 | loss: 2.2900888919830322, avg_loss: 2.2354471909435016\n",
            "401it [07:11,  1.06s/it]"
          ]
        },
        {
          "output_type": "stream",
          "name": "stdout",
          "text": [
            "    EPOCH #26 STEP #400 | loss: 2.2900888919830322, avg_loss: 2.2354471909435016\n"
          ]
        },
        {
          "output_type": "stream",
          "name": "stderr",
          "text": [
            "600it [10:44,  1.08s/it]INFO:transformer_log:    EPOCH #26 STEP #600 | loss: 2.2595419883728027, avg_loss: 2.2393146957613266\n",
            "601it [10:45,  1.08s/it]"
          ]
        },
        {
          "output_type": "stream",
          "name": "stdout",
          "text": [
            "    EPOCH #26 STEP #600 | loss: 2.2595419883728027, avg_loss: 2.2393146957613266\n"
          ]
        },
        {
          "output_type": "stream",
          "name": "stderr",
          "text": [
            "751it [13:27,  1.07s/it]\n",
            "117it [00:46,  2.54it/s]\n",
            "INFO:transformer_log:Epoch #26 End: Train Loss 2.2410100287349817, Test Loss 2.0736853261279244\n",
            "INFO:transformer_log:Epoch #27 Start: current LR 0.0004389127195704179\n"
          ]
        },
        {
          "output_type": "stream",
          "name": "stdout",
          "text": [
            "Epoch #27 Start: current LR 0.0004389127195704179\n"
          ]
        },
        {
          "output_type": "stream",
          "name": "stderr",
          "text": [
            "0it [00:00, ?it/s]INFO:transformer_log:    EPOCH #27 STEP #0 | loss: 2.1538331508636475, avg_loss: 2.1538331508636475\n",
            "1it [00:01,  1.08s/it]"
          ]
        },
        {
          "output_type": "stream",
          "name": "stdout",
          "text": [
            "    EPOCH #27 STEP #0 | loss: 2.1538331508636475, avg_loss: 2.1538331508636475\n"
          ]
        },
        {
          "output_type": "stream",
          "name": "stderr",
          "text": [
            "200it [03:35,  1.07s/it]INFO:transformer_log:    EPOCH #27 STEP #200 | loss: 2.258121967315674, avg_loss: 2.223795948930048\n",
            "201it [03:36,  1.07s/it]"
          ]
        },
        {
          "output_type": "stream",
          "name": "stdout",
          "text": [
            "    EPOCH #27 STEP #200 | loss: 2.258121967315674, avg_loss: 2.223795948930048\n"
          ]
        },
        {
          "output_type": "stream",
          "name": "stderr",
          "text": [
            "400it [07:09,  1.06s/it]INFO:transformer_log:    EPOCH #27 STEP #400 | loss: 2.341005325317383, avg_loss: 2.2315998933559045\n",
            "401it [07:10,  1.06s/it]"
          ]
        },
        {
          "output_type": "stream",
          "name": "stdout",
          "text": [
            "    EPOCH #27 STEP #400 | loss: 2.341005325317383, avg_loss: 2.2315998933559045\n"
          ]
        },
        {
          "output_type": "stream",
          "name": "stderr",
          "text": [
            "600it [10:44,  1.07s/it]INFO:transformer_log:    EPOCH #27 STEP #600 | loss: 2.2349026203155518, avg_loss: 2.234368188607316\n",
            "601it [10:45,  1.07s/it]"
          ]
        },
        {
          "output_type": "stream",
          "name": "stdout",
          "text": [
            "    EPOCH #27 STEP #600 | loss: 2.2349026203155518, avg_loss: 2.234368188607316\n"
          ]
        },
        {
          "output_type": "stream",
          "name": "stderr",
          "text": [
            "751it [13:27,  1.07s/it]\n",
            "117it [00:46,  2.54it/s]\n",
            "INFO:transformer_log:Epoch #27 End: Train Loss 2.2363144656154668, Test Loss 2.0709364098361416\n",
            "INFO:transformer_log:Epoch #28 Start: current LR 0.0004310037344807926\n"
          ]
        },
        {
          "output_type": "stream",
          "name": "stdout",
          "text": [
            "Epoch #28 Start: current LR 0.0004310037344807926\n"
          ]
        },
        {
          "output_type": "stream",
          "name": "stderr",
          "text": [
            "0it [00:00, ?it/s]INFO:transformer_log:    EPOCH #28 STEP #0 | loss: 2.209545373916626, avg_loss: 2.209545373916626\n",
            "1it [00:01,  1.07s/it]"
          ]
        },
        {
          "output_type": "stream",
          "name": "stdout",
          "text": [
            "    EPOCH #28 STEP #0 | loss: 2.209545373916626, avg_loss: 2.209545373916626\n"
          ]
        },
        {
          "output_type": "stream",
          "name": "stderr",
          "text": [
            "200it [03:36,  1.10s/it]INFO:transformer_log:    EPOCH #28 STEP #200 | loss: 2.257068395614624, avg_loss: 2.220054334668971\n",
            "201it [03:37,  1.11s/it]"
          ]
        },
        {
          "output_type": "stream",
          "name": "stdout",
          "text": [
            "    EPOCH #28 STEP #200 | loss: 2.257068395614624, avg_loss: 2.220054334668971\n"
          ]
        },
        {
          "output_type": "stream",
          "name": "stderr",
          "text": [
            "400it [07:12,  1.09s/it]INFO:transformer_log:    EPOCH #28 STEP #400 | loss: 2.2130095958709717, avg_loss: 2.22941979327404\n",
            "401it [07:13,  1.08s/it]"
          ]
        },
        {
          "output_type": "stream",
          "name": "stdout",
          "text": [
            "    EPOCH #28 STEP #400 | loss: 2.2130095958709717, avg_loss: 2.22941979327404\n"
          ]
        },
        {
          "output_type": "stream",
          "name": "stderr",
          "text": [
            "600it [10:47,  1.08s/it]INFO:transformer_log:    EPOCH #28 STEP #600 | loss: 2.335045099258423, avg_loss: 2.232526950153852\n",
            "601it [10:48,  1.09s/it]"
          ]
        },
        {
          "output_type": "stream",
          "name": "stdout",
          "text": [
            "    EPOCH #28 STEP #600 | loss: 2.335045099258423, avg_loss: 2.232526950153852\n"
          ]
        },
        {
          "output_type": "stream",
          "name": "stderr",
          "text": [
            "751it [13:30,  1.08s/it]\n",
            "117it [00:46,  2.50it/s]\n",
            "INFO:transformer_log:Epoch #28 End: Train Loss 2.233150813931949, Test Loss 2.0651538433172765\n",
            "INFO:transformer_log:Epoch #29 Start: current LR 0.00042350744551607184\n"
          ]
        },
        {
          "output_type": "stream",
          "name": "stdout",
          "text": [
            "Epoch #29 Start: current LR 0.00042350744551607184\n"
          ]
        },
        {
          "output_type": "stream",
          "name": "stderr",
          "text": [
            "0it [00:00, ?it/s]INFO:transformer_log:    EPOCH #29 STEP #0 | loss: 2.202333927154541, avg_loss: 2.202333927154541\n",
            "1it [00:01,  1.08s/it]"
          ]
        },
        {
          "output_type": "stream",
          "name": "stdout",
          "text": [
            "    EPOCH #29 STEP #0 | loss: 2.202333927154541, avg_loss: 2.202333927154541\n"
          ]
        },
        {
          "output_type": "stream",
          "name": "stderr",
          "text": [
            "200it [03:35,  1.07s/it]INFO:transformer_log:    EPOCH #29 STEP #200 | loss: 2.309645891189575, avg_loss: 2.219084382650271\n",
            "201it [03:36,  1.07s/it]"
          ]
        },
        {
          "output_type": "stream",
          "name": "stdout",
          "text": [
            "    EPOCH #29 STEP #200 | loss: 2.309645891189575, avg_loss: 2.219084382650271\n"
          ]
        },
        {
          "output_type": "stream",
          "name": "stderr",
          "text": [
            "400it [07:10,  1.09s/it]INFO:transformer_log:    EPOCH #29 STEP #400 | loss: 2.195406198501587, avg_loss: 2.223116462664711\n",
            "401it [07:11,  1.09s/it]"
          ]
        },
        {
          "output_type": "stream",
          "name": "stdout",
          "text": [
            "    EPOCH #29 STEP #400 | loss: 2.195406198501587, avg_loss: 2.223116462664711\n"
          ]
        },
        {
          "output_type": "stream",
          "name": "stderr",
          "text": [
            "600it [10:46,  1.10s/it]INFO:transformer_log:    EPOCH #29 STEP #600 | loss: 2.207244634628296, avg_loss: 2.225370728434025\n",
            "601it [10:47,  1.10s/it]"
          ]
        },
        {
          "output_type": "stream",
          "name": "stdout",
          "text": [
            "    EPOCH #29 STEP #600 | loss: 2.207244634628296, avg_loss: 2.225370728434025\n"
          ]
        },
        {
          "output_type": "stream",
          "name": "stderr",
          "text": [
            "751it [13:28,  1.08s/it]\n",
            "117it [00:46,  2.51it/s]\n",
            "INFO:transformer_log:Epoch #29 End: Train Loss 2.2278473335956925, Test Loss 2.061577013415149\n"
          ]
        }
      ],
      "source": [
        "timestamp = datetime.now().strftime('%Y%m%d_%H%M%S')\n",
        "\n",
        "for epoch in range(epochs):\n",
        "    print(f'Epoch #{epoch} Start: current LR {optimizer.param_groups[0][\"lr\"]}')\n",
        "    logger.info(f'Epoch #{epoch} Start: current LR {optimizer.param_groups[0][\"lr\"]}')\n",
        "\n",
        "    train_loss = train_epoch(epoch)\n",
        "    test_loss = evaluate()\n",
        "    lr_history.append(optimizer.param_groups[0][\"lr\"])\n",
        "    train_loss_history.append(train_loss)\n",
        "\n",
        "    logger.info(f'Epoch #{epoch} End: Train Loss {train_loss}, Test Loss {test_loss}')\n",
        "\n",
        "    model_path = model_dir / f'model_{timestamp}_{epoch}'\n",
        "    torch.save(model.state_dict(), model_path)\n"
      ]
    },
    {
      "cell_type": "code",
      "execution_count": 26,
      "id": "6e20070a-81b3-4e09-a47d-7b553093587b",
      "metadata": {
        "id": "6e20070a-81b3-4e09-a47d-7b553093587b"
      },
      "outputs": [],
      "source": []
    }
  ],
  "metadata": {
    "accelerator": "GPU",
    "colab": {
      "gpuType": "T4",
      "provenance": []
    },
    "kernelspec": {
      "display_name": "Python 3",
      "name": "python3"
    },
    "language_info": {
      "codemirror_mode": {
        "name": "ipython",
        "version": 3
      },
      "file_extension": ".py",
      "mimetype": "text/x-python",
      "name": "python",
      "nbconvert_exporter": "python",
      "pygments_lexer": "ipython3",
      "version": "3.11.10"
    },
    "widgets": {
      "application/vnd.jupyter.widget-state+json": {
        "3368cd26e20749e1989c9fd84606b9f3": {
          "model_module": "@jupyter-widgets/controls",
          "model_name": "HBoxModel",
          "model_module_version": "1.5.0",
          "state": {
            "_dom_classes": [],
            "_model_module": "@jupyter-widgets/controls",
            "_model_module_version": "1.5.0",
            "_model_name": "HBoxModel",
            "_view_count": null,
            "_view_module": "@jupyter-widgets/controls",
            "_view_module_version": "1.5.0",
            "_view_name": "HBoxView",
            "box_style": "",
            "children": [
              "IPY_MODEL_75aacf7a9e7e4aad93559608b224931a",
              "IPY_MODEL_9185212e3bab40b19e82e317950f85aa",
              "IPY_MODEL_55980db067ea42f0b8963edf0b7389d0"
            ],
            "layout": "IPY_MODEL_0cf394813252426281e0f3b65c57c161"
          }
        },
        "75aacf7a9e7e4aad93559608b224931a": {
          "model_module": "@jupyter-widgets/controls",
          "model_name": "HTMLModel",
          "model_module_version": "1.5.0",
          "state": {
            "_dom_classes": [],
            "_model_module": "@jupyter-widgets/controls",
            "_model_module_version": "1.5.0",
            "_model_name": "HTMLModel",
            "_view_count": null,
            "_view_module": "@jupyter-widgets/controls",
            "_view_module_version": "1.5.0",
            "_view_name": "HTMLView",
            "description": "",
            "description_tooltip": null,
            "layout": "IPY_MODEL_cc6826890ad740f8a60f8f6258b681a9",
            "placeholder": "​",
            "style": "IPY_MODEL_e9875af24515414395d9b9ded49a8864",
            "value": "tokenizer_config.json: 100%"
          }
        },
        "9185212e3bab40b19e82e317950f85aa": {
          "model_module": "@jupyter-widgets/controls",
          "model_name": "FloatProgressModel",
          "model_module_version": "1.5.0",
          "state": {
            "_dom_classes": [],
            "_model_module": "@jupyter-widgets/controls",
            "_model_module_version": "1.5.0",
            "_model_name": "FloatProgressModel",
            "_view_count": null,
            "_view_module": "@jupyter-widgets/controls",
            "_view_module_version": "1.5.0",
            "_view_name": "ProgressView",
            "bar_style": "success",
            "description": "",
            "description_tooltip": null,
            "layout": "IPY_MODEL_fa8297da36e64c1aa962c23f6a8a8957",
            "max": 44,
            "min": 0,
            "orientation": "horizontal",
            "style": "IPY_MODEL_b28e62a59fc544aabe01aa338bd232ff",
            "value": 44
          }
        },
        "55980db067ea42f0b8963edf0b7389d0": {
          "model_module": "@jupyter-widgets/controls",
          "model_name": "HTMLModel",
          "model_module_version": "1.5.0",
          "state": {
            "_dom_classes": [],
            "_model_module": "@jupyter-widgets/controls",
            "_model_module_version": "1.5.0",
            "_model_name": "HTMLModel",
            "_view_count": null,
            "_view_module": "@jupyter-widgets/controls",
            "_view_module_version": "1.5.0",
            "_view_name": "HTMLView",
            "description": "",
            "description_tooltip": null,
            "layout": "IPY_MODEL_739d00504d894d78b2ca6cc227b42116",
            "placeholder": "​",
            "style": "IPY_MODEL_3cbf79eae3da425286353e1f9c2cdec1",
            "value": " 44.0/44.0 [00:00&lt;00:00, 1.64kB/s]"
          }
        },
        "0cf394813252426281e0f3b65c57c161": {
          "model_module": "@jupyter-widgets/base",
          "model_name": "LayoutModel",
          "model_module_version": "1.2.0",
          "state": {
            "_model_module": "@jupyter-widgets/base",
            "_model_module_version": "1.2.0",
            "_model_name": "LayoutModel",
            "_view_count": null,
            "_view_module": "@jupyter-widgets/base",
            "_view_module_version": "1.2.0",
            "_view_name": "LayoutView",
            "align_content": null,
            "align_items": null,
            "align_self": null,
            "border": null,
            "bottom": null,
            "display": null,
            "flex": null,
            "flex_flow": null,
            "grid_area": null,
            "grid_auto_columns": null,
            "grid_auto_flow": null,
            "grid_auto_rows": null,
            "grid_column": null,
            "grid_gap": null,
            "grid_row": null,
            "grid_template_areas": null,
            "grid_template_columns": null,
            "grid_template_rows": null,
            "height": null,
            "justify_content": null,
            "justify_items": null,
            "left": null,
            "margin": null,
            "max_height": null,
            "max_width": null,
            "min_height": null,
            "min_width": null,
            "object_fit": null,
            "object_position": null,
            "order": null,
            "overflow": null,
            "overflow_x": null,
            "overflow_y": null,
            "padding": null,
            "right": null,
            "top": null,
            "visibility": null,
            "width": null
          }
        },
        "cc6826890ad740f8a60f8f6258b681a9": {
          "model_module": "@jupyter-widgets/base",
          "model_name": "LayoutModel",
          "model_module_version": "1.2.0",
          "state": {
            "_model_module": "@jupyter-widgets/base",
            "_model_module_version": "1.2.0",
            "_model_name": "LayoutModel",
            "_view_count": null,
            "_view_module": "@jupyter-widgets/base",
            "_view_module_version": "1.2.0",
            "_view_name": "LayoutView",
            "align_content": null,
            "align_items": null,
            "align_self": null,
            "border": null,
            "bottom": null,
            "display": null,
            "flex": null,
            "flex_flow": null,
            "grid_area": null,
            "grid_auto_columns": null,
            "grid_auto_flow": null,
            "grid_auto_rows": null,
            "grid_column": null,
            "grid_gap": null,
            "grid_row": null,
            "grid_template_areas": null,
            "grid_template_columns": null,
            "grid_template_rows": null,
            "height": null,
            "justify_content": null,
            "justify_items": null,
            "left": null,
            "margin": null,
            "max_height": null,
            "max_width": null,
            "min_height": null,
            "min_width": null,
            "object_fit": null,
            "object_position": null,
            "order": null,
            "overflow": null,
            "overflow_x": null,
            "overflow_y": null,
            "padding": null,
            "right": null,
            "top": null,
            "visibility": null,
            "width": null
          }
        },
        "e9875af24515414395d9b9ded49a8864": {
          "model_module": "@jupyter-widgets/controls",
          "model_name": "DescriptionStyleModel",
          "model_module_version": "1.5.0",
          "state": {
            "_model_module": "@jupyter-widgets/controls",
            "_model_module_version": "1.5.0",
            "_model_name": "DescriptionStyleModel",
            "_view_count": null,
            "_view_module": "@jupyter-widgets/base",
            "_view_module_version": "1.2.0",
            "_view_name": "StyleView",
            "description_width": ""
          }
        },
        "fa8297da36e64c1aa962c23f6a8a8957": {
          "model_module": "@jupyter-widgets/base",
          "model_name": "LayoutModel",
          "model_module_version": "1.2.0",
          "state": {
            "_model_module": "@jupyter-widgets/base",
            "_model_module_version": "1.2.0",
            "_model_name": "LayoutModel",
            "_view_count": null,
            "_view_module": "@jupyter-widgets/base",
            "_view_module_version": "1.2.0",
            "_view_name": "LayoutView",
            "align_content": null,
            "align_items": null,
            "align_self": null,
            "border": null,
            "bottom": null,
            "display": null,
            "flex": null,
            "flex_flow": null,
            "grid_area": null,
            "grid_auto_columns": null,
            "grid_auto_flow": null,
            "grid_auto_rows": null,
            "grid_column": null,
            "grid_gap": null,
            "grid_row": null,
            "grid_template_areas": null,
            "grid_template_columns": null,
            "grid_template_rows": null,
            "height": null,
            "justify_content": null,
            "justify_items": null,
            "left": null,
            "margin": null,
            "max_height": null,
            "max_width": null,
            "min_height": null,
            "min_width": null,
            "object_fit": null,
            "object_position": null,
            "order": null,
            "overflow": null,
            "overflow_x": null,
            "overflow_y": null,
            "padding": null,
            "right": null,
            "top": null,
            "visibility": null,
            "width": null
          }
        },
        "b28e62a59fc544aabe01aa338bd232ff": {
          "model_module": "@jupyter-widgets/controls",
          "model_name": "ProgressStyleModel",
          "model_module_version": "1.5.0",
          "state": {
            "_model_module": "@jupyter-widgets/controls",
            "_model_module_version": "1.5.0",
            "_model_name": "ProgressStyleModel",
            "_view_count": null,
            "_view_module": "@jupyter-widgets/base",
            "_view_module_version": "1.2.0",
            "_view_name": "StyleView",
            "bar_color": null,
            "description_width": ""
          }
        },
        "739d00504d894d78b2ca6cc227b42116": {
          "model_module": "@jupyter-widgets/base",
          "model_name": "LayoutModel",
          "model_module_version": "1.2.0",
          "state": {
            "_model_module": "@jupyter-widgets/base",
            "_model_module_version": "1.2.0",
            "_model_name": "LayoutModel",
            "_view_count": null,
            "_view_module": "@jupyter-widgets/base",
            "_view_module_version": "1.2.0",
            "_view_name": "LayoutView",
            "align_content": null,
            "align_items": null,
            "align_self": null,
            "border": null,
            "bottom": null,
            "display": null,
            "flex": null,
            "flex_flow": null,
            "grid_area": null,
            "grid_auto_columns": null,
            "grid_auto_flow": null,
            "grid_auto_rows": null,
            "grid_column": null,
            "grid_gap": null,
            "grid_row": null,
            "grid_template_areas": null,
            "grid_template_columns": null,
            "grid_template_rows": null,
            "height": null,
            "justify_content": null,
            "justify_items": null,
            "left": null,
            "margin": null,
            "max_height": null,
            "max_width": null,
            "min_height": null,
            "min_width": null,
            "object_fit": null,
            "object_position": null,
            "order": null,
            "overflow": null,
            "overflow_x": null,
            "overflow_y": null,
            "padding": null,
            "right": null,
            "top": null,
            "visibility": null,
            "width": null
          }
        },
        "3cbf79eae3da425286353e1f9c2cdec1": {
          "model_module": "@jupyter-widgets/controls",
          "model_name": "DescriptionStyleModel",
          "model_module_version": "1.5.0",
          "state": {
            "_model_module": "@jupyter-widgets/controls",
            "_model_module_version": "1.5.0",
            "_model_name": "DescriptionStyleModel",
            "_view_count": null,
            "_view_module": "@jupyter-widgets/base",
            "_view_module_version": "1.2.0",
            "_view_name": "StyleView",
            "description_width": ""
          }
        },
        "94804110da96423baa3683e1e5b9cd2a": {
          "model_module": "@jupyter-widgets/controls",
          "model_name": "HBoxModel",
          "model_module_version": "1.5.0",
          "state": {
            "_dom_classes": [],
            "_model_module": "@jupyter-widgets/controls",
            "_model_module_version": "1.5.0",
            "_model_name": "HBoxModel",
            "_view_count": null,
            "_view_module": "@jupyter-widgets/controls",
            "_view_module_version": "1.5.0",
            "_view_name": "HBoxView",
            "box_style": "",
            "children": [
              "IPY_MODEL_4e378689fd8b479b8292b1a5683a7126",
              "IPY_MODEL_eef802c5cb22421aa0225b85ab07be24",
              "IPY_MODEL_22eaede150ad46d8818e5619f34e6274"
            ],
            "layout": "IPY_MODEL_d46e2baa340e40f0b59e43f9b1f30c63"
          }
        },
        "4e378689fd8b479b8292b1a5683a7126": {
          "model_module": "@jupyter-widgets/controls",
          "model_name": "HTMLModel",
          "model_module_version": "1.5.0",
          "state": {
            "_dom_classes": [],
            "_model_module": "@jupyter-widgets/controls",
            "_model_module_version": "1.5.0",
            "_model_name": "HTMLModel",
            "_view_count": null,
            "_view_module": "@jupyter-widgets/controls",
            "_view_module_version": "1.5.0",
            "_view_name": "HTMLView",
            "description": "",
            "description_tooltip": null,
            "layout": "IPY_MODEL_0c9f6ae0a5a5483087e20f79d91184e2",
            "placeholder": "​",
            "style": "IPY_MODEL_8d941175f49244018d7d37c0d53fddfe",
            "value": "source.spm: 100%"
          }
        },
        "eef802c5cb22421aa0225b85ab07be24": {
          "model_module": "@jupyter-widgets/controls",
          "model_name": "FloatProgressModel",
          "model_module_version": "1.5.0",
          "state": {
            "_dom_classes": [],
            "_model_module": "@jupyter-widgets/controls",
            "_model_module_version": "1.5.0",
            "_model_name": "FloatProgressModel",
            "_view_count": null,
            "_view_module": "@jupyter-widgets/controls",
            "_view_module_version": "1.5.0",
            "_view_name": "ProgressView",
            "bar_style": "success",
            "description": "",
            "description_tooltip": null,
            "layout": "IPY_MODEL_cf327f839b244d18badf11794002bd27",
            "max": 841805,
            "min": 0,
            "orientation": "horizontal",
            "style": "IPY_MODEL_d42dd181b5c0481aae32bd833aead862",
            "value": 841805
          }
        },
        "22eaede150ad46d8818e5619f34e6274": {
          "model_module": "@jupyter-widgets/controls",
          "model_name": "HTMLModel",
          "model_module_version": "1.5.0",
          "state": {
            "_dom_classes": [],
            "_model_module": "@jupyter-widgets/controls",
            "_model_module_version": "1.5.0",
            "_model_name": "HTMLModel",
            "_view_count": null,
            "_view_module": "@jupyter-widgets/controls",
            "_view_module_version": "1.5.0",
            "_view_name": "HTMLView",
            "description": "",
            "description_tooltip": null,
            "layout": "IPY_MODEL_0673b31dfd134173a611f7c29fdf85c3",
            "placeholder": "​",
            "style": "IPY_MODEL_6a17575a08d8470fa39538d798ab5b28",
            "value": " 842k/842k [00:00&lt;00:00, 2.41MB/s]"
          }
        },
        "d46e2baa340e40f0b59e43f9b1f30c63": {
          "model_module": "@jupyter-widgets/base",
          "model_name": "LayoutModel",
          "model_module_version": "1.2.0",
          "state": {
            "_model_module": "@jupyter-widgets/base",
            "_model_module_version": "1.2.0",
            "_model_name": "LayoutModel",
            "_view_count": null,
            "_view_module": "@jupyter-widgets/base",
            "_view_module_version": "1.2.0",
            "_view_name": "LayoutView",
            "align_content": null,
            "align_items": null,
            "align_self": null,
            "border": null,
            "bottom": null,
            "display": null,
            "flex": null,
            "flex_flow": null,
            "grid_area": null,
            "grid_auto_columns": null,
            "grid_auto_flow": null,
            "grid_auto_rows": null,
            "grid_column": null,
            "grid_gap": null,
            "grid_row": null,
            "grid_template_areas": null,
            "grid_template_columns": null,
            "grid_template_rows": null,
            "height": null,
            "justify_content": null,
            "justify_items": null,
            "left": null,
            "margin": null,
            "max_height": null,
            "max_width": null,
            "min_height": null,
            "min_width": null,
            "object_fit": null,
            "object_position": null,
            "order": null,
            "overflow": null,
            "overflow_x": null,
            "overflow_y": null,
            "padding": null,
            "right": null,
            "top": null,
            "visibility": null,
            "width": null
          }
        },
        "0c9f6ae0a5a5483087e20f79d91184e2": {
          "model_module": "@jupyter-widgets/base",
          "model_name": "LayoutModel",
          "model_module_version": "1.2.0",
          "state": {
            "_model_module": "@jupyter-widgets/base",
            "_model_module_version": "1.2.0",
            "_model_name": "LayoutModel",
            "_view_count": null,
            "_view_module": "@jupyter-widgets/base",
            "_view_module_version": "1.2.0",
            "_view_name": "LayoutView",
            "align_content": null,
            "align_items": null,
            "align_self": null,
            "border": null,
            "bottom": null,
            "display": null,
            "flex": null,
            "flex_flow": null,
            "grid_area": null,
            "grid_auto_columns": null,
            "grid_auto_flow": null,
            "grid_auto_rows": null,
            "grid_column": null,
            "grid_gap": null,
            "grid_row": null,
            "grid_template_areas": null,
            "grid_template_columns": null,
            "grid_template_rows": null,
            "height": null,
            "justify_content": null,
            "justify_items": null,
            "left": null,
            "margin": null,
            "max_height": null,
            "max_width": null,
            "min_height": null,
            "min_width": null,
            "object_fit": null,
            "object_position": null,
            "order": null,
            "overflow": null,
            "overflow_x": null,
            "overflow_y": null,
            "padding": null,
            "right": null,
            "top": null,
            "visibility": null,
            "width": null
          }
        },
        "8d941175f49244018d7d37c0d53fddfe": {
          "model_module": "@jupyter-widgets/controls",
          "model_name": "DescriptionStyleModel",
          "model_module_version": "1.5.0",
          "state": {
            "_model_module": "@jupyter-widgets/controls",
            "_model_module_version": "1.5.0",
            "_model_name": "DescriptionStyleModel",
            "_view_count": null,
            "_view_module": "@jupyter-widgets/base",
            "_view_module_version": "1.2.0",
            "_view_name": "StyleView",
            "description_width": ""
          }
        },
        "cf327f839b244d18badf11794002bd27": {
          "model_module": "@jupyter-widgets/base",
          "model_name": "LayoutModel",
          "model_module_version": "1.2.0",
          "state": {
            "_model_module": "@jupyter-widgets/base",
            "_model_module_version": "1.2.0",
            "_model_name": "LayoutModel",
            "_view_count": null,
            "_view_module": "@jupyter-widgets/base",
            "_view_module_version": "1.2.0",
            "_view_name": "LayoutView",
            "align_content": null,
            "align_items": null,
            "align_self": null,
            "border": null,
            "bottom": null,
            "display": null,
            "flex": null,
            "flex_flow": null,
            "grid_area": null,
            "grid_auto_columns": null,
            "grid_auto_flow": null,
            "grid_auto_rows": null,
            "grid_column": null,
            "grid_gap": null,
            "grid_row": null,
            "grid_template_areas": null,
            "grid_template_columns": null,
            "grid_template_rows": null,
            "height": null,
            "justify_content": null,
            "justify_items": null,
            "left": null,
            "margin": null,
            "max_height": null,
            "max_width": null,
            "min_height": null,
            "min_width": null,
            "object_fit": null,
            "object_position": null,
            "order": null,
            "overflow": null,
            "overflow_x": null,
            "overflow_y": null,
            "padding": null,
            "right": null,
            "top": null,
            "visibility": null,
            "width": null
          }
        },
        "d42dd181b5c0481aae32bd833aead862": {
          "model_module": "@jupyter-widgets/controls",
          "model_name": "ProgressStyleModel",
          "model_module_version": "1.5.0",
          "state": {
            "_model_module": "@jupyter-widgets/controls",
            "_model_module_version": "1.5.0",
            "_model_name": "ProgressStyleModel",
            "_view_count": null,
            "_view_module": "@jupyter-widgets/base",
            "_view_module_version": "1.2.0",
            "_view_name": "StyleView",
            "bar_color": null,
            "description_width": ""
          }
        },
        "0673b31dfd134173a611f7c29fdf85c3": {
          "model_module": "@jupyter-widgets/base",
          "model_name": "LayoutModel",
          "model_module_version": "1.2.0",
          "state": {
            "_model_module": "@jupyter-widgets/base",
            "_model_module_version": "1.2.0",
            "_model_name": "LayoutModel",
            "_view_count": null,
            "_view_module": "@jupyter-widgets/base",
            "_view_module_version": "1.2.0",
            "_view_name": "LayoutView",
            "align_content": null,
            "align_items": null,
            "align_self": null,
            "border": null,
            "bottom": null,
            "display": null,
            "flex": null,
            "flex_flow": null,
            "grid_area": null,
            "grid_auto_columns": null,
            "grid_auto_flow": null,
            "grid_auto_rows": null,
            "grid_column": null,
            "grid_gap": null,
            "grid_row": null,
            "grid_template_areas": null,
            "grid_template_columns": null,
            "grid_template_rows": null,
            "height": null,
            "justify_content": null,
            "justify_items": null,
            "left": null,
            "margin": null,
            "max_height": null,
            "max_width": null,
            "min_height": null,
            "min_width": null,
            "object_fit": null,
            "object_position": null,
            "order": null,
            "overflow": null,
            "overflow_x": null,
            "overflow_y": null,
            "padding": null,
            "right": null,
            "top": null,
            "visibility": null,
            "width": null
          }
        },
        "6a17575a08d8470fa39538d798ab5b28": {
          "model_module": "@jupyter-widgets/controls",
          "model_name": "DescriptionStyleModel",
          "model_module_version": "1.5.0",
          "state": {
            "_model_module": "@jupyter-widgets/controls",
            "_model_module_version": "1.5.0",
            "_model_name": "DescriptionStyleModel",
            "_view_count": null,
            "_view_module": "@jupyter-widgets/base",
            "_view_module_version": "1.2.0",
            "_view_name": "StyleView",
            "description_width": ""
          }
        },
        "35eae2ef56444f7db381d03248aecec0": {
          "model_module": "@jupyter-widgets/controls",
          "model_name": "HBoxModel",
          "model_module_version": "1.5.0",
          "state": {
            "_dom_classes": [],
            "_model_module": "@jupyter-widgets/controls",
            "_model_module_version": "1.5.0",
            "_model_name": "HBoxModel",
            "_view_count": null,
            "_view_module": "@jupyter-widgets/controls",
            "_view_module_version": "1.5.0",
            "_view_name": "HBoxView",
            "box_style": "",
            "children": [
              "IPY_MODEL_8b79151cc70245efaf1eccfe5b28831b",
              "IPY_MODEL_86966b78bbf646dc822effd3c5e5ed8a",
              "IPY_MODEL_999b9bef9356465688662897c0517e28"
            ],
            "layout": "IPY_MODEL_9d218d57696848378167407a96ae66b0"
          }
        },
        "8b79151cc70245efaf1eccfe5b28831b": {
          "model_module": "@jupyter-widgets/controls",
          "model_name": "HTMLModel",
          "model_module_version": "1.5.0",
          "state": {
            "_dom_classes": [],
            "_model_module": "@jupyter-widgets/controls",
            "_model_module_version": "1.5.0",
            "_model_name": "HTMLModel",
            "_view_count": null,
            "_view_module": "@jupyter-widgets/controls",
            "_view_module_version": "1.5.0",
            "_view_name": "HTMLView",
            "description": "",
            "description_tooltip": null,
            "layout": "IPY_MODEL_b62e901fbf3e4e46bbc43c94bfd35f04",
            "placeholder": "​",
            "style": "IPY_MODEL_5d210fa134ec42ec950783cf25dffb42",
            "value": "target.spm: 100%"
          }
        },
        "86966b78bbf646dc822effd3c5e5ed8a": {
          "model_module": "@jupyter-widgets/controls",
          "model_name": "FloatProgressModel",
          "model_module_version": "1.5.0",
          "state": {
            "_dom_classes": [],
            "_model_module": "@jupyter-widgets/controls",
            "_model_module_version": "1.5.0",
            "_model_name": "FloatProgressModel",
            "_view_count": null,
            "_view_module": "@jupyter-widgets/controls",
            "_view_module_version": "1.5.0",
            "_view_name": "ProgressView",
            "bar_style": "success",
            "description": "",
            "description_tooltip": null,
            "layout": "IPY_MODEL_751566e2ae4d490886c084626913d4af",
            "max": 813126,
            "min": 0,
            "orientation": "horizontal",
            "style": "IPY_MODEL_e2e95de02b3249398666ef33ee6f1b14",
            "value": 813126
          }
        },
        "999b9bef9356465688662897c0517e28": {
          "model_module": "@jupyter-widgets/controls",
          "model_name": "HTMLModel",
          "model_module_version": "1.5.0",
          "state": {
            "_dom_classes": [],
            "_model_module": "@jupyter-widgets/controls",
            "_model_module_version": "1.5.0",
            "_model_name": "HTMLModel",
            "_view_count": null,
            "_view_module": "@jupyter-widgets/controls",
            "_view_module_version": "1.5.0",
            "_view_name": "HTMLView",
            "description": "",
            "description_tooltip": null,
            "layout": "IPY_MODEL_610667b13b5840a6878a4b32cc2f69ba",
            "placeholder": "​",
            "style": "IPY_MODEL_94eb0aa3b73244da81fe2693b5ec72e9",
            "value": " 813k/813k [00:00&lt;00:00, 1.18MB/s]"
          }
        },
        "9d218d57696848378167407a96ae66b0": {
          "model_module": "@jupyter-widgets/base",
          "model_name": "LayoutModel",
          "model_module_version": "1.2.0",
          "state": {
            "_model_module": "@jupyter-widgets/base",
            "_model_module_version": "1.2.0",
            "_model_name": "LayoutModel",
            "_view_count": null,
            "_view_module": "@jupyter-widgets/base",
            "_view_module_version": "1.2.0",
            "_view_name": "LayoutView",
            "align_content": null,
            "align_items": null,
            "align_self": null,
            "border": null,
            "bottom": null,
            "display": null,
            "flex": null,
            "flex_flow": null,
            "grid_area": null,
            "grid_auto_columns": null,
            "grid_auto_flow": null,
            "grid_auto_rows": null,
            "grid_column": null,
            "grid_gap": null,
            "grid_row": null,
            "grid_template_areas": null,
            "grid_template_columns": null,
            "grid_template_rows": null,
            "height": null,
            "justify_content": null,
            "justify_items": null,
            "left": null,
            "margin": null,
            "max_height": null,
            "max_width": null,
            "min_height": null,
            "min_width": null,
            "object_fit": null,
            "object_position": null,
            "order": null,
            "overflow": null,
            "overflow_x": null,
            "overflow_y": null,
            "padding": null,
            "right": null,
            "top": null,
            "visibility": null,
            "width": null
          }
        },
        "b62e901fbf3e4e46bbc43c94bfd35f04": {
          "model_module": "@jupyter-widgets/base",
          "model_name": "LayoutModel",
          "model_module_version": "1.2.0",
          "state": {
            "_model_module": "@jupyter-widgets/base",
            "_model_module_version": "1.2.0",
            "_model_name": "LayoutModel",
            "_view_count": null,
            "_view_module": "@jupyter-widgets/base",
            "_view_module_version": "1.2.0",
            "_view_name": "LayoutView",
            "align_content": null,
            "align_items": null,
            "align_self": null,
            "border": null,
            "bottom": null,
            "display": null,
            "flex": null,
            "flex_flow": null,
            "grid_area": null,
            "grid_auto_columns": null,
            "grid_auto_flow": null,
            "grid_auto_rows": null,
            "grid_column": null,
            "grid_gap": null,
            "grid_row": null,
            "grid_template_areas": null,
            "grid_template_columns": null,
            "grid_template_rows": null,
            "height": null,
            "justify_content": null,
            "justify_items": null,
            "left": null,
            "margin": null,
            "max_height": null,
            "max_width": null,
            "min_height": null,
            "min_width": null,
            "object_fit": null,
            "object_position": null,
            "order": null,
            "overflow": null,
            "overflow_x": null,
            "overflow_y": null,
            "padding": null,
            "right": null,
            "top": null,
            "visibility": null,
            "width": null
          }
        },
        "5d210fa134ec42ec950783cf25dffb42": {
          "model_module": "@jupyter-widgets/controls",
          "model_name": "DescriptionStyleModel",
          "model_module_version": "1.5.0",
          "state": {
            "_model_module": "@jupyter-widgets/controls",
            "_model_module_version": "1.5.0",
            "_model_name": "DescriptionStyleModel",
            "_view_count": null,
            "_view_module": "@jupyter-widgets/base",
            "_view_module_version": "1.2.0",
            "_view_name": "StyleView",
            "description_width": ""
          }
        },
        "751566e2ae4d490886c084626913d4af": {
          "model_module": "@jupyter-widgets/base",
          "model_name": "LayoutModel",
          "model_module_version": "1.2.0",
          "state": {
            "_model_module": "@jupyter-widgets/base",
            "_model_module_version": "1.2.0",
            "_model_name": "LayoutModel",
            "_view_count": null,
            "_view_module": "@jupyter-widgets/base",
            "_view_module_version": "1.2.0",
            "_view_name": "LayoutView",
            "align_content": null,
            "align_items": null,
            "align_self": null,
            "border": null,
            "bottom": null,
            "display": null,
            "flex": null,
            "flex_flow": null,
            "grid_area": null,
            "grid_auto_columns": null,
            "grid_auto_flow": null,
            "grid_auto_rows": null,
            "grid_column": null,
            "grid_gap": null,
            "grid_row": null,
            "grid_template_areas": null,
            "grid_template_columns": null,
            "grid_template_rows": null,
            "height": null,
            "justify_content": null,
            "justify_items": null,
            "left": null,
            "margin": null,
            "max_height": null,
            "max_width": null,
            "min_height": null,
            "min_width": null,
            "object_fit": null,
            "object_position": null,
            "order": null,
            "overflow": null,
            "overflow_x": null,
            "overflow_y": null,
            "padding": null,
            "right": null,
            "top": null,
            "visibility": null,
            "width": null
          }
        },
        "e2e95de02b3249398666ef33ee6f1b14": {
          "model_module": "@jupyter-widgets/controls",
          "model_name": "ProgressStyleModel",
          "model_module_version": "1.5.0",
          "state": {
            "_model_module": "@jupyter-widgets/controls",
            "_model_module_version": "1.5.0",
            "_model_name": "ProgressStyleModel",
            "_view_count": null,
            "_view_module": "@jupyter-widgets/base",
            "_view_module_version": "1.2.0",
            "_view_name": "StyleView",
            "bar_color": null,
            "description_width": ""
          }
        },
        "610667b13b5840a6878a4b32cc2f69ba": {
          "model_module": "@jupyter-widgets/base",
          "model_name": "LayoutModel",
          "model_module_version": "1.2.0",
          "state": {
            "_model_module": "@jupyter-widgets/base",
            "_model_module_version": "1.2.0",
            "_model_name": "LayoutModel",
            "_view_count": null,
            "_view_module": "@jupyter-widgets/base",
            "_view_module_version": "1.2.0",
            "_view_name": "LayoutView",
            "align_content": null,
            "align_items": null,
            "align_self": null,
            "border": null,
            "bottom": null,
            "display": null,
            "flex": null,
            "flex_flow": null,
            "grid_area": null,
            "grid_auto_columns": null,
            "grid_auto_flow": null,
            "grid_auto_rows": null,
            "grid_column": null,
            "grid_gap": null,
            "grid_row": null,
            "grid_template_areas": null,
            "grid_template_columns": null,
            "grid_template_rows": null,
            "height": null,
            "justify_content": null,
            "justify_items": null,
            "left": null,
            "margin": null,
            "max_height": null,
            "max_width": null,
            "min_height": null,
            "min_width": null,
            "object_fit": null,
            "object_position": null,
            "order": null,
            "overflow": null,
            "overflow_x": null,
            "overflow_y": null,
            "padding": null,
            "right": null,
            "top": null,
            "visibility": null,
            "width": null
          }
        },
        "94eb0aa3b73244da81fe2693b5ec72e9": {
          "model_module": "@jupyter-widgets/controls",
          "model_name": "DescriptionStyleModel",
          "model_module_version": "1.5.0",
          "state": {
            "_model_module": "@jupyter-widgets/controls",
            "_model_module_version": "1.5.0",
            "_model_name": "DescriptionStyleModel",
            "_view_count": null,
            "_view_module": "@jupyter-widgets/base",
            "_view_module_version": "1.2.0",
            "_view_name": "StyleView",
            "description_width": ""
          }
        },
        "537206eb09fa4c4e91a735742c2acb3c": {
          "model_module": "@jupyter-widgets/controls",
          "model_name": "HBoxModel",
          "model_module_version": "1.5.0",
          "state": {
            "_dom_classes": [],
            "_model_module": "@jupyter-widgets/controls",
            "_model_module_version": "1.5.0",
            "_model_name": "HBoxModel",
            "_view_count": null,
            "_view_module": "@jupyter-widgets/controls",
            "_view_module_version": "1.5.0",
            "_view_name": "HBoxView",
            "box_style": "",
            "children": [
              "IPY_MODEL_b195cadb1b0d4397a2c662e20523d396",
              "IPY_MODEL_6a67dbeb7db94aeea8e908d4b9989d48",
              "IPY_MODEL_47a96daaaae24242b411e8dd7e3d5f79"
            ],
            "layout": "IPY_MODEL_8df805dacd3645579f8137a8812cd726"
          }
        },
        "b195cadb1b0d4397a2c662e20523d396": {
          "model_module": "@jupyter-widgets/controls",
          "model_name": "HTMLModel",
          "model_module_version": "1.5.0",
          "state": {
            "_dom_classes": [],
            "_model_module": "@jupyter-widgets/controls",
            "_model_module_version": "1.5.0",
            "_model_name": "HTMLModel",
            "_view_count": null,
            "_view_module": "@jupyter-widgets/controls",
            "_view_module_version": "1.5.0",
            "_view_name": "HTMLView",
            "description": "",
            "description_tooltip": null,
            "layout": "IPY_MODEL_a4662095b4e44dbdbea1a69b8b4b1e33",
            "placeholder": "​",
            "style": "IPY_MODEL_b4e4318fe2754d709f81c783bf6f6e55",
            "value": "vocab.json: 100%"
          }
        },
        "6a67dbeb7db94aeea8e908d4b9989d48": {
          "model_module": "@jupyter-widgets/controls",
          "model_name": "FloatProgressModel",
          "model_module_version": "1.5.0",
          "state": {
            "_dom_classes": [],
            "_model_module": "@jupyter-widgets/controls",
            "_model_module_version": "1.5.0",
            "_model_name": "FloatProgressModel",
            "_view_count": null,
            "_view_module": "@jupyter-widgets/controls",
            "_view_module_version": "1.5.0",
            "_view_name": "ProgressView",
            "bar_style": "success",
            "description": "",
            "description_tooltip": null,
            "layout": "IPY_MODEL_3b44ad4ea161432cb954a27be7de5d82",
            "max": 1719866,
            "min": 0,
            "orientation": "horizontal",
            "style": "IPY_MODEL_83a3c041b9a94dd990cff80e15fce791",
            "value": 1719866
          }
        },
        "47a96daaaae24242b411e8dd7e3d5f79": {
          "model_module": "@jupyter-widgets/controls",
          "model_name": "HTMLModel",
          "model_module_version": "1.5.0",
          "state": {
            "_dom_classes": [],
            "_model_module": "@jupyter-widgets/controls",
            "_model_module_version": "1.5.0",
            "_model_name": "HTMLModel",
            "_view_count": null,
            "_view_module": "@jupyter-widgets/controls",
            "_view_module_version": "1.5.0",
            "_view_name": "HTMLView",
            "description": "",
            "description_tooltip": null,
            "layout": "IPY_MODEL_8733ce4228984690bd5fe6c84c4dd304",
            "placeholder": "​",
            "style": "IPY_MODEL_449e7a86508e4e2493a6b307d82fa562",
            "value": " 1.72M/1.72M [00:00&lt;00:00, 9.38MB/s]"
          }
        },
        "8df805dacd3645579f8137a8812cd726": {
          "model_module": "@jupyter-widgets/base",
          "model_name": "LayoutModel",
          "model_module_version": "1.2.0",
          "state": {
            "_model_module": "@jupyter-widgets/base",
            "_model_module_version": "1.2.0",
            "_model_name": "LayoutModel",
            "_view_count": null,
            "_view_module": "@jupyter-widgets/base",
            "_view_module_version": "1.2.0",
            "_view_name": "LayoutView",
            "align_content": null,
            "align_items": null,
            "align_self": null,
            "border": null,
            "bottom": null,
            "display": null,
            "flex": null,
            "flex_flow": null,
            "grid_area": null,
            "grid_auto_columns": null,
            "grid_auto_flow": null,
            "grid_auto_rows": null,
            "grid_column": null,
            "grid_gap": null,
            "grid_row": null,
            "grid_template_areas": null,
            "grid_template_columns": null,
            "grid_template_rows": null,
            "height": null,
            "justify_content": null,
            "justify_items": null,
            "left": null,
            "margin": null,
            "max_height": null,
            "max_width": null,
            "min_height": null,
            "min_width": null,
            "object_fit": null,
            "object_position": null,
            "order": null,
            "overflow": null,
            "overflow_x": null,
            "overflow_y": null,
            "padding": null,
            "right": null,
            "top": null,
            "visibility": null,
            "width": null
          }
        },
        "a4662095b4e44dbdbea1a69b8b4b1e33": {
          "model_module": "@jupyter-widgets/base",
          "model_name": "LayoutModel",
          "model_module_version": "1.2.0",
          "state": {
            "_model_module": "@jupyter-widgets/base",
            "_model_module_version": "1.2.0",
            "_model_name": "LayoutModel",
            "_view_count": null,
            "_view_module": "@jupyter-widgets/base",
            "_view_module_version": "1.2.0",
            "_view_name": "LayoutView",
            "align_content": null,
            "align_items": null,
            "align_self": null,
            "border": null,
            "bottom": null,
            "display": null,
            "flex": null,
            "flex_flow": null,
            "grid_area": null,
            "grid_auto_columns": null,
            "grid_auto_flow": null,
            "grid_auto_rows": null,
            "grid_column": null,
            "grid_gap": null,
            "grid_row": null,
            "grid_template_areas": null,
            "grid_template_columns": null,
            "grid_template_rows": null,
            "height": null,
            "justify_content": null,
            "justify_items": null,
            "left": null,
            "margin": null,
            "max_height": null,
            "max_width": null,
            "min_height": null,
            "min_width": null,
            "object_fit": null,
            "object_position": null,
            "order": null,
            "overflow": null,
            "overflow_x": null,
            "overflow_y": null,
            "padding": null,
            "right": null,
            "top": null,
            "visibility": null,
            "width": null
          }
        },
        "b4e4318fe2754d709f81c783bf6f6e55": {
          "model_module": "@jupyter-widgets/controls",
          "model_name": "DescriptionStyleModel",
          "model_module_version": "1.5.0",
          "state": {
            "_model_module": "@jupyter-widgets/controls",
            "_model_module_version": "1.5.0",
            "_model_name": "DescriptionStyleModel",
            "_view_count": null,
            "_view_module": "@jupyter-widgets/base",
            "_view_module_version": "1.2.0",
            "_view_name": "StyleView",
            "description_width": ""
          }
        },
        "3b44ad4ea161432cb954a27be7de5d82": {
          "model_module": "@jupyter-widgets/base",
          "model_name": "LayoutModel",
          "model_module_version": "1.2.0",
          "state": {
            "_model_module": "@jupyter-widgets/base",
            "_model_module_version": "1.2.0",
            "_model_name": "LayoutModel",
            "_view_count": null,
            "_view_module": "@jupyter-widgets/base",
            "_view_module_version": "1.2.0",
            "_view_name": "LayoutView",
            "align_content": null,
            "align_items": null,
            "align_self": null,
            "border": null,
            "bottom": null,
            "display": null,
            "flex": null,
            "flex_flow": null,
            "grid_area": null,
            "grid_auto_columns": null,
            "grid_auto_flow": null,
            "grid_auto_rows": null,
            "grid_column": null,
            "grid_gap": null,
            "grid_row": null,
            "grid_template_areas": null,
            "grid_template_columns": null,
            "grid_template_rows": null,
            "height": null,
            "justify_content": null,
            "justify_items": null,
            "left": null,
            "margin": null,
            "max_height": null,
            "max_width": null,
            "min_height": null,
            "min_width": null,
            "object_fit": null,
            "object_position": null,
            "order": null,
            "overflow": null,
            "overflow_x": null,
            "overflow_y": null,
            "padding": null,
            "right": null,
            "top": null,
            "visibility": null,
            "width": null
          }
        },
        "83a3c041b9a94dd990cff80e15fce791": {
          "model_module": "@jupyter-widgets/controls",
          "model_name": "ProgressStyleModel",
          "model_module_version": "1.5.0",
          "state": {
            "_model_module": "@jupyter-widgets/controls",
            "_model_module_version": "1.5.0",
            "_model_name": "ProgressStyleModel",
            "_view_count": null,
            "_view_module": "@jupyter-widgets/base",
            "_view_module_version": "1.2.0",
            "_view_name": "StyleView",
            "bar_color": null,
            "description_width": ""
          }
        },
        "8733ce4228984690bd5fe6c84c4dd304": {
          "model_module": "@jupyter-widgets/base",
          "model_name": "LayoutModel",
          "model_module_version": "1.2.0",
          "state": {
            "_model_module": "@jupyter-widgets/base",
            "_model_module_version": "1.2.0",
            "_model_name": "LayoutModel",
            "_view_count": null,
            "_view_module": "@jupyter-widgets/base",
            "_view_module_version": "1.2.0",
            "_view_name": "LayoutView",
            "align_content": null,
            "align_items": null,
            "align_self": null,
            "border": null,
            "bottom": null,
            "display": null,
            "flex": null,
            "flex_flow": null,
            "grid_area": null,
            "grid_auto_columns": null,
            "grid_auto_flow": null,
            "grid_auto_rows": null,
            "grid_column": null,
            "grid_gap": null,
            "grid_row": null,
            "grid_template_areas": null,
            "grid_template_columns": null,
            "grid_template_rows": null,
            "height": null,
            "justify_content": null,
            "justify_items": null,
            "left": null,
            "margin": null,
            "max_height": null,
            "max_width": null,
            "min_height": null,
            "min_width": null,
            "object_fit": null,
            "object_position": null,
            "order": null,
            "overflow": null,
            "overflow_x": null,
            "overflow_y": null,
            "padding": null,
            "right": null,
            "top": null,
            "visibility": null,
            "width": null
          }
        },
        "449e7a86508e4e2493a6b307d82fa562": {
          "model_module": "@jupyter-widgets/controls",
          "model_name": "DescriptionStyleModel",
          "model_module_version": "1.5.0",
          "state": {
            "_model_module": "@jupyter-widgets/controls",
            "_model_module_version": "1.5.0",
            "_model_name": "DescriptionStyleModel",
            "_view_count": null,
            "_view_module": "@jupyter-widgets/base",
            "_view_module_version": "1.2.0",
            "_view_name": "StyleView",
            "description_width": ""
          }
        },
        "2bb9719993b7424baf7f3c605f1ff1c3": {
          "model_module": "@jupyter-widgets/controls",
          "model_name": "HBoxModel",
          "model_module_version": "1.5.0",
          "state": {
            "_dom_classes": [],
            "_model_module": "@jupyter-widgets/controls",
            "_model_module_version": "1.5.0",
            "_model_name": "HBoxModel",
            "_view_count": null,
            "_view_module": "@jupyter-widgets/controls",
            "_view_module_version": "1.5.0",
            "_view_name": "HBoxView",
            "box_style": "",
            "children": [
              "IPY_MODEL_8986eb06cf6240a4a28c5f884adbd659",
              "IPY_MODEL_ae9796f9b4d94817875d3823caa50fa9",
              "IPY_MODEL_76d33754f1564310b05affb458617a41"
            ],
            "layout": "IPY_MODEL_5049f1d453964073b2d89cd477f4c393"
          }
        },
        "8986eb06cf6240a4a28c5f884adbd659": {
          "model_module": "@jupyter-widgets/controls",
          "model_name": "HTMLModel",
          "model_module_version": "1.5.0",
          "state": {
            "_dom_classes": [],
            "_model_module": "@jupyter-widgets/controls",
            "_model_module_version": "1.5.0",
            "_model_name": "HTMLModel",
            "_view_count": null,
            "_view_module": "@jupyter-widgets/controls",
            "_view_module_version": "1.5.0",
            "_view_name": "HTMLView",
            "description": "",
            "description_tooltip": null,
            "layout": "IPY_MODEL_f11da643302f4695bc8543ac75279b9a",
            "placeholder": "​",
            "style": "IPY_MODEL_ad2a98bf3795469ab018e65f3b7a05c8",
            "value": "config.json: 100%"
          }
        },
        "ae9796f9b4d94817875d3823caa50fa9": {
          "model_module": "@jupyter-widgets/controls",
          "model_name": "FloatProgressModel",
          "model_module_version": "1.5.0",
          "state": {
            "_dom_classes": [],
            "_model_module": "@jupyter-widgets/controls",
            "_model_module_version": "1.5.0",
            "_model_name": "FloatProgressModel",
            "_view_count": null,
            "_view_module": "@jupyter-widgets/controls",
            "_view_module_version": "1.5.0",
            "_view_name": "ProgressView",
            "bar_style": "success",
            "description": "",
            "description_tooltip": null,
            "layout": "IPY_MODEL_7e26dfc86fd044b790a0b546ac9b9dd8",
            "max": 1394,
            "min": 0,
            "orientation": "horizontal",
            "style": "IPY_MODEL_9d037d037513430183b32c43ba7a295a",
            "value": 1394
          }
        },
        "76d33754f1564310b05affb458617a41": {
          "model_module": "@jupyter-widgets/controls",
          "model_name": "HTMLModel",
          "model_module_version": "1.5.0",
          "state": {
            "_dom_classes": [],
            "_model_module": "@jupyter-widgets/controls",
            "_model_module_version": "1.5.0",
            "_model_name": "HTMLModel",
            "_view_count": null,
            "_view_module": "@jupyter-widgets/controls",
            "_view_module_version": "1.5.0",
            "_view_name": "HTMLView",
            "description": "",
            "description_tooltip": null,
            "layout": "IPY_MODEL_a508a805f32940eca97e43a45012cd65",
            "placeholder": "​",
            "style": "IPY_MODEL_a1c8b59a3a0c493890740c1ae1133448",
            "value": " 1.39k/1.39k [00:00&lt;00:00, 55.2kB/s]"
          }
        },
        "5049f1d453964073b2d89cd477f4c393": {
          "model_module": "@jupyter-widgets/base",
          "model_name": "LayoutModel",
          "model_module_version": "1.2.0",
          "state": {
            "_model_module": "@jupyter-widgets/base",
            "_model_module_version": "1.2.0",
            "_model_name": "LayoutModel",
            "_view_count": null,
            "_view_module": "@jupyter-widgets/base",
            "_view_module_version": "1.2.0",
            "_view_name": "LayoutView",
            "align_content": null,
            "align_items": null,
            "align_self": null,
            "border": null,
            "bottom": null,
            "display": null,
            "flex": null,
            "flex_flow": null,
            "grid_area": null,
            "grid_auto_columns": null,
            "grid_auto_flow": null,
            "grid_auto_rows": null,
            "grid_column": null,
            "grid_gap": null,
            "grid_row": null,
            "grid_template_areas": null,
            "grid_template_columns": null,
            "grid_template_rows": null,
            "height": null,
            "justify_content": null,
            "justify_items": null,
            "left": null,
            "margin": null,
            "max_height": null,
            "max_width": null,
            "min_height": null,
            "min_width": null,
            "object_fit": null,
            "object_position": null,
            "order": null,
            "overflow": null,
            "overflow_x": null,
            "overflow_y": null,
            "padding": null,
            "right": null,
            "top": null,
            "visibility": null,
            "width": null
          }
        },
        "f11da643302f4695bc8543ac75279b9a": {
          "model_module": "@jupyter-widgets/base",
          "model_name": "LayoutModel",
          "model_module_version": "1.2.0",
          "state": {
            "_model_module": "@jupyter-widgets/base",
            "_model_module_version": "1.2.0",
            "_model_name": "LayoutModel",
            "_view_count": null,
            "_view_module": "@jupyter-widgets/base",
            "_view_module_version": "1.2.0",
            "_view_name": "LayoutView",
            "align_content": null,
            "align_items": null,
            "align_self": null,
            "border": null,
            "bottom": null,
            "display": null,
            "flex": null,
            "flex_flow": null,
            "grid_area": null,
            "grid_auto_columns": null,
            "grid_auto_flow": null,
            "grid_auto_rows": null,
            "grid_column": null,
            "grid_gap": null,
            "grid_row": null,
            "grid_template_areas": null,
            "grid_template_columns": null,
            "grid_template_rows": null,
            "height": null,
            "justify_content": null,
            "justify_items": null,
            "left": null,
            "margin": null,
            "max_height": null,
            "max_width": null,
            "min_height": null,
            "min_width": null,
            "object_fit": null,
            "object_position": null,
            "order": null,
            "overflow": null,
            "overflow_x": null,
            "overflow_y": null,
            "padding": null,
            "right": null,
            "top": null,
            "visibility": null,
            "width": null
          }
        },
        "ad2a98bf3795469ab018e65f3b7a05c8": {
          "model_module": "@jupyter-widgets/controls",
          "model_name": "DescriptionStyleModel",
          "model_module_version": "1.5.0",
          "state": {
            "_model_module": "@jupyter-widgets/controls",
            "_model_module_version": "1.5.0",
            "_model_name": "DescriptionStyleModel",
            "_view_count": null,
            "_view_module": "@jupyter-widgets/base",
            "_view_module_version": "1.2.0",
            "_view_name": "StyleView",
            "description_width": ""
          }
        },
        "7e26dfc86fd044b790a0b546ac9b9dd8": {
          "model_module": "@jupyter-widgets/base",
          "model_name": "LayoutModel",
          "model_module_version": "1.2.0",
          "state": {
            "_model_module": "@jupyter-widgets/base",
            "_model_module_version": "1.2.0",
            "_model_name": "LayoutModel",
            "_view_count": null,
            "_view_module": "@jupyter-widgets/base",
            "_view_module_version": "1.2.0",
            "_view_name": "LayoutView",
            "align_content": null,
            "align_items": null,
            "align_self": null,
            "border": null,
            "bottom": null,
            "display": null,
            "flex": null,
            "flex_flow": null,
            "grid_area": null,
            "grid_auto_columns": null,
            "grid_auto_flow": null,
            "grid_auto_rows": null,
            "grid_column": null,
            "grid_gap": null,
            "grid_row": null,
            "grid_template_areas": null,
            "grid_template_columns": null,
            "grid_template_rows": null,
            "height": null,
            "justify_content": null,
            "justify_items": null,
            "left": null,
            "margin": null,
            "max_height": null,
            "max_width": null,
            "min_height": null,
            "min_width": null,
            "object_fit": null,
            "object_position": null,
            "order": null,
            "overflow": null,
            "overflow_x": null,
            "overflow_y": null,
            "padding": null,
            "right": null,
            "top": null,
            "visibility": null,
            "width": null
          }
        },
        "9d037d037513430183b32c43ba7a295a": {
          "model_module": "@jupyter-widgets/controls",
          "model_name": "ProgressStyleModel",
          "model_module_version": "1.5.0",
          "state": {
            "_model_module": "@jupyter-widgets/controls",
            "_model_module_version": "1.5.0",
            "_model_name": "ProgressStyleModel",
            "_view_count": null,
            "_view_module": "@jupyter-widgets/base",
            "_view_module_version": "1.2.0",
            "_view_name": "StyleView",
            "bar_color": null,
            "description_width": ""
          }
        },
        "a508a805f32940eca97e43a45012cd65": {
          "model_module": "@jupyter-widgets/base",
          "model_name": "LayoutModel",
          "model_module_version": "1.2.0",
          "state": {
            "_model_module": "@jupyter-widgets/base",
            "_model_module_version": "1.2.0",
            "_model_name": "LayoutModel",
            "_view_count": null,
            "_view_module": "@jupyter-widgets/base",
            "_view_module_version": "1.2.0",
            "_view_name": "LayoutView",
            "align_content": null,
            "align_items": null,
            "align_self": null,
            "border": null,
            "bottom": null,
            "display": null,
            "flex": null,
            "flex_flow": null,
            "grid_area": null,
            "grid_auto_columns": null,
            "grid_auto_flow": null,
            "grid_auto_rows": null,
            "grid_column": null,
            "grid_gap": null,
            "grid_row": null,
            "grid_template_areas": null,
            "grid_template_columns": null,
            "grid_template_rows": null,
            "height": null,
            "justify_content": null,
            "justify_items": null,
            "left": null,
            "margin": null,
            "max_height": null,
            "max_width": null,
            "min_height": null,
            "min_width": null,
            "object_fit": null,
            "object_position": null,
            "order": null,
            "overflow": null,
            "overflow_x": null,
            "overflow_y": null,
            "padding": null,
            "right": null,
            "top": null,
            "visibility": null,
            "width": null
          }
        },
        "a1c8b59a3a0c493890740c1ae1133448": {
          "model_module": "@jupyter-widgets/controls",
          "model_name": "DescriptionStyleModel",
          "model_module_version": "1.5.0",
          "state": {
            "_model_module": "@jupyter-widgets/controls",
            "_model_module_version": "1.5.0",
            "_model_name": "DescriptionStyleModel",
            "_view_count": null,
            "_view_module": "@jupyter-widgets/base",
            "_view_module_version": "1.2.0",
            "_view_name": "StyleView",
            "description_width": ""
          }
        }
      }
    }
  },
  "nbformat": 4,
  "nbformat_minor": 5
}