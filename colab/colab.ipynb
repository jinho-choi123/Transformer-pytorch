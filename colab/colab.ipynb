{
  "cells": [
    {
      "cell_type": "code",
      "execution_count": 1,
      "id": "ef6876c6-7dc6-4e5c-87fb-2063e016b094",
      "metadata": {
        "id": "ef6876c6-7dc6-4e5c-87fb-2063e016b094"
      },
      "outputs": [],
      "source": [
        "from pathlib import Path\n",
        "import os\n",
        "import torch\n",
        "from transformers import MarianMTModel, MarianTokenizer\n",
        "import logging\n",
        "from datetime import datetime"
      ]
    },
    {
      "cell_type": "code",
      "execution_count": 2,
      "id": "d9eeb360-16b2-4a3a-8892-2eb9d68e4a8c",
      "metadata": {
        "id": "d9eeb360-16b2-4a3a-8892-2eb9d68e4a8c",
        "outputId": "9a5b0322-5253-4d27-91b0-875a6ab34969",
        "colab": {
          "base_uri": "https://localhost:8080/"
        }
      },
      "outputs": [
        {
          "output_type": "stream",
          "name": "stdout",
          "text": [
            "Mounted at /content/gdrive\n"
          ]
        }
      ],
      "source": [
        "# connect to google colab\n",
        "from google.colab import drive\n",
        "drive.mount(\"/content/gdrive\")\n"
      ]
    },
    {
      "cell_type": "code",
      "execution_count": 3,
      "id": "10ac922e-ff7b-4168-96a8-557d3793e79a",
      "metadata": {
        "colab": {
          "base_uri": "https://localhost:8080/"
        },
        "id": "10ac922e-ff7b-4168-96a8-557d3793e79a",
        "outputId": "ae01ebb0-b9b2-4581-b818-f676b80d54b6"
      },
      "outputs": [
        {
          "output_type": "stream",
          "name": "stdout",
          "text": [
            "@@Configuration START@@\n"
          ]
        }
      ],
      "source": [
        "print(f'@@Configuration START@@')"
      ]
    },
    {
      "cell_type": "code",
      "execution_count": 4,
      "id": "0051fe2c-9f2f-4617-8e35-08206d015eb9",
      "metadata": {
        "colab": {
          "base_uri": "https://localhost:8080/"
        },
        "editable": true,
        "id": "0051fe2c-9f2f-4617-8e35-08206d015eb9",
        "outputId": "1dba3419-08aa-4f1a-acc6-f999c674169a",
        "tags": []
      },
      "outputs": [
        {
          "output_type": "stream",
          "name": "stdout",
          "text": [
            "batch_size: 128\n",
            "d_model: 256\n",
            "n_head: 8\n",
            "max_len: 80\n",
            "ffn_hidden: 512\n",
            "n_layers: 4\n",
            "drop_prob: 0.1\n",
            "epochs: 30\n",
            "init_lr: 0.0\n",
            "weight_decay: 0.0005\n",
            "clip: 1\n"
          ]
        }
      ],
      "source": [
        "# Define configuration\n",
        "batch_size = 128\n",
        "d_model = 256\n",
        "n_head = 8\n",
        "max_len = 80\n",
        "ffn_hidden = 512\n",
        "n_layers=4\n",
        "drop_prob=0.1\n",
        "epochs=30\n",
        "init_lr = 0.00 # having warmup step\n",
        "eps = 5e-9\n",
        "weight_decay = 5e-4\n",
        "warmup_steps=1500\n",
        "clip = 1\n",
        "\n",
        "print(f'batch_size: {batch_size}')\n",
        "print(f'd_model: {d_model}')\n",
        "print(f'n_head: {n_head}')\n",
        "print(f'max_len: {max_len}')\n",
        "print(f'ffn_hidden: {ffn_hidden}')\n",
        "print(f'n_layers: {n_layers}')\n",
        "print(f'drop_prob: {drop_prob}')\n",
        "print(f'epochs: {epochs}')\n",
        "print(f'init_lr: {init_lr}')\n",
        "print(f'weight_decay: {weight_decay}')\n",
        "print(f'clip: {clip}')"
      ]
    },
    {
      "cell_type": "code",
      "execution_count": 5,
      "id": "bbce37c2-0fc8-4d80-8c2d-bc5c6caf560a",
      "metadata": {
        "colab": {
          "base_uri": "https://localhost:8080/"
        },
        "id": "bbce37c2-0fc8-4d80-8c2d-bc5c6caf560a",
        "outputId": "548e16a9-abc0-486b-8673-c8a344bd4915"
      },
      "outputs": [
        {
          "output_type": "stream",
          "name": "stdout",
          "text": [
            "MPS not available because the current PyTorch install was not built with MPS enabled.\n",
            "Using CPU as device\n"
          ]
        }
      ],
      "source": [
        "# Configure Device\n",
        "if torch.cuda.is_available():\n",
        "    device = torch.device(\"cuda\")\n",
        "    print(\"Using CUDA as device\")\n",
        "else:\n",
        "    # Check that MPS is available\n",
        "    if not torch.backends.mps.is_available():\n",
        "        if not torch.backends.mps.is_built():\n",
        "            print(\"MPS not available because the current PyTorch install was not \"\n",
        "                  \"built with MPS enabled.\")\n",
        "        else:\n",
        "            print(\"MPS not available because the current MacOS version is not 12.3+ \"\n",
        "                  \"and/or you do not have an MPS-enabled device on this machine.\")\n",
        "        device = torch.device(\"cpu\")\n",
        "        print(\"Using CPU as device\")\n",
        "    else:\n",
        "        device = torch.device(\"mps\")\n",
        "        print(\"Using MPS as device\")\n",
        "\n",
        "torch.set_default_device(device)"
      ]
    },
    {
      "cell_type": "code",
      "execution_count": 6,
      "id": "b559a9a2-6d1c-4fd7-ac94-5404c4ebb0be",
      "metadata": {
        "colab": {
          "base_uri": "https://localhost:8080/",
          "height": 492,
          "referenced_widgets": [
            "4d921efdf18e4735863d14083256b430",
            "71ab27be60df4f4ca61cc5f4ef326892",
            "f85c8e242fe6472b8aa7ee88ff018402",
            "fb84030cde9b4c7c9ee24d88076d87b1",
            "7e5c841e5e294bf18e5363779b1a3064",
            "9b41960903734478b79a61ea9ff7ae8a",
            "0998daeef7eb4324a31e7dde2ce40048",
            "50d9886d6add48c6aee23a85d399e8d3",
            "1938d828111a45829f8fb93c5c221aba",
            "25d529edc2b446b0ad354a7475260357",
            "bc2c8f35032149b7929d4d027e1b04ef",
            "12675675ca0b43399bb1ccb63a8e0ce9",
            "f95644b85012484e8ab844f22eb30752",
            "1d65f8ff06c44874815fd49bcb6e7d85",
            "5a2212df6a6e4a7ea4951f94c8aeab0b",
            "0da15be5973843ddad64063230e957ae",
            "ae095c83a0f14beebcfce9d6d7e3b3d0",
            "d5afae8580214c53b7dd2264e6579d1c",
            "725ef10192614a87be80986f4884ba2f",
            "db8bc35f9e294872b26c6e63ea5f44ba",
            "6506b9dd62b64e228289f6d406b27595",
            "90709d7c3797422384f2fdbc4cb74664",
            "e81fc042de3a4ebd81c8616bc34956aa",
            "2da3a82a502a43b39708e5de4adbd003",
            "49196e72516b4d8bacb988af667f9ffb",
            "d26c4542c79f4c0ab730b44f248464d3",
            "8d3438d8eb1d4833bc66cad12cdd26a3",
            "b2d5c51027654502a0d9636da1faf22e",
            "956ae3a24a904541b2704ac9e6f23623",
            "f981ba96c29240109dddb40f12b7badd",
            "8c80f34e8a2943c19bd7b8740673c077",
            "f5f1385513374b2e978520ef582aa8cf",
            "c5bd4ddb3a8f4de89bc5db48e73ccaa9",
            "66830a9b966d406ba0b6964dcf852b17",
            "277268ebd4cc424897657ddaf7c63d2f",
            "01a4de6a28fd4a51bd887264873dffa8",
            "871acdcd149647f192528f54e234feb8",
            "9d29012942564dd1808cadbec01a93b7",
            "c0c45c3ffd3847dbaa587c484e119593",
            "2d4dd212f8b347ca80d931cb335f6513",
            "54edc458413d4d5d8358c25caccd365f",
            "fbe90b577cda4b45805751f2cbe3ee88",
            "89a73bc6d97d48d9afb2f0fcc0e771c7",
            "949cc8efc8394a4b8ad1ea5f6874e902",
            "85db2da4e6654b799a57cb4faaa4e463",
            "4d9234d235b34cf2bed5d3a9a6889bcd",
            "b95f6c71f6234a6dbe7d1dd2a05d9e7c",
            "78da4224a5e54083bfcb0072084b9095",
            "17d9375fc0734662a2758ffd9fc28254",
            "4a384215c92e43478baf9cd289b534a0",
            "de7746f2c5e14148bd5096c6ee259584",
            "d9a7ff9cef544982b9b4aa964119ae02",
            "338dd81ecae04df399805eb43fb9a612",
            "9c6634a285564c5a8dbf4e348b5af70f",
            "ac593640d345461f9e010fc8b95ca610"
          ]
        },
        "id": "b559a9a2-6d1c-4fd7-ac94-5404c4ebb0be",
        "outputId": "6410c422-fcac-454b-853f-1088e69f8f6a"
      },
      "outputs": [
        {
          "output_type": "stream",
          "name": "stderr",
          "text": [
            "/usr/local/lib/python3.10/dist-packages/huggingface_hub/utils/_auth.py:94: UserWarning: \n",
            "The secret `HF_TOKEN` does not exist in your Colab secrets.\n",
            "To authenticate with the Hugging Face Hub, create a token in your settings tab (https://huggingface.co/settings/tokens), set it as secret in your Google Colab and restart your session.\n",
            "You will be able to reuse this secret in all of your notebooks.\n",
            "Please note that authentication is recommended but still optional to access public models or datasets.\n",
            "  warnings.warn(\n"
          ]
        },
        {
          "output_type": "display_data",
          "data": {
            "text/plain": [
              "tokenizer_config.json:   0%|          | 0.00/44.0 [00:00<?, ?B/s]"
            ],
            "application/vnd.jupyter.widget-view+json": {
              "version_major": 2,
              "version_minor": 0,
              "model_id": "4d921efdf18e4735863d14083256b430"
            }
          },
          "metadata": {}
        },
        {
          "output_type": "display_data",
          "data": {
            "text/plain": [
              "source.spm:   0%|          | 0.00/842k [00:00<?, ?B/s]"
            ],
            "application/vnd.jupyter.widget-view+json": {
              "version_major": 2,
              "version_minor": 0,
              "model_id": "12675675ca0b43399bb1ccb63a8e0ce9"
            }
          },
          "metadata": {}
        },
        {
          "output_type": "display_data",
          "data": {
            "text/plain": [
              "target.spm:   0%|          | 0.00/813k [00:00<?, ?B/s]"
            ],
            "application/vnd.jupyter.widget-view+json": {
              "version_major": 2,
              "version_minor": 0,
              "model_id": "e81fc042de3a4ebd81c8616bc34956aa"
            }
          },
          "metadata": {}
        },
        {
          "output_type": "display_data",
          "data": {
            "text/plain": [
              "vocab.json:   0%|          | 0.00/1.72M [00:00<?, ?B/s]"
            ],
            "application/vnd.jupyter.widget-view+json": {
              "version_major": 2,
              "version_minor": 0,
              "model_id": "66830a9b966d406ba0b6964dcf852b17"
            }
          },
          "metadata": {}
        },
        {
          "output_type": "display_data",
          "data": {
            "text/plain": [
              "config.json:   0%|          | 0.00/1.39k [00:00<?, ?B/s]"
            ],
            "application/vnd.jupyter.widget-view+json": {
              "version_major": 2,
              "version_minor": 0,
              "model_id": "85db2da4e6654b799a57cb4faaa4e463"
            }
          },
          "metadata": {}
        },
        {
          "output_type": "stream",
          "name": "stderr",
          "text": [
            "/usr/local/lib/python3.10/dist-packages/transformers/models/marian/tokenization_marian.py:175: UserWarning: Recommended: pip install sacremoses.\n",
            "  warnings.warn(\"Recommended: pip install sacremoses.\")\n"
          ]
        },
        {
          "output_type": "stream",
          "name": "stdout",
          "text": [
            "Using kr_tokenizer: Helsinki-NLP/opus-mt-ko-en\n",
            "kr_tokenizer_voc_size(enc_voc_size): 65001\n",
            "Using en_tokenizer: Helsinki-NLP/opus-mt-ko-en\n",
            "en_tokenizer_voc_size(dec_voc_size): 65001\n",
            "src_pad_token: 65000\n",
            "src_eos_token: 0\n",
            "trg_pad_token: 65000\n",
            "trg_sos_token: None\n",
            "trg_eos_token: 0\n"
          ]
        }
      ],
      "source": [
        "# Define tokenizers\n",
        "TOKENIZERS_PARALLELISM = True\n",
        "\n",
        "kr_tokenizer = MarianTokenizer.from_pretrained('Helsinki-NLP/opus-mt-ko-en')\n",
        "en_tokenizer = MarianTokenizer.from_pretrained('Helsinki-NLP/opus-mt-ko-en')\n",
        "\n",
        "enc_voc_size = kr_tokenizer.vocab_size\n",
        "dec_voc_size = en_tokenizer.vocab_size\n",
        "\n",
        "print(f'Using kr_tokenizer: Helsinki-NLP/opus-mt-ko-en')\n",
        "print(f'kr_tokenizer_voc_size(enc_voc_size): {enc_voc_size}')\n",
        "\n",
        "print(f'Using en_tokenizer: Helsinki-NLP/opus-mt-ko-en')\n",
        "print(f'en_tokenizer_voc_size(dec_voc_size): {dec_voc_size}')\n",
        "\n",
        "# Define some variables that are going to be used in future\n",
        "src_pad_token = kr_tokenizer.pad_token_id\n",
        "src_eos_token = kr_tokenizer.eos_token_id\n",
        "\n",
        "trg_pad_token = en_tokenizer.pad_token_id\n",
        "trg_sos_token = en_tokenizer.bos_token_id\n",
        "trg_eos_token = en_tokenizer.eos_token_id\n",
        "\n",
        "print(f'src_pad_token: {src_pad_token}')\n",
        "print(f'src_eos_token: {src_eos_token}')\n",
        "print(f'trg_pad_token: {trg_pad_token}')\n",
        "print(f'trg_sos_token: {trg_sos_token}')\n",
        "print(f'trg_eos_token: {trg_eos_token}')"
      ]
    },
    {
      "cell_type": "code",
      "execution_count": 29,
      "id": "ea0691c4-13f2-4889-a6c1-bcb734016602",
      "metadata": {
        "colab": {
          "base_uri": "https://localhost:8080/"
        },
        "id": "ea0691c4-13f2-4889-a6c1-bcb734016602",
        "outputId": "1bb28980-ceb0-443b-d7cb-9f2c582983d5"
      },
      "outputs": [
        {
          "output_type": "stream",
          "name": "stdout",
          "text": [
            "project_dir: /content/gdrive/MyDrive/Colab Notebooks/en2kr-Translator\n",
            "data_dir: /content/gdrive/MyDrive/Colab Notebooks/en2kr-Translator/data\n",
            "model_dir: /content/gdrive/MyDrive/Colab Notebooks/en2kr-Translator/models\n"
          ]
        }
      ],
      "source": [
        "# Define path configuration for the project\n",
        "project_dir = Path(\"/content/gdrive/MyDrive/Colab Notebooks/en2kr-Translator\")\n",
        "data_dir = project_dir / \"data\"\n",
        "model_dir = project_dir / \"models\"\n",
        "\n",
        "data_dir.mkdir(parents=True, exist_ok=True)\n",
        "model_dir.mkdir(parents=True, exist_ok=True)\n",
        "\n",
        "print(f'project_dir: {project_dir}')\n",
        "print(f'data_dir: {data_dir}')\n",
        "print(f'model_dir: {model_dir}')"
      ]
    },
    {
      "cell_type": "code",
      "execution_count": 10,
      "id": "c250b5cb-983b-4847-8567-3bc3632d2e76",
      "metadata": {
        "id": "c250b5cb-983b-4847-8567-3bc3632d2e76"
      },
      "outputs": [],
      "source": [
        "# Configure Logger\n",
        "timestamp = datetime.now().strftime('%Y%m%d_%H%M%S')\n",
        "\n",
        "logging_dir = project_dir / \"logs\"\n",
        "\n",
        "logging_dir.mkdir(parents=True, exist_ok=True)\n",
        "\n",
        "log_file = logging_dir / f'log_{timestamp}.log'\n",
        "\n",
        "logger = logging.getLogger('transformer_log')\n",
        "logger.setLevel(logging.INFO)\n",
        "\n",
        "file_handler = logging.FileHandler(log_file)\n",
        "file_handler.setLevel(logging.INFO)\n",
        "\n",
        "formatter = logging.Formatter('%(asctime)s - %(name)s - %(levelname)s - %(message)s')\n",
        "file_handler.setFormatter(formatter)\n",
        "\n",
        "logger.addHandler(file_handler)"
      ]
    },
    {
      "cell_type": "code",
      "execution_count": 9,
      "id": "f897540d-030a-4454-8118-8b6ea567c689",
      "metadata": {
        "id": "f897540d-030a-4454-8118-8b6ea567c689"
      },
      "outputs": [],
      "source": [
        "# Define learning rate scheduler.\n",
        "# If you want to modify the logic of Scheduler, please modify this class\n",
        "\n",
        "class LRScheduler:\n",
        "    def __init__(self, optimizer, d_model, warmup_steps, LR_scale=1):\n",
        "        self.optimizer = optimizer\n",
        "        self.step_count = 0\n",
        "        self.d_model = d_model\n",
        "        self.warmup_steps = warmup_steps\n",
        "        self.LR_scale = LR_scale\n",
        "        self._d_model_factor = self.LR_scale * (self.d_model ** -0.5)\n",
        "    def step(self):\n",
        "        self.step_count += 1\n",
        "        lr = self.calculate_learning_rate()\n",
        "        self.optimizer.param_groups[0]['lr'] = lr\n",
        "    def calculate_learning_rate(self):\n",
        "        minimum_factor = min(self.step_count ** -0.5, self.step_count * self.warmup_steps ** -1.5)\n",
        "        return self._d_model_factor * minimum_factor"
      ]
    },
    {
      "cell_type": "code",
      "execution_count": 11,
      "id": "49d4d284-8af6-4759-af29-afb86f7754a6",
      "metadata": {
        "colab": {
          "base_uri": "https://localhost:8080/"
        },
        "id": "49d4d284-8af6-4759-af29-afb86f7754a6",
        "outputId": "fd103ba4-a349-439b-a472-9d861cb51916"
      },
      "outputs": [
        {
          "output_type": "stream",
          "name": "stdout",
          "text": [
            "@@Configuration END@@\n"
          ]
        }
      ],
      "source": [
        "print(f'@@Configuration END@@')"
      ]
    },
    {
      "cell_type": "code",
      "execution_count": 12,
      "id": "fab0035b-83a2-44f1-bb0a-100fc36d0be9",
      "metadata": {
        "id": "fab0035b-83a2-44f1-bb0a-100fc36d0be9"
      },
      "outputs": [],
      "source": [
        "from torch.utils.data import Dataset, DataLoader\n",
        "import pandas as pd\n",
        "import torch"
      ]
    },
    {
      "cell_type": "code",
      "execution_count": 14,
      "id": "e89ae1db-24b1-4c22-a532-a6bf8aa0d310",
      "metadata": {
        "id": "e89ae1db-24b1-4c22-a532-a6bf8aa0d310"
      },
      "outputs": [],
      "source": [
        "train_data_path = data_dir / \"train.parquet\"\n",
        "test_data_path = data_dir / \"test.parquet\"\n",
        "\n",
        "df_train = pd.read_parquet(path=train_data_path)\n",
        "df_test = pd.read_parquet(path=test_data_path)\n",
        "\n",
        "class en2kr_Train_Dataset(Dataset):\n",
        "    def __init__(self, max_len):\n",
        "        self.data = df_train\n",
        "\n",
        "    def __len__(self):\n",
        "        return len(self.data)\n",
        "\n",
        "    def __getitem__(self, idx):\n",
        "        row = self.data.iloc[[idx]]\n",
        "        en_sentence = row[\"english\"].item()\n",
        "        kr_sentence = row[\"korean\"].item()\n",
        "\n",
        "        return kr_sentence, en_sentence\n",
        "\n",
        "class en2kr_Test_Dataset(Dataset):\n",
        "    def __init__(self, max_len):\n",
        "        self.data = df_test\n",
        "\n",
        "    def __len__(self):\n",
        "        return len(self.data)\n",
        "\n",
        "    def __getitem__(self, idx):\n",
        "        row = self.data.iloc[[idx]]\n",
        "        en_sentence = row[\"english\"].item()\n",
        "        kr_sentence = row[\"korean\"].item()\n",
        "\n",
        "        return kr_sentence, en_sentence\n",
        "\n"
      ]
    },
    {
      "cell_type": "code",
      "execution_count": 15,
      "id": "4cb48b7b-bee2-4824-8984-45cd706d83cd",
      "metadata": {
        "id": "4cb48b7b-bee2-4824-8984-45cd706d83cd"
      },
      "outputs": [],
      "source": [
        "train_dataset = en2kr_Train_Dataset(max_len=max_len)\n",
        "test_dataset = en2kr_Test_Dataset(max_len=max_len)\n",
        "\n",
        "train_dataloader = DataLoader(train_dataset,pin_memory=True, drop_last=True, batch_size=batch_size, shuffle=True, generator=torch.Generator(device=device))\n",
        "test_dataloader = DataLoader(test_dataset,pin_memory=True, drop_last=True, batch_size=batch_size, generator=torch.Generator(device=device))"
      ]
    },
    {
      "cell_type": "markdown",
      "id": "4c95f00f-c1f3-422b-a701-56b8c8329eac",
      "metadata": {
        "id": "4c95f00f-c1f3-422b-a701-56b8c8329eac"
      },
      "source": [
        "# Transformer Model Implementation\n"
      ]
    },
    {
      "cell_type": "code",
      "execution_count": 16,
      "id": "05dfc35a-d661-4bc4-a549-d1476c22fc61",
      "metadata": {
        "id": "05dfc35a-d661-4bc4-a549-d1476c22fc61"
      },
      "outputs": [],
      "source": [
        "# import required packages\n",
        "import torch\n",
        "import torch.nn as nn\n",
        "import math"
      ]
    },
    {
      "cell_type": "code",
      "execution_count": 17,
      "id": "69b9255b-2fc1-4eb9-9b97-ab9a2723ae67",
      "metadata": {
        "id": "69b9255b-2fc1-4eb9-9b97-ab9a2723ae67"
      },
      "outputs": [],
      "source": [
        "# Define a Token Embedding\n",
        "class TokenEmbeddings(nn.Embedding):\n",
        "    \"\"\"\n",
        "    Converting token into embedding vector\n",
        "    \"\"\"\n",
        "    def __init__(self, vocab_size, d_model):\n",
        "        \"\"\"\n",
        "        class for token embedding without positional encoding\n",
        "        This layer transforms an seq_len token_ids -> (seq_len, d_model)\n",
        "        Assigning (vector of size d_model) to each tokens\n",
        "\n",
        "        :param vocab_size: number of vocabs that TokenEmbeddings can handle\n",
        "        :param d_model: dimension of embedding vector\n",
        "        \"\"\"\n",
        "        super(TokenEmbeddings, self).__init__(vocab_size, d_model, padding_idx=65000)\n",
        "\n",
        "# Define Positional Encoding\n",
        "class PositionalEncoding(nn.Module):\n",
        "    \"\"\"\n",
        "    compute reusable sinusoid positional encoding\n",
        "    \"\"\"\n",
        "    def __init__(self, d_model, max_len, device):\n",
        "        \"\"\"\n",
        "        construct sinusoid positional encoding that is going to be reused everytime when it is needed\n",
        "\n",
        "        :param d_model: dimension of embedding vector\n",
        "        :param max_len: maximum sequence length of token(a.k.a window size of attention method)\n",
        "        \"\"\"\n",
        "        super(PositionalEncoding, self).__init__()\n",
        "\n",
        "        # define a max_len * d_model size encoding matrix\n",
        "        self.encoding = torch.zeros(max_len, d_model, device=device)\n",
        "\n",
        "        # since positional encoding is not learnable, we turn off the gradient engine\n",
        "        self.encoding.requires_grad = False\n",
        "\n",
        "        # define a position at the sequence\n",
        "        pos = torch.arange(0, max_len, device=device)\n",
        "        # expand the max_len vector to max_len * 1 matrix\n",
        "        pos = pos.float().unsqueeze(dim=1)\n",
        "\n",
        "        _2i = torch.arange(0, d_model, step=2, device=device).float()\n",
        "\n",
        "        # define a sinusoid positional encoding\n",
        "        self.encoding[:, 0::2] = torch.sin(pos / (10000 ** (_2i / d_model)))\n",
        "        self.encoding[:, 1::2] = torch.cos(pos / (10000 ** (_2i / d_model)))\n",
        "\n",
        "    def forward(self, x):\n",
        "        batch_size, seq_len = x.shape\n",
        "\n",
        "        return self.encoding[:seq_len, :]\n",
        "\n",
        "# Define Transformer Embedding\n",
        "class TransformerEmbedding(nn.Module):\n",
        "    \"\"\"\n",
        "    token embedding + positional encoding\n",
        "    \"\"\"\n",
        "    def __init__(self, vocab_size, d_model, max_len, drop_prob, device):\n",
        "        \"\"\"\n",
        "        initialize the embedding class for word+position embedding\n",
        "\n",
        "        :param vocab_size: number of vocabs that TokenEmbeddings can handle\n",
        "        :param d_model: dimension of embedding vector\n",
        "        :param max_len: maximum sequence length of token(a.k.a window size of attention method)\n",
        "        :param drop_prob: dropout probability to reduce overfitting\n",
        "        \"\"\"\n",
        "        super(TransformerEmbedding, self).__init__()\n",
        "        self.token_emb = TokenEmbeddings(vocab_size, d_model)\n",
        "        self.position_emb = PositionalEncoding(d_model, max_len, device)\n",
        "        self.dropout = nn.Dropout(p=drop_prob)\n",
        "        self.scale = torch.sqrt(torch.tensor(d_model, dtype=torch.float32))\n",
        "\n",
        "    def forward(self, x):\n",
        "        tok_emb = self.scale * self.token_emb(x)\n",
        "        pos_emb = self.position_emb(x)\n",
        "\n",
        "        return self.dropout(tok_emb+pos_emb)\n"
      ]
    },
    {
      "cell_type": "code",
      "execution_count": 18,
      "id": "082e2d7c-b5d7-463e-a65e-dbcea5e75acc",
      "metadata": {
        "id": "082e2d7c-b5d7-463e-a65e-dbcea5e75acc"
      },
      "outputs": [],
      "source": [
        "# Define Attention Block\n",
        "class AttentionBlock(nn.Module):\n",
        "    \"\"\"\n",
        "    compute scale dot product attention for Query, Key, Value\n",
        "    \"\"\"\n",
        "    def __init__(self):\n",
        "        super(AttentionBlock, self).__init__()\n",
        "        self.softmax = nn.Softmax(dim=-1)\n",
        "\n",
        "    def forward(self, q, k, v, mask=None, eps=1e-12):\n",
        "        batch_size, head, length, d_tensor = k.shape\n",
        "\n",
        "        # calculate the k_T\n",
        "        k_T = k.transpose(2, 3)\n",
        "\n",
        "        # calculate the attention weight\n",
        "        att_weight = (q @ k_T) / math.sqrt(d_tensor)\n",
        "\n",
        "        # if there are any masks that needs to be applied\n",
        "        if mask is not None:\n",
        "            att_weight = att_weight.masked_fill(mask == 0, -1e10)\n",
        "\n",
        "        # calculate the softmax\n",
        "        # att_weight shape: batch_size, head, seq_len_query, seq_len_key\n",
        "        att_weight = self.softmax(att_weight)\n",
        "\n",
        "        # att_weight @ v shape: batch_size, head, seq_len_query, d_tensor\n",
        "        return att_weight @ v, att_weight\n",
        "\n",
        "# Define MultiHeadAttention Block\n",
        "class MultiHeadAttentionBlock(nn.Module):\n",
        "    \"\"\"\n",
        "    define multi head attention block using AttentionBlock module\n",
        "    \"\"\"\n",
        "    def __init__(self, d_model, n_head):\n",
        "        \"\"\"\n",
        "        Multi-head self-attention utilize the parallelism of GPU\n",
        "\n",
        "        :param d_model: dimension of embedding vector\n",
        "        :param n_head: number of heads\n",
        "        \"\"\"\n",
        "        super(MultiHeadAttentionBlock, self).__init__()\n",
        "        self.n_head = n_head\n",
        "        self.attention = AttentionBlock()\n",
        "        self.Wq = nn.Linear(d_model, d_model)\n",
        "        self.Wk = nn.Linear(d_model, d_model)\n",
        "\n",
        "        # in the paper, d_v = d_k = d_q\n",
        "        self.Wv = nn.Linear(d_model, d_model)\n",
        "\n",
        "        self.Wconcat = nn.Linear(d_model, d_model)\n",
        "\n",
        "    def split(self, tensor):\n",
        "        \"\"\"\n",
        "        split the tensor by number of head\n",
        "\n",
        "        :param tensor: tensor of shape batch_size  * seq_len * d_model\n",
        "        :return: return tensor of shape batch_size * n_head * seq_len * d_tensor\n",
        "        \"\"\"\n",
        "        batch_size, seq_len, d_model = tensor.shape\n",
        "\n",
        "        d_tensor = d_model // self.n_head\n",
        "\n",
        "        tensor = tensor.view(batch_size, seq_len, self.n_head, d_tensor).transpose(1, 2)\n",
        "\n",
        "        return tensor\n",
        "\n",
        "    def concat(self, tensor):\n",
        "        \"\"\"\n",
        "        concat tensor. Inverse operation of split\n",
        "\n",
        "        :param tensor: tensor of shape batch_size * n_head * seq_len * d_tensor\n",
        "        :return: return tensor of shape batch_size * seq_len * d_model\n",
        "        \"\"\"\n",
        "        batch_size, n_head, seq_len, d_tensor = tensor.shape\n",
        "\n",
        "        d_model = n_head * d_tensor\n",
        "        tensor = tensor.transpose(1, 2).contiguous().view(batch_size, seq_len, d_model)\n",
        "        return tensor\n",
        "\n",
        "\n",
        "    def forward(self, q, k, v, mask=None):\n",
        "        # apply linear transformation to derive q, k, v\n",
        "        q, k, v = self.Wq(q), self.Wk(k), self.Wv(v)\n",
        "\n",
        "        # split the tensor by number of heads\n",
        "        q, k, v = self.split(q), self.split(k), self.split(v)\n",
        "\n",
        "        # apply attention to q, k, v\n",
        "        out, attn_weights = self.attention(q, k, v, mask=mask)\n",
        "\n",
        "        # current attn_weights shape is batch_size * n_head * q_len * k_len\n",
        "        # mean it by dim 1\n",
        "        # eventually changing shape into batch_size * q_len * k_len\n",
        "        attn_weight = attn_weights.mean(dim=1)\n",
        "\n",
        "        # concat\n",
        "        out = self.concat(out)\n",
        "\n",
        "        # apply concat weight\n",
        "        out = self.Wconcat(out)\n",
        "        return out, attn_weight\n"
      ]
    },
    {
      "cell_type": "code",
      "execution_count": 19,
      "id": "4cc7b94a-5680-4860-87df-a2665d85fe65",
      "metadata": {
        "id": "4cc7b94a-5680-4860-87df-a2665d85fe65"
      },
      "outputs": [],
      "source": [
        "# define FeedForward Network\n",
        "class FeedForwardBlock(nn.Module):\n",
        "    def __init__(self, d_model, hidden, drop_prob=0.1):\n",
        "        super(FeedForwardBlock, self).__init__()\n",
        "        self.linear1 = nn.Linear(d_model, hidden)\n",
        "        self.linear2 = nn.Linear(hidden, d_model)\n",
        "        self.relu = nn.ReLU()\n",
        "        self.dropout = nn.Dropout(p=drop_prob)\n",
        "\n",
        "    def forward(self, x):\n",
        "        x = self.linear1(x)\n",
        "        x = self.relu(x)\n",
        "        x = self.dropout(x)\n",
        "        x = self.linear2(x)\n",
        "        return x"
      ]
    },
    {
      "cell_type": "code",
      "execution_count": 20,
      "id": "3e1718d3-90ee-4c13-8363-76fd56515a64",
      "metadata": {
        "id": "3e1718d3-90ee-4c13-8363-76fd56515a64"
      },
      "outputs": [],
      "source": [
        "# Define Encoder Layer\n",
        "class EncoderLayer(nn.Module):\n",
        "    def __init__(self, d_model, ffn_hidden, n_head, drop_prob):\n",
        "        super(EncoderLayer, self).__init__()\n",
        "        self.attention = MultiHeadAttentionBlock(d_model, n_head)\n",
        "        self.norm = nn.LayerNorm(d_model)\n",
        "        self.dropout1 = nn.Dropout(drop_prob)\n",
        "\n",
        "        self.ffn = FeedForwardBlock(d_model, ffn_hidden, drop_prob)\n",
        "        self.dropout2 = nn.Dropout(drop_prob)\n",
        "\n",
        "    def forward(self, x, src_mask):\n",
        "        residual = x\n",
        "        x = self.norm(x)\n",
        "        x, attn_weight = self.attention(q=x, k=x, v=x, mask=src_mask)\n",
        "\n",
        "        x = self.dropout1(x)\n",
        "        x = self.norm(x + residual)\n",
        "\n",
        "        residual = x\n",
        "        x = self.ffn(x)\n",
        "\n",
        "        x =  self.dropout2(x)\n",
        "        x = x + residual\n",
        "\n",
        "        return x, attn_weight\n",
        "\n",
        "# Define Decoder Layer\n",
        "class DecoderLayer(nn.Module):\n",
        "    def __init__(self, d_model, ffn_hidden, n_head, drop_prob):\n",
        "        super(DecoderLayer, self).__init__()\n",
        "        self.self_attention = MultiHeadAttentionBlock(d_model, n_head)\n",
        "        self.norm1 = nn.LayerNorm(d_model)\n",
        "        self.dropout1 = nn.Dropout(p=drop_prob)\n",
        "\n",
        "        self.enc_dec_attention = MultiHeadAttentionBlock(d_model, n_head)\n",
        "        self.norm2 = nn.LayerNorm(d_model)\n",
        "        self.dropout2 = nn.Dropout(p=drop_prob)\n",
        "\n",
        "        self.ffn = FeedForwardBlock(d_model=d_model, hidden=ffn_hidden, drop_prob=drop_prob)\n",
        "        self.norm3 = nn.LayerNorm(d_model)\n",
        "        self.dropout3 = nn.Dropout(p=drop_prob)\n",
        "\n",
        "    def forward(self, dec, enc, trg_mask, src_mask):\n",
        "        residual = dec\n",
        "        dec = self.norm1(dec)\n",
        "\n",
        "        x, attn_weight1 = self.self_attention(q=dec, k=dec, v=dec, mask=trg_mask)\n",
        "\n",
        "        x = self.dropout1(x)\n",
        "        x = self.norm2(x + residual)\n",
        "\n",
        "        residual = x\n",
        "        x, attn_weight2 = self.enc_dec_attention(q=x, k=enc, v=enc, mask=src_mask)\n",
        "        x = self.dropout2(x)\n",
        "        x = self.norm3(x + residual)\n",
        "\n",
        "        residual = x\n",
        "        x = self.ffn(x)\n",
        "        x = self.dropout3(x)\n",
        "        x = x + residual\n",
        "\n",
        "        return x, attn_weight1, attn_weight2"
      ]
    },
    {
      "cell_type": "code",
      "execution_count": 21,
      "id": "3ca21171-0527-4604-ae4b-38d4174ff317",
      "metadata": {
        "editable": true,
        "id": "3ca21171-0527-4604-ae4b-38d4174ff317",
        "tags": []
      },
      "outputs": [],
      "source": [
        "# Define Encoder Model\n",
        "class Encoder(nn.Module):\n",
        "    \"\"\"\n",
        "    Encoder for Transformer\n",
        "    \"\"\"\n",
        "    def __init__(self, embedding, enc_voc_size, max_len, d_model, ffn_hidden, n_head, n_layers, drop_prob, device):\n",
        "        super(Encoder, self).__init__()\n",
        "        self.emb = embedding\n",
        "        self.layers = nn.ModuleList([EncoderLayer(d_model=d_model, ffn_hidden=ffn_hidden, n_head=n_head, drop_prob=drop_prob) for _ in range(n_layers)])\n",
        "        self.norm = nn.LayerNorm(d_model)\n",
        "\n",
        "    def forward(self, x, src_mask):\n",
        "        x = self.emb(x)\n",
        "        attn_weights = []\n",
        "        # get the mean of attention map batch_size * seq_len_src * seq_len_src\n",
        "        for layer in self.layers:\n",
        "            x, attn_weight = layer(x, src_mask)\n",
        "            attn_weights.append(attn_weight)\n",
        "\n",
        "        x = self.norm(x)\n",
        "\n",
        "        return x, torch.mean(torch.stack(attn_weights), dim=0)\n",
        "\n",
        "\n",
        "class Decoder(nn.Module):\n",
        "    \"\"\"\n",
        "    Decoder for Transformer\n",
        "    \"\"\"\n",
        "    def __init__(self, embedding, dec_voc_size, max_len, d_model, ffn_hidden, n_head, n_layers, drop_prob, device):\n",
        "        super(Decoder, self).__init__()\n",
        "        self.emb = embedding\n",
        "\n",
        "        self.layers = nn.ModuleList([DecoderLayer(d_model=d_model, ffn_hidden=ffn_hidden, n_head=n_head, drop_prob=drop_prob) for _ in range(n_layers)])\n",
        "\n",
        "        self.linear = nn.Linear(d_model, dec_voc_size)\n",
        "        self.norm = nn.LayerNorm(d_model)\n",
        "\n",
        "    def forward(self, trg, enc_src, trg_mask, src_mask):\n",
        "        trg = self.emb(trg)\n",
        "        attn_weights_1 = []\n",
        "        attn_weights_2 = []\n",
        "        for layer in self.layers:\n",
        "            trg, attn_weight_1, attn_weight_2 = layer(trg, enc_src, trg_mask, src_mask)\n",
        "            attn_weights_1.append(attn_weight_1)\n",
        "            attn_weights_2.append(attn_weight_2)\n",
        "\n",
        "        trg = self.norm(trg)\n",
        "        output = self.linear(trg)\n",
        "        return output, torch.mean(torch.stack(attn_weights_1), dim=0), torch.mean(torch.stack(attn_weights_2), dim=0)\n",
        "\n",
        "\n",
        "# Define Transformer Model\n",
        "class Transformer(nn.Module):\n",
        "    \"\"\"\n",
        "    Transformer Model\n",
        "    \"\"\"\n",
        "    def __init__(self, src_pad_token, trg_pad_token, enc_voc_size, dec_voc_size, n_head, max_len, d_model, ffn_hidden, n_layers, drop_prob, device):\n",
        "        \"\"\"\n",
        "        Constructing Transformer Model\n",
        "\n",
        "        :param src_pad_token: embedding vector that represents <pad> in source\n",
        "        :param trg_pad_token: embedding vector that represents <pad> in target\n",
        "        :params enc_voc_size: number of vocabs that encoderEmbedder can handle\n",
        "        :params dec_voc_size: number of vocabs that decoderEmbedder can handle\n",
        "        :params ffn_hidden: hidden vector dimension for fastfeedforward layer\n",
        "        :params n_layers: number of EncoderLayer/DecoderLayer used\n",
        "        :params drop_prob: dropout probability\n",
        "        \"\"\"\n",
        "        super(Transformer, self).__init__()\n",
        "\n",
        "        self.emb = TransformerEmbedding(d_model=d_model, max_len=max_len, vocab_size=dec_voc_size, drop_prob=drop_prob, device=device)\n",
        "        self.src_pad_token = src_pad_token\n",
        "        self.trg_pad_token = trg_pad_token\n",
        "        self.device = device\n",
        "        self.encoder = Encoder(embedding=self.emb, d_model=d_model, n_head=n_head, max_len=max_len, ffn_hidden=ffn_hidden, enc_voc_size=enc_voc_size, drop_prob=drop_prob, n_layers=n_layers, device=device)\n",
        "        self.decoder = Decoder(embedding=self.emb, d_model=d_model, n_head=n_head, max_len=max_len, ffn_hidden=ffn_hidden, dec_voc_size=dec_voc_size, drop_prob=drop_prob, n_layers=n_layers, device=device)\n",
        "\n",
        "    def make_src_mask(self, src):\n",
        "        # print(f'src: {src}')\n",
        "        # print(f'src_pad_token: {self.src_pad_token}')\n",
        "        # print(f'src != self.src_pad_token: {src != self.src_pad_token}')\n",
        "        src_mask = (src != self.src_pad_token).unsqueeze(1).unsqueeze(2)\n",
        "        return src_mask\n",
        "\n",
        "    def make_trg_mask(self, trg):\n",
        "        trg_pad_mask = (trg != self.trg_pad_token).unsqueeze(1).unsqueeze(3)\n",
        "        trg_len = trg.shape[1]\n",
        "\n",
        "        # make a look-ahead mask using torch.tril\n",
        "        # [[1 0 0]\n",
        "        #  [1 1 0]\n",
        "        #  [1 1 1]]\n",
        "        trg_sub_mask = torch.tril(torch.ones(trg_len, trg_len)).type(torch.ByteTensor).to(self.device)\n",
        "\n",
        "        trg_mask = trg_pad_mask & trg_sub_mask\n",
        "        return trg_mask\n",
        "\n",
        "\n",
        "    def forward(self, src, trg):\n",
        "        src_mask = self.make_src_mask(src)\n",
        "        trg_mask = self.make_trg_mask(trg)\n",
        "        enc_src, enc_self_attn_weight = self.encoder(src, src_mask)\n",
        "        output, dec_self_attn_weight, enc_dec_attn_weight = self.decoder(trg, enc_src, trg_mask, src_mask)\n",
        "\n",
        "        # current output shape is batch_size * dec_voc_size, which is desirable.\n",
        "        # We don't need to apply softmax because we are going to use CrossEntropyLoss as loss function\n",
        "        # which automatically applies log-softmax during calculation\n",
        "\n",
        "        return output"
      ]
    },
    {
      "cell_type": "markdown",
      "id": "948a6958-d332-4c2a-abc5-ff66dd794695",
      "metadata": {
        "id": "948a6958-d332-4c2a-abc5-ff66dd794695"
      },
      "source": [
        "# Train the Model using datas"
      ]
    },
    {
      "cell_type": "code",
      "execution_count": 22,
      "id": "5e61d776-cdbb-431d-a749-6198daf58c7d",
      "metadata": {
        "id": "5e61d776-cdbb-431d-a749-6198daf58c7d"
      },
      "outputs": [],
      "source": [
        "from torch.optim import Adam\n",
        "from datetime import datetime\n",
        "import torch\n",
        "from tqdm import tqdm"
      ]
    },
    {
      "cell_type": "code",
      "execution_count": 23,
      "id": "7a282067-acba-4324-8155-61e67650d5e6",
      "metadata": {
        "colab": {
          "base_uri": "https://localhost:8080/"
        },
        "editable": true,
        "id": "7a282067-acba-4324-8155-61e67650d5e6",
        "outputId": "e26dc2ba-923a-46aa-df34-a9ff992e10db",
        "tags": []
      },
      "outputs": [
        {
          "output_type": "stream",
          "name": "stderr",
          "text": [
            "INFO:transformer_log:model parameter #: 38616041\n"
          ]
        },
        {
          "output_type": "stream",
          "name": "stdout",
          "text": [
            "model parameter #: 38616041\n"
          ]
        }
      ],
      "source": [
        "# Prepare the model\n",
        "model = Transformer(\n",
        "    src_pad_token=src_pad_token,\n",
        "    trg_pad_token=trg_pad_token,\n",
        "    enc_voc_size=enc_voc_size,\n",
        "    dec_voc_size=dec_voc_size,\n",
        "    n_head=n_head,\n",
        "    max_len=max_len,\n",
        "    d_model=d_model,\n",
        "    ffn_hidden=ffn_hidden,\n",
        "    n_layers=n_layers,\n",
        "    drop_prob=drop_prob,\n",
        "    device=device).to(device)\n",
        "\n",
        "model.train()\n",
        "\n",
        "def count_parameters(model):\n",
        "    return sum(p.numel() for p in model.parameters() if p.requires_grad)\n",
        "\n",
        "logger.info(f'model parameter #: {count_parameters(model)}')\n"
      ]
    },
    {
      "cell_type": "code",
      "execution_count": 24,
      "id": "e078fd4f-33e5-4e6c-b539-6f8f4c8f1c5c",
      "metadata": {
        "id": "e078fd4f-33e5-4e6c-b539-6f8f4c8f1c5c"
      },
      "outputs": [],
      "source": [
        "# Setup optimizer\n",
        "optimizer = Adam(params=model.parameters(), lr=init_lr, weight_decay=weight_decay, eps=eps, betas=(0.9, 0.98))\n",
        "\n",
        "# Set Noam Scheduler\n",
        "scheduler = LRScheduler(optimizer, d_model, warmup_steps)\n",
        "# Setup loss function for training\n",
        "loss_func = nn.CrossEntropyLoss(ignore_index=src_pad_token)\n",
        "\n",
        "\n"
      ]
    },
    {
      "cell_type": "code",
      "execution_count": 26,
      "id": "57a37978-5880-4075-a5ee-ee77404eb1e3",
      "metadata": {
        "id": "57a37978-5880-4075-a5ee-ee77404eb1e3"
      },
      "outputs": [],
      "source": [
        "# store lr rate history per steps\n",
        "lr_history = []\n",
        "# store loss history per steps\n",
        "train_loss_history = []"
      ]
    },
    {
      "cell_type": "code",
      "execution_count": 27,
      "id": "42d092cb-c592-4a28-8316-92e291ea493a",
      "metadata": {
        "id": "42d092cb-c592-4a28-8316-92e291ea493a"
      },
      "outputs": [],
      "source": [
        "def train_epoch(epoch_num):\n",
        "    model.train()\n",
        "    train_epoch_loss = 0\n",
        "\n",
        "    for step, (kr_sentences, en_sentences) in tqdm(enumerate(train_dataloader)):\n",
        "\n",
        "        # tokenize kr_sentence\n",
        "        kr_tokenized = kr_tokenizer(kr_sentences, padding=True, truncation=True, max_length=max_len, return_tensors=\"pt\").input_ids\n",
        "\n",
        "        # tokenize en_sentence\n",
        "        # make en_sentence start with eos token(this is because current tokenizer don't have an sos token.)\n",
        "        en_sentences = ['</s> ' + s for s in en_sentences]\n",
        "        en_tokenized = en_tokenizer(en_sentences, padding=True, truncation=True, max_length=max_len, return_tensors=\"pt\").input_ids\n",
        "\n",
        "\n",
        "        kr_tokenized = kr_tokenized.to(device)\n",
        "        en_tokenized = en_tokenized.to(device)\n",
        "\n",
        "        # out is the dec_voc_size vector\n",
        "        # during training, we exclude sep token\n",
        "\n",
        "        # remove eos token if the sentence is too long, and gets truncated.\n",
        "        # so we can prevent early-stopping(early-eos)\n",
        "        # out: batch_size * max_len * dec_voc_size\n",
        "        out = model(kr_tokenized, en_tokenized[:, :-1])\n",
        "\n",
        "        # remove sos token from en_tokenized when calculating loss because out will not include eos token in front of the sentence.\n",
        "        # en_tokenized: batch_size * (max_len-1)\n",
        "        en_tokenized = en_tokenized[:, 1:].to(device)\n",
        "\n",
        "        # out: batch_size * (max_len - 1) * dec_voc_size\n",
        "        out = out.permute(0, 2, 1).to(device)\n",
        "\n",
        "        loss = loss_func(out, en_tokenized)\n",
        "        optimizer.zero_grad()\n",
        "        loss.backward()\n",
        "        # torch.nn.utils.clip_grad_norm_(model.parameters(), clip)\n",
        "\n",
        "        optimizer.step()\n",
        "        scheduler.step()\n",
        "\n",
        "        train_epoch_loss += loss.item()\n",
        "\n",
        "        if step % 200 == 0:\n",
        "            print(f'    EPOCH #{epoch_num} STEP #{step} | loss: {loss.item()}, avg_loss: {train_epoch_loss / (step + 1)}')\n",
        "            logger.info(f'    EPOCH #{epoch_num} STEP #{step} | loss: {loss.item()}, avg_loss: {train_epoch_loss / (step + 1)}')\n",
        "\n",
        "\n",
        "\n",
        "    train_step_loss = train_epoch_loss / (step+1)\n",
        "    # After training epoch, do evaluation\n",
        "\n",
        "    return train_step_loss"
      ]
    },
    {
      "cell_type": "code",
      "execution_count": 28,
      "id": "b4858b14-e7f6-40af-b412-01eb7653c611",
      "metadata": {
        "id": "b4858b14-e7f6-40af-b412-01eb7653c611"
      },
      "outputs": [],
      "source": [
        "# evaluate the model\n",
        "def evaluate():\n",
        "    model.eval()\n",
        "    test_epoch_loss = 0\n",
        "    test_bleu_loss = 0\n",
        "\n",
        "    with torch.no_grad():\n",
        "        for step, (kr_sentences, en_sentences) in tqdm(enumerate(test_dataloader)):\n",
        "            # tokenize kr_sentence\n",
        "            kr_tokenized = kr_tokenizer(kr_sentences, padding=True, truncation=True, max_length=max_len, return_tensors=\"pt\").input_ids\n",
        "\n",
        "            # tokenize en_sentence\n",
        "            # make en_sentence start with eos token(this is because current tokenizer don't have an sos token.)\n",
        "            en_sentences = ['</s> ' + s for s in en_sentences]\n",
        "            en_tokenized = en_tokenizer(en_sentences, padding=True, truncation=True, max_length=max_len, return_tensors=\"pt\").input_ids\n",
        "\n",
        "            kr_tokenized = kr_tokenized.to(device)\n",
        "            en_tokenized = en_tokenized.to(device)\n",
        "\n",
        "\n",
        "            # this does not remove the eos token\n",
        "            # FIXME\n",
        "            out = model(kr_tokenized, en_tokenized[:, :-1])\n",
        "\n",
        "\n",
        "            # remove sos token from en_tokenized when calculating loss because out will not include sos token.\n",
        "            en_tokenized = en_tokenized[:, 1:].to(device)\n",
        "\n",
        "            out = out.permute(0, 2, 1).to(device)\n",
        "\n",
        "            loss = loss_func(out, en_tokenized)\n",
        "            test_epoch_loss += loss.item()\n",
        "\n",
        "            # calcuate the bleu\n",
        "            # TODO\n",
        "        test_step_loss = test_epoch_loss / (step + 1)\n",
        "    return test_step_loss"
      ]
    },
    {
      "cell_type": "code",
      "execution_count": null,
      "id": "c7080d85-a150-4e03-bb81-191a1bd882d4",
      "metadata": {
        "colab": {
          "base_uri": "https://localhost:8080/",
          "height": 1000
        },
        "id": "c7080d85-a150-4e03-bb81-191a1bd882d4",
        "outputId": "e4e00e31-e5ea-47f6-e33f-7099c8021fab"
      },
      "outputs": [
        {
          "name": "stderr",
          "output_type": "stream",
          "text": [
            "INFO:transformer_log:Epoch #0 Start: current LR 0.0\n"
          ]
        },
        {
          "name": "stdout",
          "output_type": "stream",
          "text": [
            "Epoch #0 Start: current LR 0.0\n"
          ]
        },
        {
          "name": "stderr",
          "output_type": "stream",
          "text": [
            "0it [00:00, ?it/s]INFO:transformer_log:    EPOCH #0 STEP #0 | loss: 11.262101173400879, avg_loss: 11.262101173400879\n",
            "1it [00:02,  2.60s/it]"
          ]
        },
        {
          "name": "stdout",
          "output_type": "stream",
          "text": [
            "    EPOCH #0 STEP #0 | loss: 11.262101173400879, avg_loss: 11.262101173400879\n"
          ]
        },
        {
          "name": "stderr",
          "output_type": "stream",
          "text": [
            "200it [03:25,  1.04s/it]INFO:transformer_log:    EPOCH #0 STEP #200 | loss: 5.835330486297607, avg_loss: 8.487609255966262\n",
            "201it [03:26,  1.04s/it]"
          ]
        },
        {
          "name": "stdout",
          "output_type": "stream",
          "text": [
            "    EPOCH #0 STEP #200 | loss: 5.835330486297607, avg_loss: 8.487609255966262\n"
          ]
        },
        {
          "name": "stderr",
          "output_type": "stream",
          "text": [
            "400it [06:54,  1.03s/it]INFO:transformer_log:    EPOCH #0 STEP #400 | loss: 4.338562488555908, avg_loss: 6.745410742010559\n",
            "401it [06:55,  1.04s/it]"
          ]
        },
        {
          "name": "stdout",
          "output_type": "stream",
          "text": [
            "    EPOCH #0 STEP #400 | loss: 4.338562488555908, avg_loss: 6.745410742010559\n"
          ]
        },
        {
          "name": "stderr",
          "output_type": "stream",
          "text": [
            "600it [10:23,  1.04s/it]INFO:transformer_log:    EPOCH #0 STEP #600 | loss: 3.7966251373291016, avg_loss: 5.832336837955799\n",
            "601it [10:24,  1.04s/it]"
          ]
        },
        {
          "name": "stdout",
          "output_type": "stream",
          "text": [
            "    EPOCH #0 STEP #600 | loss: 3.7966251373291016, avg_loss: 5.832336837955799\n"
          ]
        },
        {
          "name": "stderr",
          "output_type": "stream",
          "text": [
            "751it [13:00,  1.04s/it]\n",
            "117it [00:44,  2.61it/s]\n",
            "INFO:transformer_log:Epoch #0 End: Train Loss 5.415197627045978, Test Loss 3.6042336663629255\n"
          ]
        },
        {
          "data": {
            "application/javascript": [
              "\n",
              "    async function download(id, filename, size) {\n",
              "      if (!google.colab.kernel.accessAllowed) {\n",
              "        return;\n",
              "      }\n",
              "      const div = document.createElement('div');\n",
              "      const label = document.createElement('label');\n",
              "      label.textContent = `Downloading \"${filename}\": `;\n",
              "      div.appendChild(label);\n",
              "      const progress = document.createElement('progress');\n",
              "      progress.max = size;\n",
              "      div.appendChild(progress);\n",
              "      document.body.appendChild(div);\n",
              "\n",
              "      const buffers = [];\n",
              "      let downloaded = 0;\n",
              "\n",
              "      const channel = await google.colab.kernel.comms.open(id);\n",
              "      // Send a message to notify the kernel that we're ready.\n",
              "      channel.send({})\n",
              "\n",
              "      for await (const message of channel.messages) {\n",
              "        // Send a message to notify the kernel that we're ready.\n",
              "        channel.send({})\n",
              "        if (message.buffers) {\n",
              "          for (const buffer of message.buffers) {\n",
              "            buffers.push(buffer);\n",
              "            downloaded += buffer.byteLength;\n",
              "            progress.value = downloaded;\n",
              "          }\n",
              "        }\n",
              "      }\n",
              "      const blob = new Blob(buffers, {type: 'application/binary'});\n",
              "      const a = document.createElement('a');\n",
              "      a.href = window.URL.createObjectURL(blob);\n",
              "      a.download = filename;\n",
              "      div.appendChild(a);\n",
              "      a.click();\n",
              "      div.remove();\n",
              "    }\n",
              "  "
            ],
            "text/plain": [
              "<IPython.core.display.Javascript object>"
            ]
          },
          "metadata": {},
          "output_type": "display_data"
        },
        {
          "data": {
            "application/javascript": [
              "download(\"download_fa0c6c93-8aca-47e7-8149-cdc1b498e44a\", \"model_20241120_213516_0\", 149246180)"
            ],
            "text/plain": [
              "<IPython.core.display.Javascript object>"
            ]
          },
          "metadata": {},
          "output_type": "display_data"
        },
        {
          "name": "stderr",
          "output_type": "stream",
          "text": [
            "INFO:transformer_log:Epoch #1 Start: current LR 0.0008079473591671584\n"
          ]
        },
        {
          "name": "stdout",
          "output_type": "stream",
          "text": [
            "Epoch #1 Start: current LR 0.0008079473591671584\n"
          ]
        },
        {
          "name": "stderr",
          "output_type": "stream",
          "text": [
            "0it [00:00, ?it/s]INFO:transformer_log:    EPOCH #1 STEP #0 | loss: 3.740907669067383, avg_loss: 3.740907669067383\n",
            "1it [00:01,  1.07s/it]"
          ]
        },
        {
          "name": "stdout",
          "output_type": "stream",
          "text": [
            "    EPOCH #1 STEP #0 | loss: 3.740907669067383, avg_loss: 3.740907669067383\n"
          ]
        },
        {
          "name": "stderr",
          "output_type": "stream",
          "text": [
            "200it [03:28,  1.05s/it]INFO:transformer_log:    EPOCH #1 STEP #200 | loss: 3.4674575328826904, avg_loss: 3.587228509324107\n",
            "201it [03:29,  1.05s/it]"
          ]
        },
        {
          "name": "stdout",
          "output_type": "stream",
          "text": [
            "    EPOCH #1 STEP #200 | loss: 3.4674575328826904, avg_loss: 3.587228509324107\n"
          ]
        },
        {
          "name": "stderr",
          "output_type": "stream",
          "text": [
            "400it [06:56,  1.03s/it]INFO:transformer_log:    EPOCH #1 STEP #400 | loss: 3.3164093494415283, avg_loss: 3.488378534887794\n",
            "401it [06:57,  1.03s/it]"
          ]
        },
        {
          "name": "stdout",
          "output_type": "stream",
          "text": [
            "    EPOCH #1 STEP #400 | loss: 3.3164093494415283, avg_loss: 3.488378534887794\n"
          ]
        },
        {
          "name": "stderr",
          "output_type": "stream",
          "text": [
            "600it [10:24,  1.04s/it]INFO:transformer_log:    EPOCH #1 STEP #600 | loss: 3.19938588142395, avg_loss: 3.406042192224258\n",
            "601it [10:25,  1.04s/it]"
          ]
        },
        {
          "name": "stdout",
          "output_type": "stream",
          "text": [
            "    EPOCH #1 STEP #600 | loss: 3.19938588142395, avg_loss: 3.406042192224258\n"
          ]
        },
        {
          "name": "stderr",
          "output_type": "stream",
          "text": [
            "751it [13:01,  1.04s/it]\n",
            "117it [00:44,  2.64it/s]\n",
            "INFO:transformer_log:Epoch #1 End: Train Loss 3.354925332469407, Test Loss 3.0285583642812877\n"
          ]
        },
        {
          "data": {
            "application/javascript": [
              "\n",
              "    async function download(id, filename, size) {\n",
              "      if (!google.colab.kernel.accessAllowed) {\n",
              "        return;\n",
              "      }\n",
              "      const div = document.createElement('div');\n",
              "      const label = document.createElement('label');\n",
              "      label.textContent = `Downloading \"${filename}\": `;\n",
              "      div.appendChild(label);\n",
              "      const progress = document.createElement('progress');\n",
              "      progress.max = size;\n",
              "      div.appendChild(progress);\n",
              "      document.body.appendChild(div);\n",
              "\n",
              "      const buffers = [];\n",
              "      let downloaded = 0;\n",
              "\n",
              "      const channel = await google.colab.kernel.comms.open(id);\n",
              "      // Send a message to notify the kernel that we're ready.\n",
              "      channel.send({})\n",
              "\n",
              "      for await (const message of channel.messages) {\n",
              "        // Send a message to notify the kernel that we're ready.\n",
              "        channel.send({})\n",
              "        if (message.buffers) {\n",
              "          for (const buffer of message.buffers) {\n",
              "            buffers.push(buffer);\n",
              "            downloaded += buffer.byteLength;\n",
              "            progress.value = downloaded;\n",
              "          }\n",
              "        }\n",
              "      }\n",
              "      const blob = new Blob(buffers, {type: 'application/binary'});\n",
              "      const a = document.createElement('a');\n",
              "      a.href = window.URL.createObjectURL(blob);\n",
              "      a.download = filename;\n",
              "      div.appendChild(a);\n",
              "      a.click();\n",
              "      div.remove();\n",
              "    }\n",
              "  "
            ],
            "text/plain": [
              "<IPython.core.display.Javascript object>"
            ]
          },
          "metadata": {},
          "output_type": "display_data"
        },
        {
          "data": {
            "application/javascript": [
              "download(\"download_0eed7a79-03e6-42a7-b32f-3e295ee0f386\", \"model_20241120_213516_1\", 149246180)"
            ],
            "text/plain": [
              "<IPython.core.display.Javascript object>"
            ]
          },
          "metadata": {},
          "output_type": "display_data"
        },
        {
          "name": "stderr",
          "output_type": "stream",
          "text": [
            "INFO:transformer_log:Epoch #2 Start: current LR 0.0016126683068472122\n"
          ]
        },
        {
          "name": "stdout",
          "output_type": "stream",
          "text": [
            "Epoch #2 Start: current LR 0.0016126683068472122\n"
          ]
        },
        {
          "name": "stderr",
          "output_type": "stream",
          "text": [
            "0it [00:00, ?it/s]INFO:transformer_log:    EPOCH #2 STEP #0 | loss: 3.1124417781829834, avg_loss: 3.1124417781829834\n",
            "1it [00:01,  1.04s/it]"
          ]
        },
        {
          "name": "stdout",
          "output_type": "stream",
          "text": [
            "    EPOCH #2 STEP #0 | loss: 3.1124417781829834, avg_loss: 3.1124417781829834\n"
          ]
        },
        {
          "name": "stderr",
          "output_type": "stream",
          "text": [
            "200it [03:27,  1.04s/it]INFO:transformer_log:    EPOCH #2 STEP #200 | loss: 3.039987802505493, avg_loss: 3.080760373404963\n",
            "201it [03:28,  1.05s/it]"
          ]
        },
        {
          "name": "stdout",
          "output_type": "stream",
          "text": [
            "    EPOCH #2 STEP #200 | loss: 3.039987802505493, avg_loss: 3.080760373404963\n"
          ]
        },
        {
          "name": "stderr",
          "output_type": "stream",
          "text": [
            "400it [06:54,  1.03s/it]INFO:transformer_log:    EPOCH #2 STEP #400 | loss: 2.9744746685028076, avg_loss: 3.048292428180761\n",
            "401it [06:55,  1.03s/it]"
          ]
        },
        {
          "name": "stdout",
          "output_type": "stream",
          "text": [
            "    EPOCH #2 STEP #400 | loss: 2.9744746685028076, avg_loss: 3.048292428180761\n"
          ]
        },
        {
          "name": "stderr",
          "output_type": "stream",
          "text": [
            "600it [10:22,  1.04s/it]INFO:transformer_log:    EPOCH #2 STEP #600 | loss: 2.908728837966919, avg_loss: 3.0155440408259184\n",
            "601it [10:23,  1.04s/it]"
          ]
        },
        {
          "name": "stdout",
          "output_type": "stream",
          "text": [
            "    EPOCH #2 STEP #600 | loss: 2.908728837966919, avg_loss: 3.0155440408259184\n"
          ]
        },
        {
          "name": "stderr",
          "output_type": "stream",
          "text": [
            "751it [12:58,  1.04s/it]\n",
            "117it [00:44,  2.63it/s]\n",
            "INFO:transformer_log:Epoch #2 End: Train Loss 2.995168057008685, Test Loss 2.79028967099312\n"
          ]
        },
        {
          "data": {
            "application/javascript": [
              "\n",
              "    async function download(id, filename, size) {\n",
              "      if (!google.colab.kernel.accessAllowed) {\n",
              "        return;\n",
              "      }\n",
              "      const div = document.createElement('div');\n",
              "      const label = document.createElement('label');\n",
              "      label.textContent = `Downloading \"${filename}\": `;\n",
              "      div.appendChild(label);\n",
              "      const progress = document.createElement('progress');\n",
              "      progress.max = size;\n",
              "      div.appendChild(progress);\n",
              "      document.body.appendChild(div);\n",
              "\n",
              "      const buffers = [];\n",
              "      let downloaded = 0;\n",
              "\n",
              "      const channel = await google.colab.kernel.comms.open(id);\n",
              "      // Send a message to notify the kernel that we're ready.\n",
              "      channel.send({})\n",
              "\n",
              "      for await (const message of channel.messages) {\n",
              "        // Send a message to notify the kernel that we're ready.\n",
              "        channel.send({})\n",
              "        if (message.buffers) {\n",
              "          for (const buffer of message.buffers) {\n",
              "            buffers.push(buffer);\n",
              "            downloaded += buffer.byteLength;\n",
              "            progress.value = downloaded;\n",
              "          }\n",
              "        }\n",
              "      }\n",
              "      const blob = new Blob(buffers, {type: 'application/binary'});\n",
              "      const a = document.createElement('a');\n",
              "      a.href = window.URL.createObjectURL(blob);\n",
              "      a.download = filename;\n",
              "      div.appendChild(a);\n",
              "      a.click();\n",
              "      div.remove();\n",
              "    }\n",
              "  "
            ],
            "text/plain": [
              "<IPython.core.display.Javascript object>"
            ]
          },
          "metadata": {},
          "output_type": "display_data"
        },
        {
          "data": {
            "application/javascript": [
              "download(\"download_9bfcd0d7-d8e5-4d22-8622-7f16f3fd8462\", \"model_20241120_213516_2\", 149246180)"
            ],
            "text/plain": [
              "<IPython.core.display.Javascript object>"
            ]
          },
          "metadata": {},
          "output_type": "display_data"
        },
        {
          "name": "stderr",
          "output_type": "stream",
          "text": [
            "INFO:transformer_log:Epoch #3 Start: current LR 0.0013167381587112536\n"
          ]
        },
        {
          "name": "stdout",
          "output_type": "stream",
          "text": [
            "Epoch #3 Start: current LR 0.0013167381587112536\n"
          ]
        },
        {
          "name": "stderr",
          "output_type": "stream",
          "text": [
            "0it [00:00, ?it/s]INFO:transformer_log:    EPOCH #3 STEP #0 | loss: 2.953566551208496, avg_loss: 2.953566551208496\n",
            "1it [00:01,  1.09s/it]"
          ]
        },
        {
          "name": "stdout",
          "output_type": "stream",
          "text": [
            "    EPOCH #3 STEP #0 | loss: 2.953566551208496, avg_loss: 2.953566551208496\n"
          ]
        },
        {
          "name": "stderr",
          "output_type": "stream",
          "text": [
            "200it [03:26,  1.03s/it]INFO:transformer_log:    EPOCH #3 STEP #200 | loss: 2.828357458114624, avg_loss: 2.8627579129157374\n",
            "201it [03:27,  1.03s/it]"
          ]
        },
        {
          "name": "stdout",
          "output_type": "stream",
          "text": [
            "    EPOCH #3 STEP #200 | loss: 2.828357458114624, avg_loss: 2.8627579129157374\n"
          ]
        },
        {
          "name": "stderr",
          "output_type": "stream",
          "text": [
            "400it [06:53,  1.03s/it]INFO:transformer_log:    EPOCH #3 STEP #400 | loss: 2.8756933212280273, avg_loss: 2.8411093085186736\n",
            "401it [06:54,  1.03s/it]"
          ]
        },
        {
          "name": "stdout",
          "output_type": "stream",
          "text": [
            "    EPOCH #3 STEP #400 | loss: 2.8756933212280273, avg_loss: 2.8411093085186736\n"
          ]
        },
        {
          "name": "stderr",
          "output_type": "stream",
          "text": [
            "600it [10:20,  1.05s/it]INFO:transformer_log:    EPOCH #3 STEP #600 | loss: 2.8225276470184326, avg_loss: 2.825134875572065\n",
            "601it [10:21,  1.06s/it]"
          ]
        },
        {
          "name": "stdout",
          "output_type": "stream",
          "text": [
            "    EPOCH #3 STEP #600 | loss: 2.8225276470184326, avg_loss: 2.825134875572065\n"
          ]
        },
        {
          "name": "stderr",
          "output_type": "stream",
          "text": [
            "751it [12:57,  1.03s/it]\n",
            "117it [00:44,  2.65it/s]\n",
            "INFO:transformer_log:Epoch #3 End: Train Loss 2.8114220718251723, Test Loss 2.6191907744122367\n"
          ]
        },
        {
          "data": {
            "application/javascript": [
              "\n",
              "    async function download(id, filename, size) {\n",
              "      if (!google.colab.kernel.accessAllowed) {\n",
              "        return;\n",
              "      }\n",
              "      const div = document.createElement('div');\n",
              "      const label = document.createElement('label');\n",
              "      label.textContent = `Downloading \"${filename}\": `;\n",
              "      div.appendChild(label);\n",
              "      const progress = document.createElement('progress');\n",
              "      progress.max = size;\n",
              "      div.appendChild(progress);\n",
              "      document.body.appendChild(div);\n",
              "\n",
              "      const buffers = [];\n",
              "      let downloaded = 0;\n",
              "\n",
              "      const channel = await google.colab.kernel.comms.open(id);\n",
              "      // Send a message to notify the kernel that we're ready.\n",
              "      channel.send({})\n",
              "\n",
              "      for await (const message of channel.messages) {\n",
              "        // Send a message to notify the kernel that we're ready.\n",
              "        channel.send({})\n",
              "        if (message.buffers) {\n",
              "          for (const buffer of message.buffers) {\n",
              "            buffers.push(buffer);\n",
              "            downloaded += buffer.byteLength;\n",
              "            progress.value = downloaded;\n",
              "          }\n",
              "        }\n",
              "      }\n",
              "      const blob = new Blob(buffers, {type: 'application/binary'});\n",
              "      const a = document.createElement('a');\n",
              "      a.href = window.URL.createObjectURL(blob);\n",
              "      a.download = filename;\n",
              "      div.appendChild(a);\n",
              "      a.click();\n",
              "      div.remove();\n",
              "    }\n",
              "  "
            ],
            "text/plain": [
              "<IPython.core.display.Javascript object>"
            ]
          },
          "metadata": {},
          "output_type": "display_data"
        },
        {
          "data": {
            "application/javascript": [
              "download(\"download_99445028-916c-46ff-be62-4379eda53625\", \"model_20241120_213516_3\", 149246180)"
            ],
            "text/plain": [
              "<IPython.core.display.Javascript object>"
            ]
          },
          "metadata": {},
          "output_type": "display_data"
        },
        {
          "name": "stderr",
          "output_type": "stream",
          "text": [
            "INFO:transformer_log:Epoch #4 Start: current LR 0.0011403286955762918\n"
          ]
        },
        {
          "name": "stdout",
          "output_type": "stream",
          "text": [
            "Epoch #4 Start: current LR 0.0011403286955762918\n"
          ]
        },
        {
          "name": "stderr",
          "output_type": "stream",
          "text": [
            "0it [00:00, ?it/s]INFO:transformer_log:    EPOCH #4 STEP #0 | loss: 2.716238498687744, avg_loss: 2.716238498687744\n",
            "1it [00:01,  1.11s/it]"
          ]
        },
        {
          "name": "stdout",
          "output_type": "stream",
          "text": [
            "    EPOCH #4 STEP #0 | loss: 2.716238498687744, avg_loss: 2.716238498687744\n"
          ]
        },
        {
          "name": "stderr",
          "output_type": "stream",
          "text": [
            "200it [03:26,  1.03s/it]INFO:transformer_log:    EPOCH #4 STEP #200 | loss: 2.7343924045562744, avg_loss: 2.717776502542828\n",
            "201it [03:27,  1.03s/it]"
          ]
        },
        {
          "name": "stdout",
          "output_type": "stream",
          "text": [
            "    EPOCH #4 STEP #200 | loss: 2.7343924045562744, avg_loss: 2.717776502542828\n"
          ]
        },
        {
          "name": "stderr",
          "output_type": "stream",
          "text": [
            "400it [06:53,  1.03s/it]INFO:transformer_log:    EPOCH #4 STEP #400 | loss: 2.655251979827881, avg_loss: 2.7038119832179195\n",
            "401it [06:54,  1.03s/it]"
          ]
        },
        {
          "name": "stdout",
          "output_type": "stream",
          "text": [
            "    EPOCH #4 STEP #400 | loss: 2.655251979827881, avg_loss: 2.7038119832179195\n"
          ]
        },
        {
          "name": "stderr",
          "output_type": "stream",
          "text": [
            "600it [10:20,  1.03s/it]INFO:transformer_log:    EPOCH #4 STEP #600 | loss: 2.680978775024414, avg_loss: 2.6898159453158765\n",
            "601it [10:21,  1.03s/it]"
          ]
        },
        {
          "name": "stdout",
          "output_type": "stream",
          "text": [
            "    EPOCH #4 STEP #600 | loss: 2.680978775024414, avg_loss: 2.6898159453158765\n"
          ]
        },
        {
          "name": "stderr",
          "output_type": "stream",
          "text": [
            "751it [12:56,  1.03s/it]\n",
            "117it [00:44,  2.65it/s]\n",
            "INFO:transformer_log:Epoch #4 End: Train Loss 2.681112371018025, Test Loss 2.4962531358767777\n"
          ]
        },
        {
          "data": {
            "application/javascript": [
              "\n",
              "    async function download(id, filename, size) {\n",
              "      if (!google.colab.kernel.accessAllowed) {\n",
              "        return;\n",
              "      }\n",
              "      const div = document.createElement('div');\n",
              "      const label = document.createElement('label');\n",
              "      label.textContent = `Downloading \"${filename}\": `;\n",
              "      div.appendChild(label);\n",
              "      const progress = document.createElement('progress');\n",
              "      progress.max = size;\n",
              "      div.appendChild(progress);\n",
              "      document.body.appendChild(div);\n",
              "\n",
              "      const buffers = [];\n",
              "      let downloaded = 0;\n",
              "\n",
              "      const channel = await google.colab.kernel.comms.open(id);\n",
              "      // Send a message to notify the kernel that we're ready.\n",
              "      channel.send({})\n",
              "\n",
              "      for await (const message of channel.messages) {\n",
              "        // Send a message to notify the kernel that we're ready.\n",
              "        channel.send({})\n",
              "        if (message.buffers) {\n",
              "          for (const buffer of message.buffers) {\n",
              "            buffers.push(buffer);\n",
              "            downloaded += buffer.byteLength;\n",
              "            progress.value = downloaded;\n",
              "          }\n",
              "        }\n",
              "      }\n",
              "      const blob = new Blob(buffers, {type: 'application/binary'});\n",
              "      const a = document.createElement('a');\n",
              "      a.href = window.URL.createObjectURL(blob);\n",
              "      a.download = filename;\n",
              "      div.appendChild(a);\n",
              "      a.click();\n",
              "      div.remove();\n",
              "    }\n",
              "  "
            ],
            "text/plain": [
              "<IPython.core.display.Javascript object>"
            ]
          },
          "metadata": {},
          "output_type": "display_data"
        },
        {
          "data": {
            "application/javascript": [
              "download(\"download_af23c6e5-e2b5-495d-a255-242ce04bcdfe\", \"model_20241120_213516_4\", 149246180)"
            ],
            "text/plain": [
              "<IPython.core.display.Javascript object>"
            ]
          },
          "metadata": {},
          "output_type": "display_data"
        },
        {
          "name": "stderr",
          "output_type": "stream",
          "text": [
            "INFO:transformer_log:Epoch #5 Start: current LR 0.001019940992000901\n"
          ]
        },
        {
          "name": "stdout",
          "output_type": "stream",
          "text": [
            "Epoch #5 Start: current LR 0.001019940992000901\n"
          ]
        },
        {
          "name": "stderr",
          "output_type": "stream",
          "text": [
            "0it [00:00, ?it/s]INFO:transformer_log:    EPOCH #5 STEP #0 | loss: 2.608363151550293, avg_loss: 2.608363151550293\n",
            "1it [00:01,  1.09s/it]"
          ]
        },
        {
          "name": "stdout",
          "output_type": "stream",
          "text": [
            "    EPOCH #5 STEP #0 | loss: 2.608363151550293, avg_loss: 2.608363151550293\n"
          ]
        },
        {
          "name": "stderr",
          "output_type": "stream",
          "text": [
            "200it [03:26,  1.03s/it]INFO:transformer_log:    EPOCH #5 STEP #200 | loss: 2.6229848861694336, avg_loss: 2.608959869365787\n",
            "201it [03:27,  1.03s/it]"
          ]
        },
        {
          "name": "stdout",
          "output_type": "stream",
          "text": [
            "    EPOCH #5 STEP #200 | loss: 2.6229848861694336, avg_loss: 2.608959869365787\n"
          ]
        },
        {
          "name": "stderr",
          "output_type": "stream",
          "text": [
            "400it [06:53,  1.04s/it]INFO:transformer_log:    EPOCH #5 STEP #400 | loss: 2.6015169620513916, avg_loss: 2.5998931787257775\n",
            "401it [06:54,  1.05s/it]"
          ]
        },
        {
          "name": "stdout",
          "output_type": "stream",
          "text": [
            "    EPOCH #5 STEP #400 | loss: 2.6015169620513916, avg_loss: 2.5998931787257775\n"
          ]
        },
        {
          "name": "stderr",
          "output_type": "stream",
          "text": [
            "600it [10:20,  1.03s/it]INFO:transformer_log:    EPOCH #5 STEP #600 | loss: 2.547780990600586, avg_loss: 2.5918190261091847\n",
            "601it [10:21,  1.03s/it]"
          ]
        },
        {
          "name": "stdout",
          "output_type": "stream",
          "text": [
            "    EPOCH #5 STEP #600 | loss: 2.547780990600586, avg_loss: 2.5918190261091847\n"
          ]
        },
        {
          "name": "stderr",
          "output_type": "stream",
          "text": [
            "751it [12:56,  1.03s/it]\n",
            "117it [00:44,  2.65it/s]\n",
            "INFO:transformer_log:Epoch #5 End: Train Loss 2.58665850064091, Test Loss 2.413894294673561\n"
          ]
        },
        {
          "data": {
            "application/javascript": [
              "\n",
              "    async function download(id, filename, size) {\n",
              "      if (!google.colab.kernel.accessAllowed) {\n",
              "        return;\n",
              "      }\n",
              "      const div = document.createElement('div');\n",
              "      const label = document.createElement('label');\n",
              "      label.textContent = `Downloading \"${filename}\": `;\n",
              "      div.appendChild(label);\n",
              "      const progress = document.createElement('progress');\n",
              "      progress.max = size;\n",
              "      div.appendChild(progress);\n",
              "      document.body.appendChild(div);\n",
              "\n",
              "      const buffers = [];\n",
              "      let downloaded = 0;\n",
              "\n",
              "      const channel = await google.colab.kernel.comms.open(id);\n",
              "      // Send a message to notify the kernel that we're ready.\n",
              "      channel.send({})\n",
              "\n",
              "      for await (const message of channel.messages) {\n",
              "        // Send a message to notify the kernel that we're ready.\n",
              "        channel.send({})\n",
              "        if (message.buffers) {\n",
              "          for (const buffer of message.buffers) {\n",
              "            buffers.push(buffer);\n",
              "            downloaded += buffer.byteLength;\n",
              "            progress.value = downloaded;\n",
              "          }\n",
              "        }\n",
              "      }\n",
              "      const blob = new Blob(buffers, {type: 'application/binary'});\n",
              "      const a = document.createElement('a');\n",
              "      a.href = window.URL.createObjectURL(blob);\n",
              "      a.download = filename;\n",
              "      div.appendChild(a);\n",
              "      a.click();\n",
              "      div.remove();\n",
              "    }\n",
              "  "
            ],
            "text/plain": [
              "<IPython.core.display.Javascript object>"
            ]
          },
          "metadata": {},
          "output_type": "display_data"
        },
        {
          "data": {
            "application/javascript": [
              "download(\"download_ad09534c-521e-4519-af3c-549aacfc704f\", \"model_20241120_213516_5\", 149246180)"
            ],
            "text/plain": [
              "<IPython.core.display.Javascript object>"
            ]
          },
          "metadata": {},
          "output_type": "display_data"
        },
        {
          "name": "stderr",
          "output_type": "stream",
          "text": [
            "INFO:transformer_log:Epoch #6 Start: current LR 0.0009310744810718159\n"
          ]
        },
        {
          "name": "stdout",
          "output_type": "stream",
          "text": [
            "Epoch #6 Start: current LR 0.0009310744810718159\n"
          ]
        },
        {
          "name": "stderr",
          "output_type": "stream",
          "text": [
            "0it [00:00, ?it/s]INFO:transformer_log:    EPOCH #6 STEP #0 | loss: 2.5670981407165527, avg_loss: 2.5670981407165527\n",
            "1it [00:01,  1.13s/it]"
          ]
        },
        {
          "name": "stdout",
          "output_type": "stream",
          "text": [
            "    EPOCH #6 STEP #0 | loss: 2.5670981407165527, avg_loss: 2.5670981407165527\n"
          ]
        },
        {
          "name": "stderr",
          "output_type": "stream",
          "text": [
            "200it [03:26,  1.04s/it]INFO:transformer_log:    EPOCH #6 STEP #200 | loss: 2.5373146533966064, avg_loss: 2.530717410851474\n",
            "201it [03:27,  1.04s/it]"
          ]
        },
        {
          "name": "stdout",
          "output_type": "stream",
          "text": [
            "    EPOCH #6 STEP #200 | loss: 2.5373146533966064, avg_loss: 2.530717410851474\n"
          ]
        },
        {
          "name": "stderr",
          "output_type": "stream",
          "text": [
            "400it [06:52,  1.03s/it]INFO:transformer_log:    EPOCH #6 STEP #400 | loss: 2.596623182296753, avg_loss: 2.5305071507308847\n",
            "401it [06:53,  1.03s/it]"
          ]
        },
        {
          "name": "stdout",
          "output_type": "stream",
          "text": [
            "    EPOCH #6 STEP #400 | loss: 2.596623182296753, avg_loss: 2.5305071507308847\n"
          ]
        },
        {
          "name": "stderr",
          "output_type": "stream",
          "text": [
            "600it [10:18,  1.02s/it]INFO:transformer_log:    EPOCH #6 STEP #600 | loss: 2.6215968132019043, avg_loss: 2.5259674464208315\n",
            "601it [10:19,  1.03s/it]"
          ]
        },
        {
          "name": "stdout",
          "output_type": "stream",
          "text": [
            "    EPOCH #6 STEP #600 | loss: 2.6215968132019043, avg_loss: 2.5259674464208315\n"
          ]
        },
        {
          "name": "stderr",
          "output_type": "stream",
          "text": [
            "751it [12:54,  1.03s/it]\n",
            "117it [00:44,  2.66it/s]\n",
            "INFO:transformer_log:Epoch #6 End: Train Loss 2.521704122642385, Test Loss 2.3469215886205688\n"
          ]
        },
        {
          "data": {
            "application/javascript": [
              "\n",
              "    async function download(id, filename, size) {\n",
              "      if (!google.colab.kernel.accessAllowed) {\n",
              "        return;\n",
              "      }\n",
              "      const div = document.createElement('div');\n",
              "      const label = document.createElement('label');\n",
              "      label.textContent = `Downloading \"${filename}\": `;\n",
              "      div.appendChild(label);\n",
              "      const progress = document.createElement('progress');\n",
              "      progress.max = size;\n",
              "      div.appendChild(progress);\n",
              "      document.body.appendChild(div);\n",
              "\n",
              "      const buffers = [];\n",
              "      let downloaded = 0;\n",
              "\n",
              "      const channel = await google.colab.kernel.comms.open(id);\n",
              "      // Send a message to notify the kernel that we're ready.\n",
              "      channel.send({})\n",
              "\n",
              "      for await (const message of channel.messages) {\n",
              "        // Send a message to notify the kernel that we're ready.\n",
              "        channel.send({})\n",
              "        if (message.buffers) {\n",
              "          for (const buffer of message.buffers) {\n",
              "            buffers.push(buffer);\n",
              "            downloaded += buffer.byteLength;\n",
              "            progress.value = downloaded;\n",
              "          }\n",
              "        }\n",
              "      }\n",
              "      const blob = new Blob(buffers, {type: 'application/binary'});\n",
              "      const a = document.createElement('a');\n",
              "      a.href = window.URL.createObjectURL(blob);\n",
              "      a.download = filename;\n",
              "      div.appendChild(a);\n",
              "      a.click();\n",
              "      div.remove();\n",
              "    }\n",
              "  "
            ],
            "text/plain": [
              "<IPython.core.display.Javascript object>"
            ]
          },
          "metadata": {},
          "output_type": "display_data"
        },
        {
          "data": {
            "application/javascript": [
              "download(\"download_04c9590e-ee40-4a1d-947e-64aac524ec93\", \"model_20241120_213516_6\", 149246180)"
            ],
            "text/plain": [
              "<IPython.core.display.Javascript object>"
            ]
          },
          "metadata": {},
          "output_type": "display_data"
        },
        {
          "name": "stderr",
          "output_type": "stream",
          "text": [
            "INFO:transformer_log:Epoch #7 Start: current LR 0.0008620074689615852\n"
          ]
        },
        {
          "name": "stdout",
          "output_type": "stream",
          "text": [
            "Epoch #7 Start: current LR 0.0008620074689615852\n"
          ]
        },
        {
          "name": "stderr",
          "output_type": "stream",
          "text": [
            "0it [00:00, ?it/s]INFO:transformer_log:    EPOCH #7 STEP #0 | loss: 2.5214755535125732, avg_loss: 2.5214755535125732\n",
            "1it [00:01,  1.08s/it]"
          ]
        },
        {
          "name": "stdout",
          "output_type": "stream",
          "text": [
            "    EPOCH #7 STEP #0 | loss: 2.5214755535125732, avg_loss: 2.5214755535125732\n"
          ]
        },
        {
          "name": "stderr",
          "output_type": "stream",
          "text": [
            "200it [03:26,  1.02s/it]INFO:transformer_log:    EPOCH #7 STEP #200 | loss: 2.539085865020752, avg_loss: 2.480068436902554\n",
            "201it [03:27,  1.03s/it]"
          ]
        },
        {
          "name": "stdout",
          "output_type": "stream",
          "text": [
            "    EPOCH #7 STEP #200 | loss: 2.539085865020752, avg_loss: 2.480068436902554\n"
          ]
        },
        {
          "name": "stderr",
          "output_type": "stream",
          "text": [
            "400it [06:52,  1.04s/it]INFO:transformer_log:    EPOCH #7 STEP #400 | loss: 2.590907573699951, avg_loss: 2.48189290503314\n",
            "401it [06:53,  1.04s/it]"
          ]
        },
        {
          "name": "stdout",
          "output_type": "stream",
          "text": [
            "    EPOCH #7 STEP #400 | loss: 2.590907573699951, avg_loss: 2.48189290503314\n"
          ]
        },
        {
          "name": "stderr",
          "output_type": "stream",
          "text": [
            "600it [10:18,  1.03s/it]INFO:transformer_log:    EPOCH #7 STEP #600 | loss: 2.4955945014953613, avg_loss: 2.4791693219329276\n",
            "601it [10:19,  1.03s/it]"
          ]
        },
        {
          "name": "stdout",
          "output_type": "stream",
          "text": [
            "    EPOCH #7 STEP #600 | loss: 2.4955945014953613, avg_loss: 2.4791693219329276\n"
          ]
        },
        {
          "name": "stderr",
          "output_type": "stream",
          "text": [
            "751it [12:54,  1.03s/it]\n",
            "117it [00:44,  2.64it/s]\n",
            "INFO:transformer_log:Epoch #7 End: Train Loss 2.4771473071229124, Test Loss 2.305621306101481\n"
          ]
        },
        {
          "data": {
            "application/javascript": [
              "\n",
              "    async function download(id, filename, size) {\n",
              "      if (!google.colab.kernel.accessAllowed) {\n",
              "        return;\n",
              "      }\n",
              "      const div = document.createElement('div');\n",
              "      const label = document.createElement('label');\n",
              "      label.textContent = `Downloading \"${filename}\": `;\n",
              "      div.appendChild(label);\n",
              "      const progress = document.createElement('progress');\n",
              "      progress.max = size;\n",
              "      div.appendChild(progress);\n",
              "      document.body.appendChild(div);\n",
              "\n",
              "      const buffers = [];\n",
              "      let downloaded = 0;\n",
              "\n",
              "      const channel = await google.colab.kernel.comms.open(id);\n",
              "      // Send a message to notify the kernel that we're ready.\n",
              "      channel.send({})\n",
              "\n",
              "      for await (const message of channel.messages) {\n",
              "        // Send a message to notify the kernel that we're ready.\n",
              "        channel.send({})\n",
              "        if (message.buffers) {\n",
              "          for (const buffer of message.buffers) {\n",
              "            buffers.push(buffer);\n",
              "            downloaded += buffer.byteLength;\n",
              "            progress.value = downloaded;\n",
              "          }\n",
              "        }\n",
              "      }\n",
              "      const blob = new Blob(buffers, {type: 'application/binary'});\n",
              "      const a = document.createElement('a');\n",
              "      a.href = window.URL.createObjectURL(blob);\n",
              "      a.download = filename;\n",
              "      div.appendChild(a);\n",
              "      a.click();\n",
              "      div.remove();\n",
              "    }\n",
              "  "
            ],
            "text/plain": [
              "<IPython.core.display.Javascript object>"
            ]
          },
          "metadata": {},
          "output_type": "display_data"
        },
        {
          "data": {
            "application/javascript": [
              "download(\"download_0e68be20-9502-4439-82b9-12f7af247562\", \"model_20241120_213516_7\", 149246180)"
            ],
            "text/plain": [
              "<IPython.core.display.Javascript object>"
            ]
          },
          "metadata": {},
          "output_type": "display_data"
        },
        {
          "name": "stderr",
          "output_type": "stream",
          "text": [
            "INFO:transformer_log:Epoch #8 Start: current LR 0.0008063341534236061\n"
          ]
        },
        {
          "name": "stdout",
          "output_type": "stream",
          "text": [
            "Epoch #8 Start: current LR 0.0008063341534236061\n"
          ]
        },
        {
          "name": "stderr",
          "output_type": "stream",
          "text": [
            "0it [00:00, ?it/s]INFO:transformer_log:    EPOCH #8 STEP #0 | loss: 2.3918261528015137, avg_loss: 2.3918261528015137\n",
            "1it [00:01,  1.08s/it]"
          ]
        },
        {
          "name": "stdout",
          "output_type": "stream",
          "text": [
            "    EPOCH #8 STEP #0 | loss: 2.3918261528015137, avg_loss: 2.3918261528015137\n"
          ]
        },
        {
          "name": "stderr",
          "output_type": "stream",
          "text": [
            "200it [03:26,  1.02s/it]INFO:transformer_log:    EPOCH #8 STEP #200 | loss: 2.4026448726654053, avg_loss: 2.444480218697543\n",
            "201it [03:27,  1.02s/it]"
          ]
        },
        {
          "name": "stdout",
          "output_type": "stream",
          "text": [
            "    EPOCH #8 STEP #200 | loss: 2.4026448726654053, avg_loss: 2.444480218697543\n"
          ]
        },
        {
          "name": "stderr",
          "output_type": "stream",
          "text": [
            "400it [06:53,  1.03s/it]INFO:transformer_log:    EPOCH #8 STEP #400 | loss: 2.3294589519500732, avg_loss: 2.4431577763355286\n",
            "401it [06:54,  1.03s/it]"
          ]
        },
        {
          "name": "stdout",
          "output_type": "stream",
          "text": [
            "    EPOCH #8 STEP #400 | loss: 2.3294589519500732, avg_loss: 2.4431577763355286\n"
          ]
        },
        {
          "name": "stderr",
          "output_type": "stream",
          "text": [
            "600it [10:20,  1.04s/it]INFO:transformer_log:    EPOCH #8 STEP #600 | loss: 2.3798153400421143, avg_loss: 2.443874267095734\n",
            "601it [10:21,  1.06s/it]"
          ]
        },
        {
          "name": "stdout",
          "output_type": "stream",
          "text": [
            "    EPOCH #8 STEP #600 | loss: 2.3798153400421143, avg_loss: 2.443874267095734\n"
          ]
        },
        {
          "name": "stderr",
          "output_type": "stream",
          "text": [
            "751it [12:56,  1.03s/it]\n",
            "117it [00:44,  2.65it/s]\n",
            "INFO:transformer_log:Epoch #8 End: Train Loss 2.4438089118022894, Test Loss 2.275652767246605\n"
          ]
        },
        {
          "data": {
            "application/javascript": [
              "\n",
              "    async function download(id, filename, size) {\n",
              "      if (!google.colab.kernel.accessAllowed) {\n",
              "        return;\n",
              "      }\n",
              "      const div = document.createElement('div');\n",
              "      const label = document.createElement('label');\n",
              "      label.textContent = `Downloading \"${filename}\": `;\n",
              "      div.appendChild(label);\n",
              "      const progress = document.createElement('progress');\n",
              "      progress.max = size;\n",
              "      div.appendChild(progress);\n",
              "      document.body.appendChild(div);\n",
              "\n",
              "      const buffers = [];\n",
              "      let downloaded = 0;\n",
              "\n",
              "      const channel = await google.colab.kernel.comms.open(id);\n",
              "      // Send a message to notify the kernel that we're ready.\n",
              "      channel.send({})\n",
              "\n",
              "      for await (const message of channel.messages) {\n",
              "        // Send a message to notify the kernel that we're ready.\n",
              "        channel.send({})\n",
              "        if (message.buffers) {\n",
              "          for (const buffer of message.buffers) {\n",
              "            buffers.push(buffer);\n",
              "            downloaded += buffer.byteLength;\n",
              "            progress.value = downloaded;\n",
              "          }\n",
              "        }\n",
              "      }\n",
              "      const blob = new Blob(buffers, {type: 'application/binary'});\n",
              "      const a = document.createElement('a');\n",
              "      a.href = window.URL.createObjectURL(blob);\n",
              "      a.download = filename;\n",
              "      div.appendChild(a);\n",
              "      a.click();\n",
              "      div.remove();\n",
              "    }\n",
              "  "
            ],
            "text/plain": [
              "<IPython.core.display.Javascript object>"
            ]
          },
          "metadata": {},
          "output_type": "display_data"
        },
        {
          "data": {
            "application/javascript": [
              "download(\"download_1a45398a-d373-4935-a103-a8b438d7b41d\", \"model_20241120_213516_8\", 149246180)"
            ],
            "text/plain": [
              "<IPython.core.display.Javascript object>"
            ]
          },
          "metadata": {},
          "output_type": "display_data"
        },
        {
          "name": "stderr",
          "output_type": "stream",
          "text": [
            "INFO:transformer_log:Epoch #9 Start: current LR 0.0007602191303841945\n"
          ]
        },
        {
          "name": "stdout",
          "output_type": "stream",
          "text": [
            "Epoch #9 Start: current LR 0.0007602191303841945\n"
          ]
        },
        {
          "name": "stderr",
          "output_type": "stream",
          "text": [
            "0it [00:00, ?it/s]INFO:transformer_log:    EPOCH #9 STEP #0 | loss: 2.3266310691833496, avg_loss: 2.3266310691833496\n",
            "1it [00:01,  1.06s/it]"
          ]
        },
        {
          "name": "stdout",
          "output_type": "stream",
          "text": [
            "    EPOCH #9 STEP #0 | loss: 2.3266310691833496, avg_loss: 2.3266310691833496\n"
          ]
        },
        {
          "name": "stderr",
          "output_type": "stream",
          "text": [
            "200it [03:26,  1.03s/it]INFO:transformer_log:    EPOCH #9 STEP #200 | loss: 2.377389669418335, avg_loss: 2.4155072691428723\n",
            "201it [03:27,  1.04s/it]"
          ]
        },
        {
          "name": "stdout",
          "output_type": "stream",
          "text": [
            "    EPOCH #9 STEP #200 | loss: 2.377389669418335, avg_loss: 2.4155072691428723\n"
          ]
        },
        {
          "name": "stderr",
          "output_type": "stream",
          "text": [
            "400it [06:53,  1.04s/it]INFO:transformer_log:    EPOCH #9 STEP #400 | loss: 2.4148387908935547, avg_loss: 2.4198702725389056\n",
            "401it [06:54,  1.04s/it]"
          ]
        },
        {
          "name": "stdout",
          "output_type": "stream",
          "text": [
            "    EPOCH #9 STEP #400 | loss: 2.4148387908935547, avg_loss: 2.4198702725389056\n"
          ]
        },
        {
          "name": "stderr",
          "output_type": "stream",
          "text": [
            "600it [10:19,  1.02s/it]INFO:transformer_log:    EPOCH #9 STEP #600 | loss: 2.4010980129241943, avg_loss: 2.417525745667951\n",
            "601it [10:20,  1.01s/it]"
          ]
        },
        {
          "name": "stdout",
          "output_type": "stream",
          "text": [
            "    EPOCH #9 STEP #600 | loss: 2.4010980129241943, avg_loss: 2.417525745667951\n"
          ]
        },
        {
          "name": "stderr",
          "output_type": "stream",
          "text": [
            "751it [12:52,  1.03s/it]\n",
            "117it [00:43,  2.70it/s]\n",
            "INFO:transformer_log:Epoch #9 End: Train Loss 2.4173902455722285, Test Loss 2.2479656781905737\n"
          ]
        },
        {
          "data": {
            "application/javascript": [
              "\n",
              "    async function download(id, filename, size) {\n",
              "      if (!google.colab.kernel.accessAllowed) {\n",
              "        return;\n",
              "      }\n",
              "      const div = document.createElement('div');\n",
              "      const label = document.createElement('label');\n",
              "      label.textContent = `Downloading \"${filename}\": `;\n",
              "      div.appendChild(label);\n",
              "      const progress = document.createElement('progress');\n",
              "      progress.max = size;\n",
              "      div.appendChild(progress);\n",
              "      document.body.appendChild(div);\n",
              "\n",
              "      const buffers = [];\n",
              "      let downloaded = 0;\n",
              "\n",
              "      const channel = await google.colab.kernel.comms.open(id);\n",
              "      // Send a message to notify the kernel that we're ready.\n",
              "      channel.send({})\n",
              "\n",
              "      for await (const message of channel.messages) {\n",
              "        // Send a message to notify the kernel that we're ready.\n",
              "        channel.send({})\n",
              "        if (message.buffers) {\n",
              "          for (const buffer of message.buffers) {\n",
              "            buffers.push(buffer);\n",
              "            downloaded += buffer.byteLength;\n",
              "            progress.value = downloaded;\n",
              "          }\n",
              "        }\n",
              "      }\n",
              "      const blob = new Blob(buffers, {type: 'application/binary'});\n",
              "      const a = document.createElement('a');\n",
              "      a.href = window.URL.createObjectURL(blob);\n",
              "      a.download = filename;\n",
              "      div.appendChild(a);\n",
              "      a.click();\n",
              "      div.remove();\n",
              "    }\n",
              "  "
            ],
            "text/plain": [
              "<IPython.core.display.Javascript object>"
            ]
          },
          "metadata": {},
          "output_type": "display_data"
        },
        {
          "data": {
            "application/javascript": [
              "download(\"download_b58e2d76-8461-4768-9f28-f32455334cf1\", \"model_20241120_213516_9\", 149246180)"
            ],
            "text/plain": [
              "<IPython.core.display.Javascript object>"
            ]
          },
          "metadata": {},
          "output_type": "display_data"
        },
        {
          "name": "stderr",
          "output_type": "stream",
          "text": [
            "INFO:transformer_log:Epoch #10 Start: current LR 0.0007212071918539712\n"
          ]
        },
        {
          "name": "stdout",
          "output_type": "stream",
          "text": [
            "Epoch #10 Start: current LR 0.0007212071918539712\n"
          ]
        },
        {
          "name": "stderr",
          "output_type": "stream",
          "text": [
            "0it [00:00, ?it/s]INFO:transformer_log:    EPOCH #10 STEP #0 | loss: 2.317659854888916, avg_loss: 2.317659854888916\n",
            "1it [00:01,  1.08s/it]"
          ]
        },
        {
          "name": "stdout",
          "output_type": "stream",
          "text": [
            "    EPOCH #10 STEP #0 | loss: 2.317659854888916, avg_loss: 2.317659854888916\n"
          ]
        },
        {
          "name": "stderr",
          "output_type": "stream",
          "text": [
            "200it [03:22,  1.00it/s]INFO:transformer_log:    EPOCH #10 STEP #200 | loss: 2.4331417083740234, avg_loss: 2.389517360658788\n",
            "201it [03:23,  1.00it/s]"
          ]
        },
        {
          "name": "stdout",
          "output_type": "stream",
          "text": [
            "    EPOCH #10 STEP #200 | loss: 2.4331417083740234, avg_loss: 2.389517360658788\n"
          ]
        },
        {
          "name": "stderr",
          "output_type": "stream",
          "text": [
            "400it [06:44,  1.00it/s]INFO:transformer_log:    EPOCH #10 STEP #400 | loss: 2.3021950721740723, avg_loss: 2.392109762700716\n",
            "401it [06:45,  1.00s/it]"
          ]
        },
        {
          "name": "stdout",
          "output_type": "stream",
          "text": [
            "    EPOCH #10 STEP #400 | loss: 2.3021950721740723, avg_loss: 2.392109762700716\n"
          ]
        },
        {
          "name": "stderr",
          "output_type": "stream",
          "text": [
            "600it [10:06,  1.01s/it]INFO:transformer_log:    EPOCH #10 STEP #600 | loss: 2.4070730209350586, avg_loss: 2.394721201771309\n",
            "601it [10:07,  1.01s/it]"
          ]
        },
        {
          "name": "stdout",
          "output_type": "stream",
          "text": [
            "    EPOCH #10 STEP #600 | loss: 2.4070730209350586, avg_loss: 2.394721201771309\n"
          ]
        },
        {
          "name": "stderr",
          "output_type": "stream",
          "text": [
            "751it [12:39,  1.01s/it]\n",
            "117it [00:43,  2.70it/s]\n",
            "INFO:transformer_log:Epoch #10 End: Train Loss 2.3963993408391064, Test Loss 2.225695182115604\n"
          ]
        },
        {
          "data": {
            "application/javascript": [
              "\n",
              "    async function download(id, filename, size) {\n",
              "      if (!google.colab.kernel.accessAllowed) {\n",
              "        return;\n",
              "      }\n",
              "      const div = document.createElement('div');\n",
              "      const label = document.createElement('label');\n",
              "      label.textContent = `Downloading \"${filename}\": `;\n",
              "      div.appendChild(label);\n",
              "      const progress = document.createElement('progress');\n",
              "      progress.max = size;\n",
              "      div.appendChild(progress);\n",
              "      document.body.appendChild(div);\n",
              "\n",
              "      const buffers = [];\n",
              "      let downloaded = 0;\n",
              "\n",
              "      const channel = await google.colab.kernel.comms.open(id);\n",
              "      // Send a message to notify the kernel that we're ready.\n",
              "      channel.send({})\n",
              "\n",
              "      for await (const message of channel.messages) {\n",
              "        // Send a message to notify the kernel that we're ready.\n",
              "        channel.send({})\n",
              "        if (message.buffers) {\n",
              "          for (const buffer of message.buffers) {\n",
              "            buffers.push(buffer);\n",
              "            downloaded += buffer.byteLength;\n",
              "            progress.value = downloaded;\n",
              "          }\n",
              "        }\n",
              "      }\n",
              "      const blob = new Blob(buffers, {type: 'application/binary'});\n",
              "      const a = document.createElement('a');\n",
              "      a.href = window.URL.createObjectURL(blob);\n",
              "      a.download = filename;\n",
              "      div.appendChild(a);\n",
              "      a.click();\n",
              "      div.remove();\n",
              "    }\n",
              "  "
            ],
            "text/plain": [
              "<IPython.core.display.Javascript object>"
            ]
          },
          "metadata": {},
          "output_type": "display_data"
        },
        {
          "data": {
            "application/javascript": [
              "download(\"download_7c8b91c0-a8ab-4274-a111-c3e81a1f58fd\", \"model_20241120_213516_10\", 149246311)"
            ],
            "text/plain": [
              "<IPython.core.display.Javascript object>"
            ]
          },
          "metadata": {},
          "output_type": "display_data"
        },
        {
          "name": "stderr",
          "output_type": "stream",
          "text": [
            "INFO:transformer_log:Epoch #11 Start: current LR 0.00068764407652763\n"
          ]
        },
        {
          "name": "stdout",
          "output_type": "stream",
          "text": [
            "Epoch #11 Start: current LR 0.00068764407652763\n"
          ]
        },
        {
          "name": "stderr",
          "output_type": "stream",
          "text": [
            "0it [00:00, ?it/s]INFO:transformer_log:    EPOCH #11 STEP #0 | loss: 2.350355386734009, avg_loss: 2.350355386734009\n",
            "1it [00:01,  1.09s/it]"
          ]
        },
        {
          "name": "stdout",
          "output_type": "stream",
          "text": [
            "    EPOCH #11 STEP #0 | loss: 2.350355386734009, avg_loss: 2.350355386734009\n"
          ]
        },
        {
          "name": "stderr",
          "output_type": "stream",
          "text": [
            "200it [03:22,  1.01s/it]INFO:transformer_log:    EPOCH #11 STEP #200 | loss: 2.3438503742218018, avg_loss: 2.369565511817363\n",
            "201it [03:23,  1.02s/it]"
          ]
        },
        {
          "name": "stdout",
          "output_type": "stream",
          "text": [
            "    EPOCH #11 STEP #200 | loss: 2.3438503742218018, avg_loss: 2.369565511817363\n"
          ]
        },
        {
          "name": "stderr",
          "output_type": "stream",
          "text": [
            "400it [06:44,  1.00s/it]INFO:transformer_log:    EPOCH #11 STEP #400 | loss: 2.3934993743896484, avg_loss: 2.375563057283511\n",
            "401it [06:45,  1.01s/it]"
          ]
        },
        {
          "name": "stdout",
          "output_type": "stream",
          "text": [
            "    EPOCH #11 STEP #400 | loss: 2.3934993743896484, avg_loss: 2.375563057283511\n"
          ]
        },
        {
          "name": "stderr",
          "output_type": "stream",
          "text": [
            "600it [10:06,  1.00s/it]INFO:transformer_log:    EPOCH #11 STEP #600 | loss: 2.4376025199890137, avg_loss: 2.3779592359323867\n",
            "601it [10:07,  1.00s/it]"
          ]
        },
        {
          "name": "stdout",
          "output_type": "stream",
          "text": [
            "    EPOCH #11 STEP #600 | loss: 2.4376025199890137, avg_loss: 2.3779592359323867\n"
          ]
        },
        {
          "name": "stderr",
          "output_type": "stream",
          "text": [
            "751it [12:39,  1.01s/it]\n",
            "117it [00:43,  2.69it/s]\n",
            "INFO:transformer_log:Epoch #11 End: Train Loss 2.3788197904071224, Test Loss 2.2084135968460994\n"
          ]
        },
        {
          "data": {
            "application/javascript": [
              "\n",
              "    async function download(id, filename, size) {\n",
              "      if (!google.colab.kernel.accessAllowed) {\n",
              "        return;\n",
              "      }\n",
              "      const div = document.createElement('div');\n",
              "      const label = document.createElement('label');\n",
              "      label.textContent = `Downloading \"${filename}\": `;\n",
              "      div.appendChild(label);\n",
              "      const progress = document.createElement('progress');\n",
              "      progress.max = size;\n",
              "      div.appendChild(progress);\n",
              "      document.body.appendChild(div);\n",
              "\n",
              "      const buffers = [];\n",
              "      let downloaded = 0;\n",
              "\n",
              "      const channel = await google.colab.kernel.comms.open(id);\n",
              "      // Send a message to notify the kernel that we're ready.\n",
              "      channel.send({})\n",
              "\n",
              "      for await (const message of channel.messages) {\n",
              "        // Send a message to notify the kernel that we're ready.\n",
              "        channel.send({})\n",
              "        if (message.buffers) {\n",
              "          for (const buffer of message.buffers) {\n",
              "            buffers.push(buffer);\n",
              "            downloaded += buffer.byteLength;\n",
              "            progress.value = downloaded;\n",
              "          }\n",
              "        }\n",
              "      }\n",
              "      const blob = new Blob(buffers, {type: 'application/binary'});\n",
              "      const a = document.createElement('a');\n",
              "      a.href = window.URL.createObjectURL(blob);\n",
              "      a.download = filename;\n",
              "      div.appendChild(a);\n",
              "      a.click();\n",
              "      div.remove();\n",
              "    }\n",
              "  "
            ],
            "text/plain": [
              "<IPython.core.display.Javascript object>"
            ]
          },
          "metadata": {},
          "output_type": "display_data"
        },
        {
          "data": {
            "application/javascript": [
              "download(\"download_06875796-1e42-4693-b8f1-3f401335e4cf\", \"model_20241120_213516_11\", 149246311)"
            ],
            "text/plain": [
              "<IPython.core.display.Javascript object>"
            ]
          },
          "metadata": {},
          "output_type": "display_data"
        },
        {
          "name": "stderr",
          "output_type": "stream",
          "text": [
            "INFO:transformer_log:Epoch #12 Start: current LR 0.0006583690793556268\n"
          ]
        },
        {
          "name": "stdout",
          "output_type": "stream",
          "text": [
            "Epoch #12 Start: current LR 0.0006583690793556268\n"
          ]
        },
        {
          "name": "stderr",
          "output_type": "stream",
          "text": [
            "0it [00:00, ?it/s]INFO:transformer_log:    EPOCH #12 STEP #0 | loss: 2.3528263568878174, avg_loss: 2.3528263568878174\n",
            "1it [00:01,  1.11s/it]"
          ]
        },
        {
          "name": "stdout",
          "output_type": "stream",
          "text": [
            "    EPOCH #12 STEP #0 | loss: 2.3528263568878174, avg_loss: 2.3528263568878174\n"
          ]
        },
        {
          "name": "stderr",
          "output_type": "stream",
          "text": [
            "200it [03:25,  1.04s/it]INFO:transformer_log:    EPOCH #12 STEP #200 | loss: 2.3208167552948, avg_loss: 2.3522817981776907\n",
            "201it [03:26,  1.03s/it]"
          ]
        },
        {
          "name": "stdout",
          "output_type": "stream",
          "text": [
            "    EPOCH #12 STEP #200 | loss: 2.3208167552948, avg_loss: 2.3522817981776907\n"
          ]
        },
        {
          "name": "stderr",
          "output_type": "stream",
          "text": [
            "400it [06:51,  1.04s/it]INFO:transformer_log:    EPOCH #12 STEP #400 | loss: 2.382563829421997, avg_loss: 2.360957660579919\n",
            "401it [06:52,  1.04s/it]"
          ]
        },
        {
          "name": "stdout",
          "output_type": "stream",
          "text": [
            "    EPOCH #12 STEP #400 | loss: 2.382563829421997, avg_loss: 2.360957660579919\n"
          ]
        },
        {
          "name": "stderr",
          "output_type": "stream",
          "text": [
            "600it [10:17,  1.03s/it]INFO:transformer_log:    EPOCH #12 STEP #600 | loss: 2.282118797302246, avg_loss: 2.362019465092613\n",
            "601it [10:18,  1.03s/it]"
          ]
        },
        {
          "name": "stdout",
          "output_type": "stream",
          "text": [
            "    EPOCH #12 STEP #600 | loss: 2.282118797302246, avg_loss: 2.362019465092613\n"
          ]
        },
        {
          "name": "stderr",
          "output_type": "stream",
          "text": [
            "751it [12:53,  1.03s/it]\n",
            "117it [00:44,  2.64it/s]\n",
            "INFO:transformer_log:Epoch #12 End: Train Loss 2.3640382077182815, Test Loss 2.1930754877563214\n"
          ]
        },
        {
          "data": {
            "application/javascript": [
              "\n",
              "    async function download(id, filename, size) {\n",
              "      if (!google.colab.kernel.accessAllowed) {\n",
              "        return;\n",
              "      }\n",
              "      const div = document.createElement('div');\n",
              "      const label = document.createElement('label');\n",
              "      label.textContent = `Downloading \"${filename}\": `;\n",
              "      div.appendChild(label);\n",
              "      const progress = document.createElement('progress');\n",
              "      progress.max = size;\n",
              "      div.appendChild(progress);\n",
              "      document.body.appendChild(div);\n",
              "\n",
              "      const buffers = [];\n",
              "      let downloaded = 0;\n",
              "\n",
              "      const channel = await google.colab.kernel.comms.open(id);\n",
              "      // Send a message to notify the kernel that we're ready.\n",
              "      channel.send({})\n",
              "\n",
              "      for await (const message of channel.messages) {\n",
              "        // Send a message to notify the kernel that we're ready.\n",
              "        channel.send({})\n",
              "        if (message.buffers) {\n",
              "          for (const buffer of message.buffers) {\n",
              "            buffers.push(buffer);\n",
              "            downloaded += buffer.byteLength;\n",
              "            progress.value = downloaded;\n",
              "          }\n",
              "        }\n",
              "      }\n",
              "      const blob = new Blob(buffers, {type: 'application/binary'});\n",
              "      const a = document.createElement('a');\n",
              "      a.href = window.URL.createObjectURL(blob);\n",
              "      a.download = filename;\n",
              "      div.appendChild(a);\n",
              "      a.click();\n",
              "      div.remove();\n",
              "    }\n",
              "  "
            ],
            "text/plain": [
              "<IPython.core.display.Javascript object>"
            ]
          },
          "metadata": {},
          "output_type": "display_data"
        },
        {
          "data": {
            "application/javascript": [
              "download(\"download_69c6eca3-5e5c-414b-a552-f2693c398bf3\", \"model_20241120_213516_12\", 149246311)"
            ],
            "text/plain": [
              "<IPython.core.display.Javascript object>"
            ]
          },
          "metadata": {},
          "output_type": "display_data"
        },
        {
          "name": "stderr",
          "output_type": "stream",
          "text": [
            "INFO:transformer_log:Epoch #13 Start: current LR 0.0006325405511974286\n"
          ]
        },
        {
          "name": "stdout",
          "output_type": "stream",
          "text": [
            "Epoch #13 Start: current LR 0.0006325405511974286\n"
          ]
        },
        {
          "name": "stderr",
          "output_type": "stream",
          "text": [
            "0it [00:00, ?it/s]INFO:transformer_log:    EPOCH #13 STEP #0 | loss: 2.3217568397521973, avg_loss: 2.3217568397521973\n",
            "1it [00:01,  1.08s/it]"
          ]
        },
        {
          "name": "stdout",
          "output_type": "stream",
          "text": [
            "    EPOCH #13 STEP #0 | loss: 2.3217568397521973, avg_loss: 2.3217568397521973\n"
          ]
        },
        {
          "name": "stderr",
          "output_type": "stream",
          "text": [
            "200it [03:26,  1.05s/it]INFO:transformer_log:    EPOCH #13 STEP #200 | loss: 2.397812843322754, avg_loss: 2.340242194892162\n",
            "201it [03:27,  1.04s/it]"
          ]
        },
        {
          "name": "stdout",
          "output_type": "stream",
          "text": [
            "    EPOCH #13 STEP #200 | loss: 2.397812843322754, avg_loss: 2.340242194892162\n"
          ]
        },
        {
          "name": "stderr",
          "output_type": "stream",
          "text": [
            "400it [06:52,  1.03s/it]INFO:transformer_log:    EPOCH #13 STEP #400 | loss: 2.3807358741760254, avg_loss: 2.3497255228998655\n",
            "401it [06:53,  1.02s/it]"
          ]
        },
        {
          "name": "stdout",
          "output_type": "stream",
          "text": [
            "    EPOCH #13 STEP #400 | loss: 2.3807358741760254, avg_loss: 2.3497255228998655\n"
          ]
        },
        {
          "name": "stderr",
          "output_type": "stream",
          "text": [
            "600it [10:18,  1.02s/it]INFO:transformer_log:    EPOCH #13 STEP #600 | loss: 2.324002742767334, avg_loss: 2.3498924841698314\n",
            "601it [10:19,  1.02s/it]"
          ]
        },
        {
          "name": "stdout",
          "output_type": "stream",
          "text": [
            "    EPOCH #13 STEP #600 | loss: 2.324002742767334, avg_loss: 2.3498924841698314\n"
          ]
        },
        {
          "name": "stderr",
          "output_type": "stream",
          "text": [
            "751it [12:54,  1.03s/it]\n",
            "117it [00:44,  2.62it/s]\n",
            "INFO:transformer_log:Epoch #13 End: Train Loss 2.351563645425078, Test Loss 2.183786559308696\n"
          ]
        },
        {
          "data": {
            "application/javascript": [
              "\n",
              "    async function download(id, filename, size) {\n",
              "      if (!google.colab.kernel.accessAllowed) {\n",
              "        return;\n",
              "      }\n",
              "      const div = document.createElement('div');\n",
              "      const label = document.createElement('label');\n",
              "      label.textContent = `Downloading \"${filename}\": `;\n",
              "      div.appendChild(label);\n",
              "      const progress = document.createElement('progress');\n",
              "      progress.max = size;\n",
              "      div.appendChild(progress);\n",
              "      document.body.appendChild(div);\n",
              "\n",
              "      const buffers = [];\n",
              "      let downloaded = 0;\n",
              "\n",
              "      const channel = await google.colab.kernel.comms.open(id);\n",
              "      // Send a message to notify the kernel that we're ready.\n",
              "      channel.send({})\n",
              "\n",
              "      for await (const message of channel.messages) {\n",
              "        // Send a message to notify the kernel that we're ready.\n",
              "        channel.send({})\n",
              "        if (message.buffers) {\n",
              "          for (const buffer of message.buffers) {\n",
              "            buffers.push(buffer);\n",
              "            downloaded += buffer.byteLength;\n",
              "            progress.value = downloaded;\n",
              "          }\n",
              "        }\n",
              "      }\n",
              "      const blob = new Blob(buffers, {type: 'application/binary'});\n",
              "      const a = document.createElement('a');\n",
              "      a.href = window.URL.createObjectURL(blob);\n",
              "      a.download = filename;\n",
              "      div.appendChild(a);\n",
              "      a.click();\n",
              "      div.remove();\n",
              "    }\n",
              "  "
            ],
            "text/plain": [
              "<IPython.core.display.Javascript object>"
            ]
          },
          "metadata": {},
          "output_type": "display_data"
        },
        {
          "data": {
            "application/javascript": [
              "download(\"download_ef1b2f9b-5373-4887-b015-e46fc6432c79\", \"model_20241120_213516_13\", 149246311)"
            ],
            "text/plain": [
              "<IPython.core.display.Javascript object>"
            ]
          },
          "metadata": {},
          "output_type": "display_data"
        },
        {
          "name": "stderr",
          "output_type": "stream",
          "text": [
            "INFO:transformer_log:Epoch #14 Start: current LR 0.0006095313267361893\n"
          ]
        },
        {
          "name": "stdout",
          "output_type": "stream",
          "text": [
            "Epoch #14 Start: current LR 0.0006095313267361893\n"
          ]
        },
        {
          "name": "stderr",
          "output_type": "stream",
          "text": [
            "0it [00:00, ?it/s]INFO:transformer_log:    EPOCH #14 STEP #0 | loss: 2.341146945953369, avg_loss: 2.341146945953369\n",
            "1it [00:01,  1.05s/it]"
          ]
        },
        {
          "name": "stdout",
          "output_type": "stream",
          "text": [
            "    EPOCH #14 STEP #0 | loss: 2.341146945953369, avg_loss: 2.341146945953369\n"
          ]
        },
        {
          "name": "stderr",
          "output_type": "stream",
          "text": [
            "200it [03:25,  1.03s/it]INFO:transformer_log:    EPOCH #14 STEP #200 | loss: 2.3042144775390625, avg_loss: 2.337575901800127\n",
            "201it [03:26,  1.02s/it]"
          ]
        },
        {
          "name": "stdout",
          "output_type": "stream",
          "text": [
            "    EPOCH #14 STEP #200 | loss: 2.3042144775390625, avg_loss: 2.337575901800127\n"
          ]
        },
        {
          "name": "stderr",
          "output_type": "stream",
          "text": [
            "400it [06:51,  1.02s/it]INFO:transformer_log:    EPOCH #14 STEP #400 | loss: 2.3506784439086914, avg_loss: 2.3399122468848477\n",
            "401it [06:52,  1.02s/it]"
          ]
        },
        {
          "name": "stdout",
          "output_type": "stream",
          "text": [
            "    EPOCH #14 STEP #400 | loss: 2.3506784439086914, avg_loss: 2.3399122468848477\n"
          ]
        },
        {
          "name": "stderr",
          "output_type": "stream",
          "text": [
            "600it [10:17,  1.04s/it]INFO:transformer_log:    EPOCH #14 STEP #600 | loss: 2.36564302444458, avg_loss: 2.3404295250103995\n",
            "601it [10:18,  1.04s/it]"
          ]
        },
        {
          "name": "stdout",
          "output_type": "stream",
          "text": [
            "    EPOCH #14 STEP #600 | loss: 2.36564302444458, avg_loss: 2.3404295250103995\n"
          ]
        },
        {
          "name": "stderr",
          "output_type": "stream",
          "text": [
            "751it [12:53,  1.03s/it]\n",
            "117it [00:44,  2.65it/s]\n",
            "INFO:transformer_log:Epoch #14 End: Train Loss 2.3409832723924864, Test Loss 2.1690596209632025\n"
          ]
        },
        {
          "data": {
            "application/javascript": [
              "\n",
              "    async function download(id, filename, size) {\n",
              "      if (!google.colab.kernel.accessAllowed) {\n",
              "        return;\n",
              "      }\n",
              "      const div = document.createElement('div');\n",
              "      const label = document.createElement('label');\n",
              "      label.textContent = `Downloading \"${filename}\": `;\n",
              "      div.appendChild(label);\n",
              "      const progress = document.createElement('progress');\n",
              "      progress.max = size;\n",
              "      div.appendChild(progress);\n",
              "      document.body.appendChild(div);\n",
              "\n",
              "      const buffers = [];\n",
              "      let downloaded = 0;\n",
              "\n",
              "      const channel = await google.colab.kernel.comms.open(id);\n",
              "      // Send a message to notify the kernel that we're ready.\n",
              "      channel.send({})\n",
              "\n",
              "      for await (const message of channel.messages) {\n",
              "        // Send a message to notify the kernel that we're ready.\n",
              "        channel.send({})\n",
              "        if (message.buffers) {\n",
              "          for (const buffer of message.buffers) {\n",
              "            buffers.push(buffer);\n",
              "            downloaded += buffer.byteLength;\n",
              "            progress.value = downloaded;\n",
              "          }\n",
              "        }\n",
              "      }\n",
              "      const blob = new Blob(buffers, {type: 'application/binary'});\n",
              "      const a = document.createElement('a');\n",
              "      a.href = window.URL.createObjectURL(blob);\n",
              "      a.download = filename;\n",
              "      div.appendChild(a);\n",
              "      a.click();\n",
              "      div.remove();\n",
              "    }\n",
              "  "
            ],
            "text/plain": [
              "<IPython.core.display.Javascript object>"
            ]
          },
          "metadata": {},
          "output_type": "display_data"
        },
        {
          "data": {
            "application/javascript": [
              "download(\"download_49c2cfab-3fd7-4adf-a91b-a363d33dfb40\", \"model_20241120_213516_14\", 149246311)"
            ],
            "text/plain": [
              "<IPython.core.display.Javascript object>"
            ]
          },
          "metadata": {},
          "output_type": "display_data"
        },
        {
          "name": "stderr",
          "output_type": "stream",
          "text": [
            "INFO:transformer_log:Epoch #15 Start: current LR 0.000588863206289254\n"
          ]
        },
        {
          "name": "stdout",
          "output_type": "stream",
          "text": [
            "Epoch #15 Start: current LR 0.000588863206289254\n"
          ]
        },
        {
          "name": "stderr",
          "output_type": "stream",
          "text": [
            "0it [00:00, ?it/s]INFO:transformer_log:    EPOCH #15 STEP #0 | loss: 2.2513625621795654, avg_loss: 2.2513625621795654\n",
            "1it [00:01,  1.06s/it]"
          ]
        },
        {
          "name": "stdout",
          "output_type": "stream",
          "text": [
            "    EPOCH #15 STEP #0 | loss: 2.2513625621795654, avg_loss: 2.2513625621795654\n"
          ]
        },
        {
          "name": "stderr",
          "output_type": "stream",
          "text": [
            "200it [03:25,  1.01s/it]INFO:transformer_log:    EPOCH #15 STEP #200 | loss: 2.32627534866333, avg_loss: 2.3221153062374436\n",
            "201it [03:26,  1.01s/it]"
          ]
        },
        {
          "name": "stdout",
          "output_type": "stream",
          "text": [
            "    EPOCH #15 STEP #200 | loss: 2.32627534866333, avg_loss: 2.3221153062374436\n"
          ]
        },
        {
          "name": "stderr",
          "output_type": "stream",
          "text": [
            "400it [06:51,  1.04s/it]INFO:transformer_log:    EPOCH #15 STEP #400 | loss: 2.3550057411193848, avg_loss: 2.326201130921704\n",
            "401it [06:52,  1.05s/it]"
          ]
        },
        {
          "name": "stdout",
          "output_type": "stream",
          "text": [
            "    EPOCH #15 STEP #400 | loss: 2.3550057411193848, avg_loss: 2.326201130921704\n"
          ]
        },
        {
          "name": "stderr",
          "output_type": "stream",
          "text": [
            "600it [10:18,  1.03s/it]INFO:transformer_log:    EPOCH #15 STEP #600 | loss: 2.3174116611480713, avg_loss: 2.3287653189133883\n",
            "601it [10:19,  1.03s/it]"
          ]
        },
        {
          "name": "stdout",
          "output_type": "stream",
          "text": [
            "    EPOCH #15 STEP #600 | loss: 2.3174116611480713, avg_loss: 2.3287653189133883\n"
          ]
        },
        {
          "name": "stderr",
          "output_type": "stream",
          "text": [
            "751it [12:53,  1.03s/it]\n",
            "117it [00:44,  2.64it/s]\n",
            "INFO:transformer_log:Epoch #15 End: Train Loss 2.3309486979015976, Test Loss 2.1610866306174517\n"
          ]
        },
        {
          "data": {
            "application/javascript": [
              "\n",
              "    async function download(id, filename, size) {\n",
              "      if (!google.colab.kernel.accessAllowed) {\n",
              "        return;\n",
              "      }\n",
              "      const div = document.createElement('div');\n",
              "      const label = document.createElement('label');\n",
              "      label.textContent = `Downloading \"${filename}\": `;\n",
              "      div.appendChild(label);\n",
              "      const progress = document.createElement('progress');\n",
              "      progress.max = size;\n",
              "      div.appendChild(progress);\n",
              "      document.body.appendChild(div);\n",
              "\n",
              "      const buffers = [];\n",
              "      let downloaded = 0;\n",
              "\n",
              "      const channel = await google.colab.kernel.comms.open(id);\n",
              "      // Send a message to notify the kernel that we're ready.\n",
              "      channel.send({})\n",
              "\n",
              "      for await (const message of channel.messages) {\n",
              "        // Send a message to notify the kernel that we're ready.\n",
              "        channel.send({})\n",
              "        if (message.buffers) {\n",
              "          for (const buffer of message.buffers) {\n",
              "            buffers.push(buffer);\n",
              "            downloaded += buffer.byteLength;\n",
              "            progress.value = downloaded;\n",
              "          }\n",
              "        }\n",
              "      }\n",
              "      const blob = new Blob(buffers, {type: 'application/binary'});\n",
              "      const a = document.createElement('a');\n",
              "      a.href = window.URL.createObjectURL(blob);\n",
              "      a.download = filename;\n",
              "      div.appendChild(a);\n",
              "      a.click();\n",
              "      div.remove();\n",
              "    }\n",
              "  "
            ],
            "text/plain": [
              "<IPython.core.display.Javascript object>"
            ]
          },
          "metadata": {},
          "output_type": "display_data"
        },
        {
          "data": {
            "application/javascript": [
              "download(\"download_77b116e2-31f1-43c1-bbd6-14f65985ea7a\", \"model_20241120_213516_15\", 149246311)"
            ],
            "text/plain": [
              "<IPython.core.display.Javascript object>"
            ]
          },
          "metadata": {},
          "output_type": "display_data"
        },
        {
          "name": "stderr",
          "output_type": "stream",
          "text": [
            "INFO:transformer_log:Epoch #16 Start: current LR 0.0005701643477881459\n"
          ]
        },
        {
          "name": "stdout",
          "output_type": "stream",
          "text": [
            "Epoch #16 Start: current LR 0.0005701643477881459\n"
          ]
        },
        {
          "name": "stderr",
          "output_type": "stream",
          "text": [
            "0it [00:00, ?it/s]INFO:transformer_log:    EPOCH #16 STEP #0 | loss: 2.2755160331726074, avg_loss: 2.2755160331726074\n",
            "1it [00:01,  1.09s/it]"
          ]
        },
        {
          "name": "stdout",
          "output_type": "stream",
          "text": [
            "    EPOCH #16 STEP #0 | loss: 2.2755160331726074, avg_loss: 2.2755160331726074\n"
          ]
        },
        {
          "name": "stderr",
          "output_type": "stream",
          "text": [
            "200it [03:25,  1.02s/it]INFO:transformer_log:    EPOCH #16 STEP #200 | loss: 2.3466994762420654, avg_loss: 2.3155270891996165\n",
            "201it [03:26,  1.02s/it]"
          ]
        },
        {
          "name": "stdout",
          "output_type": "stream",
          "text": [
            "    EPOCH #16 STEP #200 | loss: 2.3466994762420654, avg_loss: 2.3155270891996165\n"
          ]
        },
        {
          "name": "stderr",
          "output_type": "stream",
          "text": [
            "273it [04:40,  1.05s/it]"
          ]
        }
      ],
      "source": [
        "timestamp = datetime.now().strftime('%Y%m%d_%H%M%S')\n",
        "\n",
        "for epoch in range(epochs):\n",
        "    print(f'Epoch #{epoch} Start: current LR {optimizer.param_groups[0][\"lr\"]}')\n",
        "    logger.info(f'Epoch #{epoch} Start: current LR {optimizer.param_groups[0][\"lr\"]}')\n",
        "\n",
        "    train_loss = train_epoch(epoch)\n",
        "    test_loss = evaluate()\n",
        "    lr_history.append(optimizer.param_groups[0][\"lr\"])\n",
        "    train_loss_history.append(train_loss)\n",
        "\n",
        "    logger.info(f'Epoch #{epoch} End: Train Loss {train_loss}, Test Loss {test_loss}')\n",
        "\n",
        "    model_path = model_dir / f'model_{timestamp}_{epoch}'\n",
        "    torch.save(model.state_dict(), model_path)\n"
      ]
    },
    {
      "cell_type": "code",
      "execution_count": null,
      "id": "6e20070a-81b3-4e09-a47d-7b553093587b",
      "metadata": {
        "id": "6e20070a-81b3-4e09-a47d-7b553093587b"
      },
      "outputs": [],
      "source": []
    }
  ],
  "metadata": {
    "colab": {
      "provenance": []
    },
    "kernelspec": {
      "display_name": "Python 3",
      "name": "python3"
    },
    "language_info": {
      "codemirror_mode": {
        "name": "ipython",
        "version": 3
      },
      "file_extension": ".py",
      "mimetype": "text/x-python",
      "name": "python",
      "nbconvert_exporter": "python",
      "pygments_lexer": "ipython3",
      "version": "3.11.10"
    },
    "widgets": {
      "application/vnd.jupyter.widget-state+json": {
        "4d921efdf18e4735863d14083256b430": {
          "model_module": "@jupyter-widgets/controls",
          "model_name": "HBoxModel",
          "model_module_version": "1.5.0",
          "state": {
            "_dom_classes": [],
            "_model_module": "@jupyter-widgets/controls",
            "_model_module_version": "1.5.0",
            "_model_name": "HBoxModel",
            "_view_count": null,
            "_view_module": "@jupyter-widgets/controls",
            "_view_module_version": "1.5.0",
            "_view_name": "HBoxView",
            "box_style": "",
            "children": [
              "IPY_MODEL_71ab27be60df4f4ca61cc5f4ef326892",
              "IPY_MODEL_f85c8e242fe6472b8aa7ee88ff018402",
              "IPY_MODEL_fb84030cde9b4c7c9ee24d88076d87b1"
            ],
            "layout": "IPY_MODEL_7e5c841e5e294bf18e5363779b1a3064"
          }
        },
        "71ab27be60df4f4ca61cc5f4ef326892": {
          "model_module": "@jupyter-widgets/controls",
          "model_name": "HTMLModel",
          "model_module_version": "1.5.0",
          "state": {
            "_dom_classes": [],
            "_model_module": "@jupyter-widgets/controls",
            "_model_module_version": "1.5.0",
            "_model_name": "HTMLModel",
            "_view_count": null,
            "_view_module": "@jupyter-widgets/controls",
            "_view_module_version": "1.5.0",
            "_view_name": "HTMLView",
            "description": "",
            "description_tooltip": null,
            "layout": "IPY_MODEL_9b41960903734478b79a61ea9ff7ae8a",
            "placeholder": "​",
            "style": "IPY_MODEL_0998daeef7eb4324a31e7dde2ce40048",
            "value": "tokenizer_config.json: 100%"
          }
        },
        "f85c8e242fe6472b8aa7ee88ff018402": {
          "model_module": "@jupyter-widgets/controls",
          "model_name": "FloatProgressModel",
          "model_module_version": "1.5.0",
          "state": {
            "_dom_classes": [],
            "_model_module": "@jupyter-widgets/controls",
            "_model_module_version": "1.5.0",
            "_model_name": "FloatProgressModel",
            "_view_count": null,
            "_view_module": "@jupyter-widgets/controls",
            "_view_module_version": "1.5.0",
            "_view_name": "ProgressView",
            "bar_style": "success",
            "description": "",
            "description_tooltip": null,
            "layout": "IPY_MODEL_50d9886d6add48c6aee23a85d399e8d3",
            "max": 44,
            "min": 0,
            "orientation": "horizontal",
            "style": "IPY_MODEL_1938d828111a45829f8fb93c5c221aba",
            "value": 44
          }
        },
        "fb84030cde9b4c7c9ee24d88076d87b1": {
          "model_module": "@jupyter-widgets/controls",
          "model_name": "HTMLModel",
          "model_module_version": "1.5.0",
          "state": {
            "_dom_classes": [],
            "_model_module": "@jupyter-widgets/controls",
            "_model_module_version": "1.5.0",
            "_model_name": "HTMLModel",
            "_view_count": null,
            "_view_module": "@jupyter-widgets/controls",
            "_view_module_version": "1.5.0",
            "_view_name": "HTMLView",
            "description": "",
            "description_tooltip": null,
            "layout": "IPY_MODEL_25d529edc2b446b0ad354a7475260357",
            "placeholder": "​",
            "style": "IPY_MODEL_bc2c8f35032149b7929d4d027e1b04ef",
            "value": " 44.0/44.0 [00:00&lt;00:00, 2.12kB/s]"
          }
        },
        "7e5c841e5e294bf18e5363779b1a3064": {
          "model_module": "@jupyter-widgets/base",
          "model_name": "LayoutModel",
          "model_module_version": "1.2.0",
          "state": {
            "_model_module": "@jupyter-widgets/base",
            "_model_module_version": "1.2.0",
            "_model_name": "LayoutModel",
            "_view_count": null,
            "_view_module": "@jupyter-widgets/base",
            "_view_module_version": "1.2.0",
            "_view_name": "LayoutView",
            "align_content": null,
            "align_items": null,
            "align_self": null,
            "border": null,
            "bottom": null,
            "display": null,
            "flex": null,
            "flex_flow": null,
            "grid_area": null,
            "grid_auto_columns": null,
            "grid_auto_flow": null,
            "grid_auto_rows": null,
            "grid_column": null,
            "grid_gap": null,
            "grid_row": null,
            "grid_template_areas": null,
            "grid_template_columns": null,
            "grid_template_rows": null,
            "height": null,
            "justify_content": null,
            "justify_items": null,
            "left": null,
            "margin": null,
            "max_height": null,
            "max_width": null,
            "min_height": null,
            "min_width": null,
            "object_fit": null,
            "object_position": null,
            "order": null,
            "overflow": null,
            "overflow_x": null,
            "overflow_y": null,
            "padding": null,
            "right": null,
            "top": null,
            "visibility": null,
            "width": null
          }
        },
        "9b41960903734478b79a61ea9ff7ae8a": {
          "model_module": "@jupyter-widgets/base",
          "model_name": "LayoutModel",
          "model_module_version": "1.2.0",
          "state": {
            "_model_module": "@jupyter-widgets/base",
            "_model_module_version": "1.2.0",
            "_model_name": "LayoutModel",
            "_view_count": null,
            "_view_module": "@jupyter-widgets/base",
            "_view_module_version": "1.2.0",
            "_view_name": "LayoutView",
            "align_content": null,
            "align_items": null,
            "align_self": null,
            "border": null,
            "bottom": null,
            "display": null,
            "flex": null,
            "flex_flow": null,
            "grid_area": null,
            "grid_auto_columns": null,
            "grid_auto_flow": null,
            "grid_auto_rows": null,
            "grid_column": null,
            "grid_gap": null,
            "grid_row": null,
            "grid_template_areas": null,
            "grid_template_columns": null,
            "grid_template_rows": null,
            "height": null,
            "justify_content": null,
            "justify_items": null,
            "left": null,
            "margin": null,
            "max_height": null,
            "max_width": null,
            "min_height": null,
            "min_width": null,
            "object_fit": null,
            "object_position": null,
            "order": null,
            "overflow": null,
            "overflow_x": null,
            "overflow_y": null,
            "padding": null,
            "right": null,
            "top": null,
            "visibility": null,
            "width": null
          }
        },
        "0998daeef7eb4324a31e7dde2ce40048": {
          "model_module": "@jupyter-widgets/controls",
          "model_name": "DescriptionStyleModel",
          "model_module_version": "1.5.0",
          "state": {
            "_model_module": "@jupyter-widgets/controls",
            "_model_module_version": "1.5.0",
            "_model_name": "DescriptionStyleModel",
            "_view_count": null,
            "_view_module": "@jupyter-widgets/base",
            "_view_module_version": "1.2.0",
            "_view_name": "StyleView",
            "description_width": ""
          }
        },
        "50d9886d6add48c6aee23a85d399e8d3": {
          "model_module": "@jupyter-widgets/base",
          "model_name": "LayoutModel",
          "model_module_version": "1.2.0",
          "state": {
            "_model_module": "@jupyter-widgets/base",
            "_model_module_version": "1.2.0",
            "_model_name": "LayoutModel",
            "_view_count": null,
            "_view_module": "@jupyter-widgets/base",
            "_view_module_version": "1.2.0",
            "_view_name": "LayoutView",
            "align_content": null,
            "align_items": null,
            "align_self": null,
            "border": null,
            "bottom": null,
            "display": null,
            "flex": null,
            "flex_flow": null,
            "grid_area": null,
            "grid_auto_columns": null,
            "grid_auto_flow": null,
            "grid_auto_rows": null,
            "grid_column": null,
            "grid_gap": null,
            "grid_row": null,
            "grid_template_areas": null,
            "grid_template_columns": null,
            "grid_template_rows": null,
            "height": null,
            "justify_content": null,
            "justify_items": null,
            "left": null,
            "margin": null,
            "max_height": null,
            "max_width": null,
            "min_height": null,
            "min_width": null,
            "object_fit": null,
            "object_position": null,
            "order": null,
            "overflow": null,
            "overflow_x": null,
            "overflow_y": null,
            "padding": null,
            "right": null,
            "top": null,
            "visibility": null,
            "width": null
          }
        },
        "1938d828111a45829f8fb93c5c221aba": {
          "model_module": "@jupyter-widgets/controls",
          "model_name": "ProgressStyleModel",
          "model_module_version": "1.5.0",
          "state": {
            "_model_module": "@jupyter-widgets/controls",
            "_model_module_version": "1.5.0",
            "_model_name": "ProgressStyleModel",
            "_view_count": null,
            "_view_module": "@jupyter-widgets/base",
            "_view_module_version": "1.2.0",
            "_view_name": "StyleView",
            "bar_color": null,
            "description_width": ""
          }
        },
        "25d529edc2b446b0ad354a7475260357": {
          "model_module": "@jupyter-widgets/base",
          "model_name": "LayoutModel",
          "model_module_version": "1.2.0",
          "state": {
            "_model_module": "@jupyter-widgets/base",
            "_model_module_version": "1.2.0",
            "_model_name": "LayoutModel",
            "_view_count": null,
            "_view_module": "@jupyter-widgets/base",
            "_view_module_version": "1.2.0",
            "_view_name": "LayoutView",
            "align_content": null,
            "align_items": null,
            "align_self": null,
            "border": null,
            "bottom": null,
            "display": null,
            "flex": null,
            "flex_flow": null,
            "grid_area": null,
            "grid_auto_columns": null,
            "grid_auto_flow": null,
            "grid_auto_rows": null,
            "grid_column": null,
            "grid_gap": null,
            "grid_row": null,
            "grid_template_areas": null,
            "grid_template_columns": null,
            "grid_template_rows": null,
            "height": null,
            "justify_content": null,
            "justify_items": null,
            "left": null,
            "margin": null,
            "max_height": null,
            "max_width": null,
            "min_height": null,
            "min_width": null,
            "object_fit": null,
            "object_position": null,
            "order": null,
            "overflow": null,
            "overflow_x": null,
            "overflow_y": null,
            "padding": null,
            "right": null,
            "top": null,
            "visibility": null,
            "width": null
          }
        },
        "bc2c8f35032149b7929d4d027e1b04ef": {
          "model_module": "@jupyter-widgets/controls",
          "model_name": "DescriptionStyleModel",
          "model_module_version": "1.5.0",
          "state": {
            "_model_module": "@jupyter-widgets/controls",
            "_model_module_version": "1.5.0",
            "_model_name": "DescriptionStyleModel",
            "_view_count": null,
            "_view_module": "@jupyter-widgets/base",
            "_view_module_version": "1.2.0",
            "_view_name": "StyleView",
            "description_width": ""
          }
        },
        "12675675ca0b43399bb1ccb63a8e0ce9": {
          "model_module": "@jupyter-widgets/controls",
          "model_name": "HBoxModel",
          "model_module_version": "1.5.0",
          "state": {
            "_dom_classes": [],
            "_model_module": "@jupyter-widgets/controls",
            "_model_module_version": "1.5.0",
            "_model_name": "HBoxModel",
            "_view_count": null,
            "_view_module": "@jupyter-widgets/controls",
            "_view_module_version": "1.5.0",
            "_view_name": "HBoxView",
            "box_style": "",
            "children": [
              "IPY_MODEL_f95644b85012484e8ab844f22eb30752",
              "IPY_MODEL_1d65f8ff06c44874815fd49bcb6e7d85",
              "IPY_MODEL_5a2212df6a6e4a7ea4951f94c8aeab0b"
            ],
            "layout": "IPY_MODEL_0da15be5973843ddad64063230e957ae"
          }
        },
        "f95644b85012484e8ab844f22eb30752": {
          "model_module": "@jupyter-widgets/controls",
          "model_name": "HTMLModel",
          "model_module_version": "1.5.0",
          "state": {
            "_dom_classes": [],
            "_model_module": "@jupyter-widgets/controls",
            "_model_module_version": "1.5.0",
            "_model_name": "HTMLModel",
            "_view_count": null,
            "_view_module": "@jupyter-widgets/controls",
            "_view_module_version": "1.5.0",
            "_view_name": "HTMLView",
            "description": "",
            "description_tooltip": null,
            "layout": "IPY_MODEL_ae095c83a0f14beebcfce9d6d7e3b3d0",
            "placeholder": "​",
            "style": "IPY_MODEL_d5afae8580214c53b7dd2264e6579d1c",
            "value": "source.spm: 100%"
          }
        },
        "1d65f8ff06c44874815fd49bcb6e7d85": {
          "model_module": "@jupyter-widgets/controls",
          "model_name": "FloatProgressModel",
          "model_module_version": "1.5.0",
          "state": {
            "_dom_classes": [],
            "_model_module": "@jupyter-widgets/controls",
            "_model_module_version": "1.5.0",
            "_model_name": "FloatProgressModel",
            "_view_count": null,
            "_view_module": "@jupyter-widgets/controls",
            "_view_module_version": "1.5.0",
            "_view_name": "ProgressView",
            "bar_style": "success",
            "description": "",
            "description_tooltip": null,
            "layout": "IPY_MODEL_725ef10192614a87be80986f4884ba2f",
            "max": 841805,
            "min": 0,
            "orientation": "horizontal",
            "style": "IPY_MODEL_db8bc35f9e294872b26c6e63ea5f44ba",
            "value": 841805
          }
        },
        "5a2212df6a6e4a7ea4951f94c8aeab0b": {
          "model_module": "@jupyter-widgets/controls",
          "model_name": "HTMLModel",
          "model_module_version": "1.5.0",
          "state": {
            "_dom_classes": [],
            "_model_module": "@jupyter-widgets/controls",
            "_model_module_version": "1.5.0",
            "_model_name": "HTMLModel",
            "_view_count": null,
            "_view_module": "@jupyter-widgets/controls",
            "_view_module_version": "1.5.0",
            "_view_name": "HTMLView",
            "description": "",
            "description_tooltip": null,
            "layout": "IPY_MODEL_6506b9dd62b64e228289f6d406b27595",
            "placeholder": "​",
            "style": "IPY_MODEL_90709d7c3797422384f2fdbc4cb74664",
            "value": " 842k/842k [00:00&lt;00:00, 11.6MB/s]"
          }
        },
        "0da15be5973843ddad64063230e957ae": {
          "model_module": "@jupyter-widgets/base",
          "model_name": "LayoutModel",
          "model_module_version": "1.2.0",
          "state": {
            "_model_module": "@jupyter-widgets/base",
            "_model_module_version": "1.2.0",
            "_model_name": "LayoutModel",
            "_view_count": null,
            "_view_module": "@jupyter-widgets/base",
            "_view_module_version": "1.2.0",
            "_view_name": "LayoutView",
            "align_content": null,
            "align_items": null,
            "align_self": null,
            "border": null,
            "bottom": null,
            "display": null,
            "flex": null,
            "flex_flow": null,
            "grid_area": null,
            "grid_auto_columns": null,
            "grid_auto_flow": null,
            "grid_auto_rows": null,
            "grid_column": null,
            "grid_gap": null,
            "grid_row": null,
            "grid_template_areas": null,
            "grid_template_columns": null,
            "grid_template_rows": null,
            "height": null,
            "justify_content": null,
            "justify_items": null,
            "left": null,
            "margin": null,
            "max_height": null,
            "max_width": null,
            "min_height": null,
            "min_width": null,
            "object_fit": null,
            "object_position": null,
            "order": null,
            "overflow": null,
            "overflow_x": null,
            "overflow_y": null,
            "padding": null,
            "right": null,
            "top": null,
            "visibility": null,
            "width": null
          }
        },
        "ae095c83a0f14beebcfce9d6d7e3b3d0": {
          "model_module": "@jupyter-widgets/base",
          "model_name": "LayoutModel",
          "model_module_version": "1.2.0",
          "state": {
            "_model_module": "@jupyter-widgets/base",
            "_model_module_version": "1.2.0",
            "_model_name": "LayoutModel",
            "_view_count": null,
            "_view_module": "@jupyter-widgets/base",
            "_view_module_version": "1.2.0",
            "_view_name": "LayoutView",
            "align_content": null,
            "align_items": null,
            "align_self": null,
            "border": null,
            "bottom": null,
            "display": null,
            "flex": null,
            "flex_flow": null,
            "grid_area": null,
            "grid_auto_columns": null,
            "grid_auto_flow": null,
            "grid_auto_rows": null,
            "grid_column": null,
            "grid_gap": null,
            "grid_row": null,
            "grid_template_areas": null,
            "grid_template_columns": null,
            "grid_template_rows": null,
            "height": null,
            "justify_content": null,
            "justify_items": null,
            "left": null,
            "margin": null,
            "max_height": null,
            "max_width": null,
            "min_height": null,
            "min_width": null,
            "object_fit": null,
            "object_position": null,
            "order": null,
            "overflow": null,
            "overflow_x": null,
            "overflow_y": null,
            "padding": null,
            "right": null,
            "top": null,
            "visibility": null,
            "width": null
          }
        },
        "d5afae8580214c53b7dd2264e6579d1c": {
          "model_module": "@jupyter-widgets/controls",
          "model_name": "DescriptionStyleModel",
          "model_module_version": "1.5.0",
          "state": {
            "_model_module": "@jupyter-widgets/controls",
            "_model_module_version": "1.5.0",
            "_model_name": "DescriptionStyleModel",
            "_view_count": null,
            "_view_module": "@jupyter-widgets/base",
            "_view_module_version": "1.2.0",
            "_view_name": "StyleView",
            "description_width": ""
          }
        },
        "725ef10192614a87be80986f4884ba2f": {
          "model_module": "@jupyter-widgets/base",
          "model_name": "LayoutModel",
          "model_module_version": "1.2.0",
          "state": {
            "_model_module": "@jupyter-widgets/base",
            "_model_module_version": "1.2.0",
            "_model_name": "LayoutModel",
            "_view_count": null,
            "_view_module": "@jupyter-widgets/base",
            "_view_module_version": "1.2.0",
            "_view_name": "LayoutView",
            "align_content": null,
            "align_items": null,
            "align_self": null,
            "border": null,
            "bottom": null,
            "display": null,
            "flex": null,
            "flex_flow": null,
            "grid_area": null,
            "grid_auto_columns": null,
            "grid_auto_flow": null,
            "grid_auto_rows": null,
            "grid_column": null,
            "grid_gap": null,
            "grid_row": null,
            "grid_template_areas": null,
            "grid_template_columns": null,
            "grid_template_rows": null,
            "height": null,
            "justify_content": null,
            "justify_items": null,
            "left": null,
            "margin": null,
            "max_height": null,
            "max_width": null,
            "min_height": null,
            "min_width": null,
            "object_fit": null,
            "object_position": null,
            "order": null,
            "overflow": null,
            "overflow_x": null,
            "overflow_y": null,
            "padding": null,
            "right": null,
            "top": null,
            "visibility": null,
            "width": null
          }
        },
        "db8bc35f9e294872b26c6e63ea5f44ba": {
          "model_module": "@jupyter-widgets/controls",
          "model_name": "ProgressStyleModel",
          "model_module_version": "1.5.0",
          "state": {
            "_model_module": "@jupyter-widgets/controls",
            "_model_module_version": "1.5.0",
            "_model_name": "ProgressStyleModel",
            "_view_count": null,
            "_view_module": "@jupyter-widgets/base",
            "_view_module_version": "1.2.0",
            "_view_name": "StyleView",
            "bar_color": null,
            "description_width": ""
          }
        },
        "6506b9dd62b64e228289f6d406b27595": {
          "model_module": "@jupyter-widgets/base",
          "model_name": "LayoutModel",
          "model_module_version": "1.2.0",
          "state": {
            "_model_module": "@jupyter-widgets/base",
            "_model_module_version": "1.2.0",
            "_model_name": "LayoutModel",
            "_view_count": null,
            "_view_module": "@jupyter-widgets/base",
            "_view_module_version": "1.2.0",
            "_view_name": "LayoutView",
            "align_content": null,
            "align_items": null,
            "align_self": null,
            "border": null,
            "bottom": null,
            "display": null,
            "flex": null,
            "flex_flow": null,
            "grid_area": null,
            "grid_auto_columns": null,
            "grid_auto_flow": null,
            "grid_auto_rows": null,
            "grid_column": null,
            "grid_gap": null,
            "grid_row": null,
            "grid_template_areas": null,
            "grid_template_columns": null,
            "grid_template_rows": null,
            "height": null,
            "justify_content": null,
            "justify_items": null,
            "left": null,
            "margin": null,
            "max_height": null,
            "max_width": null,
            "min_height": null,
            "min_width": null,
            "object_fit": null,
            "object_position": null,
            "order": null,
            "overflow": null,
            "overflow_x": null,
            "overflow_y": null,
            "padding": null,
            "right": null,
            "top": null,
            "visibility": null,
            "width": null
          }
        },
        "90709d7c3797422384f2fdbc4cb74664": {
          "model_module": "@jupyter-widgets/controls",
          "model_name": "DescriptionStyleModel",
          "model_module_version": "1.5.0",
          "state": {
            "_model_module": "@jupyter-widgets/controls",
            "_model_module_version": "1.5.0",
            "_model_name": "DescriptionStyleModel",
            "_view_count": null,
            "_view_module": "@jupyter-widgets/base",
            "_view_module_version": "1.2.0",
            "_view_name": "StyleView",
            "description_width": ""
          }
        },
        "e81fc042de3a4ebd81c8616bc34956aa": {
          "model_module": "@jupyter-widgets/controls",
          "model_name": "HBoxModel",
          "model_module_version": "1.5.0",
          "state": {
            "_dom_classes": [],
            "_model_module": "@jupyter-widgets/controls",
            "_model_module_version": "1.5.0",
            "_model_name": "HBoxModel",
            "_view_count": null,
            "_view_module": "@jupyter-widgets/controls",
            "_view_module_version": "1.5.0",
            "_view_name": "HBoxView",
            "box_style": "",
            "children": [
              "IPY_MODEL_2da3a82a502a43b39708e5de4adbd003",
              "IPY_MODEL_49196e72516b4d8bacb988af667f9ffb",
              "IPY_MODEL_d26c4542c79f4c0ab730b44f248464d3"
            ],
            "layout": "IPY_MODEL_8d3438d8eb1d4833bc66cad12cdd26a3"
          }
        },
        "2da3a82a502a43b39708e5de4adbd003": {
          "model_module": "@jupyter-widgets/controls",
          "model_name": "HTMLModel",
          "model_module_version": "1.5.0",
          "state": {
            "_dom_classes": [],
            "_model_module": "@jupyter-widgets/controls",
            "_model_module_version": "1.5.0",
            "_model_name": "HTMLModel",
            "_view_count": null,
            "_view_module": "@jupyter-widgets/controls",
            "_view_module_version": "1.5.0",
            "_view_name": "HTMLView",
            "description": "",
            "description_tooltip": null,
            "layout": "IPY_MODEL_b2d5c51027654502a0d9636da1faf22e",
            "placeholder": "​",
            "style": "IPY_MODEL_956ae3a24a904541b2704ac9e6f23623",
            "value": "target.spm: 100%"
          }
        },
        "49196e72516b4d8bacb988af667f9ffb": {
          "model_module": "@jupyter-widgets/controls",
          "model_name": "FloatProgressModel",
          "model_module_version": "1.5.0",
          "state": {
            "_dom_classes": [],
            "_model_module": "@jupyter-widgets/controls",
            "_model_module_version": "1.5.0",
            "_model_name": "FloatProgressModel",
            "_view_count": null,
            "_view_module": "@jupyter-widgets/controls",
            "_view_module_version": "1.5.0",
            "_view_name": "ProgressView",
            "bar_style": "success",
            "description": "",
            "description_tooltip": null,
            "layout": "IPY_MODEL_f981ba96c29240109dddb40f12b7badd",
            "max": 813126,
            "min": 0,
            "orientation": "horizontal",
            "style": "IPY_MODEL_8c80f34e8a2943c19bd7b8740673c077",
            "value": 813126
          }
        },
        "d26c4542c79f4c0ab730b44f248464d3": {
          "model_module": "@jupyter-widgets/controls",
          "model_name": "HTMLModel",
          "model_module_version": "1.5.0",
          "state": {
            "_dom_classes": [],
            "_model_module": "@jupyter-widgets/controls",
            "_model_module_version": "1.5.0",
            "_model_name": "HTMLModel",
            "_view_count": null,
            "_view_module": "@jupyter-widgets/controls",
            "_view_module_version": "1.5.0",
            "_view_name": "HTMLView",
            "description": "",
            "description_tooltip": null,
            "layout": "IPY_MODEL_f5f1385513374b2e978520ef582aa8cf",
            "placeholder": "​",
            "style": "IPY_MODEL_c5bd4ddb3a8f4de89bc5db48e73ccaa9",
            "value": " 813k/813k [00:00&lt;00:00, 36.7MB/s]"
          }
        },
        "8d3438d8eb1d4833bc66cad12cdd26a3": {
          "model_module": "@jupyter-widgets/base",
          "model_name": "LayoutModel",
          "model_module_version": "1.2.0",
          "state": {
            "_model_module": "@jupyter-widgets/base",
            "_model_module_version": "1.2.0",
            "_model_name": "LayoutModel",
            "_view_count": null,
            "_view_module": "@jupyter-widgets/base",
            "_view_module_version": "1.2.0",
            "_view_name": "LayoutView",
            "align_content": null,
            "align_items": null,
            "align_self": null,
            "border": null,
            "bottom": null,
            "display": null,
            "flex": null,
            "flex_flow": null,
            "grid_area": null,
            "grid_auto_columns": null,
            "grid_auto_flow": null,
            "grid_auto_rows": null,
            "grid_column": null,
            "grid_gap": null,
            "grid_row": null,
            "grid_template_areas": null,
            "grid_template_columns": null,
            "grid_template_rows": null,
            "height": null,
            "justify_content": null,
            "justify_items": null,
            "left": null,
            "margin": null,
            "max_height": null,
            "max_width": null,
            "min_height": null,
            "min_width": null,
            "object_fit": null,
            "object_position": null,
            "order": null,
            "overflow": null,
            "overflow_x": null,
            "overflow_y": null,
            "padding": null,
            "right": null,
            "top": null,
            "visibility": null,
            "width": null
          }
        },
        "b2d5c51027654502a0d9636da1faf22e": {
          "model_module": "@jupyter-widgets/base",
          "model_name": "LayoutModel",
          "model_module_version": "1.2.0",
          "state": {
            "_model_module": "@jupyter-widgets/base",
            "_model_module_version": "1.2.0",
            "_model_name": "LayoutModel",
            "_view_count": null,
            "_view_module": "@jupyter-widgets/base",
            "_view_module_version": "1.2.0",
            "_view_name": "LayoutView",
            "align_content": null,
            "align_items": null,
            "align_self": null,
            "border": null,
            "bottom": null,
            "display": null,
            "flex": null,
            "flex_flow": null,
            "grid_area": null,
            "grid_auto_columns": null,
            "grid_auto_flow": null,
            "grid_auto_rows": null,
            "grid_column": null,
            "grid_gap": null,
            "grid_row": null,
            "grid_template_areas": null,
            "grid_template_columns": null,
            "grid_template_rows": null,
            "height": null,
            "justify_content": null,
            "justify_items": null,
            "left": null,
            "margin": null,
            "max_height": null,
            "max_width": null,
            "min_height": null,
            "min_width": null,
            "object_fit": null,
            "object_position": null,
            "order": null,
            "overflow": null,
            "overflow_x": null,
            "overflow_y": null,
            "padding": null,
            "right": null,
            "top": null,
            "visibility": null,
            "width": null
          }
        },
        "956ae3a24a904541b2704ac9e6f23623": {
          "model_module": "@jupyter-widgets/controls",
          "model_name": "DescriptionStyleModel",
          "model_module_version": "1.5.0",
          "state": {
            "_model_module": "@jupyter-widgets/controls",
            "_model_module_version": "1.5.0",
            "_model_name": "DescriptionStyleModel",
            "_view_count": null,
            "_view_module": "@jupyter-widgets/base",
            "_view_module_version": "1.2.0",
            "_view_name": "StyleView",
            "description_width": ""
          }
        },
        "f981ba96c29240109dddb40f12b7badd": {
          "model_module": "@jupyter-widgets/base",
          "model_name": "LayoutModel",
          "model_module_version": "1.2.0",
          "state": {
            "_model_module": "@jupyter-widgets/base",
            "_model_module_version": "1.2.0",
            "_model_name": "LayoutModel",
            "_view_count": null,
            "_view_module": "@jupyter-widgets/base",
            "_view_module_version": "1.2.0",
            "_view_name": "LayoutView",
            "align_content": null,
            "align_items": null,
            "align_self": null,
            "border": null,
            "bottom": null,
            "display": null,
            "flex": null,
            "flex_flow": null,
            "grid_area": null,
            "grid_auto_columns": null,
            "grid_auto_flow": null,
            "grid_auto_rows": null,
            "grid_column": null,
            "grid_gap": null,
            "grid_row": null,
            "grid_template_areas": null,
            "grid_template_columns": null,
            "grid_template_rows": null,
            "height": null,
            "justify_content": null,
            "justify_items": null,
            "left": null,
            "margin": null,
            "max_height": null,
            "max_width": null,
            "min_height": null,
            "min_width": null,
            "object_fit": null,
            "object_position": null,
            "order": null,
            "overflow": null,
            "overflow_x": null,
            "overflow_y": null,
            "padding": null,
            "right": null,
            "top": null,
            "visibility": null,
            "width": null
          }
        },
        "8c80f34e8a2943c19bd7b8740673c077": {
          "model_module": "@jupyter-widgets/controls",
          "model_name": "ProgressStyleModel",
          "model_module_version": "1.5.0",
          "state": {
            "_model_module": "@jupyter-widgets/controls",
            "_model_module_version": "1.5.0",
            "_model_name": "ProgressStyleModel",
            "_view_count": null,
            "_view_module": "@jupyter-widgets/base",
            "_view_module_version": "1.2.0",
            "_view_name": "StyleView",
            "bar_color": null,
            "description_width": ""
          }
        },
        "f5f1385513374b2e978520ef582aa8cf": {
          "model_module": "@jupyter-widgets/base",
          "model_name": "LayoutModel",
          "model_module_version": "1.2.0",
          "state": {
            "_model_module": "@jupyter-widgets/base",
            "_model_module_version": "1.2.0",
            "_model_name": "LayoutModel",
            "_view_count": null,
            "_view_module": "@jupyter-widgets/base",
            "_view_module_version": "1.2.0",
            "_view_name": "LayoutView",
            "align_content": null,
            "align_items": null,
            "align_self": null,
            "border": null,
            "bottom": null,
            "display": null,
            "flex": null,
            "flex_flow": null,
            "grid_area": null,
            "grid_auto_columns": null,
            "grid_auto_flow": null,
            "grid_auto_rows": null,
            "grid_column": null,
            "grid_gap": null,
            "grid_row": null,
            "grid_template_areas": null,
            "grid_template_columns": null,
            "grid_template_rows": null,
            "height": null,
            "justify_content": null,
            "justify_items": null,
            "left": null,
            "margin": null,
            "max_height": null,
            "max_width": null,
            "min_height": null,
            "min_width": null,
            "object_fit": null,
            "object_position": null,
            "order": null,
            "overflow": null,
            "overflow_x": null,
            "overflow_y": null,
            "padding": null,
            "right": null,
            "top": null,
            "visibility": null,
            "width": null
          }
        },
        "c5bd4ddb3a8f4de89bc5db48e73ccaa9": {
          "model_module": "@jupyter-widgets/controls",
          "model_name": "DescriptionStyleModel",
          "model_module_version": "1.5.0",
          "state": {
            "_model_module": "@jupyter-widgets/controls",
            "_model_module_version": "1.5.0",
            "_model_name": "DescriptionStyleModel",
            "_view_count": null,
            "_view_module": "@jupyter-widgets/base",
            "_view_module_version": "1.2.0",
            "_view_name": "StyleView",
            "description_width": ""
          }
        },
        "66830a9b966d406ba0b6964dcf852b17": {
          "model_module": "@jupyter-widgets/controls",
          "model_name": "HBoxModel",
          "model_module_version": "1.5.0",
          "state": {
            "_dom_classes": [],
            "_model_module": "@jupyter-widgets/controls",
            "_model_module_version": "1.5.0",
            "_model_name": "HBoxModel",
            "_view_count": null,
            "_view_module": "@jupyter-widgets/controls",
            "_view_module_version": "1.5.0",
            "_view_name": "HBoxView",
            "box_style": "",
            "children": [
              "IPY_MODEL_277268ebd4cc424897657ddaf7c63d2f",
              "IPY_MODEL_01a4de6a28fd4a51bd887264873dffa8",
              "IPY_MODEL_871acdcd149647f192528f54e234feb8"
            ],
            "layout": "IPY_MODEL_9d29012942564dd1808cadbec01a93b7"
          }
        },
        "277268ebd4cc424897657ddaf7c63d2f": {
          "model_module": "@jupyter-widgets/controls",
          "model_name": "HTMLModel",
          "model_module_version": "1.5.0",
          "state": {
            "_dom_classes": [],
            "_model_module": "@jupyter-widgets/controls",
            "_model_module_version": "1.5.0",
            "_model_name": "HTMLModel",
            "_view_count": null,
            "_view_module": "@jupyter-widgets/controls",
            "_view_module_version": "1.5.0",
            "_view_name": "HTMLView",
            "description": "",
            "description_tooltip": null,
            "layout": "IPY_MODEL_c0c45c3ffd3847dbaa587c484e119593",
            "placeholder": "​",
            "style": "IPY_MODEL_2d4dd212f8b347ca80d931cb335f6513",
            "value": "vocab.json: 100%"
          }
        },
        "01a4de6a28fd4a51bd887264873dffa8": {
          "model_module": "@jupyter-widgets/controls",
          "model_name": "FloatProgressModel",
          "model_module_version": "1.5.0",
          "state": {
            "_dom_classes": [],
            "_model_module": "@jupyter-widgets/controls",
            "_model_module_version": "1.5.0",
            "_model_name": "FloatProgressModel",
            "_view_count": null,
            "_view_module": "@jupyter-widgets/controls",
            "_view_module_version": "1.5.0",
            "_view_name": "ProgressView",
            "bar_style": "success",
            "description": "",
            "description_tooltip": null,
            "layout": "IPY_MODEL_54edc458413d4d5d8358c25caccd365f",
            "max": 1719866,
            "min": 0,
            "orientation": "horizontal",
            "style": "IPY_MODEL_fbe90b577cda4b45805751f2cbe3ee88",
            "value": 1719866
          }
        },
        "871acdcd149647f192528f54e234feb8": {
          "model_module": "@jupyter-widgets/controls",
          "model_name": "HTMLModel",
          "model_module_version": "1.5.0",
          "state": {
            "_dom_classes": [],
            "_model_module": "@jupyter-widgets/controls",
            "_model_module_version": "1.5.0",
            "_model_name": "HTMLModel",
            "_view_count": null,
            "_view_module": "@jupyter-widgets/controls",
            "_view_module_version": "1.5.0",
            "_view_name": "HTMLView",
            "description": "",
            "description_tooltip": null,
            "layout": "IPY_MODEL_89a73bc6d97d48d9afb2f0fcc0e771c7",
            "placeholder": "​",
            "style": "IPY_MODEL_949cc8efc8394a4b8ad1ea5f6874e902",
            "value": " 1.72M/1.72M [00:00&lt;00:00, 23.8MB/s]"
          }
        },
        "9d29012942564dd1808cadbec01a93b7": {
          "model_module": "@jupyter-widgets/base",
          "model_name": "LayoutModel",
          "model_module_version": "1.2.0",
          "state": {
            "_model_module": "@jupyter-widgets/base",
            "_model_module_version": "1.2.0",
            "_model_name": "LayoutModel",
            "_view_count": null,
            "_view_module": "@jupyter-widgets/base",
            "_view_module_version": "1.2.0",
            "_view_name": "LayoutView",
            "align_content": null,
            "align_items": null,
            "align_self": null,
            "border": null,
            "bottom": null,
            "display": null,
            "flex": null,
            "flex_flow": null,
            "grid_area": null,
            "grid_auto_columns": null,
            "grid_auto_flow": null,
            "grid_auto_rows": null,
            "grid_column": null,
            "grid_gap": null,
            "grid_row": null,
            "grid_template_areas": null,
            "grid_template_columns": null,
            "grid_template_rows": null,
            "height": null,
            "justify_content": null,
            "justify_items": null,
            "left": null,
            "margin": null,
            "max_height": null,
            "max_width": null,
            "min_height": null,
            "min_width": null,
            "object_fit": null,
            "object_position": null,
            "order": null,
            "overflow": null,
            "overflow_x": null,
            "overflow_y": null,
            "padding": null,
            "right": null,
            "top": null,
            "visibility": null,
            "width": null
          }
        },
        "c0c45c3ffd3847dbaa587c484e119593": {
          "model_module": "@jupyter-widgets/base",
          "model_name": "LayoutModel",
          "model_module_version": "1.2.0",
          "state": {
            "_model_module": "@jupyter-widgets/base",
            "_model_module_version": "1.2.0",
            "_model_name": "LayoutModel",
            "_view_count": null,
            "_view_module": "@jupyter-widgets/base",
            "_view_module_version": "1.2.0",
            "_view_name": "LayoutView",
            "align_content": null,
            "align_items": null,
            "align_self": null,
            "border": null,
            "bottom": null,
            "display": null,
            "flex": null,
            "flex_flow": null,
            "grid_area": null,
            "grid_auto_columns": null,
            "grid_auto_flow": null,
            "grid_auto_rows": null,
            "grid_column": null,
            "grid_gap": null,
            "grid_row": null,
            "grid_template_areas": null,
            "grid_template_columns": null,
            "grid_template_rows": null,
            "height": null,
            "justify_content": null,
            "justify_items": null,
            "left": null,
            "margin": null,
            "max_height": null,
            "max_width": null,
            "min_height": null,
            "min_width": null,
            "object_fit": null,
            "object_position": null,
            "order": null,
            "overflow": null,
            "overflow_x": null,
            "overflow_y": null,
            "padding": null,
            "right": null,
            "top": null,
            "visibility": null,
            "width": null
          }
        },
        "2d4dd212f8b347ca80d931cb335f6513": {
          "model_module": "@jupyter-widgets/controls",
          "model_name": "DescriptionStyleModel",
          "model_module_version": "1.5.0",
          "state": {
            "_model_module": "@jupyter-widgets/controls",
            "_model_module_version": "1.5.0",
            "_model_name": "DescriptionStyleModel",
            "_view_count": null,
            "_view_module": "@jupyter-widgets/base",
            "_view_module_version": "1.2.0",
            "_view_name": "StyleView",
            "description_width": ""
          }
        },
        "54edc458413d4d5d8358c25caccd365f": {
          "model_module": "@jupyter-widgets/base",
          "model_name": "LayoutModel",
          "model_module_version": "1.2.0",
          "state": {
            "_model_module": "@jupyter-widgets/base",
            "_model_module_version": "1.2.0",
            "_model_name": "LayoutModel",
            "_view_count": null,
            "_view_module": "@jupyter-widgets/base",
            "_view_module_version": "1.2.0",
            "_view_name": "LayoutView",
            "align_content": null,
            "align_items": null,
            "align_self": null,
            "border": null,
            "bottom": null,
            "display": null,
            "flex": null,
            "flex_flow": null,
            "grid_area": null,
            "grid_auto_columns": null,
            "grid_auto_flow": null,
            "grid_auto_rows": null,
            "grid_column": null,
            "grid_gap": null,
            "grid_row": null,
            "grid_template_areas": null,
            "grid_template_columns": null,
            "grid_template_rows": null,
            "height": null,
            "justify_content": null,
            "justify_items": null,
            "left": null,
            "margin": null,
            "max_height": null,
            "max_width": null,
            "min_height": null,
            "min_width": null,
            "object_fit": null,
            "object_position": null,
            "order": null,
            "overflow": null,
            "overflow_x": null,
            "overflow_y": null,
            "padding": null,
            "right": null,
            "top": null,
            "visibility": null,
            "width": null
          }
        },
        "fbe90b577cda4b45805751f2cbe3ee88": {
          "model_module": "@jupyter-widgets/controls",
          "model_name": "ProgressStyleModel",
          "model_module_version": "1.5.0",
          "state": {
            "_model_module": "@jupyter-widgets/controls",
            "_model_module_version": "1.5.0",
            "_model_name": "ProgressStyleModel",
            "_view_count": null,
            "_view_module": "@jupyter-widgets/base",
            "_view_module_version": "1.2.0",
            "_view_name": "StyleView",
            "bar_color": null,
            "description_width": ""
          }
        },
        "89a73bc6d97d48d9afb2f0fcc0e771c7": {
          "model_module": "@jupyter-widgets/base",
          "model_name": "LayoutModel",
          "model_module_version": "1.2.0",
          "state": {
            "_model_module": "@jupyter-widgets/base",
            "_model_module_version": "1.2.0",
            "_model_name": "LayoutModel",
            "_view_count": null,
            "_view_module": "@jupyter-widgets/base",
            "_view_module_version": "1.2.0",
            "_view_name": "LayoutView",
            "align_content": null,
            "align_items": null,
            "align_self": null,
            "border": null,
            "bottom": null,
            "display": null,
            "flex": null,
            "flex_flow": null,
            "grid_area": null,
            "grid_auto_columns": null,
            "grid_auto_flow": null,
            "grid_auto_rows": null,
            "grid_column": null,
            "grid_gap": null,
            "grid_row": null,
            "grid_template_areas": null,
            "grid_template_columns": null,
            "grid_template_rows": null,
            "height": null,
            "justify_content": null,
            "justify_items": null,
            "left": null,
            "margin": null,
            "max_height": null,
            "max_width": null,
            "min_height": null,
            "min_width": null,
            "object_fit": null,
            "object_position": null,
            "order": null,
            "overflow": null,
            "overflow_x": null,
            "overflow_y": null,
            "padding": null,
            "right": null,
            "top": null,
            "visibility": null,
            "width": null
          }
        },
        "949cc8efc8394a4b8ad1ea5f6874e902": {
          "model_module": "@jupyter-widgets/controls",
          "model_name": "DescriptionStyleModel",
          "model_module_version": "1.5.0",
          "state": {
            "_model_module": "@jupyter-widgets/controls",
            "_model_module_version": "1.5.0",
            "_model_name": "DescriptionStyleModel",
            "_view_count": null,
            "_view_module": "@jupyter-widgets/base",
            "_view_module_version": "1.2.0",
            "_view_name": "StyleView",
            "description_width": ""
          }
        },
        "85db2da4e6654b799a57cb4faaa4e463": {
          "model_module": "@jupyter-widgets/controls",
          "model_name": "HBoxModel",
          "model_module_version": "1.5.0",
          "state": {
            "_dom_classes": [],
            "_model_module": "@jupyter-widgets/controls",
            "_model_module_version": "1.5.0",
            "_model_name": "HBoxModel",
            "_view_count": null,
            "_view_module": "@jupyter-widgets/controls",
            "_view_module_version": "1.5.0",
            "_view_name": "HBoxView",
            "box_style": "",
            "children": [
              "IPY_MODEL_4d9234d235b34cf2bed5d3a9a6889bcd",
              "IPY_MODEL_b95f6c71f6234a6dbe7d1dd2a05d9e7c",
              "IPY_MODEL_78da4224a5e54083bfcb0072084b9095"
            ],
            "layout": "IPY_MODEL_17d9375fc0734662a2758ffd9fc28254"
          }
        },
        "4d9234d235b34cf2bed5d3a9a6889bcd": {
          "model_module": "@jupyter-widgets/controls",
          "model_name": "HTMLModel",
          "model_module_version": "1.5.0",
          "state": {
            "_dom_classes": [],
            "_model_module": "@jupyter-widgets/controls",
            "_model_module_version": "1.5.0",
            "_model_name": "HTMLModel",
            "_view_count": null,
            "_view_module": "@jupyter-widgets/controls",
            "_view_module_version": "1.5.0",
            "_view_name": "HTMLView",
            "description": "",
            "description_tooltip": null,
            "layout": "IPY_MODEL_4a384215c92e43478baf9cd289b534a0",
            "placeholder": "​",
            "style": "IPY_MODEL_de7746f2c5e14148bd5096c6ee259584",
            "value": "config.json: 100%"
          }
        },
        "b95f6c71f6234a6dbe7d1dd2a05d9e7c": {
          "model_module": "@jupyter-widgets/controls",
          "model_name": "FloatProgressModel",
          "model_module_version": "1.5.0",
          "state": {
            "_dom_classes": [],
            "_model_module": "@jupyter-widgets/controls",
            "_model_module_version": "1.5.0",
            "_model_name": "FloatProgressModel",
            "_view_count": null,
            "_view_module": "@jupyter-widgets/controls",
            "_view_module_version": "1.5.0",
            "_view_name": "ProgressView",
            "bar_style": "success",
            "description": "",
            "description_tooltip": null,
            "layout": "IPY_MODEL_d9a7ff9cef544982b9b4aa964119ae02",
            "max": 1394,
            "min": 0,
            "orientation": "horizontal",
            "style": "IPY_MODEL_338dd81ecae04df399805eb43fb9a612",
            "value": 1394
          }
        },
        "78da4224a5e54083bfcb0072084b9095": {
          "model_module": "@jupyter-widgets/controls",
          "model_name": "HTMLModel",
          "model_module_version": "1.5.0",
          "state": {
            "_dom_classes": [],
            "_model_module": "@jupyter-widgets/controls",
            "_model_module_version": "1.5.0",
            "_model_name": "HTMLModel",
            "_view_count": null,
            "_view_module": "@jupyter-widgets/controls",
            "_view_module_version": "1.5.0",
            "_view_name": "HTMLView",
            "description": "",
            "description_tooltip": null,
            "layout": "IPY_MODEL_9c6634a285564c5a8dbf4e348b5af70f",
            "placeholder": "​",
            "style": "IPY_MODEL_ac593640d345461f9e010fc8b95ca610",
            "value": " 1.39k/1.39k [00:00&lt;00:00, 89.5kB/s]"
          }
        },
        "17d9375fc0734662a2758ffd9fc28254": {
          "model_module": "@jupyter-widgets/base",
          "model_name": "LayoutModel",
          "model_module_version": "1.2.0",
          "state": {
            "_model_module": "@jupyter-widgets/base",
            "_model_module_version": "1.2.0",
            "_model_name": "LayoutModel",
            "_view_count": null,
            "_view_module": "@jupyter-widgets/base",
            "_view_module_version": "1.2.0",
            "_view_name": "LayoutView",
            "align_content": null,
            "align_items": null,
            "align_self": null,
            "border": null,
            "bottom": null,
            "display": null,
            "flex": null,
            "flex_flow": null,
            "grid_area": null,
            "grid_auto_columns": null,
            "grid_auto_flow": null,
            "grid_auto_rows": null,
            "grid_column": null,
            "grid_gap": null,
            "grid_row": null,
            "grid_template_areas": null,
            "grid_template_columns": null,
            "grid_template_rows": null,
            "height": null,
            "justify_content": null,
            "justify_items": null,
            "left": null,
            "margin": null,
            "max_height": null,
            "max_width": null,
            "min_height": null,
            "min_width": null,
            "object_fit": null,
            "object_position": null,
            "order": null,
            "overflow": null,
            "overflow_x": null,
            "overflow_y": null,
            "padding": null,
            "right": null,
            "top": null,
            "visibility": null,
            "width": null
          }
        },
        "4a384215c92e43478baf9cd289b534a0": {
          "model_module": "@jupyter-widgets/base",
          "model_name": "LayoutModel",
          "model_module_version": "1.2.0",
          "state": {
            "_model_module": "@jupyter-widgets/base",
            "_model_module_version": "1.2.0",
            "_model_name": "LayoutModel",
            "_view_count": null,
            "_view_module": "@jupyter-widgets/base",
            "_view_module_version": "1.2.0",
            "_view_name": "LayoutView",
            "align_content": null,
            "align_items": null,
            "align_self": null,
            "border": null,
            "bottom": null,
            "display": null,
            "flex": null,
            "flex_flow": null,
            "grid_area": null,
            "grid_auto_columns": null,
            "grid_auto_flow": null,
            "grid_auto_rows": null,
            "grid_column": null,
            "grid_gap": null,
            "grid_row": null,
            "grid_template_areas": null,
            "grid_template_columns": null,
            "grid_template_rows": null,
            "height": null,
            "justify_content": null,
            "justify_items": null,
            "left": null,
            "margin": null,
            "max_height": null,
            "max_width": null,
            "min_height": null,
            "min_width": null,
            "object_fit": null,
            "object_position": null,
            "order": null,
            "overflow": null,
            "overflow_x": null,
            "overflow_y": null,
            "padding": null,
            "right": null,
            "top": null,
            "visibility": null,
            "width": null
          }
        },
        "de7746f2c5e14148bd5096c6ee259584": {
          "model_module": "@jupyter-widgets/controls",
          "model_name": "DescriptionStyleModel",
          "model_module_version": "1.5.0",
          "state": {
            "_model_module": "@jupyter-widgets/controls",
            "_model_module_version": "1.5.0",
            "_model_name": "DescriptionStyleModel",
            "_view_count": null,
            "_view_module": "@jupyter-widgets/base",
            "_view_module_version": "1.2.0",
            "_view_name": "StyleView",
            "description_width": ""
          }
        },
        "d9a7ff9cef544982b9b4aa964119ae02": {
          "model_module": "@jupyter-widgets/base",
          "model_name": "LayoutModel",
          "model_module_version": "1.2.0",
          "state": {
            "_model_module": "@jupyter-widgets/base",
            "_model_module_version": "1.2.0",
            "_model_name": "LayoutModel",
            "_view_count": null,
            "_view_module": "@jupyter-widgets/base",
            "_view_module_version": "1.2.0",
            "_view_name": "LayoutView",
            "align_content": null,
            "align_items": null,
            "align_self": null,
            "border": null,
            "bottom": null,
            "display": null,
            "flex": null,
            "flex_flow": null,
            "grid_area": null,
            "grid_auto_columns": null,
            "grid_auto_flow": null,
            "grid_auto_rows": null,
            "grid_column": null,
            "grid_gap": null,
            "grid_row": null,
            "grid_template_areas": null,
            "grid_template_columns": null,
            "grid_template_rows": null,
            "height": null,
            "justify_content": null,
            "justify_items": null,
            "left": null,
            "margin": null,
            "max_height": null,
            "max_width": null,
            "min_height": null,
            "min_width": null,
            "object_fit": null,
            "object_position": null,
            "order": null,
            "overflow": null,
            "overflow_x": null,
            "overflow_y": null,
            "padding": null,
            "right": null,
            "top": null,
            "visibility": null,
            "width": null
          }
        },
        "338dd81ecae04df399805eb43fb9a612": {
          "model_module": "@jupyter-widgets/controls",
          "model_name": "ProgressStyleModel",
          "model_module_version": "1.5.0",
          "state": {
            "_model_module": "@jupyter-widgets/controls",
            "_model_module_version": "1.5.0",
            "_model_name": "ProgressStyleModel",
            "_view_count": null,
            "_view_module": "@jupyter-widgets/base",
            "_view_module_version": "1.2.0",
            "_view_name": "StyleView",
            "bar_color": null,
            "description_width": ""
          }
        },
        "9c6634a285564c5a8dbf4e348b5af70f": {
          "model_module": "@jupyter-widgets/base",
          "model_name": "LayoutModel",
          "model_module_version": "1.2.0",
          "state": {
            "_model_module": "@jupyter-widgets/base",
            "_model_module_version": "1.2.0",
            "_model_name": "LayoutModel",
            "_view_count": null,
            "_view_module": "@jupyter-widgets/base",
            "_view_module_version": "1.2.0",
            "_view_name": "LayoutView",
            "align_content": null,
            "align_items": null,
            "align_self": null,
            "border": null,
            "bottom": null,
            "display": null,
            "flex": null,
            "flex_flow": null,
            "grid_area": null,
            "grid_auto_columns": null,
            "grid_auto_flow": null,
            "grid_auto_rows": null,
            "grid_column": null,
            "grid_gap": null,
            "grid_row": null,
            "grid_template_areas": null,
            "grid_template_columns": null,
            "grid_template_rows": null,
            "height": null,
            "justify_content": null,
            "justify_items": null,
            "left": null,
            "margin": null,
            "max_height": null,
            "max_width": null,
            "min_height": null,
            "min_width": null,
            "object_fit": null,
            "object_position": null,
            "order": null,
            "overflow": null,
            "overflow_x": null,
            "overflow_y": null,
            "padding": null,
            "right": null,
            "top": null,
            "visibility": null,
            "width": null
          }
        },
        "ac593640d345461f9e010fc8b95ca610": {
          "model_module": "@jupyter-widgets/controls",
          "model_name": "DescriptionStyleModel",
          "model_module_version": "1.5.0",
          "state": {
            "_model_module": "@jupyter-widgets/controls",
            "_model_module_version": "1.5.0",
            "_model_name": "DescriptionStyleModel",
            "_view_count": null,
            "_view_module": "@jupyter-widgets/base",
            "_view_module_version": "1.2.0",
            "_view_name": "StyleView",
            "description_width": ""
          }
        }
      }
    }
  },
  "nbformat": 4,
  "nbformat_minor": 5
}